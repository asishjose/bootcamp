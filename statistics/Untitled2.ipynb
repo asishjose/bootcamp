{
 "cells": [
  {
   "cell_type": "code",
   "execution_count": 7,
   "id": "68961070-6169-4bae-8927-b33650c6198a",
   "metadata": {},
   "outputs": [
    {
     "name": "stdout",
     "output_type": "stream",
     "text": [
      "Paired T-Test on Fares (Before vs After):\n",
      "T-Statistic: -9.261\n",
      "P-Value: 0.000\n"
     ]
    }
   ],
   "source": [
    "import seaborn as sns\n",
    "from scipy.stats import ttest_rel\n",
    "\n",
    "# Load Titanic dataset\n",
    "titanic = sns.load_dataset('titanic')\n",
    "\n",
    "# Filter passengers who embarked at 'C' and drop missing 'fare'\n",
    "cherbourg_passengers = titanic[titanic['embarked'] == 'C'].dropna(subset=['fare'])\n",
    "\n",
    "# Simulate \"before\" and \"after\" fare data with a smaller change (2% increase)\n",
    "before_fares = cherbourg_passengers['fare']\n",
    "after_fares = before_fares * 10  # Simulate a 2% price increase\n",
    "\n",
    "# Perform a paired t-test\n",
    "t_stat, p_value = ttest_rel(before_fares, after_fares)\n",
    "\n",
    "# Print results\n",
    "print(f\"Paired T-Test on Fares (Before vs After):\")\n",
    "print(f\"T-Statistic: {t_stat:.3f}\")\n",
    "print(f\"P-Value: {p_value:.3f}\")\n"
   ]
  },
  {
   "cell_type": "code",
   "execution_count": null,
   "id": "9dd665c2-cdf1-479e-bb7a-618d7aecc54f",
   "metadata": {},
   "outputs": [],
   "source": []
  }
 ],
 "metadata": {
  "kernelspec": {
   "display_name": "Python [conda env:base] *",
   "language": "python",
   "name": "conda-base-py"
  },
  "language_info": {
   "codemirror_mode": {
    "name": "ipython",
    "version": 3
   },
   "file_extension": ".py",
   "mimetype": "text/x-python",
   "name": "python",
   "nbconvert_exporter": "python",
   "pygments_lexer": "ipython3",
   "version": "3.12.7"
  }
 },
 "nbformat": 4,
 "nbformat_minor": 5
}
