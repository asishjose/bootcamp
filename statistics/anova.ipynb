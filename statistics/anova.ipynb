{
 "cells": [
  {
   "cell_type": "code",
   "execution_count": 21,
   "id": "c79e1f03-ce73-4739-998f-30366eaa9247",
   "metadata": {},
   "outputs": [
    {
     "name": "stdout",
     "output_type": "stream",
     "text": [
      "accept\n"
     ]
    }
   ],
   "source": [
    "import numpy as np\n",
    "from scipy.stats import f_oneway\n",
    "a=[1,2,4,6]\n",
    "b=[4,5,7,8]\n",
    "c=[4,7,8,9]\n",
    "f_stat,p = f_oneway(a,b,c)\n",
    "alpha=0.05\n",
    "if p<alpha:\n",
    "    print('reject')\n",
    "else:\n",
    "    print('accept')"
   ]
  },
  {
   "cell_type": "raw",
   "id": "7a40cdad-7680-4a2e-b915-dccd93794e8c",
   "metadata": {},
   "source": [
    "a=[1,2,4,6]\n",
    "b=[4,5,7,8]\n",
    "c=[4,7,8,9]"
   ]
  },
  {
   "cell_type": "code",
   "execution_count": 17,
   "id": "785312fd-36c1-4476-bfd5-748ae086b055",
   "metadata": {},
   "outputs": [
    {
     "ename": "NameError",
     "evalue": "name 'a' is not defined",
     "output_type": "error",
     "traceback": [
      "\u001b[0;31m---------------------------------------------------------------------------\u001b[0m",
      "\u001b[0;31mNameError\u001b[0m                                 Traceback (most recent call last)",
      "Cell \u001b[0;32mIn[17], line 1\u001b[0m\n\u001b[0;32m----> 1\u001b[0m f_stat,p \u001b[38;5;241m=\u001b[39m f_oneway(a,b,c)\n\u001b[1;32m      2\u001b[0m alpha\u001b[38;5;241m=\u001b[39m\u001b[38;5;241m0.05\u001b[39m\n\u001b[1;32m      3\u001b[0m \u001b[38;5;28;01mif\u001b[39;00m p\u001b[38;5;241m<\u001b[39malpha:\n",
      "\u001b[0;31mNameError\u001b[0m: name 'a' is not defined"
     ]
    }
   ],
   "source": [
    "f_stat,p = f_oneway(a,b,c)\n",
    "alpha=0.05\n",
    "if p<alpha:\n",
    "    print('reject')\n",
    "else:\n",
    "    print('accept')"
   ]
  },
  {
   "cell_type": "code",
   "execution_count": 31,
   "id": "392f2c27-98a7-4ca8-a51a-cdec88df3128",
   "metadata": {},
   "outputs": [
    {
     "name": "stdout",
     "output_type": "stream",
     "text": [
      "accept\n"
     ]
    }
   ],
   "source": [
    "import numpy as np\n",
    "from scipy.stats import chi2_contingency\n",
    "data=[1,2,4,5,6]\n",
    "chi, p, dof, exp=chi2_contingency(data)\n",
    "alpha=0.05\n",
    "if p<alpha:\n",
    "    print('reject')\n",
    "else:\n",
    "    print('accept')"
   ]
  },
  {
   "cell_type": "code",
   "execution_count": 35,
   "id": "2fb3ac3b-4447-486c-a97b-66b660afc32c",
   "metadata": {},
   "outputs": [
    {
     "name": "stdout",
     "output_type": "stream",
     "text": [
      "accept\n"
     ]
    }
   ],
   "source": [
    "import numpy as np\n",
    "from scipy.stats import chisquare\n",
    "edata=[1,2,4,5,6]\n",
    "odata=[1,2,3,4,8]\n",
    "chi, p =chisquare(odata,edata)\n",
    "alpha=0.05\n",
    "if p<alpha:\n",
    "    print('reject')\n",
    "else:\n",
    "    print('accept')"
   ]
  },
  {
   "cell_type": "code",
   "execution_count": 41,
   "id": "4c5cd068-75fe-4c7d-9cd5-828c81e6ac59",
   "metadata": {},
   "outputs": [
    {
     "name": "stdout",
     "output_type": "stream",
     "text": [
      "reject\n"
     ]
    }
   ],
   "source": [
    "import numpy as np\n",
    "from scipy.stats import ttest_1samp\n",
    "from scipy.stats import ttest_ind\n",
    "from scipy.stats import ttest_rel\n",
    "\n",
    "data=[1,2,4,5,6]\n",
    "pmean=20\n",
    "\n",
    "t_stat, p = ttest_1samp(data, 20)\n",
    "alpha=0.05\n",
    "if p<alpha:\n",
    "    print('reject')\n",
    "else:\n",
    "    print('accept')"
   ]
  },
  {
   "cell_type": "code",
   "execution_count": 43,
   "id": "66a18704-bfdc-4f99-808e-3b957296691b",
   "metadata": {},
   "outputs": [
    {
     "name": "stdout",
     "output_type": "stream",
     "text": [
      "accept\n"
     ]
    }
   ],
   "source": [
    "import numpy as np\n",
    "from scipy.stats import ttest_1samp\n",
    "from scipy.stats import ttest_ind\n",
    "from scipy.stats import ttest_rel\n",
    "\n",
    "data1 = [1,2,3,3,4]\n",
    "data2 = [1,2,3,4,5]\n",
    "\n",
    "t_stat, p = ttest_ind(data1, data2)\n",
    "alpha=0.05\n",
    "if p<alpha:\n",
    "    print('reject')\n",
    "else:\n",
    "    print('accept')"
   ]
  },
  {
   "cell_type": "code",
   "execution_count": 47,
   "id": "13dd15bd-9a62-4f5e-9500-5384e2e19385",
   "metadata": {},
   "outputs": [
    {
     "name": "stdout",
     "output_type": "stream",
     "text": [
      "reject\n"
     ]
    }
   ],
   "source": [
    "import numpy as np\n",
    "from scipy.stats import ttest_1samp\n",
    "from scipy.stats import ttest_ind\n",
    "from scipy.stats import ttest_rel\n",
    "\n",
    "data1 = [1,2,3,3,4]\n",
    "data2 = [2,4,6,7,8]\n",
    "\n",
    "t_stat, p = ttest_rel(data1,data2)\n",
    "alpha=0.05\n",
    "if p<alpha:\n",
    "    print('reject')\n",
    "else:\n",
    "    print('accept')"
   ]
  },
  {
   "cell_type": "code",
   "execution_count": null,
   "id": "9e6fbbd8-d0ab-4819-bbe2-954401e3ddeb",
   "metadata": {},
   "outputs": [],
   "source": []
  }
 ],
 "metadata": {
  "kernelspec": {
   "display_name": "Python [conda env:base] *",
   "language": "python",
   "name": "conda-base-py"
  },
  "language_info": {
   "codemirror_mode": {
    "name": "ipython",
    "version": 3
   },
   "file_extension": ".py",
   "mimetype": "text/x-python",
   "name": "python",
   "nbconvert_exporter": "python",
   "pygments_lexer": "ipython3",
   "version": "3.12.7"
  }
 },
 "nbformat": 4,
 "nbformat_minor": 5
}
