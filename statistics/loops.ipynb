{
 "cells": [
  {
   "cell_type": "code",
   "execution_count": 8,
   "id": "1bac526f-0308-4fa0-92b6-d1971026fe5b",
   "metadata": {},
   "outputs": [
    {
     "data": {
      "text/plain": [
       "1080"
      ]
     },
     "execution_count": 8,
     "metadata": {},
     "output_type": "execute_result"
    }
   ],
   "source": [
    "multiplicands = (2,2,2,3,3,5,3)\n",
    "product = 1\n",
    "for mult in multiplicands:\n",
    "    product = product * mult\n",
    "product"
   ]
  },
  {
   "cell_type": "code",
   "execution_count": 18,
   "id": "458d4616-0231-4604-80f8-6eaa9072a95f",
   "metadata": {},
   "outputs": [
    {
     "name": "stdout",
     "output_type": "stream",
     "text": [
      "H E L L O "
     ]
    }
   ],
   "source": [
    "s = 'steganograpHy is the practicE of conceaLing a file, message, image, or video within another fiLe, message, image, Or video.'\n",
    "msg = ''\n",
    "\n",
    "for char in s:\n",
    "    if char.isupper():\n",
    "        print(char, end=\" \")"
   ]
  },
  {
   "cell_type": "code",
   "execution_count": 30,
   "id": "7c088b89-b2d1-47c6-b3c0-ae8a7690e691",
   "metadata": {},
   "outputs": [
    {
     "name": "stdout",
     "output_type": "stream",
     "text": [
      "doing important work, i= 0\n",
      "doing important work, i= 1\n",
      "doing important work, i= 2\n",
      "doing important work, i= 3\n",
      "doing important work, i= 4\n"
     ]
    }
   ],
   "source": [
    "for i in range(5):\n",
    "    print(\"doing important work, i=\", i)"
   ]
  },
  {
   "cell_type": "code",
   "execution_count": 32,
   "id": "c3c9d3e7-70e5-4713-9841-b34b4b5bcd3f",
   "metadata": {},
   "outputs": [
    {
     "name": "stdout",
     "output_type": "stream",
     "text": [
      "0 1 2 3 4 5 6 7 8 9 "
     ]
    }
   ],
   "source": [
    "i=0\n",
    "while i<10:\n",
    "    print(i, end=' ')\n",
    "    i+=1"
   ]
  },
  {
   "cell_type": "code",
   "execution_count": 34,
   "id": "f84998a7-273c-45dd-989b-35fcbbe92746",
   "metadata": {},
   "outputs": [
    {
     "data": {
      "text/plain": [
       "[0, 1, 4, 9, 16, 25, 36, 49, 64, 81]"
      ]
     },
     "execution_count": 34,
     "metadata": {},
     "output_type": "execute_result"
    }
   ],
   "source": [
    "squares = [n**2 for n in range(10)]\n",
    "squares"
   ]
  },
  {
   "cell_type": "code",
   "execution_count": 36,
   "id": "c84ca44a-44e1-41f6-b8a1-6d8c44a2dac8",
   "metadata": {},
   "outputs": [
    {
     "data": {
      "text/plain": [
       "[0, 1, 4, 9, 16, 25, 36, 49, 64, 81]"
      ]
     },
     "execution_count": 36,
     "metadata": {},
     "output_type": "execute_result"
    }
   ],
   "source": [
    "squares = []\n",
    "for n in range(10):\n",
    "    squares.append(n**2)\n",
    "squares"
   ]
  },
  {
   "cell_type": "code",
   "execution_count": 38,
   "id": "6591dff0-e006-4f34-8a26-d5ea8308a28d",
   "metadata": {},
   "outputs": [],
   "source": [
    "planets = ['earth','mars','neptune','venus','uranus','pluto']"
   ]
  },
  {
   "cell_type": "code",
   "execution_count": 40,
   "id": "b48ce981-c370-445a-b6e1-40a8e7bd7bca",
   "metadata": {},
   "outputs": [
    {
     "data": {
      "text/plain": [
       "['earth', 'mars', 'venus', 'pluto']"
      ]
     },
     "execution_count": 40,
     "metadata": {},
     "output_type": "execute_result"
    }
   ],
   "source": [
    "short_planets = [planet for planet in planets if len(planet) < 6]\n",
    "short_planets"
   ]
  },
  {
   "cell_type": "code",
   "execution_count": 44,
   "id": "aa3f662c-aaff-471c-a1c8-240756d61405",
   "metadata": {},
   "outputs": [
    {
     "data": {
      "text/plain": [
       "['EARTH!', 'MARS!', 'VENUS!', 'PLUTO!']"
      ]
     },
     "execution_count": 44,
     "metadata": {},
     "output_type": "execute_result"
    }
   ],
   "source": [
    "loud_short_planets = [planet.upper()+'!' for planet in planets if len(planet)<6]\n",
    "loud_short_planets"
   ]
  },
  {
   "cell_type": "code",
   "execution_count": 46,
   "id": "be0daec0-b54b-43dd-995c-f20b8f95a6d7",
   "metadata": {},
   "outputs": [
    {
     "data": {
      "text/plain": [
       "[32, 32, 32, 32, 32, 32]"
      ]
     },
     "execution_count": 46,
     "metadata": {},
     "output_type": "execute_result"
    }
   ],
   "source": [
    "[32 for planet in planets]"
   ]
  },
  {
   "cell_type": "code",
   "execution_count": 52,
   "id": "3ab83bd2-32b7-492e-8885-d67016dc38e0",
   "metadata": {},
   "outputs": [
    {
     "name": "stdout",
     "output_type": "stream",
     "text": [
      "[0.2, 0.8, 0.8, 0.8, 1.0, 0.8, 0.8, 0.8, 0.6, 0.1, 0.1, 0.0, 0.2, 0.4, 0.7, 0.7, 0.8, 0.8, 0.8]\n"
     ]
    }
   ],
   "source": [
    "\n",
    "values = [57,100,100,100,113.5,100,102,100,85,50,50,46,60,70,90,90,100,100,100]\n",
    "\n",
    "def normalize(values):\n",
    "    min_val = min(values)\n",
    "    max_val = max(values)\n",
    "    normalized_values = [(x - min_val) / (max_val - min_val) for x in values]\n",
    "    return normalized_values\n",
    "\n",
    "\n",
    "# Normalize the list\n",
    "normalized_values = normalize(values)\n",
    "\n",
    "\n",
    "rounded_values = [round(x, 1) for x in normalized_values]\n",
    "\n",
    "print(rounded_values)\n"
   ]
  },
  {
   "cell_type": "code",
   "execution_count": 54,
   "id": "010dde63-fe86-49dd-ba38-94a1b3bdf839",
   "metadata": {},
   "outputs": [
    {
     "data": {
      "text/plain": [
       "[0.2,\n",
       " 0.8,\n",
       " 0.8,\n",
       " 0.8,\n",
       " 1.0,\n",
       " 0.8,\n",
       " 0.8,\n",
       " 0.8,\n",
       " 0.6,\n",
       " 0.1,\n",
       " 0.1,\n",
       " 0.0,\n",
       " 0.2,\n",
       " 0.4,\n",
       " 0.7,\n",
       " 0.7,\n",
       " 0.8,\n",
       " 0.8,\n",
       " 0.8]"
      ]
     },
     "execution_count": 54,
     "metadata": {},
     "output_type": "execute_result"
    }
   ],
   "source": [
    "rounded_values\n"
   ]
  },
  {
   "cell_type": "code",
   "execution_count": 56,
   "id": "18b7f8ca-baac-4de0-be7a-380fb6bb4edb",
   "metadata": {},
   "outputs": [
    {
     "data": {
      "text/plain": [
       "11.200000000000001"
      ]
     },
     "execution_count": 56,
     "metadata": {},
     "output_type": "execute_result"
    }
   ],
   "source": [
    "sum(rounded_values)"
   ]
  },
  {
   "cell_type": "code",
   "execution_count": 58,
   "id": "ba68a5d5-c82c-4081-9e0f-d308b30b906c",
   "metadata": {},
   "outputs": [
    {
     "name": "stdout",
     "output_type": "stream",
     "text": [
      "Adjusted values: [0.5, 1.9, 1.9, 1.9, 2.3, 1.9, 1.9, 1.9, 1.4, 0.2, 0.2, 0.0, 0.5, 0.9, 1.6, 1.6, 1.9, 1.9, 1.9]\n",
      "New sum: 26.3\n"
     ]
    }
   ],
   "source": [
    "current_sum = sum(rounded_values)\n",
    "\n",
    "# Desired sum\n",
    "desired_sum = 26\n",
    "\n",
    "# Find the scaling factor\n",
    "scaling_factor = desired_sum / current_sum\n",
    "# Adjust the rounded values to make the sum equal to the desired sum\n",
    "adjusted_values = [round(x * scaling_factor, 1) for x in rounded_values]\n",
    "\n",
    "# Calculate the new sum to verify\n",
    "new_sum = sum(adjusted_values)\n",
    "\n",
    "print(\"Adjusted values:\", adjusted_values)\n",
    "print(\"New sum:\", new_sum)"
   ]
  },
  {
   "cell_type": "code",
   "execution_count": 60,
   "id": "73785961-1e52-4e49-8c4d-db676af54bca",
   "metadata": {},
   "outputs": [
    {
     "data": {
      "text/plain": [
       "[0.5,\n",
       " 1.9,\n",
       " 1.9,\n",
       " 1.9,\n",
       " 2.3,\n",
       " 1.9,\n",
       " 1.9,\n",
       " 1.9,\n",
       " 1.4,\n",
       " 0.2,\n",
       " 0.2,\n",
       " 0.0,\n",
       " 0.5,\n",
       " 0.9,\n",
       " 1.6,\n",
       " 1.6,\n",
       " 1.9,\n",
       " 1.9,\n",
       " 1.9]"
      ]
     },
     "execution_count": 60,
     "metadata": {},
     "output_type": "execute_result"
    }
   ],
   "source": [
    "adjusted_values"
   ]
  },
  {
   "cell_type": "code",
   "execution_count": 62,
   "id": "c6edfd60-92f1-410a-ad78-e1e63ae7fd9c",
   "metadata": {},
   "outputs": [
    {
     "name": "stdout",
     "output_type": "stream",
     "text": [
      "Scaled values: [0.9, 1.6, 1.6, 1.6, 1.8, 1.6, 1.6, 1.6, 1.4, 0.8, 0.8, 0.7, 1.0, 1.1, 1.5, 1.5, 1.6, 1.6, 1.6]\n",
      "New sum: 25.900000000000002\n"
     ]
    }
   ],
   "source": [
    "values = [57, 100, 100, 100, 113.5, 100, 102, 100, 85, 50, 50, 46, 60, 70, 90, 90, 100, 100, 100]\n",
    "\n",
    "# Desired total sum\n",
    "desired_sum = 26\n",
    "\n",
    "# Calculate current sum\n",
    "current_sum = sum(values)\n",
    "\n",
    "# Find scaling factor\n",
    "scaling_factor = desired_sum / current_sum\n",
    "\n",
    "# Scale and round the values\n",
    "scaled_values = [round(x * scaling_factor, 1) for x in values]\n",
    "\n",
    "# Verify the new sum\n",
    "new_sum = sum(scaled_values)\n",
    "\n",
    "print(\"Scaled values:\", scaled_values)\n",
    "print(\"New sum:\", new_sum)\n"
   ]
  },
  {
   "cell_type": "code",
   "execution_count": 64,
   "id": "e10a8c44-b241-43c8-9e09-16f2e17fba55",
   "metadata": {},
   "outputs": [
    {
     "data": {
      "text/plain": [
       "[0.9,\n",
       " 1.6,\n",
       " 1.6,\n",
       " 1.6,\n",
       " 1.8,\n",
       " 1.6,\n",
       " 1.6,\n",
       " 1.6,\n",
       " 1.4,\n",
       " 0.8,\n",
       " 0.8,\n",
       " 0.7,\n",
       " 1.0,\n",
       " 1.1,\n",
       " 1.5,\n",
       " 1.5,\n",
       " 1.6,\n",
       " 1.6,\n",
       " 1.6]"
      ]
     },
     "execution_count": 64,
     "metadata": {},
     "output_type": "execute_result"
    }
   ],
   "source": [
    "scaled_values"
   ]
  },
  {
   "cell_type": "code",
   "execution_count": null,
   "id": "790cc1b4-8642-4417-855b-d6f82188a3fa",
   "metadata": {},
   "outputs": [],
   "source": []
  }
 ],
 "metadata": {
  "kernelspec": {
   "display_name": "Python [conda env:base] *",
   "language": "python",
   "name": "conda-base-py"
  },
  "language_info": {
   "codemirror_mode": {
    "name": "ipython",
    "version": 3
   },
   "file_extension": ".py",
   "mimetype": "text/x-python",
   "name": "python",
   "nbconvert_exporter": "python",
   "pygments_lexer": "ipython3",
   "version": "3.12.7"
  }
 },
 "nbformat": 4,
 "nbformat_minor": 5
}
