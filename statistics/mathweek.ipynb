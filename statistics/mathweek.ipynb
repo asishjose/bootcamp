{
 "cells": [
  {
   "cell_type": "code",
   "execution_count": 13,
   "id": "3435d4bc-cc07-4d55-b7cb-b2540e12723b",
   "metadata": {},
   "outputs": [],
   "source": [
    "\n",
    "import numpy as np\n",
    "import scipy.stats as stats\n",
    "import matplotlib.pyplot as plt\n",
    "import statsmodels.api as sm\n",
    "import math\n",
    "import sklearn.metrics as metrics\n",
    "%matplotlib inline"
   ]
  },
  {
   "cell_type": "code",
   "execution_count": 14,
   "id": "f95805d6-5d08-45df-ac8d-c394b353f93b",
   "metadata": {},
   "outputs": [],
   "source": [
    "import numpy as np"
   ]
  },
  {
   "cell_type": "code",
   "execution_count": 16,
   "id": "e00262ad-c238-46b4-aa63-b3392429a8e4",
   "metadata": {},
   "outputs": [
    {
     "data": {
      "text/plain": [
       "array([[1, 2, 3],\n",
       "       [4, 5, 6]])"
      ]
     },
     "execution_count": 16,
     "metadata": {},
     "output_type": "execute_result"
    }
   ],
   "source": [
    "matrix_a_normal = [[1,2,3],[4,5,6]]\n",
    "matrix_b_normal = [[7,8,9], [10,11,12]]\n",
    "\n",
    "matrix_a = np.array(matrix_a_normal)\n",
    "matrix_b = np.array(matrix_b_normal)\n",
    "\n",
    "matrix_a"
   ]
  },
  {
   "cell_type": "code",
   "execution_count": 19,
   "id": "bf2308d7-44a8-4084-8c91-34cc47a98d72",
   "metadata": {},
   "outputs": [
    {
     "data": {
      "text/plain": [
       "array([[ 7,  8,  9],\n",
       "       [10, 11, 12]])"
      ]
     },
     "execution_count": 19,
     "metadata": {},
     "output_type": "execute_result"
    }
   ],
   "source": [
    "matrix_b"
   ]
  },
  {
   "cell_type": "code",
   "execution_count": 34,
   "id": "319302b3-1be0-4c11-a19b-d18af14fddfa",
   "metadata": {},
   "outputs": [
    {
     "data": {
      "text/plain": [
       "[[1, 4], [2, 5], [3, 6]]"
      ]
     },
     "execution_count": 34,
     "metadata": {},
     "output_type": "execute_result"
    }
   ],
   "source": [
    "num_rows = len(matrix_a)\n",
    "num_cols = len(matrix_a[0])\n",
    "\n",
    "for i in range(num_rows):\n",
    "    for j in range(num_cols):\n",
    "        transposed[j][i] = matrix_a_normal[i][j]\n",
    "transposed"
   ]
  },
  {
   "cell_type": "code",
   "execution_count": 36,
   "id": "7bb7927d-0981-4d54-9070-bf05ba1fba45",
   "metadata": {},
   "outputs": [
    {
     "data": {
      "text/plain": [
       "-54.00000000000001"
      ]
     },
     "execution_count": 36,
     "metadata": {},
     "output_type": "execute_result"
    }
   ],
   "source": [
    "matrix = np.array([[1,2,3],[4,8,6],[7,5,9]])\n",
    "\n",
    "np.linalg.det(matrix)"
   ]
  },
  {
   "cell_type": "code",
   "execution_count": 38,
   "id": "0a19f45a-08b6-4c07-949b-a13da713ef49",
   "metadata": {},
   "outputs": [
    {
     "data": {
      "text/plain": [
       "array([[-0.77777778,  0.05555556,  0.22222222],\n",
       "       [-0.11111111,  0.22222222, -0.11111111],\n",
       "       [ 0.66666667, -0.16666667,  0.        ]])"
      ]
     },
     "execution_count": 38,
     "metadata": {},
     "output_type": "execute_result"
    }
   ],
   "source": [
    "np.linalg.inv(matrix)"
   ]
  },
  {
   "cell_type": "code",
   "execution_count": 40,
   "id": "63276832-1d9e-4fb4-b474-f844f644b3cd",
   "metadata": {},
   "outputs": [
    {
     "data": {
      "text/plain": [
       "EigResult(eigenvalues=array([15.8995417 , -1.07092751,  3.17138581]), eigenvectors=array([[-0.23242856, -0.81557146,  0.07963996],\n",
       "       [-0.66018276, -0.02281494, -0.80184237],\n",
       "       [-0.71423784,  0.57820642,  0.5922046 ]]))"
      ]
     },
     "execution_count": 40,
     "metadata": {},
     "output_type": "execute_result"
    }
   ],
   "source": [
    "np.linalg.eig(matrix)"
   ]
  },
  {
   "cell_type": "code",
   "execution_count": 42,
   "id": "770056c6-b5e6-46c4-bf34-347f005f5f2a",
   "metadata": {},
   "outputs": [
    {
     "data": {
      "text/plain": [
       "array([[1, 2, 3],\n",
       "       [4, 8, 6],\n",
       "       [7, 5, 9]])"
      ]
     },
     "execution_count": 42,
     "metadata": {},
     "output_type": "execute_result"
    }
   ],
   "source": [
    "matrix"
   ]
  },
  {
   "cell_type": "code",
   "execution_count": 44,
   "id": "01ae2938-eea5-47f2-92a4-b0525b44fadd",
   "metadata": {},
   "outputs": [
    {
     "data": {
      "text/plain": [
       "[[5, 10, 15], [20, 40, 30], [35, 25, 45]]"
      ]
     },
     "execution_count": 44,
     "metadata": {},
     "output_type": "execute_result"
    }
   ],
   "source": [
    "res = [[elem*5 for elem in row] for row in matrix]\n",
    "res"
   ]
  },
  {
   "cell_type": "code",
   "execution_count": 46,
   "id": "e1b423f6-2e30-44e0-a72a-bdd0c23d1555",
   "metadata": {},
   "outputs": [
    {
     "data": {
      "text/plain": [
       "array([[[ 5, 10, 15],\n",
       "        [20, 40, 30],\n",
       "        [35, 25, 45]]])"
      ]
     },
     "execution_count": 46,
     "metadata": {},
     "output_type": "execute_result"
    }
   ],
   "source": [
    "np.array([res])"
   ]
  },
  {
   "cell_type": "code",
   "execution_count": 52,
   "id": "326ebf3a-469e-4810-b2f9-1a9fb710091e",
   "metadata": {},
   "outputs": [
    {
     "data": {
      "text/plain": [
       "array([[[3, 2, 1],\n",
       "        [6, 8, 4],\n",
       "        [9, 5, 7]]])"
      ]
     },
     "execution_count": 52,
     "metadata": {},
     "output_type": "execute_result"
    }
   ],
   "source": [
    "transpose = [[matrix[i][j] for j in range(len(matrix))] for i in range(len(matrix[0]))]\n",
    "res = [row[::-1] for row in transpose]\n",
    "np.array([res])"
   ]
  },
  {
   "cell_type": "code",
   "execution_count": 54,
   "id": "59cbde3c-9503-4909-ba2a-38e4063cd48f",
   "metadata": {},
   "outputs": [
    {
     "data": {
      "text/plain": [
       "array([[[1, 2, 3],\n",
       "        [4, 8, 6],\n",
       "        [7, 5, 9]]])"
      ]
     },
     "execution_count": 54,
     "metadata": {},
     "output_type": "execute_result"
    }
   ],
   "source": [
    "np.array([transpose])"
   ]
  },
  {
   "cell_type": "code",
   "execution_count": 60,
   "id": "32bb3d64-de6c-4dc6-b842-89aca3b9e59d",
   "metadata": {},
   "outputs": [
    {
     "data": {
      "text/plain": [
       "(3.4285714285714284,\n",
       " 3.0,\n",
       " ModeResult(mode=3, count=2),\n",
       " 2.5306122448979593,\n",
       " 1.5907898179514348)"
      ]
     },
     "execution_count": 60,
     "metadata": {},
     "output_type": "execute_result"
    }
   ],
   "source": [
    "data = np.array([1,2,3,3,4,5,6])\n",
    "mean = np.mean(data)\n",
    "median = np.median(data)\n",
    "mode = stats.mode(data)\n",
    "variance = np.var(data)\n",
    "std = np.std(data)\n",
    "\n",
    "mean, median, mode, variance, std"
   ]
  },
  {
   "cell_type": "code",
   "execution_count": 62,
   "id": "1ca4228f-7b0f-4c61-98cd-518543be2dad",
   "metadata": {},
   "outputs": [
    {
     "data": {
      "text/plain": [
       "3.4285714285714284"
      ]
     },
     "execution_count": 62,
     "metadata": {},
     "output_type": "execute_result"
    }
   ],
   "source": [
    "def mean(data):\n",
    "    no = len(data)\n",
    "    s = sum(data)\n",
    "    return s/no\n",
    "\n",
    "mean(data)"
   ]
  },
  {
   "cell_type": "code",
   "execution_count": 66,
   "id": "c5f29057-387e-40cd-b7dc-186d23d1d84a",
   "metadata": {},
   "outputs": [
    {
     "data": {
      "text/plain": [
       "3"
      ]
     },
     "execution_count": 66,
     "metadata": {},
     "output_type": "execute_result"
    }
   ],
   "source": [
    "def median(data):\n",
    "    no = len(data)\n",
    "    data.sort()\n",
    "    if no%2==1:\n",
    "        return data[no//2]\n",
    "    else:\n",
    "        return (data[no//2]+data[(no//2)-1])/2\n",
    "median(data)"
   ]
  },
  {
   "cell_type": "markdown",
   "id": "3c7c74eb-c12b-4b98-9bdd-b8301b114e5f",
   "metadata": {},
   "source": [
    "### Correlation"
   ]
  },
  {
   "cell_type": "code",
   "execution_count": 117,
   "id": "556ca83d-bce0-46bb-b5f2-c3975e09936b",
   "metadata": {},
   "outputs": [
    {
     "data": {
      "text/plain": [
       "array([[1.        , 0.77459667],\n",
       "       [0.77459667, 1.        ]])"
      ]
     },
     "execution_count": 117,
     "metadata": {},
     "output_type": "execute_result"
    }
   ],
   "source": [
    "x = np.array([1,2,3,4,5])\n",
    "y = np.array([2,4,5,4,5])\n",
    "\n",
    "np.corrcoef(x,y)"
   ]
  },
  {
   "cell_type": "code",
   "execution_count": 123,
   "id": "a24826a6-26bc-448b-8eae-16e47f7862c9",
   "metadata": {},
   "outputs": [
    {
     "data": {
      "text/plain": [
       "array([[1.        , 0.99083017],\n",
       "       [0.99083017, 1.        ]])"
      ]
     },
     "execution_count": 123,
     "metadata": {},
     "output_type": "execute_result"
    }
   ],
   "source": [
    "x = [10, 15, 20, 25, 30]\n",
    "y = [5, 10, 15, 20, 22]\n",
    "np.corrcoef(x,y)"
   ]
  },
  {
   "cell_type": "code",
   "execution_count": 121,
   "id": "54b1223a-f36e-43aa-bb1b-c2d62f3831e9",
   "metadata": {},
   "outputs": [
    {
     "data": {
      "text/plain": [
       "0.9908301680442989"
      ]
     },
     "execution_count": 121,
     "metadata": {},
     "output_type": "execute_result"
    }
   ],
   "source": [
    "def corr(x,y):\n",
    "    if len(x) != len(y):\n",
    "        raise ValueError(\"not same length\")\n",
    "\n",
    "    n = len(x) # or y\n",
    "    mean_x = mean(x)\n",
    "    mean_y = mean(y)\n",
    "\n",
    "    product_sum = sum((x[i] - mean_x) * (y[i] - mean_y) for i in range(n))\n",
    "    \n",
    "    x_squared_sum = sum((x[i] - mean_x)**2 for i in range(n))\n",
    "    y_squared_sum = sum((y[i] - mean_y)**2 for i in range(n))\n",
    "\n",
    "    correlation = product_sum / math.sqrt(x_squared_sum * y_squared_sum)\n",
    "\n",
    "    return correlation\n",
    "\n",
    "corr(x,y)"
   ]
  },
  {
   "cell_type": "markdown",
   "id": "9ae97112-5f9a-494b-b1cb-b5a32283053b",
   "metadata": {},
   "source": [
    "### IQR"
   ]
  },
  {
   "cell_type": "code",
   "execution_count": 130,
   "id": "59d01e6c-babd-4ba2-bbc5-78bb570559e8",
   "metadata": {},
   "outputs": [
    {
     "data": {
      "text/plain": [
       "(4, 2.0)"
      ]
     },
     "execution_count": 130,
     "metadata": {},
     "output_type": "execute_result"
    }
   ],
   "source": [
    "data = np.array([1,2,3,4,5])\n",
    "data_range = np.max(data) - np.min(data)\n",
    "\n",
    "Q1 = np.percentile(data, 25)\n",
    "Q3 = np.percentile(data, 75)\n",
    "iqr = Q3-Q1\n",
    "data_range, iqr"
   ]
  },
  {
   "cell_type": "markdown",
   "id": "25325898-db0b-453d-831c-2f9231298ce6",
   "metadata": {},
   "source": [
    "### Skewness"
   ]
  },
  {
   "cell_type": "code",
   "execution_count": 160,
   "id": "8adbb2f8-1ef9-4706-ab45-4cac8b695aaf",
   "metadata": {},
   "outputs": [
    {
     "data": {
      "image/png": "[encoded data removed]",
      "text/plain": [
       "<Figure size 640x480 with 1 Axes>"
      ]
     },
     "metadata": {},
     "output_type": "display_data"
    }
   ],
   "source": [
    "data = np.random.normal(0,1,1000)\n",
    "\n",
    "skewness = stats.skew(data)\n",
    "skewness\n",
    "\n",
    "plt.hist(data, bins=30, density=False)\n",
    "plt.show()"
   ]
  },
  {
   "cell_type": "code",
   "execution_count": 162,
   "id": "afc7b77f-2673-431b-a5e0-5be1958afeb5",
   "metadata": {},
   "outputs": [],
   "source": [
    "data_low_kurtosis = np.random.normal(0, 1, 1000)\n"
   ]
  },
  {
   "cell_type": "code",
   "execution_count": 168,
   "id": "d34d6c5f-a0e2-4fcf-bafe-50de163e2d5a",
   "metadata": {},
   "outputs": [
    {
     "data": {
      "image/png": "[encoded data removed]",
      "text/plain": [
       "<Figure size 640x480 with 1 Axes>"
      ]
     },
     "metadata": {},
     "output_type": "display_data"
    }
   ],
   "source": [
    "plt.hist(data_low_kurtosis,bins = 30)\n",
    "plt.show()"
   ]
  },
  {
   "cell_type": "code",
   "execution_count": 176,
   "id": "703b180d-34e6-4bbd-90a3-25751774fc84",
   "metadata": {},
   "outputs": [
    {
     "data": {
      "image/png": "[encoded data removed]",
      "text/plain": [
       "<Figure size 640x480 with 1 Axes>"
      ]
     },
     "metadata": {},
     "output_type": "display_data"
    }
   ],
   "source": [
    "data_high_kurtosis = np.random.normal(0, 1, 1000) + 5 * np.random.normal(0, 1, 1000)\n",
    "plt.hist(data_high_kurtosis, bins = 30)\n",
    "plt.show()"
   ]
  },
  {
   "cell_type": "code",
   "execution_count": 180,
   "id": "edf2d092-6eeb-4530-b394-8c49c2f6f92c",
   "metadata": {},
   "outputs": [
    {
     "data": {
      "text/plain": [
       "(-0.15547553124437652, 0.5061481147851685)"
      ]
     },
     "execution_count": 180,
     "metadata": {},
     "output_type": "execute_result"
    }
   ],
   "source": [
    "kurtosis_low = stats.kurtosis(data_low_kurtosis)\n",
    "kurtosis_high = stats.kurtosis(data_high_kurtosis)\n",
    "kurtosis_low, kurtosis_high"
   ]
  },
  {
   "cell_type": "markdown",
   "id": "2bd4f424-c7f0-41fc-905b-0d2a360f1727",
   "metadata": {},
   "source": [
    "### Standardization & Normalization"
   ]
  },
  {
   "cell_type": "code",
   "execution_count": 189,
   "id": "eceda290-68e6-4092-a417-af1b1493f3f4",
   "metadata": {},
   "outputs": [
    {
     "data": {
      "text/plain": [
       "0.3430568790800189"
      ]
     },
     "execution_count": 189,
     "metadata": {},
     "output_type": "execute_result"
    }
   ],
   "source": [
    "data = np.array([10,20,35,40,50])\n",
    "\n",
    "data = np.array([10,12,20,25,30])\n",
    "\n",
    "\n",
    "mean = np.mean(data)\n",
    "std_dev = np.std(data)\n",
    "\n",
    "data_point = 22\n",
    "z_score = (data_point - mean)/std_dev\n",
    "z_score"
   ]
  },
  {
   "cell_type": "code",
   "execution_count": 205,
   "id": "7a7bf4e6-1498-4f27-81c2-942e8b1ae4a5",
   "metadata": {},
   "outputs": [],
   "source": [
    "data = np.array([10,20,35,40,50])\n",
    "\n",
    "mean = np.mean(data)\n",
    "std_dev = np.std(data)"
   ]
  },
  {
   "cell_type": "code",
   "execution_count": 207,
   "id": "28ac34e1-50c9-42ff-bb92-e4abf0fc13d7",
   "metadata": {},
   "outputs": [
    {
     "data": {
      "text/plain": [
       "array([-1.47029409, -0.77015405,  0.28005602,  0.63012604,  1.33026608])"
      ]
     },
     "execution_count": 207,
     "metadata": {},
     "output_type": "execute_result"
    }
   ],
   "source": [
    "standardized_data = (data - mean) / std_dev\n",
    "standardized_data"
   ]
  },
  {
   "cell_type": "code",
   "execution_count": 209,
   "id": "862f6616-aa1f-4839-a1d5-86dad591ee5f",
   "metadata": {},
   "outputs": [
    {
     "data": {
      "text/plain": [
       "0.0"
      ]
     },
     "execution_count": 209,
     "metadata": {},
     "output_type": "execute_result"
    }
   ],
   "source": [
    "np.mean(standardized_data)"
   ]
  },
  {
   "cell_type": "code",
   "execution_count": 211,
   "id": "953910c2-c0c5-45b6-97ed-61697a62cf9d",
   "metadata": {},
   "outputs": [
    {
     "data": {
      "text/plain": [
       "1.0"
      ]
     },
     "execution_count": 211,
     "metadata": {},
     "output_type": "execute_result"
    }
   ],
   "source": [
    "np.std(standardized_data)"
   ]
  },
  {
   "cell_type": "markdown",
   "id": "ba924c0e-6215-4f12-b9f8-110dbd5393e3",
   "metadata": {},
   "source": [
    "### Min Max Normalization"
   ]
  },
  {
   "cell_type": "code",
   "execution_count": 214,
   "id": "7d74d4e6-9258-41f1-b4f9-6c7bef33b02f",
   "metadata": {},
   "outputs": [
    {
     "data": {
      "text/plain": [
       "array([0.   , 0.25 , 0.625, 0.75 , 1.   ])"
      ]
     },
     "execution_count": 214,
     "metadata": {},
     "output_type": "execute_result"
    }
   ],
   "source": [
    "data = np.array([10,20,35,40,50])\n",
    "\n",
    "min_value = np.min(data)\n",
    "max_value = np.max(data)\n",
    "\n",
    "normalized_data = (data - min_value)/ (max_value - min_value)\n",
    "normalized_data"
   ]
  },
  {
   "cell_type": "markdown",
   "id": "cee0b441-9612-4e9d-afc1-b8f512793824",
   "metadata": {},
   "source": [
    "### Distributions"
   ]
  },
  {
   "cell_type": "code",
   "execution_count": 237,
   "id": "d358f4fa-acce-4435-bab0-f84c5a1b8c3e",
   "metadata": {},
   "outputs": [
    {
     "data": {
      "image/png": "[encoded data removed]",
      "text/plain": [
       "<Figure size 640x480 with 1 Axes>"
      ]
     },
     "metadata": {},
     "output_type": "display_data"
    }
   ],
   "source": [
    "mean = 0\n",
    "std_dev = 1\n",
    "\n",
    "data = np.random.normal(mean, std_dev, 1000)\n",
    "\n",
    "plt.hist(data, bins=30)\n",
    "\n",
    "x= np.linspace(-3,3,100)\n",
    "pdf = stats.norm.pdf(x, mean, std_dev)\n",
    "plt.plot(x, pdf, 'r-', lw=2)\n",
    "\n",
    "plt.show()"
   ]
  },
  {
   "cell_type": "code",
   "execution_count": 273,
   "id": "9d55ab81-f76f-4641-a388-85f76fa0d3b5",
   "metadata": {},
   "outputs": [
    {
     "data": {
      "image/png": "[encoded data removed]",
      "text/plain": [
       "<Figure size 640x480 with 1 Axes>"
      ]
     },
     "metadata": {},
     "output_type": "display_data"
    }
   ],
   "source": [
    "mean = 0\n",
    "std_dev = 1\n",
    "\n",
    "data = np.random.normal(mean, std_dev, 1000)\n",
    "\n",
    "plt.hist(data, bins=30,density = True)\n",
    "\n",
    "x = np.linspace(-3, 3, 100)\n",
    "pdf = stats.norm.pdf(x, mean, std_dev)\n",
    "plt.plot(x, pdf, 'r-', lw=2)\n",
    "\n",
    "plt.show()\n",
    "     "
   ]
  },
  {
   "cell_type": "code",
   "execution_count": null,
   "id": "070c8de2-e53c-46db-b9c5-ac4b89a71121",
   "metadata": {},
   "outputs": [],
   "source": []
  },
  {
   "cell_type": "code",
   "execution_count": 281,
   "id": "5fd88b09-e961-40c5-b1d2-ab30740741ae",
   "metadata": {},
   "outputs": [
    {
     "data": {
      "image/png": "[encoded data removed]",
      "text/plain": [
       "<Figure size 640x480 with 1 Axes>"
      ]
     },
     "metadata": {},
     "output_type": "display_data"
    }
   ],
   "source": [
    "n = 10\n",
    "p = 0.5\n",
    "\n",
    "data = np.random.binomial(n, p, 1000)\n",
    "\n",
    "plt.hist(data, bins=np.arange(0, n+2) - 0.5, density=True, alpha=0.6, color='b')\n",
    "plt.show()"
   ]
  },
  {
   "cell_type": "code",
   "execution_count": null,
   "id": "58101048-025a-4b91-bd60-2474bc11f707",
   "metadata": {},
   "outputs": [],
   "source": []
  },
  {
   "cell_type": "code",
   "execution_count": null,
   "id": "c91a52a7-3ee4-4650-9dc2-05c0ce57f342",
   "metadata": {},
   "outputs": [],
   "source": [
    "from scipy.stats import t\n",
    "import math"
   ]
  },
  {
   "cell_type": "code",
   "execution_count": 299,
   "id": "055a8458-5b97-400c-9cb4-8ad869243d80",
   "metadata": {},
   "outputs": [
    {
     "data": {
      "text/plain": [
       "-4.605055965729875"
      ]
     },
     "execution_count": 299,
     "metadata": {},
     "output_type": "execute_result"
    }
   ],
   "source": [
    "sample_data = [480, 490, 475, 495, 485, 470, 460, 490, 500, 470]\n",
    "hypothesized_mean = 500\n",
    "\n",
    "n= len(sample_data)\n",
    "sample_mean = sum(sample_data)/n\n",
    "\n",
    "var = sum((x-sample_mean)**2 for x in sample_data)/(n-1)\n",
    "\n",
    "t_stat = (sample_mean - hypothesized_mean)/(math.sqrt(var)/math.sqrt(n))\n",
    "\n",
    "df = n-1\n",
    "t_stat"
   ]
  },
  {
   "cell_type": "code",
   "execution_count": null,
   "id": "0852f375-eadc-4515-93f0-daf45d1b86f9",
   "metadata": {},
   "outputs": [],
   "source": []
  }
 ],
 "metadata": {
  "kernelspec": {
   "display_name": "Python [conda env:base] *",
   "language": "python",
   "name": "conda-base-py"
  },
  "language_info": {
   "codemirror_mode": {
    "name": "ipython",
    "version": 3
   },
   "file_extension": ".py",
   "mimetype": "text/x-python",
   "name": "python",
   "nbconvert_exporter": "python",
   "pygments_lexer": "ipython3",
   "version": "3.12.7"
  }
 },
 "nbformat": 4,
 "nbformat_minor": 5
}
