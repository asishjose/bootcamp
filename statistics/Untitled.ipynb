{
 "cells": [
  {
   "cell_type": "code",
   "execution_count": 1,
   "id": "53df808a-92e6-4e3e-af45-77f426131855",
   "metadata": {},
   "outputs": [],
   "source": [
    "x = [1,2,3,4,5,6]\n",
    "y = [1,3,4,5,8,9]"
   ]
  },
  {
   "cell_type": "code",
   "execution_count": 3,
   "id": "3b0cb615-3cea-4899-a98d-5c48a2382bf0",
   "metadata": {},
   "outputs": [],
   "source": [
    "import math"
   ]
  },
  {
   "cell_type": "code",
   "execution_count": null,
   "id": "30165929-a7e3-4da2-a149-649a33032cc5",
   "metadata": {},
   "outputs": [],
   "source": [
    "x_mean = sum(x)/len(x)\n",
    "y_mean = sum(y)/len(y)\n",
    "\n",
    "product = (x[i]-x_mean)(y[i]-x_mean)"
   ]
  }
 ],
 "metadata": {
  "kernelspec": {
   "display_name": "Python [conda env:base] *",
   "language": "python",
   "name": "conda-base-py"
  },
  "language_info": {
   "codemirror_mode": {
    "name": "ipython",
    "version": 3
   },
   "file_extension": ".py",
   "mimetype": "text/x-python",
   "name": "python",
   "nbconvert_exporter": "python",
   "pygments_lexer": "ipython3",
   "version": "3.12.7"
  }
 },
 "nbformat": 4,
 "nbformat_minor": 5
}
