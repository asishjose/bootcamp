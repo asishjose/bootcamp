{
 "cells": [
  {
   "cell_type": "code",
   "execution_count": 50,
   "id": "6b8f6d6b-e3c0-4942-8a29-a4d860393254",
   "metadata": {},
   "outputs": [],
   "source": [
    "import math\n",
    "from scipy.stats import t"
   ]
  },
  {
   "cell_type": "code",
   "execution_count": 351,
   "id": "ade36c27-67d4-491a-b06d-10791d29ddfd",
   "metadata": {},
   "outputs": [],
   "source": [
    "sample_data = [480, 490, 475, 495, 485, 470, 460, 490, 500, 470]\n",
    "hypothesized_mean = 500\n",
    "n = len(sample_data)\n",
    "sample_mean = sum(sample_data)/n"
   ]
  },
  {
   "cell_type": "code",
   "execution_count": 353,
   "id": "2d5841ee-a3e4-4097-9be3-fd98e6361583",
   "metadata": {},
   "outputs": [
    {
     "data": {
      "text/plain": [
       "(-4.605055965729875, 0.0012812753428723797)"
      ]
     },
     "execution_count": 353,
     "metadata": {},
     "output_type": "execute_result"
    }
   ],
   "source": [
    "from scipy.stats import ttest_1samp\n",
    "t_stat,p = ttest_1samp(sample_data, hypothesized_mean)\n",
    "t_stat,p"
   ]
  },
  {
   "cell_type": "code",
   "execution_count": 86,
   "id": "5954ecee-362f-4597-a57d-28453091a080",
   "metadata": {},
   "outputs": [],
   "source": [
    "var = sum((x - sample_mean) ** 2 for x in sample_data)/(n-1)\n",
    "t_stat = (sample_mean - hypothesized_mean)/(math.sqrt(var)/math.sqrt(n))\n",
    "dof = n-1"
   ]
  },
  {
   "cell_type": "code",
   "execution_count": 88,
   "id": "87961720-8f69-4339-a0f1-7ae4f57833e3",
   "metadata": {},
   "outputs": [],
   "source": [
    "p = 2 * t.cdf(-abs(t_stat), dof)"
   ]
  },
  {
   "cell_type": "code",
   "execution_count": 90,
   "id": "a072c1de-697e-4104-a704-392f53a89f66",
   "metadata": {},
   "outputs": [
    {
     "data": {
      "text/plain": [
       "0.0012812753428723797"
      ]
     },
     "execution_count": 90,
     "metadata": {},
     "output_type": "execute_result"
    }
   ],
   "source": [
    "p"
   ]
  },
  {
   "cell_type": "code",
   "execution_count": 92,
   "id": "e599335d-f712-410c-bc42-4cceba6694a1",
   "metadata": {},
   "outputs": [
    {
     "data": {
      "text/plain": [
       "-4.605055965729875"
      ]
     },
     "execution_count": 92,
     "metadata": {},
     "output_type": "execute_result"
    }
   ],
   "source": [
    "t_stat"
   ]
  },
  {
   "cell_type": "code",
   "execution_count": 94,
   "id": "71a95807-3cc0-4ab9-b73c-02e4d0a67200",
   "metadata": {},
   "outputs": [
    {
     "data": {
      "text/plain": [
       "161.38888888888889"
      ]
     },
     "execution_count": 94,
     "metadata": {},
     "output_type": "execute_result"
    }
   ],
   "source": [
    "var"
   ]
  },
  {
   "cell_type": "code",
   "execution_count": 98,
   "id": "b407c863-b9a6-4889-83d4-6214c000b5a9",
   "metadata": {},
   "outputs": [
    {
     "name": "stdout",
     "output_type": "stream",
     "text": [
      "0.0013\n"
     ]
    }
   ],
   "source": [
    "print(f\"{p:.4f}\")"
   ]
  },
  {
   "cell_type": "code",
   "execution_count": null,
   "id": "d72f2c49-50be-47d8-9b9c-8ff8b827b7ea",
   "metadata": {},
   "outputs": [],
   "source": []
  },
  {
   "cell_type": "code",
   "execution_count": null,
   "id": "c0425d1a-cb73-4821-acaa-db55433b77e2",
   "metadata": {},
   "outputs": [],
   "source": []
  },
  {
   "cell_type": "code",
   "execution_count": 347,
   "id": "95aed46d-55e7-4965-9dd6-65ec1c8b2197",
   "metadata": {},
   "outputs": [],
   "source": [
    "import math\n",
    "from scipy.stats import t  # Only for p-value calculation\n",
    "\n",
    "# Sample data\n",
    "class_a_scores = [85, 90, 78, 92, 88, 76, 95, 89]\n",
    "class_b_scores = [80, 85, 83, 87, 82, 84, 81, 79]\n"
   ]
  },
  {
   "cell_type": "code",
   "execution_count": 104,
   "id": "25006b08-3eb8-4b4e-a8da-f946f70def56",
   "metadata": {},
   "outputs": [],
   "source": [
    "n1 = len(class_a_scores)\n",
    "n2 = len(class_b_scores)\n",
    "mean1 = sum(class_a_scores)/n1\n",
    "mean2 = sum(class_b_scores)/n2"
   ]
  },
  {
   "cell_type": "code",
   "execution_count": 112,
   "id": "eec2410c-7eab-470a-8bce-497ceda0e0af",
   "metadata": {},
   "outputs": [],
   "source": [
    "var_a = sum((x - mean1)**2 for x in class_a_scores) / (n1-1)\n",
    "var_b = sum((x - mean2)**2 for x in class_b_scores) / (n2-1)\n",
    "pool_var = ((n1-1) * var_a + (n2-1) * var_b)/(n1+n2-2)"
   ]
  },
  {
   "cell_type": "code",
   "execution_count": 114,
   "id": "dfb3a28c-90be-48e6-b528-a8c7a12b524e",
   "metadata": {},
   "outputs": [],
   "source": [
    "t_stat = (mean1-mean2)/(math.sqrt(pool_var * ((1/n1)+(1/n2))))"
   ]
  },
  {
   "cell_type": "code",
   "execution_count": 118,
   "id": "48470bb4-e3d8-4add-8b84-4ec657bcc085",
   "metadata": {},
   "outputs": [],
   "source": [
    "df = n1+n2-2\n",
    "p_val = 2 * t.cdf(-abs(t_stat), df)"
   ]
  },
  {
   "cell_type": "code",
   "execution_count": 122,
   "id": "592951a4-47d7-4b82-980a-7b31cbb25ba7",
   "metadata": {},
   "outputs": [
    {
     "data": {
      "text/plain": [
       "(1.5825745726907101, 0.13584091935511972)"
      ]
     },
     "execution_count": 122,
     "metadata": {},
     "output_type": "execute_result"
    }
   ],
   "source": [
    "t_stat, p_val"
   ]
  },
  {
   "cell_type": "code",
   "execution_count": 349,
   "id": "faab2ab6-9200-4745-a789-4950c11b15c0",
   "metadata": {},
   "outputs": [
    {
     "data": {
      "text/plain": [
       "(1.5825745726907101, 0.13584091935511972)"
      ]
     },
     "execution_count": 349,
     "metadata": {},
     "output_type": "execute_result"
    }
   ],
   "source": [
    "from scipy.stats import ttest_ind\n",
    "t_stat, p = ttest_ind(class_a_scores,class_b_scores)\n",
    "t_stat,p"
   ]
  },
  {
   "cell_type": "code",
   "execution_count": null,
   "id": "6a495345-a2cd-47a5-8d10-4cb550137634",
   "metadata": {},
   "outputs": [],
   "source": []
  },
  {
   "cell_type": "markdown",
   "id": "33b5da4f-6fa3-4d25-955e-d60a1a40690d",
   "metadata": {},
   "source": [
    "### ANOVA"
   ]
  },
  {
   "cell_type": "code",
   "execution_count": 355,
   "id": "b93b99fc-4517-402c-90e8-431fe5202dcd",
   "metadata": {},
   "outputs": [
    {
     "name": "stdout",
     "output_type": "stream",
     "text": [
      "F-statistic: 17.3834\n",
      "p-value: 0.0003\n"
     ]
    }
   ],
   "source": [
    "import numpy as np\n",
    "from scipy import stats\n",
    "\n",
    "# Data for three different teaching methods\n",
    "method_A = np.array([85, 90, 95, 88, 92])\n",
    "method_B = np.array([78, 79, 80, 82, 81])\n",
    "method_C = np.array([88, 92, 85, 87, 91])\n",
    "\n",
    "# Perform One-Way ANOVA using f_oneway function from scipy.stats\n",
    "f_statistic, p_value = stats.f_oneway(method_A, method_B, method_C)\n",
    "\n",
    "# Output results\n",
    "print(f\"F-statistic: {f_statistic:.4f}\")\n",
    "print(f\"p-value: {p_value:.4f}\")\n"
   ]
  },
  {
   "cell_type": "code",
   "execution_count": null,
   "id": "1c6eb28c-a3df-4cb8-90a9-deb379d5ffce",
   "metadata": {},
   "outputs": [],
   "source": [
    "from scipy.stats import f\n",
    "import numpy as np\n",
    "\n"
   ]
  },
  {
   "cell_type": "code",
   "execution_count": 155,
   "id": "d45867b6-f419-4212-bf90-114bc85c4a53",
   "metadata": {},
   "outputs": [],
   "source": [
    "from scipy.stats import f\n",
    "import math\n",
    "import numpy as np\n",
    "\n",
    "n1 = len(method_A)\n",
    "n2 = len(method_B)\n",
    "n3 = len(method_C)\n",
    "k = 3 #no.of groups\n",
    "N = n1 + n2+ n3\n",
    "df_b, df_w = k-1, N-k\n",
    "\n",
    "mean1, mean2, mean3 = sum(method_A)/n1, sum(method_B)/n2, sum(method_C)/n3\n",
    "grand_mean = np.mean([method_A, method_B, method_C])\n",
    "SSB = n1 * (mean1 - grand_mean)**2 + n2 * (mean2 - grand_mean)**2 + n3 * (mean3 - grand_mean)**2\n",
    "SSW = sum((x-mean1)**2 for x in method_A) + sum((x-mean2)**2 for x in method_B) + sum((x-mean3)**2 for x in method_C)\n",
    "\n",
    "MSB = SSB / df_b\n",
    "MSW = SSW / df_w\n",
    "f_stat = MSB / MSW\n",
    "p_val = 1-f.cdf(f_stat, df_b, df_w)"
   ]
  },
  {
   "cell_type": "code",
   "execution_count": 157,
   "id": "ec1f4d1a-ea65-45ec-a368-8113c5984ff1",
   "metadata": {},
   "outputs": [
    {
     "data": {
      "text/plain": [
       "(17.383399209486157, 0.0002854050395437735)"
      ]
     },
     "execution_count": 157,
     "metadata": {},
     "output_type": "execute_result"
    }
   ],
   "source": [
    "f_stat, p_val"
   ]
  },
  {
   "cell_type": "code",
   "execution_count": 175,
   "id": "439c6976-0b5f-4193-a4b7-f679b7f791cb",
   "metadata": {},
   "outputs": [
    {
     "name": "stdout",
     "output_type": "stream",
     "text": [
      "F-stat: 17.383 P value: 0.0003\n"
     ]
    }
   ],
   "source": [
    "print(f\"F-stat: {f_stat:.3f}\", f\"P value: {p_val:.4f}\")"
   ]
  },
  {
   "cell_type": "code",
   "execution_count": null,
   "id": "d8d8c34e-39c8-455e-a0cf-37cf6efd8a7c",
   "metadata": {},
   "outputs": [],
   "source": []
  },
  {
   "cell_type": "markdown",
   "id": "51a41aab-6f7e-49a7-ad3d-0356f4ab8d11",
   "metadata": {},
   "source": [
    "### Eigen Values | Eigen Vectors"
   ]
  },
  {
   "cell_type": "code",
   "execution_count": 313,
   "id": "8437daf8-6f53-4a4a-8a4f-ea423ac3b8d5",
   "metadata": {},
   "outputs": [
    {
     "data": {
      "text/plain": [
       "(3.0, -2.0)"
      ]
     },
     "execution_count": 313,
     "metadata": {},
     "output_type": "execute_result"
    }
   ],
   "source": [
    "def eigenvalues(matrix):\n",
    "    a,b = matrix[0]\n",
    "    c,d = matrix[1]\n",
    "\n",
    "    trace = a+d\n",
    "    determinant = a*d - b*c\n",
    "    discriminant = trace**2 - 4*determinant\n",
    "\n",
    "    if discriminant >= 0:\n",
    "        eig1 = (trace + math.sqrt(discriminant))/2\n",
    "        eig2 = (trace - math.sqrt(discriminant))/2\n",
    "        return eig1, eig2\n",
    "    else:\n",
    "        # comlex eig values\n",
    "        pass\n",
    "        \n",
    "matrix = [[3,0], [0,-2]]\n",
    "\n",
    "\n",
    "\n",
    "eigen_values = eigenvalues(matrix)\n",
    "eigen_values"
   ]
  },
  {
   "cell_type": "code",
   "execution_count": 337,
   "id": "0d45e163-faa7-4b9f-85d5-185a8558a282",
   "metadata": {},
   "outputs": [
    {
     "data": {
      "text/plain": [
       "[1, 0]"
      ]
     },
     "execution_count": 337,
     "metadata": {},
     "output_type": "execute_result"
    }
   ],
   "source": [
    "import math\n",
    "\n",
    "matrix = [[3,0], [0,-2]]\n",
    "\n",
    "def eigenvalues(matrix):\n",
    "    a,b = matrix[0]\n",
    "    c,d = matrix[1]\n",
    "    trace = a+d\n",
    "    det = a*d - b*c\n",
    "    dis = trace**2 - 4*det\n",
    "    eig1 = (trace+math.sqrt(dis))/2\n",
    "    eig2 = (trace-math.sqrt(dis))/2\n",
    "    return eig1,eig2\n",
    "\n",
    "eig_vals = eigenvalues(matrix)\n",
    "eig_vals\n",
    "\n",
    "eig = 3\n",
    "def eigenvectors(matrix,eig):\n",
    "    a,b = matrix[0]\n",
    "    c,d = matrix[1]\n",
    "    M = [[a-eig,b],[c,d-eig]]\n",
    "    if M[0][0]!=0:\n",
    "        v1=-M[0][1]\n",
    "        v2=1\n",
    "    else:\n",
    "        v1=1\n",
    "        v2=M[1][0]\n",
    "    return [v1,v2]\n",
    "eig_vect = eigenvectors(matrix,eig)\n",
    "eig_vect"
   ]
  },
  {
   "cell_type": "code",
   "execution_count": null,
   "id": "7c7df908-8494-4288-a504-bdb56970ae68",
   "metadata": {},
   "outputs": [],
   "source": []
  },
  {
   "cell_type": "code",
   "execution_count": 317,
   "id": "29168648-025d-46a0-9be9-bf511144776c",
   "metadata": {},
   "outputs": [
    {
     "data": {
      "text/plain": [
       "[1, 0]"
      ]
     },
     "execution_count": 317,
     "metadata": {},
     "output_type": "execute_result"
    }
   ],
   "source": [
    "eig = 3\n",
    "matrix = [[3,0], [0,-2]]\n",
    "\n",
    "def eigenvectors(matrix, eig):\n",
    "    a,b = matrix[0]\n",
    "    c,d = matrix[1]\n",
    "\n",
    "    M = [[a-eig, b],[c,d-eig]]\n",
    "\n",
    "    if M[0][0] != 0:\n",
    "        v1 = -M[0][1]\n",
    "        v2 = 1\n",
    "    else:\n",
    "        v2 = -M[1][0]\n",
    "        v1 = 1\n",
    "    return [v1,v2]\n",
    "eig_vect_1 = eigenvectors(matrix,eig)\n",
    "eig_vect_1"
   ]
  },
  {
   "cell_type": "code",
   "execution_count": null,
   "id": "ef9b3b6f-b40e-490c-871e-3bce2a8bf03f",
   "metadata": {},
   "outputs": [],
   "source": []
  },
  {
   "cell_type": "code",
   "execution_count": null,
   "id": "ecf34b5f-0d8c-49ae-a41e-1b2576470bef",
   "metadata": {},
   "outputs": [],
   "source": []
  },
  {
   "cell_type": "code",
   "execution_count": 377,
   "id": "d4ebf469-0e98-4777-93c1-52148ecc74da",
   "metadata": {},
   "outputs": [
    {
     "name": "stdout",
     "output_type": "stream",
     "text": [
      "[[ 58.  64.]\n",
      " [139. 154.]]\n"
     ]
    }
   ],
   "source": [
    "matrix1=[[1,2,3],[4,5,6]]\n",
    "matrix2=[[7,8],[9,10],[11,12]]\n",
    "\n",
    "resm = np.zeros((2,2))\n",
    "\n",
    "for i in range(len(matrix1)):\n",
    "  for j in range(len(matrix2[0])):\n",
    "    for k in range(len(matrix2)):\n",
    "      resm[i][j]+=matrix1[i][k]*matrix2[k][j]\n",
    "print(resm)"
   ]
  },
  {
   "cell_type": "code",
   "execution_count": 381,
   "id": "d27cdee2-ea3d-4988-bed2-107be2bd127c",
   "metadata": {},
   "outputs": [
    {
     "name": "stdout",
     "output_type": "stream",
     "text": [
      "[[ 58.  64.]\n",
      " [139. 154.]]\n"
     ]
    }
   ],
   "source": [
    "import numpy as np\n",
    "matrix1=[[1,2,3],[4,5,6]]\n",
    "matrix2=[[7,8],[9,10],[11,12]]\n",
    "\n",
    "resm = np.zeros((2,2))\n",
    "for i in range(len(matrix1)):\n",
    "    for j in range(len(matrix2[0])):\n",
    "        for k in range(len(matrix2)):\n",
    "            resm[i][j]+=matrix1[i][k]*matrix2[k][j]\n",
    "\n",
    "print(resm)"
   ]
  },
  {
   "cell_type": "code",
   "execution_count": 311,
   "id": "00bd335b-a626-4375-9445-3871714bfdc4",
   "metadata": {},
   "outputs": [
    {
     "name": "stdout",
     "output_type": "stream",
     "text": [
      "[[5.0, 4.0], [10.0, 10.0]]\n"
     ]
    }
   ],
   "source": [
    "a=[[10, 20],\n",
    "    [30, 40]]\n",
    "b=[[2, 5],\n",
    "    [3, 4]]\n",
    "\n",
    "result=[]\n",
    "for i in range(len(a)):\n",
    "  row=[]\n",
    "  for j in range(len(a[i])):\n",
    "    if b[i][j]!=0:\n",
    "      row.append(a[i][j]/b[i][j])\n",
    "    else:\n",
    "      row.append(None)\n",
    "  result.append(row)\n",
    "print(result)"
   ]
  },
  {
   "cell_type": "code",
   "execution_count": 369,
   "id": "8f777f30-8255-4d73-a727-ec9d1eb0cd77",
   "metadata": {},
   "outputs": [
    {
     "name": "stdout",
     "output_type": "stream",
     "text": [
      "Eigenvalue 1 = 10.0\n",
      "Eigenvalue 2 = -8.0\n",
      "Eigenvector for eigenvalue 1 = 1 1.0\n",
      "Eigenvector for eigenvalue 2 = 1 -1.0\n"
     ]
    }
   ],
   "source": [
    "data = [[1, 9], [9, 1]]\n",
    "a, b = data[0]\n",
    "c, d = data[1]\n",
    "\n",
    "# Calculate trace and determinant\n",
    "trace = a + d\n",
    "determinant = a * d - b * c\n",
    "\n",
    "# Calculate discriminant\n",
    "discriminant = (trace ** 2) - (4 * determinant)\n",
    "\n",
    "if discriminant >= 0:\n",
    "    # Calculate eigenvalues\n",
    "    eig1 = (trace + discriminant ** 0.5) / 2\n",
    "    eig2 = (trace - discriminant ** 0.5) / 2\n",
    "\n",
    "    # Eigenvector for eig1\n",
    "    if b != 0:\n",
    "        evector1x = 1\n",
    "        evector1y = -(a - eig1) / b\n",
    "    elif c != 0:\n",
    "        evector1y = 1\n",
    "        evector1x = -(d - eig1) / c\n",
    "    else:\n",
    "        evector1x = 1\n",
    "        evector1y = 0\n",
    "\n",
    "    # Eigenvector for eig2\n",
    "    if b != 0:\n",
    "        evector2x = 1\n",
    "        evector2y = -(a - eig2) / b\n",
    "    elif c != 0:\n",
    "        evector2y = 1\n",
    "        evector2x = -(d - eig2) / c\n",
    "    else:\n",
    "        evector2x = 1\n",
    "        evector2y = 0\n",
    "\n",
    "    # Print results\n",
    "    print(\"Eigenvalue 1 =\", eig1)\n",
    "    print(\"Eigenvalue 2 =\", eig2)\n",
    "    print(\"Eigenvector for eigenvalue 1 =\", evector1x, evector1y)\n",
    "    print(\"Eigenvector for eigenvalue 2 =\", evector2x, evector2y)\n",
    "else:\n",
    "    print(\"Complex eigenvalues not handled in this code.\")\n"
   ]
  },
  {
   "cell_type": "code",
   "execution_count": 361,
   "id": "e0d5d80a-2c66-44f7-9abc-a582ea207c62",
   "metadata": {},
   "outputs": [],
   "source": [
    "matrix = [[1,9],[9,1]]\n",
    "a,b = matrix[0]\n",
    "c,d = matrix[1]\n",
    "\n",
    "trace = a+d\n",
    "det = a*d - b*c\n",
    "dis = (trace**2) - (4 * det)\n",
    "\n",
    "if dis >=0:\n",
    "    eig1 = (trace + dis**0.5)/2\n",
    "    eig2 = (trace - dis**0.5)/2\n",
    "\n",
    "    if b!=0:\n",
    "        v1x = 1\n",
    "        v1y = -(a-eig1)/b\n",
    "    elif c!=0:\n",
    "        v1y = 1\n",
    "        v1x = -(d-eig1)/b\n",
    "    else:\n",
    "        v1x = 1\n",
    "        v1y = 0\n",
    "\n",
    "    if b!=0:\n",
    "        v2x = 1\n",
    "        v2y = -(a-eig2)/b\n",
    "    elif c!=0:\n",
    "        v2y = 1\n",
    "        v2x = -(d-eig2)/b\n",
    "    else:\n",
    "        v2x = 1\n",
    "        v2y = 0\n",
    "    \n",
    "else: \n",
    "    print('complex eigs')"
   ]
  },
  {
   "cell_type": "code",
   "execution_count": 363,
   "id": "c0f39e05-faea-4239-9170-e92e306abefc",
   "metadata": {},
   "outputs": [
    {
     "data": {
      "text/plain": [
       "(10.0, -8.0)"
      ]
     },
     "execution_count": 363,
     "metadata": {},
     "output_type": "execute_result"
    }
   ],
   "source": [
    "eig1, eig2"
   ]
  },
  {
   "cell_type": "code",
   "execution_count": 365,
   "id": "e92a5b21-1992-428a-ab92-ed1d72393b93",
   "metadata": {},
   "outputs": [
    {
     "data": {
      "text/plain": [
       "(1, 1.0)"
      ]
     },
     "execution_count": 365,
     "metadata": {},
     "output_type": "execute_result"
    }
   ],
   "source": [
    "v1x,v1y"
   ]
  },
  {
   "cell_type": "code",
   "execution_count": 367,
   "id": "d0626d4e-5028-4fe5-b5d6-1616c6e3bb79",
   "metadata": {},
   "outputs": [
    {
     "data": {
      "text/plain": [
       "(1, -1.0)"
      ]
     },
     "execution_count": 367,
     "metadata": {},
     "output_type": "execute_result"
    }
   ],
   "source": [
    "v2x,v2y"
   ]
  },
  {
   "cell_type": "code",
   "execution_count": null,
   "id": "7c09d56f-9967-4edc-b6d2-8eba69ae8967",
   "metadata": {},
   "outputs": [],
   "source": []
  }
 ],
 "metadata": {
  "kernelspec": {
   "display_name": "Python [conda env:base] *",
   "language": "python",
   "name": "conda-base-py"
  },
  "language_info": {
   "codemirror_mode": {
    "name": "ipython",
    "version": 3
   },
   "file_extension": ".py",
   "mimetype": "text/x-python",
   "name": "python",
   "nbconvert_exporter": "python",
   "pygments_lexer": "ipython3",
   "version": "3.12.7"
  }
 },
 "nbformat": 4,
 "nbformat_minor": 5
}
