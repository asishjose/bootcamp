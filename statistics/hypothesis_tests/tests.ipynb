{
 "cells": [
  {
   "cell_type": "code",
   "execution_count": 58,
   "id": "d6ae72c9-7899-4349-b77e-947f4d53db71",
   "metadata": {},
   "outputs": [
    {
     "name": "stdout",
     "output_type": "stream",
     "text": [
      "   survived  pclass     sex   age  sibsp  parch     fare embarked  class  \\\n",
      "0         0       3    male  22.0      1      0   7.2500        S  Third   \n",
      "1         1       1  female  38.0      1      0  71.2833        C  First   \n",
      "2         1       3  female  26.0      0      0   7.9250        S  Third   \n",
      "3         1       1  female  35.0      1      0  53.1000        S  First   \n",
      "4         0       3    male  35.0      0      0   8.0500        S  Third   \n",
      "\n",
      "     who  adult_male deck  embark_town alive  alone  \n",
      "0    man        True  NaN  Southampton    no  False  \n",
      "1  woman       False    C    Cherbourg   yes  False  \n",
      "2  woman       False  NaN  Southampton   yes   True  \n",
      "3  woman       False    C  Southampton   yes  False  \n",
      "4    man        True  NaN  Southampton    no   True  \n"
     ]
    }
   ],
   "source": [
    "import seaborn as sns\n",
    "import pandas as pd\n",
    "from scipy.stats import ttest_1samp\n",
    "\n",
    "# Load Titanic dataset\n",
    "titanic = sns.load_dataset('titanic')\n",
    "\n",
    "# View the dataset\n",
    "print(titanic.head())\n"
   ]
  },
  {
   "cell_type": "code",
   "execution_count": 60,
   "id": "53545b1b-b488-402d-a8b1-bbe67fbfd65d",
   "metadata": {},
   "outputs": [
    {
     "data": {
      "text/html": [
       "<div>\n",
       "<style scoped>\n",
       "    .dataframe tbody tr th:only-of-type {\n",
       "        vertical-align: middle;\n",
       "    }\n",
       "\n",
       "    .dataframe tbody tr th {\n",
       "        vertical-align: top;\n",
       "    }\n",
       "\n",
       "    .dataframe thead th {\n",
       "        text-align: right;\n",
       "    }\n",
       "</style>\n",
       "<table border=\"1\" class=\"dataframe\">\n",
       "  <thead>\n",
       "    <tr style=\"text-align: right;\">\n",
       "      <th></th>\n",
       "      <th>survived</th>\n",
       "      <th>pclass</th>\n",
       "      <th>sex</th>\n",
       "      <th>age</th>\n",
       "      <th>sibsp</th>\n",
       "      <th>parch</th>\n",
       "      <th>fare</th>\n",
       "      <th>embarked</th>\n",
       "      <th>class</th>\n",
       "      <th>who</th>\n",
       "      <th>adult_male</th>\n",
       "      <th>deck</th>\n",
       "      <th>embark_town</th>\n",
       "      <th>alive</th>\n",
       "      <th>alone</th>\n",
       "    </tr>\n",
       "  </thead>\n",
       "  <tbody>\n",
       "    <tr>\n",
       "      <th>0</th>\n",
       "      <td>0</td>\n",
       "      <td>3</td>\n",
       "      <td>male</td>\n",
       "      <td>22.0</td>\n",
       "      <td>1</td>\n",
       "      <td>0</td>\n",
       "      <td>7.2500</td>\n",
       "      <td>S</td>\n",
       "      <td>Third</td>\n",
       "      <td>man</td>\n",
       "      <td>True</td>\n",
       "      <td>NaN</td>\n",
       "      <td>Southampton</td>\n",
       "      <td>no</td>\n",
       "      <td>False</td>\n",
       "    </tr>\n",
       "    <tr>\n",
       "      <th>1</th>\n",
       "      <td>1</td>\n",
       "      <td>1</td>\n",
       "      <td>female</td>\n",
       "      <td>38.0</td>\n",
       "      <td>1</td>\n",
       "      <td>0</td>\n",
       "      <td>71.2833</td>\n",
       "      <td>C</td>\n",
       "      <td>First</td>\n",
       "      <td>woman</td>\n",
       "      <td>False</td>\n",
       "      <td>C</td>\n",
       "      <td>Cherbourg</td>\n",
       "      <td>yes</td>\n",
       "      <td>False</td>\n",
       "    </tr>\n",
       "    <tr>\n",
       "      <th>2</th>\n",
       "      <td>1</td>\n",
       "      <td>3</td>\n",
       "      <td>female</td>\n",
       "      <td>26.0</td>\n",
       "      <td>0</td>\n",
       "      <td>0</td>\n",
       "      <td>7.9250</td>\n",
       "      <td>S</td>\n",
       "      <td>Third</td>\n",
       "      <td>woman</td>\n",
       "      <td>False</td>\n",
       "      <td>NaN</td>\n",
       "      <td>Southampton</td>\n",
       "      <td>yes</td>\n",
       "      <td>True</td>\n",
       "    </tr>\n",
       "    <tr>\n",
       "      <th>3</th>\n",
       "      <td>1</td>\n",
       "      <td>1</td>\n",
       "      <td>female</td>\n",
       "      <td>35.0</td>\n",
       "      <td>1</td>\n",
       "      <td>0</td>\n",
       "      <td>53.1000</td>\n",
       "      <td>S</td>\n",
       "      <td>First</td>\n",
       "      <td>woman</td>\n",
       "      <td>False</td>\n",
       "      <td>C</td>\n",
       "      <td>Southampton</td>\n",
       "      <td>yes</td>\n",
       "      <td>False</td>\n",
       "    </tr>\n",
       "    <tr>\n",
       "      <th>4</th>\n",
       "      <td>0</td>\n",
       "      <td>3</td>\n",
       "      <td>male</td>\n",
       "      <td>35.0</td>\n",
       "      <td>0</td>\n",
       "      <td>0</td>\n",
       "      <td>8.0500</td>\n",
       "      <td>S</td>\n",
       "      <td>Third</td>\n",
       "      <td>man</td>\n",
       "      <td>True</td>\n",
       "      <td>NaN</td>\n",
       "      <td>Southampton</td>\n",
       "      <td>no</td>\n",
       "      <td>True</td>\n",
       "    </tr>\n",
       "  </tbody>\n",
       "</table>\n",
       "</div>"
      ],
      "text/plain": [
       "   survived  pclass     sex   age  sibsp  parch     fare embarked  class  \\\n",
       "0         0       3    male  22.0      1      0   7.2500        S  Third   \n",
       "1         1       1  female  38.0      1      0  71.2833        C  First   \n",
       "2         1       3  female  26.0      0      0   7.9250        S  Third   \n",
       "3         1       1  female  35.0      1      0  53.1000        S  First   \n",
       "4         0       3    male  35.0      0      0   8.0500        S  Third   \n",
       "\n",
       "     who  adult_male deck  embark_town alive  alone  \n",
       "0    man        True  NaN  Southampton    no  False  \n",
       "1  woman       False    C    Cherbourg   yes  False  \n",
       "2  woman       False  NaN  Southampton   yes   True  \n",
       "3  woman       False    C  Southampton   yes  False  \n",
       "4    man        True  NaN  Southampton    no   True  "
      ]
     },
     "execution_count": 60,
     "metadata": {},
     "output_type": "execute_result"
    }
   ],
   "source": [
    "titanic.head()"
   ]
  },
  {
   "cell_type": "code",
   "execution_count": 62,
   "id": "6300a794-be8b-45be-9b6e-1c70d03f1c59",
   "metadata": {},
   "outputs": [
    {
     "data": {
      "text/plain": [
       "(891, 15)"
      ]
     },
     "execution_count": 62,
     "metadata": {},
     "output_type": "execute_result"
    }
   ],
   "source": [
    "titanic.shape"
   ]
  },
  {
   "cell_type": "code",
   "execution_count": 64,
   "id": "abd2d060-b19b-4496-8a0d-f0f2e48ddb13",
   "metadata": {},
   "outputs": [
    {
     "data": {
      "text/plain": [
       "Index(['survived', 'pclass', 'sex', 'age', 'sibsp', 'parch', 'fare',\n",
       "       'embarked', 'class', 'who', 'adult_male', 'deck', 'embark_town',\n",
       "       'alive', 'alone'],\n",
       "      dtype='object')"
      ]
     },
     "execution_count": 64,
     "metadata": {},
     "output_type": "execute_result"
    }
   ],
   "source": [
    "titanic.columns"
   ]
  },
  {
   "cell_type": "code",
   "execution_count": 66,
   "id": "85e26986-0518-4f64-b869-f8ed23a4eff8",
   "metadata": {},
   "outputs": [
    {
     "name": "stdout",
     "output_type": "stream",
     "text": [
      "Mean Age: 29.70\n",
      "Sample Size: 714\n"
     ]
    }
   ],
   "source": [
    "# Drop missing values in the 'age' column\n",
    "ages = titanic['age'].dropna()\n",
    "\n",
    "# Display basic statistics\n",
    "print(f\"Mean Age: {ages.mean():.2f}\")\n",
    "print(f\"Sample Size: {len(ages)}\")\n"
   ]
  },
  {
   "cell_type": "code",
   "execution_count": 67,
   "id": "c00ceba4-a132-4980-8ddb-01934bfc4241",
   "metadata": {},
   "outputs": [
    {
     "data": {
      "text/plain": [
       "29.69911764705882"
      ]
     },
     "execution_count": 67,
     "metadata": {},
     "output_type": "execute_result"
    }
   ],
   "source": [
    "ages.mean()"
   ]
  },
  {
   "cell_type": "code",
   "execution_count": 68,
   "id": "35ef1b35-080c-4e6e-ab64-08aec256032c",
   "metadata": {},
   "outputs": [
    {
     "data": {
      "text/plain": [
       "29.69911764705882"
      ]
     },
     "execution_count": 68,
     "metadata": {},
     "output_type": "execute_result"
    }
   ],
   "source": [
    "titanic.age.mean()"
   ]
  },
  {
   "cell_type": "code",
   "execution_count": 69,
   "id": "a8dfa886-b600-490b-a3a3-851c42cf1e98",
   "metadata": {},
   "outputs": [
    {
     "data": {
      "text/plain": [
       "714"
      ]
     },
     "execution_count": 69,
     "metadata": {},
     "output_type": "execute_result"
    }
   ],
   "source": [
    "titanic.age.count()"
   ]
  },
  {
   "cell_type": "code",
   "execution_count": 70,
   "id": "37f04015-bb57-436a-b764-00bb8e6d81f6",
   "metadata": {},
   "outputs": [
    {
     "name": "stdout",
     "output_type": "stream",
     "text": [
      "One-Sample T-Test:\n",
      "T-Statistic: -55.737\n",
      "P-Value: 0.000\n"
     ]
    }
   ],
   "source": [
    "# Perform one-sample t-test\n",
    "t_stat, p_value = ttest_1samp(ages, 60)\n",
    "\n",
    "# Print results\n",
    "print(f\"One-Sample T-Test:\")\n",
    "print(f\"T-Statistic: {t_stat:.3f}\")\n",
    "print(f\"P-Value: {p_value:.3f}\")\n"
   ]
  },
  {
   "cell_type": "code",
   "execution_count": null,
   "id": "d5ca3c30-c772-4a3b-a52f-c2c5339c61b6",
   "metadata": {},
   "outputs": [],
   "source": []
  },
  {
   "cell_type": "code",
   "execution_count": null,
   "id": "709532cd-a5e0-490c-b641-6b22fc3c0833",
   "metadata": {},
   "outputs": [],
   "source": []
  },
  {
   "cell_type": "markdown",
   "id": "9c870dd6-0134-470f-b101-8ed87d9f5517",
   "metadata": {},
   "source": [
    "### Two Sample "
   ]
  },
  {
   "cell_type": "code",
   "execution_count": 74,
   "id": "0b5e86f4-2946-4715-8a17-049aeff28c1a",
   "metadata": {},
   "outputs": [
    {
     "name": "stdout",
     "output_type": "stream",
     "text": [
      "Two-Sample T-Test on Titanic Dataset:\n",
      "T-Statistic: -2.067\n",
      "P-Value: 0.039\n"
     ]
    }
   ],
   "source": [
    "import seaborn as sns\n",
    "from scipy.stats import ttest_ind\n",
    "\n",
    "# Load Titanic dataset\n",
    "titanic = sns.load_dataset('titanic')\n",
    "\n",
    "# Drop missing values in the 'age' column\n",
    "titanic = titanic.dropna(subset=['age'])\n",
    "\n",
    "# Separate the data into two groups\n",
    "survived_ages = titanic[titanic['survived'] == 1]['age']\n",
    "not_survived_ages = titanic[titanic['survived'] == 0]['age']\n",
    "\n",
    "# Perform two-sample t-test\n",
    "t_stat, p_value = ttest_ind(survived_ages, not_survived_ages)\n",
    "\n",
    "# Print results\n",
    "print(f\"Two-Sample T-Test on Titanic Dataset:\")\n",
    "print(f\"T-Statistic: {t_stat:.3f}\")\n",
    "print(f\"P-Value: {p_value:.3f}\")\n"
   ]
  },
  {
   "cell_type": "markdown",
   "id": "8c9d8775-ca50-4a00-98fc-6f911fb36311",
   "metadata": {},
   "source": [
    "Null Hypothesis (H₀): The mean age of survivors is equal to the mean age of non-survivors.\n",
    "Alternative Hypothesis (H₁): The mean age of survivors is different from the mean age of non-survivors.\n",
    "If p-value < 0.05, reject H₀ and conclude a significant difference between the two groups.\n"
   ]
  },
  {
   "cell_type": "code",
   "execution_count": null,
   "id": "832f702a-d9cf-463f-a734-22317fa2369b",
   "metadata": {},
   "outputs": [],
   "source": []
  },
  {
   "cell_type": "markdown",
   "id": "88b3c49d-3ffc-49de-92e3-eb51c8d84876",
   "metadata": {},
   "source": [
    "### paired T_test"
   ]
  },
  {
   "cell_type": "code",
   "execution_count": 78,
   "id": "3a7635e0-5eb6-44b8-a1ec-206dc23ef2c8",
   "metadata": {},
   "outputs": [
    {
     "name": "stdout",
     "output_type": "stream",
     "text": [
      "Paired T-Test on Fares (Before vs After):\n",
      "T-Statistic: -9.261\n",
      "P-Value: 0.000\n"
     ]
    }
   ],
   "source": [
    "import seaborn as sns\n",
    "from scipy.stats import ttest_rel\n",
    "\n",
    "# Load Titanic dataset\n",
    "titanic = sns.load_dataset('titanic')\n",
    "\n",
    "# Filter passengers who embarked at 'C' and drop missing 'fare'\n",
    "cherbourg_passengers = titanic[titanic['embarked'] == 'C'].dropna(subset=['fare'])\n",
    "\n",
    "# Simulate \"before\" and \"after\" fare data\n",
    "before_fares = cherbourg_passengers['fare']\n",
    "after_fares = before_fares * 1.02  # Simulate a 10% price increase\n",
    "\n",
    "# Perform a paired t-test\n",
    "t_stat, p_value = ttest_rel(before_fares, after_fares)\n",
    "\n",
    "# Print results\n",
    "print(f\"Paired T-Test on Fares (Before vs After):\")\n",
    "print(f\"T-Statistic: {t_stat:.3f}\")\n",
    "print(f\"P-Value: {p_value:.3f}\")\n"
   ]
  },
  {
   "cell_type": "markdown",
   "id": "9f9167c1-4a47-4b94-8a5f-b5e76d2b3160",
   "metadata": {},
   "source": [
    "Null Hypothesis (H₀): The mean of \"before\" fares is equal to the mean of \"after\" fares.\n",
    "Alternative Hypothesis (H₁): The mean of \"before\" fares is not equal to the mean of \"after\" fares.\n",
    "If p-value < 0.05, reject H₀, meaning there is a significant difference between the two means.\n"
   ]
  },
  {
   "cell_type": "code",
   "execution_count": 80,
   "id": "91476458-89e4-467e-bf15-5c5bb9c71e27",
   "metadata": {},
   "outputs": [
    {
     "name": "stdout",
     "output_type": "stream",
     "text": [
      "Paired T-Test on Fares (Before vs After):\n",
      "T-Statistic: -9.261\n",
      "P-Value: 0.000\n"
     ]
    }
   ],
   "source": [
    "import seaborn as sns\n",
    "from scipy.stats import ttest_rel\n",
    "\n",
    "# Load Titanic dataset\n",
    "titanic = sns.load_dataset('titanic')\n",
    "\n",
    "# Filter passengers who embarked at 'C' and drop missing 'fare'\n",
    "cherbourg_passengers = titanic[titanic['embarked'] == 'C'].dropna(subset=['fare'])\n",
    "\n",
    "# Simulate \"before\" and \"after\" fare data with a smaller change (2% increase)\n",
    "before_fares = cherbourg_passengers['fare']\n",
    "after_fares = before_fares * 1.000002  # Simulate a 2% price increase\n",
    "\n",
    "# Perform a paired t-test\n",
    "t_stat, p_value = ttest_rel(before_fares, after_fares)\n",
    "\n",
    "# Print results\n",
    "print(f\"Paired T-Test on Fares (Before vs After):\")\n",
    "print(f\"T-Statistic: {t_stat:.3f}\")\n",
    "print(f\"P-Value: {p_value:.3f}\")\n"
   ]
  },
  {
   "cell_type": "code",
   "execution_count": 81,
   "id": "1dfde563-9db2-4754-bbdf-cc991dd9dd43",
   "metadata": {},
   "outputs": [
    {
     "data": {
      "text/plain": [
       "59.95414404761905"
      ]
     },
     "execution_count": 81,
     "metadata": {},
     "output_type": "execute_result"
    }
   ],
   "source": [
    "before_fares.mean()\n"
   ]
  },
  {
   "cell_type": "code",
   "execution_count": 82,
   "id": "53a2673f-e887-4d14-a9ae-8d1a77b8261c",
   "metadata": {},
   "outputs": [
    {
     "data": {
      "text/plain": [
       "59.954263955907145"
      ]
     },
     "execution_count": 82,
     "metadata": {},
     "output_type": "execute_result"
    }
   ],
   "source": [
    "after_fares.mean()"
   ]
  },
  {
   "cell_type": "code",
   "execution_count": 83,
   "id": "3b146538-7884-4f15-8098-10e4b934ac17",
   "metadata": {},
   "outputs": [
    {
     "data": {
      "text/plain": [
       "(count    168.000000\n",
       " mean      59.954144\n",
       " std       83.912994\n",
       " min        4.012500\n",
       " 25%       13.697950\n",
       " 50%       29.700000\n",
       " 75%       78.500025\n",
       " max      512.329200\n",
       " Name: fare, dtype: float64,\n",
       " count    168.000000\n",
       " mean      59.954264\n",
       " std       83.913162\n",
       " min        4.012508\n",
       " 25%       13.697977\n",
       " 50%       29.700059\n",
       " 75%       78.500182\n",
       " max      512.330225\n",
       " Name: fare, dtype: float64)"
      ]
     },
     "execution_count": 83,
     "metadata": {},
     "output_type": "execute_result"
    }
   ],
   "source": [
    "before_fares.describe(), after_fares.describe()  # Check summary statistics for after fares\n"
   ]
  },
  {
   "cell_type": "code",
   "execution_count": null,
   "id": "7f4b0f3f-eff3-4d65-a4b5-1a465aad94e3",
   "metadata": {},
   "outputs": [],
   "source": []
  },
  {
   "cell_type": "code",
   "execution_count": 85,
   "id": "fe12f5a6-985a-4306-974f-3b8b53eb2ea4",
   "metadata": {},
   "outputs": [
    {
     "data": {
      "text/plain": [
       "(-4.605055965729875, 0.0012812753428723797)"
      ]
     },
     "execution_count": 85,
     "metadata": {},
     "output_type": "execute_result"
    }
   ],
   "source": [
    "import numpy as np \n",
    "from scipy.stats import ttest_1samp\n",
    "\n",
    "sample_data = [480, 490, 475, 495, 485, 470, 460, 490, 500, 470]\n",
    "hypothesized_mean = 500\n",
    "\n",
    "t_stat, p_val = ttest_1samp(sample_data, hypothesized_mean)\n",
    "\n",
    "alpha = 0.05\n",
    "\n",
    "t_stat, p_val"
   ]
  },
  {
   "cell_type": "code",
   "execution_count": 86,
   "id": "bdb4bd78-feea-45e0-bc59-86b5fe022fc3",
   "metadata": {},
   "outputs": [
    {
     "data": {
      "text/plain": [
       "0.0012812753428723797"
      ]
     },
     "execution_count": 86,
     "metadata": {},
     "output_type": "execute_result"
    }
   ],
   "source": [
    "import math\n",
    "from scipy.stats import t\n",
    "\n",
    "sample_data = [480, 490, 475, 495, 485, 470, 460, 490, 500, 470]\n",
    "hypothesized_mean = 500\n",
    "n = len(sample_data)\n",
    "\n",
    "sample_mean = sum(sample_data)/len(sample_data)\n",
    "\n",
    "sample_variance = sum((x - sample_mean)**2 for x in sample_data)/(n-1)\n",
    "sample_sd = math.sqrt(sample_variance)\n",
    "\n",
    "t_stat = (sample_mean-hypothesized_mean) / (sample_sd/math.sqrt(n))\n",
    "dof = n-1\n",
    "\n",
    "p_value = 2*t.cdf(-abs(t_stat),dof)\n",
    "\n",
    "alpha = 0.05\n",
    "\n",
    "p_value"
   ]
  },
  {
   "cell_type": "code",
   "execution_count": 87,
   "id": "75d66ba8-4eee-4e3a-9ac7-2019abf5065e",
   "metadata": {},
   "outputs": [],
   "source": [
    "import math\n",
    "from scipy.stats import ttest_ind # Only for p-value calculation\n",
    "\n",
    "# Sample data\n",
    "class_a_scores = [85, 90, 78, 92, 88, 76, 95, 89]\n",
    "class_b_scores = [80, 85, 83, 87, 82, 84, 81, 79]"
   ]
  },
  {
   "cell_type": "code",
   "execution_count": 88,
   "id": "31ec02eb-087f-42e4-b16c-a6154d0f7159",
   "metadata": {},
   "outputs": [
    {
     "data": {
      "text/plain": [
       "(1.5825745726907101, 0.13584091935511972)"
      ]
     },
     "execution_count": 88,
     "metadata": {},
     "output_type": "execute_result"
    }
   ],
   "source": [
    "t_stat, p_val = ttest_ind(class_a_scores,class_b_scores)\n",
    "t_stat,p_val"
   ]
  },
  {
   "cell_type": "code",
   "execution_count": 89,
   "id": "f6fbe1dc-90d9-4862-a0d5-5dc187140b6f",
   "metadata": {},
   "outputs": [],
   "source": [
    "import math\n",
    "from scipy.stats import t\n",
    "\n",
    "class_a_scores = [85, 90, 78, 92, 88, 76, 95, 89]\n",
    "class_b_scores = [80, 85, 83, 87, 82, 84, 81, 79]"
   ]
  },
  {
   "cell_type": "code",
   "execution_count": 90,
   "id": "6f25b671-b73b-4d35-8610-e9250e0cb1c8",
   "metadata": {},
   "outputs": [
    {
     "data": {
      "text/plain": [
       "(1.5825745726907101, 0.13584091935511972)"
      ]
     },
     "execution_count": 90,
     "metadata": {},
     "output_type": "execute_result"
    }
   ],
   "source": [
    "n1 = len(class_a_scores)\n",
    "n2 = len(class_b_scores)\n",
    "mean1 = sum(class_a_scores)/n1\n",
    "mean2 = sum(class_b_scores)/n2\n",
    "var1 = sum((x-mean1)**2 for x in class_a_scores) / (n1-1)\n",
    "var2 = sum((x-mean2)**2 for x in class_b_scores) / (n2-1)\n",
    "\n",
    "p_var = ((n1-1)*var1 + (n2-1)*var2) / (n1+n2-2)\n",
    "\n",
    "t_stat = (mean1 - mean2) / math.sqrt(p_var * (1/n1 + 1/n2))\n",
    "\n",
    "df = n1+n2-2\n",
    "\n",
    "p_val = 2 * t.cdf(-abs(t_stat), df)\n",
    "\n",
    "t_stat, p_val"
   ]
  },
  {
   "cell_type": "code",
   "execution_count": 91,
   "id": "3342f5d7-e0f7-4de0-96da-d0307d4e3d90",
   "metadata": {},
   "outputs": [
    {
     "data": {
      "text/plain": [
       "(86.625, 82.625)"
      ]
     },
     "execution_count": 91,
     "metadata": {},
     "output_type": "execute_result"
    }
   ],
   "source": [
    "mean1, mean2"
   ]
  },
  {
   "cell_type": "code",
   "execution_count": 92,
   "id": "77c1d597-4355-4421-a7d2-26cb8cc1816b",
   "metadata": {},
   "outputs": [
    {
     "data": {
      "text/plain": [
       "(43.982142857142854, 7.125)"
      ]
     },
     "execution_count": 92,
     "metadata": {},
     "output_type": "execute_result"
    }
   ],
   "source": [
    "var1, var2"
   ]
  },
  {
   "cell_type": "code",
   "execution_count": 93,
   "id": "86f095f9-cbce-4785-bfae-2887d230fa49",
   "metadata": {},
   "outputs": [
    {
     "data": {
      "text/plain": [
       "25.553571428571427"
      ]
     },
     "execution_count": 93,
     "metadata": {},
     "output_type": "execute_result"
    }
   ],
   "source": [
    "p_var"
   ]
  },
  {
   "cell_type": "code",
   "execution_count": null,
   "id": "95d27f99-cbfe-48fe-8d45-8a3c4dcef3ef",
   "metadata": {},
   "outputs": [],
   "source": []
  },
  {
   "cell_type": "code",
   "execution_count": 174,
   "id": "4fe2eefd-ade6-40bf-be2f-f0de0afee43b",
   "metadata": {
    "scrolled": true
   },
   "outputs": [
    {
     "data": {
      "text/plain": [
       "(260.71702016732104,\n",
       " 1.1973570627755645e-58,\n",
       " 1,\n",
       " array([[193.47474747, 120.52525253],\n",
       "        [355.52525253, 221.47474747]]))"
      ]
     },
     "execution_count": 174,
     "metadata": {},
     "output_type": "execute_result"
    }
   ],
   "source": [
    "import seaborn as sns\n",
    "import pandas as pd\n",
    "from scipy.stats import chi2_contingency\n",
    "data = sns.load_dataset('titanic')\n",
    "\n",
    "c_table = pd.crosstab(data['sex'], data['survived'])\n",
    "\n",
    "chi2, p, dof, expected = chi2_contingency(c_table)\n",
    "chi2, p, dof, expected"
   ]
  },
  {
   "cell_type": "code",
   "execution_count": 182,
   "id": "8e8f77df-1aa2-49ad-a0f8-7b4cb8de9dba",
   "metadata": {},
   "outputs": [
    {
     "data": {
      "text/plain": [
       "(59.89908256880733, 5.696804179500248e-07)"
      ]
     },
     "execution_count": 182,
     "metadata": {},
     "output_type": "execute_result"
    }
   ],
   "source": [
    "import numpy as np\n",
    "from scipy.stats import f\n",
    "\n",
    "group1 = [23, 21, 18, 25, 27]\n",
    "group2 = [31, 35, 32, 36, 33]\n",
    "group3 = [42, 40, 45, 41, 39]\n",
    "\n",
    "all_data = group1+group2+group3\n",
    "grand_mean = np.mean(all_data)\n",
    "\n",
    "mean1 = np.mean(group1)\n",
    "mean2 = np.mean(group2)\n",
    "mean3 = np.mean(group3)\n",
    "\n",
    "n1, n2, n3 = len(group1), len(group2), len(group3)\n",
    "\n",
    "SSB = n1 * (mean1 - grand_mean)**2 + n2 * (mean2 - grand_mean)**2 + n3 * (mean3 - grand_mean)**2\n",
    "\n",
    "SSW = sum((x - mean1)**2 for x in group1) + sum((x - mean2)**2 for x in group2) + sum((x - mean3)**2 for x in group3)\n",
    "\n",
    "df_btw = 3-1\n",
    "df_with = len(all_data)-3\n",
    "\n",
    "MSB = SSB/df_btw\n",
    "MSW = SSW/df_with\n",
    "\n",
    "F_stat = MSB / MSW\n",
    "\n",
    "p_val = 1 - f.cdf(F_stat, df_btw, df_with)\n",
    "\n",
    "F_stat, p_val"
   ]
  },
  {
   "cell_type": "code",
   "execution_count": 184,
   "id": "e88b7b4d-0083-4877-87c4-5443bf9ef602",
   "metadata": {},
   "outputs": [],
   "source": [
    "from scipy.stats import f_oneway\n",
    "\n",
    "f,p = f_oneway(group1, group2, group3)"
   ]
  },
  {
   "cell_type": "code",
   "execution_count": 186,
   "id": "b16aed3b-f83a-42a2-9328-b3441d343dd5",
   "metadata": {},
   "outputs": [
    {
     "data": {
      "text/plain": [
       "(59.89908256880731, 5.696804178985606e-07)"
      ]
     },
     "execution_count": 186,
     "metadata": {},
     "output_type": "execute_result"
    }
   ],
   "source": [
    "f,p"
   ]
  },
  {
   "cell_type": "code",
   "execution_count": null,
   "id": "b31aca11-0461-437e-8f26-7f35ee9c8327",
   "metadata": {},
   "outputs": [],
   "source": []
  }
 ],
 "metadata": {
  "kernelspec": {
   "display_name": "Python [conda env:base] *",
   "language": "python",
   "name": "conda-base-py"
  },
  "language_info": {
   "codemirror_mode": {
    "name": "ipython",
    "version": 3
   },
   "file_extension": ".py",
   "mimetype": "text/x-python",
   "name": "python",
   "nbconvert_exporter": "python",
   "pygments_lexer": "ipython3",
   "version": "3.12.7"
  }
 },
 "nbformat": 4,
 "nbformat_minor": 5
}
