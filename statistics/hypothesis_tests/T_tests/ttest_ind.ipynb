{
 "cells": [
  {
   "cell_type": "code",
   "execution_count": 12,
   "id": "4175627c-c961-41e0-b661-086a8fa121c6",
   "metadata": {},
   "outputs": [
    {
     "name": "stdout",
     "output_type": "stream",
     "text": [
      "Class A Scores: [85, 90, 78, 92, 88, 76, 95, 89]\n",
      "Class B Scores: [80, 85, 83, 87, 82, 84, 81, 79]\n",
      "T-Statistic: 1.5826\n",
      "P-Value: 0.1358\n",
      "Conclusion: Fail to reject the null hypothesis (p >= 0.05).\n",
      "The means of the two classes are not significantly different.\n"
     ]
    }
   ],
   "source": [
    "from scipy.stats import ttest_ind\n",
    "\n",
    "# Sample data\n",
    "class_a_scores = [85, 90, 78, 92, 88, 76, 95, 89]\n",
    "class_b_scores = [80, 85, 83, 87, 82, 84, 81, 79]\n",
    "\n",
    "# Perform a two-sample t-test\n",
    "t_statistic, p_value = ttest_ind(class_a_scores, class_b_scores)\n",
    "\n",
    "# Significance level\n",
    "alpha = 0.05\n",
    "\n",
    "# Print results\n",
    "print(f\"Class A Scores: {class_a_scores}\")\n",
    "print(f\"Class B Scores: {class_b_scores}\")\n",
    "print(f\"T-Statistic: {t_statistic:.4f}\")\n",
    "print(f\"P-Value: {p_value:.4f}\")\n",
    "\n",
    "# Conclusion\n",
    "if p_value < alpha:\n",
    "    print(f\"Conclusion: Reject the null hypothesis (p < {alpha}).\")\n",
    "    print(\"The means of the two classes are significantly different.\")\n",
    "else:\n",
    "    print(f\"Conclusion: Fail to reject the null hypothesis (p >= {alpha}).\")\n",
    "    print(\"The means of the two classes are not significantly different.\")\n"
   ]
  },
  {
   "cell_type": "code",
   "execution_count": 4,
   "id": "3af00ad2-61cb-41dc-a18e-fe2b1576efbe",
   "metadata": {},
   "outputs": [
    {
     "name": "stdout",
     "output_type": "stream",
     "text": [
      "Class A Scores: [85, 90, 78, 92, 88, 76, 95, 89]\n",
      "Class B Scores: [80, 85, 83, 87, 82, 84, 81, 79]\n",
      "Mean A: 86.6250, Mean B: 82.6250\n",
      "Variance A: 43.9821, Variance B: 7.1250\n",
      "Pooled Variance: 25.5536\n",
      "T-Statistic: 1.5826\n",
      "P-Value: 0.1358\n",
      "Conclusion: Fail to reject the null hypothesis (p >= 0.05).\n",
      "The means of the two classes are not significantly different.\n"
     ]
    }
   ],
   "source": [
    "import math\n",
    "from scipy.stats import t  # Only for p-value calculation\n",
    "\n",
    "# Sample data\n",
    "class_a_scores = [85, 90, 78, 92, 88, 76, 95, 89]\n",
    "class_b_scores = [80, 85, 83, 87, 82, 84, 81, 79]\n",
    "\n",
    "# Step 1: Calculate sample means\n",
    "mean_a = sum(class_a_scores) / len(class_a_scores)\n",
    "mean_b = sum(class_b_scores) / len(class_b_scores)\n",
    "\n",
    "# Step 2: Calculate sample variances\n",
    "var_a = sum((x - mean_a) ** 2 for x in class_a_scores) / (len(class_a_scores) - 1)\n",
    "var_b = sum((x - mean_b) ** 2 for x in class_b_scores) / (len(class_b_scores) - 1)\n",
    "\n",
    "# Step 3: Calculate pooled variance\n",
    "n_a = len(class_a_scores)\n",
    "n_b = len(class_b_scores)\n",
    "pooled_variance = ((n_a - 1) * var_a + (n_b - 1) * var_b) / (n_a + n_b - 2)\n",
    "\n",
    "# Step 4: Calculate the t-statistic\n",
    "t_statistic = (mean_a - mean_b) / math.sqrt(pooled_variance * (1 / n_a + 1 / n_b))\n",
    "\n",
    "# Step 5: Calculate degrees of freedom\n",
    "df = n_a + n_b - 2\n",
    "\n",
    "# Step 6: Calculate the p-value (two-tailed)\n",
    "p_value = 2 * t.cdf(-abs(t_statistic), df)\n",
    "\n",
    "# Step 7: Output the results\n",
    "print(f\"Class A Scores: {class_a_scores}\")\n",
    "print(f\"Class B Scores: {class_b_scores}\")\n",
    "print(f\"Mean A: {mean_a:.4f}, Mean B: {mean_b:.4f}\")\n",
    "print(f\"Variance A: {var_a:.4f}, Variance B: {var_b:.4f}\")\n",
    "print(f\"Pooled Variance: {pooled_variance:.4f}\")\n",
    "print(f\"T-Statistic: {t_statistic:.4f}\")\n",
    "print(f\"P-Value: {p_value:.4f}\")\n",
    "\n",
    "# Conclusion\n",
    "alpha = 0.05\n",
    "if p_value < alpha:\n",
    "    print(f\"Conclusion: Reject the null hypothesis (p < {alpha}).\")\n",
    "    print(\"The means of the two classes are significantly different.\")\n",
    "else:\n",
    "    print(f\"Conclusion: Fail to reject the null hypothesis (p >= {alpha}).\")\n",
    "    print(\"The means of the two classes are not significantly different.\")\n"
   ]
  },
  {
   "cell_type": "code",
   "execution_count": null,
   "id": "4cd30871-0748-48dd-a473-b28175f84723",
   "metadata": {},
   "outputs": [],
   "source": []
  }
 ],
 "metadata": {
  "kernelspec": {
   "display_name": "Python [conda env:base] *",
   "language": "python",
   "name": "conda-base-py"
  },
  "language_info": {
   "codemirror_mode": {
    "name": "ipython",
    "version": 3
   },
   "file_extension": ".py",
   "mimetype": "text/x-python",
   "name": "python",
   "nbconvert_exporter": "python",
   "pygments_lexer": "ipython3",
   "version": "3.12.7"
  }
 },
 "nbformat": 4,
 "nbformat_minor": 5
}
