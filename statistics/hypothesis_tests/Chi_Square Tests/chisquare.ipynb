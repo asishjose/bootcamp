{
 "cells": [
  {
   "cell_type": "code",
   "execution_count": 2,
   "id": "fb273ce1-001c-408f-99d2-b6db6378be9d",
   "metadata": {},
   "outputs": [
    {
     "name": "stdout",
     "output_type": "stream",
     "text": [
      "Chi-Square Statistic: 1.0\n",
      "p-value: 0.9625657732472964\n",
      "Fail to reject the null hypothesis: The die is fair.\n"
     ]
    }
   ],
   "source": [
    "import numpy as np\n",
    "from scipy.stats import chisquare\n",
    "\n",
    "# Observed frequencies (for each side of the die)\n",
    "observed = np.array([10, 8, 12, 9, 11, 10])\n",
    "\n",
    "# Expected frequencies (for a fair die, all sides should have equal probabilities)\n",
    "total_rolls = 60\n",
    "expected = np.array([total_rolls / 6] * 6)  # [10, 10, 10, 10, 10, 10]\n",
    "\n",
    "# Perform the Chi-Square Goodness-of-Fit Test\n",
    "chi2, p = chisquare(f_obs=observed, f_exp=expected)\n",
    "\n",
    "# Results\n",
    "print(\"Chi-Square Statistic:\", chi2)\n",
    "print(\"p-value:\", p)\n",
    "\n",
    "# Conclusion\n",
    "if p < 0.05:\n",
    "    print(\"Reject the null hypothesis: The die is not fair.\")\n",
    "else:\n",
    "    print(\"Fail to reject the null hypothesis: The die is fair.\")\n"
   ]
  },
  {
   "cell_type": "code",
   "execution_count": 4,
   "id": "c0f8a25e-4edb-462d-abd6-bbfe28e7d4ab",
   "metadata": {},
   "outputs": [
    {
     "name": "stdout",
     "output_type": "stream",
     "text": [
      "Chi-Square Statistic: 1.00\n",
      "Degrees of Freedom: 5\n",
      "p-value: 0.9626\n",
      "Fail to reject the null hypothesis: The die is fair.\n"
     ]
    }
   ],
   "source": [
    "import numpy as np\n",
    "from scipy.stats import chi2\n",
    "\n",
    "# Step 1: Define observed frequencies\n",
    "observed = np.array([10, 8, 12, 9, 11, 10])\n",
    "\n",
    "# Step 2: Calculate expected frequencies for a fair die\n",
    "total_rolls = 60\n",
    "expected = np.array([total_rolls / 6] * 6)  # Fair die assumption: equal probability for each side\n",
    "\n",
    "# Step 3: Compute the Chi-Square statistic\n",
    "chi_square_stat = ((observed - expected) ** 2 / expected).sum()\n",
    "\n",
    "# Step 4: Degrees of freedom\n",
    "df = len(observed) - 1\n",
    "\n",
    "# Step 5: Output the results\n",
    "print(f\"Chi-Square Statistic: {chi_square_stat:.2f}\")\n",
    "print(f\"Degrees of Freedom: {df}\")\n",
    "\n",
    "# Step 6: Calculate the p-value using Chi-Square distribution\n",
    "p_value = 1 - chi2.cdf(chi_square_stat, df)\n",
    "print(f\"p-value: {p_value:.4f}\")\n",
    "\n",
    "# Step 7: Interpretation of the result\n",
    "if p_value < 0.05:\n",
    "    print(\"Reject the null hypothesis: The die is not fair.\")\n",
    "else:\n",
    "    print(\"Fail to reject the null hypothesis: The die is fair.\")\n",
    "\n"
   ]
  },
  {
   "cell_type": "code",
   "execution_count": null,
   "id": "08a91389-40f1-4acd-a8fd-cf5ef8457852",
   "metadata": {},
   "outputs": [],
   "source": []
  }
 ],
 "metadata": {
  "kernelspec": {
   "display_name": "Python [conda env:base] *",
   "language": "python",
   "name": "conda-base-py"
  },
  "language_info": {
   "codemirror_mode": {
    "name": "ipython",
    "version": 3
   },
   "file_extension": ".py",
   "mimetype": "text/x-python",
   "name": "python",
   "nbconvert_exporter": "python",
   "pygments_lexer": "ipython3",
   "version": "3.12.7"
  }
 },
 "nbformat": 4,
 "nbformat_minor": 5
}
