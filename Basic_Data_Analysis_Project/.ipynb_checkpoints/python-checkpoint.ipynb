{
 "cells": [
  {
   "cell_type": "code",
   "execution_count": 6,
   "id": "854fd443-c686-4562-95d8-a23d3cc2b536",
   "metadata": {},
   "outputs": [
    {
     "name": "stdout",
     "output_type": "stream",
     "text": [
      "1 2 3\n"
     ]
    }
   ],
   "source": [
    "def tuple_ex():\n",
    "    t=(1,2,3)\n",
    "    return t\n",
    "a,b,c = tuple_ex()\n",
    "print(a,b,c)"
   ]
  },
  {
   "cell_type": "code",
   "execution_count": 8,
   "id": "86ff0a89-26c1-4a4d-aa23-79a0e7457b8e",
   "metadata": {},
   "outputs": [
    {
     "data": {
      "text/plain": [
       "['ArithmeticError',\n",
       " 'AssertionError',\n",
       " 'AttributeError',\n",
       " 'BaseException',\n",
       " 'BaseExceptionGroup',\n",
       " 'BlockingIOError',\n",
       " 'BrokenPipeError',\n",
       " 'BufferError',\n",
       " 'BytesWarning',\n",
       " 'ChildProcessError',\n",
       " 'ConnectionAbortedError',\n",
       " 'ConnectionError',\n",
       " 'ConnectionRefusedError',\n",
       " 'ConnectionResetError',\n",
       " 'DeprecationWarning',\n",
       " 'EOFError',\n",
       " 'Ellipsis',\n",
       " 'EncodingWarning',\n",
       " 'EnvironmentError',\n",
       " 'Exception',\n",
       " 'ExceptionGroup',\n",
       " 'False',\n",
       " 'FileExistsError',\n",
       " 'FileNotFoundError',\n",
       " 'FloatingPointError',\n",
       " 'FutureWarning',\n",
       " 'GeneratorExit',\n",
       " 'IOError',\n",
       " 'ImportError',\n",
       " 'ImportWarning',\n",
       " 'IndentationError',\n",
       " 'IndexError',\n",
       " 'InterruptedError',\n",
       " 'IsADirectoryError',\n",
       " 'KeyError',\n",
       " 'KeyboardInterrupt',\n",
       " 'LookupError',\n",
       " 'MemoryError',\n",
       " 'ModuleNotFoundError',\n",
       " 'NameError',\n",
       " 'None',\n",
       " 'NotADirectoryError',\n",
       " 'NotImplemented',\n",
       " 'NotImplementedError',\n",
       " 'OSError',\n",
       " 'OverflowError',\n",
       " 'PendingDeprecationWarning',\n",
       " 'PermissionError',\n",
       " 'ProcessLookupError',\n",
       " 'RecursionError',\n",
       " 'ReferenceError',\n",
       " 'ResourceWarning',\n",
       " 'RuntimeError',\n",
       " 'RuntimeWarning',\n",
       " 'StopAsyncIteration',\n",
       " 'StopIteration',\n",
       " 'SyntaxError',\n",
       " 'SyntaxWarning',\n",
       " 'SystemError',\n",
       " 'SystemExit',\n",
       " 'TabError',\n",
       " 'TimeoutError',\n",
       " 'True',\n",
       " 'TypeError',\n",
       " 'UnboundLocalError',\n",
       " 'UnicodeDecodeError',\n",
       " 'UnicodeEncodeError',\n",
       " 'UnicodeError',\n",
       " 'UnicodeTranslateError',\n",
       " 'UnicodeWarning',\n",
       " 'UserWarning',\n",
       " 'ValueError',\n",
       " 'Warning',\n",
       " 'ZeroDivisionError',\n",
       " '__IPYTHON__',\n",
       " '__build_class__',\n",
       " '__debug__',\n",
       " '__doc__',\n",
       " '__import__',\n",
       " '__loader__',\n",
       " '__name__',\n",
       " '__package__',\n",
       " '__spec__',\n",
       " 'abs',\n",
       " 'aiter',\n",
       " 'all',\n",
       " 'anext',\n",
       " 'any',\n",
       " 'ascii',\n",
       " 'bin',\n",
       " 'bool',\n",
       " 'breakpoint',\n",
       " 'bytearray',\n",
       " 'bytes',\n",
       " 'callable',\n",
       " 'chr',\n",
       " 'classmethod',\n",
       " 'compile',\n",
       " 'complex',\n",
       " 'copyright',\n",
       " 'credits',\n",
       " 'delattr',\n",
       " 'dict',\n",
       " 'dir',\n",
       " 'display',\n",
       " 'divmod',\n",
       " 'enumerate',\n",
       " 'eval',\n",
       " 'exec',\n",
       " 'execfile',\n",
       " 'filter',\n",
       " 'float',\n",
       " 'format',\n",
       " 'frozenset',\n",
       " 'get_ipython',\n",
       " 'getattr',\n",
       " 'globals',\n",
       " 'hasattr',\n",
       " 'hash',\n",
       " 'help',\n",
       " 'hex',\n",
       " 'id',\n",
       " 'input',\n",
       " 'int',\n",
       " 'isinstance',\n",
       " 'issubclass',\n",
       " 'iter',\n",
       " 'len',\n",
       " 'license',\n",
       " 'list',\n",
       " 'locals',\n",
       " 'map',\n",
       " 'max',\n",
       " 'memoryview',\n",
       " 'min',\n",
       " 'next',\n",
       " 'object',\n",
       " 'oct',\n",
       " 'open',\n",
       " 'ord',\n",
       " 'pow',\n",
       " 'print',\n",
       " 'property',\n",
       " 'range',\n",
       " 'repr',\n",
       " 'reversed',\n",
       " 'round',\n",
       " 'runfile',\n",
       " 'set',\n",
       " 'setattr',\n",
       " 'slice',\n",
       " 'sorted',\n",
       " 'staticmethod',\n",
       " 'str',\n",
       " 'sum',\n",
       " 'super',\n",
       " 'tuple',\n",
       " 'type',\n",
       " 'vars',\n",
       " 'zip']"
      ]
     },
     "execution_count": 8,
     "metadata": {},
     "output_type": "execute_result"
    }
   ],
   "source": [
    "import builtins\n",
    "dir(builtins)"
   ]
  },
  {
   "cell_type": "code",
   "execution_count": 10,
   "id": "4495e0af-4bf8-463a-a84f-69300f4ee72b",
   "metadata": {},
   "outputs": [
    {
     "name": "stdout",
     "output_type": "stream",
     "text": [
      "25\n"
     ]
    }
   ],
   "source": [
    "def square():\n",
    "    def add():\n",
    "        x=2\n",
    "        y=3\n",
    "        z=x+y\n",
    "        return z\n",
    "    return add()**2\n",
    "print(square())"
   ]
  },
  {
   "cell_type": "markdown",
   "id": "278877dd-fa41-4206-964b-f947660e53aa",
   "metadata": {},
   "source": [
    "### Default and Felxible Arguments"
   ]
  },
  {
   "cell_type": "markdown",
   "id": "b01861ed-951a-4b1c-bb1a-4768d2a8004b",
   "metadata": {},
   "source": [
    "b=1  #default argument\n",
    "*args #can be one or more\n",
    "**kwargs #is a dictionary"
   ]
  },
  {
   "cell_type": "code",
   "execution_count": 16,
   "id": "6f93bca7-ba7c-45db-abdb-6b01e13b8522",
   "metadata": {},
   "outputs": [
    {
     "name": "stdout",
     "output_type": "stream",
     "text": [
      "8\n"
     ]
    }
   ],
   "source": [
    "def f(a,b=1, c=2):\n",
    "    y = a+b+c\n",
    "    return y\n",
    "print(f(5))"
   ]
  },
  {
   "cell_type": "code",
   "execution_count": 18,
   "id": "91bbc67a-d306-42f5-9250-c7fc8c06967c",
   "metadata": {},
   "outputs": [
    {
     "name": "stdout",
     "output_type": "stream",
     "text": [
      "12\n"
     ]
    }
   ],
   "source": [
    "print(f(5,4,3))"
   ]
  },
  {
   "cell_type": "code",
   "execution_count": 20,
   "id": "e622b8d8-d2ad-4c94-9cce-92227d70bed1",
   "metadata": {},
   "outputs": [
    {
     "name": "stdout",
     "output_type": "stream",
     "text": [
      "1\n"
     ]
    }
   ],
   "source": [
    "def f(*args):\n",
    "    for i in args:\n",
    "        print(i)\n",
    "f(1)"
   ]
  },
  {
   "cell_type": "code",
   "execution_count": 22,
   "id": "449dcc5c-b318-40d6-b638-f209e2ab0229",
   "metadata": {},
   "outputs": [
    {
     "name": "stdout",
     "output_type": "stream",
     "text": [
      "1\n",
      "2\n",
      "3\n",
      "4\n"
     ]
    }
   ],
   "source": [
    "f(1,2,3,4)"
   ]
  },
  {
   "cell_type": "code",
   "execution_count": 24,
   "id": "4a5b7c6b-05c4-4896-8231-17fe858c2ccc",
   "metadata": {},
   "outputs": [
    {
     "name": "stdout",
     "output_type": "stream",
     "text": [
      "country  spain\n",
      "capital  madrid\n",
      "population  123456\n"
     ]
    }
   ],
   "source": [
    "def f(**kwargs):\n",
    "    for key, value in kwargs.items():\n",
    "        print(key, \"\", value)\n",
    "f(country = 'spain',capital = 'madrid', population = 123456)"
   ]
  },
  {
   "cell_type": "markdown",
   "id": "e54b1047-600f-481f-8082-bc4779e855e5",
   "metadata": {},
   "source": [
    "### LAMBDA FUNCTION"
   ]
  },
  {
   "cell_type": "code",
   "execution_count": 27,
   "id": "39035587-f2dd-4b10-92e1-f2407298bee8",
   "metadata": {},
   "outputs": [
    {
     "name": "stdout",
     "output_type": "stream",
     "text": [
      "16\n"
     ]
    }
   ],
   "source": [
    "square = lambda x: x**2\n",
    "print(square(4))"
   ]
  },
  {
   "cell_type": "code",
   "execution_count": 29,
   "id": "fc01ab22-8974-43d7-b41e-6f175f9c6ad2",
   "metadata": {},
   "outputs": [
    {
     "name": "stdout",
     "output_type": "stream",
     "text": [
      "6\n"
     ]
    }
   ],
   "source": [
    "tot = lambda x,y,z: x+y+z\n",
    "print(tot(1,2,3))"
   ]
  },
  {
   "cell_type": "markdown",
   "id": "8de82ff6-8893-47b1-b4f1-2be5ae6f69f4",
   "metadata": {},
   "source": [
    "### Anonymous Functions"
   ]
  },
  {
   "cell_type": "code",
   "execution_count": 36,
   "id": "6c0228f6-5d96-409f-96c1-1a42361c8e73",
   "metadata": {},
   "outputs": [
    {
     "name": "stdout",
     "output_type": "stream",
     "text": [
      "[1, 4, 9]\n"
     ]
    }
   ],
   "source": [
    "number_list = [1,2,3]\n",
    "y = map(lambda x:x**2, number_list)\n",
    "print(list(y))"
   ]
  },
  {
   "cell_type": "markdown",
   "id": "6a65f8c6-6653-41bc-9a49-7d20d521a64c",
   "metadata": {},
   "source": [
    "### Iterator"
   ]
  },
  {
   "cell_type": "code",
   "execution_count": 39,
   "id": "58670449-acb0-428b-ad78-4b059f02abea",
   "metadata": {},
   "outputs": [
    {
     "name": "stdout",
     "output_type": "stream",
     "text": [
      "r\n"
     ]
    }
   ],
   "source": [
    "name = 'ronaldo'\n",
    "it = iter(name)\n",
    "print(next(it))"
   ]
  },
  {
   "cell_type": "code",
   "execution_count": 41,
   "id": "8fa8cb88-037f-4638-83ce-fc4ec4967360",
   "metadata": {},
   "outputs": [
    {
     "name": "stdout",
     "output_type": "stream",
     "text": [
      "o n a l d o\n"
     ]
    }
   ],
   "source": [
    "print(*it)"
   ]
  },
  {
   "cell_type": "markdown",
   "id": "9e1ebfdc-0867-4993-83c4-61e91aeaaa86",
   "metadata": {},
   "source": [
    "### Zip()"
   ]
  },
  {
   "cell_type": "code",
   "execution_count": 46,
   "id": "43786cbf-d666-460f-a2de-9bbb9f0fadfb",
   "metadata": {},
   "outputs": [
    {
     "name": "stdout",
     "output_type": "stream",
     "text": [
      "<zip object at 0x73c3184a50c0>\n"
     ]
    }
   ],
   "source": [
    "list1 = [1,2,3,4]\n",
    "list2 = [5,6,7,8]\n",
    "\n",
    "z = zip(list1, list2)\n",
    "print(z)"
   ]
  },
  {
   "cell_type": "code",
   "execution_count": 48,
   "id": "37a77180-52af-49b3-97b9-1585b3573831",
   "metadata": {},
   "outputs": [
    {
     "name": "stdout",
     "output_type": "stream",
     "text": [
      "[(1, 5), (2, 6), (3, 7), (4, 8)]\n"
     ]
    }
   ],
   "source": [
    "z_list = list(z)\n",
    "print(z_list)"
   ]
  },
  {
   "cell_type": "code",
   "execution_count": 50,
   "id": "bfc9e4bd-fe95-4d2c-b959-0909231f5ba0",
   "metadata": {},
   "outputs": [
    {
     "name": "stdout",
     "output_type": "stream",
     "text": [
      "(1, 2, 3, 4)\n",
      "(5, 6, 7, 8)\n"
     ]
    }
   ],
   "source": [
    "un_zip = zip(*z_list)\n",
    "un_list1, un_list2 = list(un_zip)\n",
    "print(un_list1)\n",
    "print(un_list2)"
   ]
  },
  {
   "cell_type": "code",
   "execution_count": 52,
   "id": "3b5486d8-e30c-44ed-9c97-4c43203ec67d",
   "metadata": {},
   "outputs": [
    {
     "name": "stdout",
     "output_type": "stream",
     "text": [
      "<class 'tuple'>\n"
     ]
    }
   ],
   "source": [
    "print(type(un_list2))"
   ]
  },
  {
   "cell_type": "markdown",
   "id": "3ce945ca-0386-4725-a6ce-65bb39a5f448",
   "metadata": {},
   "source": [
    "### LIST COMPREHENSION"
   ]
  },
  {
   "cell_type": "code",
   "execution_count": 55,
   "id": "99611820-75ec-4d1f-b052-9493a42cae15",
   "metadata": {},
   "outputs": [
    {
     "name": "stdout",
     "output_type": "stream",
     "text": [
      "[2, 3, 4]\n"
     ]
    }
   ],
   "source": [
    "num1 = [1,2,3]\n",
    "num2 = [i + 1 for i in num1]\n",
    "print(num2)"
   ]
  },
  {
   "cell_type": "code",
   "execution_count": 57,
   "id": "84112e4a-fe0d-4fc3-bfb7-728592c213a3",
   "metadata": {},
   "outputs": [
    {
     "name": "stdout",
     "output_type": "stream",
     "text": [
      "[0, 100, 20]\n"
     ]
    }
   ],
   "source": [
    "num1 = [5,10,15]\n",
    "num2 = [i**2 if i==10 else i-5 if i<7 else i+5 for i in num1]\n",
    "print(num2)"
   ]
  },
  {
   "cell_type": "code",
   "execution_count": 59,
   "id": "4b1336eb-2609-4345-b14c-301abf484ebd",
   "metadata": {},
   "outputs": [],
   "source": [
    "import pandas as pd"
   ]
  },
  {
   "cell_type": "code",
   "execution_count": 61,
   "id": "eda05ac9-93f9-4582-bffa-5a79e0f453bc",
   "metadata": {},
   "outputs": [],
   "source": [
    "data = pd.read_csv('Pokemon.csv')"
   ]
  },
  {
   "cell_type": "code",
   "execution_count": 63,
   "id": "941dadc9-c76d-4641-9499-c9bd03ec8153",
   "metadata": {},
   "outputs": [
    {
     "data": {
      "text/plain": [
       "0       low\n",
       "1       low\n",
       "2      high\n",
       "3      high\n",
       "4       low\n",
       "       ... \n",
       "795     low\n",
       "796    high\n",
       "797    high\n",
       "798    high\n",
       "799    high\n",
       "Name: speed_level, Length: 800, dtype: object"
      ]
     },
     "execution_count": 63,
     "metadata": {},
     "output_type": "execute_result"
    }
   ],
   "source": [
    "threshold = sum(data.Speed)/len(data.Speed)\n",
    "data['speed_level'] = ['high' if i>threshold else \"low\" for i in data.Speed]\n",
    "data['speed_level']"
   ]
  },
  {
   "cell_type": "code",
   "execution_count": 67,
   "id": "c783ab1f-a7b7-41e4-8606-7813f8ddffd0",
   "metadata": {},
   "outputs": [
    {
     "data": {
      "text/html": [
       "<div>\n",
       "<style scoped>\n",
       "    .dataframe tbody tr th:only-of-type {\n",
       "        vertical-align: middle;\n",
       "    }\n",
       "\n",
       "    .dataframe tbody tr th {\n",
       "        vertical-align: top;\n",
       "    }\n",
       "\n",
       "    .dataframe thead th {\n",
       "        text-align: right;\n",
       "    }\n",
       "</style>\n",
       "<table border=\"1\" class=\"dataframe\">\n",
       "  <thead>\n",
       "    <tr style=\"text-align: right;\">\n",
       "      <th></th>\n",
       "      <th>speed_level</th>\n",
       "      <th>Speed</th>\n",
       "    </tr>\n",
       "  </thead>\n",
       "  <tbody>\n",
       "    <tr>\n",
       "      <th>0</th>\n",
       "      <td>low</td>\n",
       "      <td>45</td>\n",
       "    </tr>\n",
       "    <tr>\n",
       "      <th>1</th>\n",
       "      <td>low</td>\n",
       "      <td>60</td>\n",
       "    </tr>\n",
       "    <tr>\n",
       "      <th>2</th>\n",
       "      <td>high</td>\n",
       "      <td>80</td>\n",
       "    </tr>\n",
       "    <tr>\n",
       "      <th>3</th>\n",
       "      <td>high</td>\n",
       "      <td>80</td>\n",
       "    </tr>\n",
       "    <tr>\n",
       "      <th>4</th>\n",
       "      <td>low</td>\n",
       "      <td>65</td>\n",
       "    </tr>\n",
       "    <tr>\n",
       "      <th>5</th>\n",
       "      <td>high</td>\n",
       "      <td>80</td>\n",
       "    </tr>\n",
       "    <tr>\n",
       "      <th>6</th>\n",
       "      <td>high</td>\n",
       "      <td>100</td>\n",
       "    </tr>\n",
       "    <tr>\n",
       "      <th>7</th>\n",
       "      <td>high</td>\n",
       "      <td>100</td>\n",
       "    </tr>\n",
       "    <tr>\n",
       "      <th>8</th>\n",
       "      <td>high</td>\n",
       "      <td>100</td>\n",
       "    </tr>\n",
       "    <tr>\n",
       "      <th>9</th>\n",
       "      <td>low</td>\n",
       "      <td>43</td>\n",
       "    </tr>\n",
       "    <tr>\n",
       "      <th>10</th>\n",
       "      <td>low</td>\n",
       "      <td>58</td>\n",
       "    </tr>\n",
       "  </tbody>\n",
       "</table>\n",
       "</div>"
      ],
      "text/plain": [
       "   speed_level  Speed\n",
       "0          low     45\n",
       "1          low     60\n",
       "2         high     80\n",
       "3         high     80\n",
       "4          low     65\n",
       "5         high     80\n",
       "6         high    100\n",
       "7         high    100\n",
       "8         high    100\n",
       "9          low     43\n",
       "10         low     58"
      ]
     },
     "execution_count": 67,
     "metadata": {},
     "output_type": "execute_result"
    }
   ],
   "source": [
    "data.loc[:10,['speed_level','Speed']]"
   ]
  },
  {
   "cell_type": "code",
   "execution_count": 69,
   "id": "4082cedd-e827-4f76-9b74-ef026d168e35",
   "metadata": {},
   "outputs": [
    {
     "data": {
      "text/plain": [
       "68.2775"
      ]
     },
     "execution_count": 69,
     "metadata": {},
     "output_type": "execute_result"
    }
   ],
   "source": [
    "threshold"
   ]
  },
  {
   "cell_type": "code",
   "execution_count": null,
   "id": "570d3239-df1a-418b-86d8-8623fb4189aa",
   "metadata": {},
   "outputs": [],
   "source": []
  }
 ],
 "metadata": {
  "kernelspec": {
   "display_name": "Python [conda env:base] *",
   "language": "python",
   "name": "conda-base-py"
  },
  "language_info": {
   "codemirror_mode": {
    "name": "ipython",
    "version": 3
   },
   "file_extension": ".py",
   "mimetype": "text/x-python",
   "name": "python",
   "nbconvert_exporter": "python",
   "pygments_lexer": "ipython3",
   "version": "3.12.7"
  }
 },
 "nbformat": 4,
 "nbformat_minor": 5
}
