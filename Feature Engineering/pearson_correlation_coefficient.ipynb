{
 "cells": [
  {
   "cell_type": "code",
   "execution_count": 13,
   "id": "b0cb7341-a02f-47f2-936d-42b52a44aae3",
   "metadata": {},
   "outputs": [
    {
     "data": {
      "text/plain": [
       "-0.9138115486202569"
      ]
     },
     "execution_count": 13,
     "metadata": {},
     "output_type": "execute_result"
    }
   ],
   "source": [
    "import numpy as np\n",
    "\n",
    "# Define the two datasets\n",
    "X = [1, 2, 3, 4, 5]\n",
    "Y = [10,9,6,7,2]\n",
    "\n",
    "# Calculate the Pearson correlation coefficient\n",
    "correlation = np.corrcoef(X, Y)[0, 1]\n",
    "\n",
    "correlation\n"
   ]
  },
  {
   "cell_type": "code",
   "execution_count": null,
   "id": "ebabcfd7-3032-4d1b-a956-c904c218dc73",
   "metadata": {},
   "outputs": [],
   "source": []
  }
 ],
 "metadata": {
  "kernelspec": {
   "display_name": "Python [conda env:base] *",
   "language": "python",
   "name": "conda-base-py"
  },
  "language_info": {
   "codemirror_mode": {
    "name": "ipython",
    "version": 3
   },
   "file_extension": ".py",
   "mimetype": "text/x-python",
   "name": "python",
   "nbconvert_exporter": "python",
   "pygments_lexer": "ipython3",
   "version": "3.12.7"
  }
 },
 "nbformat": 4,
 "nbformat_minor": 5
}
