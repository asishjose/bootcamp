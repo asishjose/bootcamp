{
 "cells": [
  {
   "cell_type": "markdown",
   "id": "6b3ca52c-a53f-473a-a01d-d30660e0e55f",
   "metadata": {},
   "source": [
    "### using a list as stack"
   ]
  },
  {
   "cell_type": "code",
   "execution_count": 2,
   "id": "a93bec94-86ed-4c05-9bfe-23f9e17f38ad",
   "metadata": {},
   "outputs": [],
   "source": [
    "s = []\n",
    "s.append('https://www.cnn.com/')\n",
    "s.append('https://www.cnn.com/world')\n",
    "s.append('https://www.cnn.com/india')\n",
    "s.append('https://www.cnn.com/china')"
   ]
  },
  {
   "cell_type": "code",
   "execution_count": 3,
   "id": "77d4ea9c-ccae-4dff-be35-ef445388f58c",
   "metadata": {},
   "outputs": [
    {
     "data": {
      "text/plain": [
       "'https://www.cnn.com/china'"
      ]
     },
     "execution_count": 3,
     "metadata": {},
     "output_type": "execute_result"
    }
   ],
   "source": [
    "s.pop()"
   ]
  },
  {
   "cell_type": "code",
   "execution_count": 4,
   "id": "6022f40b-563e-4cd4-90fa-3c04db95be55",
   "metadata": {},
   "outputs": [
    {
     "data": {
      "text/plain": [
       "'https://www.cnn.com/india'"
      ]
     },
     "execution_count": 4,
     "metadata": {},
     "output_type": "execute_result"
    }
   ],
   "source": [
    "s.pop()"
   ]
  },
  {
   "cell_type": "code",
   "execution_count": 5,
   "id": "82ebd4a6-0b5f-4e9f-bec1-1ab9ff06f7a8",
   "metadata": {},
   "outputs": [
    {
     "data": {
      "text/plain": [
       "['https://www.cnn.com/', 'https://www.cnn.com/world']"
      ]
     },
     "execution_count": 5,
     "metadata": {},
     "output_type": "execute_result"
    }
   ],
   "source": [
    "s"
   ]
  },
  {
   "cell_type": "code",
   "execution_count": 6,
   "id": "e2c74f3e-ad21-4781-84af-fd573c4e307d",
   "metadata": {},
   "outputs": [
    {
     "data": {
      "text/plain": [
       "'https://www.cnn.com/world'"
      ]
     },
     "execution_count": 6,
     "metadata": {},
     "output_type": "execute_result"
    }
   ],
   "source": [
    "s[-1]"
   ]
  },
  {
   "cell_type": "markdown",
   "id": "00bfba31-95ed-4529-b414-5b1bbc8ad4fe",
   "metadata": {},
   "source": [
    "The issue with using a list as a stack is that list uses dymanic array internally and when it reaches its capacity it will reallocate a big chunk of memory somewhere else in memory area and copy all the elements. For example in below diagram if a list has a capacity of 10 and we try to insert 11th element, it will not allocate new memory in a different memory region, copy all 10 elements and then insert the 11th element. So overhead here is (1) allocate new memory plus (2) copy all existing elements in new memory area"
   ]
  },
  {
   "cell_type": "markdown",
   "id": "d2c0bf97-5002-43a2-9ba3-df40cd4f6de9",
   "metadata": {},
   "source": [
    "# Using Deque as Stack"
   ]
  },
  {
   "cell_type": "code",
   "execution_count": 9,
   "id": "76bf3f24-ebcf-4ea8-9a03-06ba738fbc3f",
   "metadata": {},
   "outputs": [],
   "source": [
    "from collections import deque\n",
    "stack = deque()"
   ]
  },
  {
   "cell_type": "code",
   "execution_count": 10,
   "id": "46c113a2-238a-4150-b09e-147edee21710",
   "metadata": {},
   "outputs": [
    {
     "data": {
      "text/plain": [
       "['__add__',\n",
       " '__class__',\n",
       " '__class_getitem__',\n",
       " '__contains__',\n",
       " '__copy__',\n",
       " '__delattr__',\n",
       " '__delitem__',\n",
       " '__dir__',\n",
       " '__doc__',\n",
       " '__eq__',\n",
       " '__format__',\n",
       " '__ge__',\n",
       " '__getattribute__',\n",
       " '__getitem__',\n",
       " '__getstate__',\n",
       " '__gt__',\n",
       " '__hash__',\n",
       " '__iadd__',\n",
       " '__imul__',\n",
       " '__init__',\n",
       " '__init_subclass__',\n",
       " '__iter__',\n",
       " '__le__',\n",
       " '__len__',\n",
       " '__lt__',\n",
       " '__module__',\n",
       " '__mul__',\n",
       " '__ne__',\n",
       " '__new__',\n",
       " '__reduce__',\n",
       " '__reduce_ex__',\n",
       " '__repr__',\n",
       " '__reversed__',\n",
       " '__rmul__',\n",
       " '__setattr__',\n",
       " '__setitem__',\n",
       " '__sizeof__',\n",
       " '__str__',\n",
       " '__subclasshook__',\n",
       " 'append',\n",
       " 'appendleft',\n",
       " 'clear',\n",
       " 'copy',\n",
       " 'count',\n",
       " 'extend',\n",
       " 'extendleft',\n",
       " 'index',\n",
       " 'insert',\n",
       " 'maxlen',\n",
       " 'pop',\n",
       " 'popleft',\n",
       " 'remove',\n",
       " 'reverse',\n",
       " 'rotate']"
      ]
     },
     "execution_count": 10,
     "metadata": {},
     "output_type": "execute_result"
    }
   ],
   "source": [
    "dir(stack)"
   ]
  },
  {
   "cell_type": "code",
   "execution_count": 11,
   "id": "21ba51ae-0f0d-471b-b205-bc96df6ead3f",
   "metadata": {},
   "outputs": [
    {
     "data": {
      "text/plain": [
       "deque(['https://www.cnn.com/'])"
      ]
     },
     "execution_count": 11,
     "metadata": {},
     "output_type": "execute_result"
    }
   ],
   "source": [
    "stack.append(\"https://www.cnn.com/\")\n",
    "stack"
   ]
  },
  {
   "cell_type": "code",
   "execution_count": 12,
   "id": "2edb3466-d86a-4113-8eb6-64b6f152200f",
   "metadata": {},
   "outputs": [
    {
     "data": {
      "text/plain": [
       "deque(['https://www.cnn.com/',\n",
       "       'https://www.cnn.com/world',\n",
       "       'https://www.cnn.com/india',\n",
       "       'https://www.cnn.com/china'])"
      ]
     },
     "execution_count": 12,
     "metadata": {},
     "output_type": "execute_result"
    }
   ],
   "source": [
    "stack.append(\"https://www.cnn.com/world\")\n",
    "stack.append(\"https://www.cnn.com/india\")\n",
    "stack.append(\"https://www.cnn.com/china\")\n",
    "stack"
   ]
  },
  {
   "cell_type": "code",
   "execution_count": 13,
   "id": "a66640cd-6768-43c5-9099-251359ace090",
   "metadata": {},
   "outputs": [
    {
     "data": {
      "text/plain": [
       "'https://www.cnn.com/china'"
      ]
     },
     "execution_count": 13,
     "metadata": {},
     "output_type": "execute_result"
    }
   ],
   "source": [
    "stack.pop()"
   ]
  },
  {
   "cell_type": "code",
   "execution_count": 30,
   "id": "bb4c1f25-4df7-4b01-8d7c-590b26e656c6",
   "metadata": {},
   "outputs": [
    {
     "data": {
      "text/plain": [
       "deque(['https://www.cnn.com/',\n",
       "       'https://www.cnn.com/world',\n",
       "       'https://www.cnn.com/india'])"
      ]
     },
     "execution_count": 30,
     "metadata": {},
     "output_type": "execute_result"
    }
   ],
   "source": [
    "stack"
   ]
  },
  {
   "cell_type": "markdown",
   "id": "b2808f69-7310-4887-b9dd-4481eeb4e992",
   "metadata": {},
   "source": [
    "# Implement Stack using Queue"
   ]
  },
  {
   "cell_type": "code",
   "execution_count": 51,
   "id": "299c57be-eafc-4786-9ae6-5449aa9d8ddf",
   "metadata": {},
   "outputs": [],
   "source": [
    "class Stack:\n",
    "    def __init__(self):\n",
    "        self.container = deque()\n",
    "    def push(self,val):\n",
    "        self.container.append(val)\n",
    "    def pop(self):\n",
    "        return self.container.pop()\n",
    "    def peek(self):\n",
    "        return self.container[-1]\n",
    "    def is_empty(self):\n",
    "        return len(self.container)==0\n",
    "    def size(self):\n",
    "        return len(self.container)"
   ]
  },
  {
   "cell_type": "code",
   "execution_count": 61,
   "id": "d1e2b8b3-9dae-4e79-bf9f-f82d24578141",
   "metadata": {},
   "outputs": [],
   "source": [
    "s = Stack()\n",
    "s.push(5)\n"
   ]
  },
  {
   "cell_type": "code",
   "execution_count": 63,
   "id": "216f0080-bdf4-4a2c-bfd6-c1da789432b9",
   "metadata": {},
   "outputs": [
    {
     "data": {
      "text/plain": [
       "False"
      ]
     },
     "execution_count": 63,
     "metadata": {},
     "output_type": "execute_result"
    }
   ],
   "source": [
    "s.is_empty()"
   ]
  },
  {
   "cell_type": "code",
   "execution_count": 65,
   "id": "fdf3b397-8c3b-4938-bc99-7c5a8a0ac471",
   "metadata": {},
   "outputs": [
    {
     "data": {
      "text/plain": [
       "5"
      ]
     },
     "execution_count": 65,
     "metadata": {},
     "output_type": "execute_result"
    }
   ],
   "source": [
    "s.pop()"
   ]
  },
  {
   "cell_type": "code",
   "execution_count": 67,
   "id": "019cc9de-57be-48e4-af53-a59af6ef40ee",
   "metadata": {},
   "outputs": [
    {
     "data": {
      "text/plain": [
       "True"
      ]
     },
     "execution_count": 67,
     "metadata": {},
     "output_type": "execute_result"
    }
   ],
   "source": [
    "s.is_empty()"
   ]
  },
  {
   "cell_type": "code",
   "execution_count": 69,
   "id": "132cf790-69c4-464e-8d3c-bfd7d06af4f7",
   "metadata": {},
   "outputs": [],
   "source": [
    "s.push(9)\n",
    "s.push(34)\n",
    "s.push(78)\n",
    "s.push(12)"
   ]
  },
  {
   "cell_type": "code",
   "execution_count": 79,
   "id": "201b2863-de13-4b3b-9902-eeb43ec38ae0",
   "metadata": {},
   "outputs": [
    {
     "data": {
      "text/plain": [
       "12"
      ]
     },
     "execution_count": 79,
     "metadata": {},
     "output_type": "execute_result"
    }
   ],
   "source": [
    "s.peek()"
   ]
  },
  {
   "cell_type": "code",
   "execution_count": 83,
   "id": "7f308c01-fd43-4353-985d-e73ff1e03a06",
   "metadata": {},
   "outputs": [
    {
     "data": {
      "text/plain": [
       "12"
      ]
     },
     "execution_count": 83,
     "metadata": {},
     "output_type": "execute_result"
    }
   ],
   "source": [
    "s.pop()"
   ]
  },
  {
   "cell_type": "code",
   "execution_count": 89,
   "id": "78c57746-0521-4c04-8d82-f9ca59bd2f99",
   "metadata": {},
   "outputs": [
    {
     "data": {
      "text/plain": [
       "78"
      ]
     },
     "execution_count": 89,
     "metadata": {},
     "output_type": "execute_result"
    }
   ],
   "source": [
    "s.pop()\n"
   ]
  },
  {
   "cell_type": "code",
   "execution_count": 91,
   "id": "14a700de-6d6a-4ed6-89b8-8ac1a9225b0e",
   "metadata": {},
   "outputs": [
    {
     "data": {
      "text/plain": [
       "34"
      ]
     },
     "execution_count": 91,
     "metadata": {},
     "output_type": "execute_result"
    }
   ],
   "source": [
    "s.pop()"
   ]
  },
  {
   "cell_type": "code",
   "execution_count": 93,
   "id": "5b2fc8f4-46a9-4a91-8691-67fc88cf865a",
   "metadata": {},
   "outputs": [
    {
     "data": {
      "text/plain": [
       "9"
      ]
     },
     "execution_count": 93,
     "metadata": {},
     "output_type": "execute_result"
    }
   ],
   "source": [
    "s.pop()"
   ]
  },
  {
   "cell_type": "code",
   "execution_count": 95,
   "id": "74c35fc2-e1a6-4f6b-989f-73fcf2e7d21b",
   "metadata": {},
   "outputs": [
    {
     "ename": "IndexError",
     "evalue": "pop from an empty deque",
     "output_type": "error",
     "traceback": [
      "\u001b[1;31m---------------------------------------------------------------------------\u001b[0m",
      "\u001b[1;31mIndexError\u001b[0m                                Traceback (most recent call last)",
      "Cell \u001b[1;32mIn[95], line 1\u001b[0m\n\u001b[1;32m----> 1\u001b[0m s\u001b[38;5;241m.\u001b[39mpop()\n",
      "Cell \u001b[1;32mIn[51], line 7\u001b[0m, in \u001b[0;36mStack.pop\u001b[1;34m(self)\u001b[0m\n\u001b[0;32m      6\u001b[0m \u001b[38;5;28;01mdef\u001b[39;00m \u001b[38;5;21mpop\u001b[39m(\u001b[38;5;28mself\u001b[39m):\n\u001b[1;32m----> 7\u001b[0m     \u001b[38;5;28;01mreturn\u001b[39;00m \u001b[38;5;28mself\u001b[39m\u001b[38;5;241m.\u001b[39mcontainer\u001b[38;5;241m.\u001b[39mpop()\n",
      "\u001b[1;31mIndexError\u001b[0m: pop from an empty deque"
     ]
    }
   ],
   "source": [
    "s.pop()"
   ]
  },
  {
   "cell_type": "code",
   "execution_count": null,
   "id": "1464c0f3-2ea3-4d23-bc8e-7daf82f0745b",
   "metadata": {},
   "outputs": [],
   "source": []
  },
  {
   "cell_type": "code",
   "execution_count": null,
   "id": "5cc685f2-15a1-4a62-b160-524c7ede8030",
   "metadata": {},
   "outputs": [],
   "source": []
  },
  {
   "cell_type": "code",
   "execution_count": null,
   "id": "aa61aa45-3c57-4d74-857b-5bdea7e57332",
   "metadata": {},
   "outputs": [],
   "source": []
  },
  {
   "cell_type": "code",
   "execution_count": null,
   "id": "7b0ee5dd-7716-4cc6-b3ae-54f991efba87",
   "metadata": {},
   "outputs": [],
   "source": []
  },
  {
   "cell_type": "code",
   "execution_count": null,
   "id": "1a92e2d9-90eb-43d7-80d1-06035080dd66",
   "metadata": {},
   "outputs": [],
   "source": []
  },
  {
   "cell_type": "code",
   "execution_count": null,
   "id": "6ce38d7a-c1ab-4c50-a9df-080eba8fdff4",
   "metadata": {},
   "outputs": [],
   "source": []
  },
  {
   "cell_type": "code",
   "execution_count": null,
   "id": "1e73808d-2f56-4430-9d42-2f1656809131",
   "metadata": {},
   "outputs": [],
   "source": []
  },
  {
   "cell_type": "code",
   "execution_count": null,
   "id": "45f4d316-489d-46e2-80a2-2a75c84dc0ce",
   "metadata": {},
   "outputs": [],
   "source": []
  },
  {
   "cell_type": "code",
   "execution_count": null,
   "id": "ec5e96d7-16d9-484a-a772-e7435f1599d3",
   "metadata": {},
   "outputs": [],
   "source": []
  },
  {
   "cell_type": "code",
   "execution_count": null,
   "id": "995e0a1f-3475-4687-8007-fc35bb6c910c",
   "metadata": {},
   "outputs": [],
   "source": []
  }
 ],
 "metadata": {
  "kernelspec": {
   "display_name": "Python [conda env:base] *",
   "language": "python",
   "name": "conda-base-py"
  },
  "language_info": {
   "codemirror_mode": {
    "name": "ipython",
    "version": 3
   },
   "file_extension": ".py",
   "mimetype": "text/x-python",
   "name": "python",
   "nbconvert_exporter": "python",
   "pygments_lexer": "ipython3",
   "version": "3.12.7"
  }
 },
 "nbformat": 4,
 "nbformat_minor": 5
}
