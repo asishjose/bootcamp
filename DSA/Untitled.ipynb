{
 "cells": [
  {
   "cell_type": "code",
   "execution_count": 8,
   "id": "1c3cf762-bff6-4c81-9b9f-f5d24b6dfd58",
   "metadata": {},
   "outputs": [
    {
     "name": "stdout",
     "output_type": "stream",
     "text": [
      "['{']\n",
      "['{', '[']\n",
      "['{', '[', '(']\n",
      "['{', '[']\n",
      "['{']\n",
      "[]\n"
     ]
    }
   ],
   "source": [
    "arr = ['{','[','(',')',']','}']\n",
    "stack = []\n",
    "\n",
    "n = len(arr)\n",
    "for i in range(n):\n",
    "    if arr[i] in ['{','[','(']:\n",
    "        stack.append(arr[i])\n",
    "    else:\n",
    "        top = stack.pop()\n",
    "        #if top == arr[i]:\n",
    "\n",
    "    print(stack)\n",
    "            "
   ]
  },
  {
   "cell_type": "code",
   "execution_count": null,
   "id": "20459d1b-3876-45d8-a0e3-5a58a8587c53",
   "metadata": {},
   "outputs": [],
   "source": []
  }
 ],
 "metadata": {
  "kernelspec": {
   "display_name": "Python [conda env:base] *",
   "language": "python",
   "name": "conda-base-py"
  },
  "language_info": {
   "codemirror_mode": {
    "name": "ipython",
    "version": 3
   },
   "file_extension": ".py",
   "mimetype": "text/x-python",
   "name": "python",
   "nbconvert_exporter": "python",
   "pygments_lexer": "ipython3",
   "version": "3.12.7"
  }
 },
 "nbformat": 4,
 "nbformat_minor": 5
}
