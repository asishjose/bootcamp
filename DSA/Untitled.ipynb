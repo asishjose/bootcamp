{
 "cells": [
  {
   "cell_type": "code",
   "execution_count": 1,
   "id": "1c3cf762-bff6-4c81-9b9f-f5d24b6dfd58",
   "metadata": {},
   "outputs": [
    {
     "name": "stdout",
     "output_type": "stream",
     "text": [
      "[5, 4, 3, 2, 1]\n"
     ]
    }
   ],
   "source": [
    "arr = [1,2,3,4,5]\n",
    "\n",
    "n = len(arr)-1\n",
    "\n",
    "for i in range(len(arr)//2):\n",
    "    arr[i], arr[n-i] = arr[n-i],arr[i]\n",
    "\n",
    "print(arr)\n",
    "    "
   ]
  },
  {
   "cell_type": "code",
   "execution_count": 14,
   "id": "20459d1b-3876-45d8-a0e3-5a58a8587c53",
   "metadata": {},
   "outputs": [
    {
     "name": "stdout",
     "output_type": "stream",
     "text": [
      "Node not found\n",
      "5 -> 10 -> 20 -> 30 -> 40 -> 50 -> None\n"
     ]
    }
   ],
   "source": [
    "class Node:\n",
    "    def __init__(self, data):\n",
    "        self.data = data\n",
    "        self.ref  = None\n",
    "class LinkedList:\n",
    "    def __init__(self):\n",
    "        self.head = None\n",
    "\n",
    "    def add_begin(self,data):\n",
    "        new_node = Node(data)\n",
    "        new_node.ref = self.head\n",
    "        self.head = new_node\n",
    "\n",
    "    def add_end(self,data):\n",
    "        new_node = Node(data)\n",
    "        if self.head is None:\n",
    "            self.head  = new_node\n",
    "            return\n",
    "        n = self.head\n",
    "        while n.ref is not None:\n",
    "            n = n.ref\n",
    "        n.ref = new_node\n",
    "\n",
    "    def delete(self,x):\n",
    "        if self.head.data == x:\n",
    "            self.head = self.head.ref\n",
    "        n = self.head\n",
    "        while n.ref is not None:\n",
    "            if x == n.ref.data:\n",
    "                break\n",
    "            n = n.ref\n",
    "\n",
    "        if n.ref is None:\n",
    "            print(\"Node not found\")\n",
    "        else:\n",
    "            n.ref = n.ref.ref\n",
    "\n",
    "    def display(self):\n",
    "        n = self.head\n",
    "        while n is not None:\n",
    "            print(n.data, end = \" -> \")\n",
    "            n = n.ref\n",
    "        print(\"None\")\n",
    "\n",
    "ll = LinkedList()\n",
    "ll.add_begin(10)\n",
    "ll.add_begin(5)\n",
    "ll.add_begin(4)\n",
    "ll.add_end(20)\n",
    "ll.add_end(30)\n",
    "ll.add_end(40)\n",
    "ll.add_end(50)\n",
    "ll.delete(4)\n",
    "\n",
    "\n",
    "\n",
    "ll.display()        \n",
    "        "
   ]
  },
  {
   "cell_type": "code",
   "execution_count": null,
   "id": "82affb03-223b-41bd-9678-068f82ae8957",
   "metadata": {},
   "outputs": [],
   "source": []
  },
  {
   "cell_type": "code",
   "execution_count": null,
   "id": "a155154a-afb9-47ee-8c2e-df8d1bff78ac",
   "metadata": {},
   "outputs": [],
   "source": []
  },
  {
   "cell_type": "code",
   "execution_count": null,
   "id": "408a58cd-ab13-4eb9-95aa-f8a82a65f891",
   "metadata": {},
   "outputs": [],
   "source": []
  }
 ],
 "metadata": {
  "kernelspec": {
   "display_name": "Python [conda env:base] *",
   "language": "python",
   "name": "conda-base-py"
  },
  "language_info": {
   "codemirror_mode": {
    "name": "ipython",
    "version": 3
   },
   "file_extension": ".py",
   "mimetype": "text/x-python",
   "name": "python",
   "nbconvert_exporter": "python",
   "pygments_lexer": "ipython3",
   "version": "3.12.7"
  }
 },
 "nbformat": 4,
 "nbformat_minor": 5
}
