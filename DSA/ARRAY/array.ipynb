{
 "cells": [
  {
   "cell_type": "code",
   "execution_count": 8,
   "id": "4c35b3c0-5612-4004-a66d-fa35462f222a",
   "metadata": {},
   "outputs": [
    {
     "name": "stdout",
     "output_type": "stream",
     "text": [
      "[5, 4, 3, 2, 1]\n"
     ]
    }
   ],
   "source": [
    "def reverse_array(arr):\n",
    "    left, right = 0, len(arr)-1\n",
    "    while left<right:\n",
    "        arr[left], arr[right] = arr[right], arr[left]\n",
    "        left += 1\n",
    "        right -= 1\n",
    "    return arr\n",
    "\n",
    "print(reverse_array([1,2,3,4,5]))"
   ]
  },
  {
   "cell_type": "code",
   "execution_count": 12,
   "id": "a2e4b896-f03a-460e-983b-ed9891a995c2",
   "metadata": {},
   "outputs": [
    {
     "name": "stdout",
     "output_type": "stream",
     "text": [
      "[5, 4, 3, 2, 1]\n"
     ]
    }
   ],
   "source": [
    "arr = [1,2,3,4,5]\n",
    "\n",
    "n = len(arr)\n",
    "for i in range(n//2):\n",
    "    arr[i],arr[n-i-1] = arr[n-i-1],arr[i]\n",
    "print(arr)"
   ]
  },
  {
   "cell_type": "markdown",
   "id": "0aa8273d-af93-439b-b637-4bef5ef3f491",
   "metadata": {},
   "source": [
    "second largest element"
   ]
  },
  {
   "cell_type": "code",
   "execution_count": 23,
   "id": "a4256519-c2ab-4cc0-950b-fc3dc383fc2b",
   "metadata": {},
   "outputs": [
    {
     "name": "stdout",
     "output_type": "stream",
     "text": [
      "99 45\n"
     ]
    }
   ],
   "source": [
    "arr = [10, 20, 4, 45, 99]\n",
    "first, second = 0.0, float('-inf')\n",
    "for num in arr:\n",
    "    if num > first:\n",
    "        second = first\n",
    "        first = num\n",
    "    elif num > second and num < first:\n",
    "        second = num\n",
    "print(first, second)\n",
    "        "
   ]
  },
  {
   "cell_type": "markdown",
   "id": "b6b515ba-406f-4e43-9c12-37249d83b2af",
   "metadata": {},
   "source": [
    "Rotate an Array by K Positions"
   ]
  },
  {
   "cell_type": "code",
   "execution_count": 34,
   "id": "4c709484-d159-43e6-a658-54fc981f6c70",
   "metadata": {},
   "outputs": [
    {
     "name": "stdout",
     "output_type": "stream",
     "text": [
      "[4, 5, 1, 2, 3]\n"
     ]
    }
   ],
   "source": [
    "arr = [1, 2, 3, 4, 5]\n",
    "k = 2\n",
    "\n",
    "n = len(arr)\n",
    "k = k%n\n",
    "\n",
    "result = arr[-k:]+arr[:-k]\n",
    "\n",
    "print(result)\n"
   ]
  },
  {
   "cell_type": "code",
   "execution_count": null,
   "id": "bd7a5633-629d-4b9c-9d86-0888245f8382",
   "metadata": {},
   "outputs": [],
   "source": []
  }
 ],
 "metadata": {
  "kernelspec": {
   "display_name": "Python [conda env:base] *",
   "language": "python",
   "name": "conda-base-py"
  },
  "language_info": {
   "codemirror_mode": {
    "name": "ipython",
    "version": 3
   },
   "file_extension": ".py",
   "mimetype": "text/x-python",
   "name": "python",
   "nbconvert_exporter": "python",
   "pygments_lexer": "ipython3",
   "version": "3.12.7"
  }
 },
 "nbformat": 4,
 "nbformat_minor": 5
}
