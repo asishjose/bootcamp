{
 "cells": [
  {
   "cell_type": "markdown",
   "id": "af7ce78b-3544-46d1-a618-47e8e9270f22",
   "metadata": {},
   "source": [
    "## Singly Linked List"
   ]
  },
  {
   "cell_type": "markdown",
   "id": "eb636edd-bc70-4125-934b-6269d37f6348",
   "metadata": {},
   "source": [
    "Each node has data and a next pointer"
   ]
  },
  {
   "cell_type": "code",
   "execution_count": 3,
   "id": "b4e113c7-39eb-481d-bcf6-066cf73d9224",
   "metadata": {},
   "outputs": [
    {
     "name": "stdout",
     "output_type": "stream",
     "text": [
      "Singly Linked List:\n",
      "10->20->49->30->29->None\n"
     ]
    }
   ],
   "source": [
    "class Node:\n",
    "    def __init__(self, data):\n",
    "        self.data = data\n",
    "        self.next = None\n",
    "class SinglyLinkedList:\n",
    "    def __init__(self):\n",
    "        self.head = None\n",
    "\n",
    "    def add(self, data):\n",
    "        new_node = Node(data)\n",
    "        if self.head is None:\n",
    "            self.head = new_node\n",
    "            return\n",
    "        temp = self.head\n",
    "        while temp.next:\n",
    "            temp = temp.next\n",
    "        temp.next = new_node\n",
    "    def display(self):\n",
    "        temp = self.head\n",
    "        while temp:\n",
    "            print(temp.data, end = \"->\")\n",
    "            temp = temp.next\n",
    "        print(\"None\")\n",
    "\n",
    "sll = SinglyLinkedList()\n",
    "sll.add(10)\n",
    "sll.add(20)\n",
    "sll.add(49)\n",
    "sll.add(30)\n",
    "sll.add(29)\n",
    "print(\"Singly Linked List:\")\n",
    "sll.display()"
   ]
  },
  {
   "cell_type": "markdown",
   "id": "cfbe08b2-ae3f-406e-be6b-d447dcdd4707",
   "metadata": {},
   "source": [
    "## Travesral on singly LL"
   ]
  },
  {
   "cell_type": "code",
   "execution_count": 5,
   "id": "ca2645f2-6ade-44c7-bf67-768d760dfcd0",
   "metadata": {},
   "outputs": [
    {
     "name": "stdout",
     "output_type": "stream",
     "text": [
      "Linked List is empty\n"
     ]
    }
   ],
   "source": [
    "class Node:\n",
    "    def __init__(self, data):\n",
    "        self.data = data\n",
    "        self.ref = None\n",
    "class LinkedList:\n",
    "    def __init__(self):\n",
    "        self.head = None\n",
    "\n",
    "    def print_ll(self):\n",
    "        if self.head is None:\n",
    "            print(\"Linked List is empty\")\n",
    "        else:\n",
    "            n = self.head\n",
    "            while n is not None:\n",
    "                print(n.data)\n",
    "                n = n.ref\n",
    "LL1 = LinkedList()\n",
    "LL1.print_ll()"
   ]
  },
  {
   "cell_type": "markdown",
   "id": "da55d5bf-10d0-460e-918a-61d81babe366",
   "metadata": {},
   "source": [
    "manually adding nodes to the linked list created"
   ]
  },
  {
   "cell_type": "code",
   "execution_count": 7,
   "id": "d8de6bf2-76d7-4337-86aa-f7e5444d00ee",
   "metadata": {},
   "outputs": [
    {
     "name": "stdout",
     "output_type": "stream",
     "text": [
      "10\n",
      "20\n",
      "30\n"
     ]
    }
   ],
   "source": [
    "LL1 = LinkedList()\n",
    "LL1.head = Node(10)\n",
    "second = Node(20)\n",
    "third = Node(30)\n",
    "\n",
    "LL1.head.ref = second\n",
    "second.ref = third\n",
    "\n",
    "LL1.print_ll()"
   ]
  },
  {
   "cell_type": "markdown",
   "id": "a95a15f4-366f-42c4-aeee-9149b1d1cac0",
   "metadata": {},
   "source": [
    "## insert at beginning"
   ]
  },
  {
   "cell_type": "code",
   "execution_count": 9,
   "id": "2064415e-26e1-4088-9ead-2ffcef98e031",
   "metadata": {},
   "outputs": [
    {
     "name": "stdout",
     "output_type": "stream",
     "text": [
      "30 -> 20 -> 10 -> None\n"
     ]
    }
   ],
   "source": [
    "class Node:\n",
    "    def __init__(self,data):\n",
    "        self.data = data\n",
    "        self.ref = None\n",
    "class LinkedList:\n",
    "    def __init__(self):\n",
    "        self.head = None\n",
    "\n",
    "    def insert_at_beginning(self,data):\n",
    "        new_node = Node(data)\n",
    "        new_node.ref = self.head\n",
    "        self.head = new_node\n",
    "\n",
    "    def print_list(self):\n",
    "        current = self.head\n",
    "        while current:\n",
    "            print(current.data, end = \" -> \")\n",
    "            current = current.ref\n",
    "        print(\"None\")\n",
    "\n",
    "ll = LinkedList()\n",
    "ll.insert_at_beginning(10)\n",
    "ll.insert_at_beginning(20)\n",
    "ll.insert_at_beginning(30)\n",
    "\n",
    "ll.print_list()"
   ]
  },
  {
   "cell_type": "markdown",
   "id": "c284cc00-daf5-416d-aad0-963d57d9e355",
   "metadata": {},
   "source": [
    "## insert at end"
   ]
  },
  {
   "cell_type": "code",
   "execution_count": 11,
   "id": "c8a7f01a-3b33-4c6f-98a4-686edb377799",
   "metadata": {},
   "outputs": [
    {
     "name": "stdout",
     "output_type": "stream",
     "text": [
      "10 -> 20 -> 30 -> 40 -> None\n"
     ]
    }
   ],
   "source": [
    "class Node:\n",
    "    def __init__(self,data):\n",
    "        self.data = data\n",
    "        self.ref = None\n",
    "class LinkedList:\n",
    "    def __init__(self):\n",
    "        self.head = None\n",
    "\n",
    "    def insert_at_end(self, data):\n",
    "        new_node = Node(data)\n",
    "        if self.head is None:\n",
    "            self.head = new_node\n",
    "        else:\n",
    "            n = self.head\n",
    "            while n.ref is not None:\n",
    "                n = n.ref\n",
    "            n.ref = new_node\n",
    "\n",
    "    def display(self):\n",
    "        current = self.head\n",
    "        while current:\n",
    "            print(current.data, end = \" -> \")\n",
    "            current = current.ref\n",
    "        print(\"None\")\n",
    "\n",
    "sll = LinkedList()\n",
    "sll.insert_at_end(10)\n",
    "sll.insert_at_end(20)\n",
    "sll.insert_at_end(30)\n",
    "sll.insert_at_end(40)\n",
    "\n",
    "sll.display()"
   ]
  },
  {
   "cell_type": "markdown",
   "id": "70ce03ff-4159-441f-a089-fda924157b7c",
   "metadata": {},
   "source": [
    "## insert in-between"
   ]
  },
  {
   "cell_type": "markdown",
   "id": "19c77e85-a4b7-4f38-bb50-50dbaaf618d7",
   "metadata": {},
   "source": [
    "### add_after"
   ]
  },
  {
   "cell_type": "code",
   "execution_count": 35,
   "id": "d46e1ffd-9894-4b19-bd4b-5cd73e9a4a57",
   "metadata": {},
   "outputs": [
    {
     "name": "stdout",
     "output_type": "stream",
     "text": [
      "100 -> 200 -> 500 -> 300 -> 400 -> None\n"
     ]
    }
   ],
   "source": [
    "class Node:\n",
    "    def __init__(self,data):\n",
    "        self.data = data\n",
    "        self.ref = None\n",
    "class LinkedList:\n",
    "    def __init__(self):\n",
    "        self.head = None\n",
    "\n",
    "    def insert_at_end(self, data):\n",
    "        new_node = Node(data)\n",
    "        if self.head is None:\n",
    "            self.head = new_node\n",
    "        else:\n",
    "            n = self.head\n",
    "            while n.ref is not None:\n",
    "                n = n.ref\n",
    "            n.ref = new_node\n",
    "            \n",
    "    def add_after(self,data,x):\n",
    "        n = self.head\n",
    "        while n is not None:\n",
    "            if x == n.data:\n",
    "                break\n",
    "            n = n.ref\n",
    "        if n is None:\n",
    "            print(\"Node is not present in the Linked List\")\n",
    "        else:\n",
    "            new_node = Node(data)\n",
    "            new_node.ref = n.ref\n",
    "            n.ref = new_node\n",
    "\n",
    "    def display(self):\n",
    "        current = self.head\n",
    "        while current:\n",
    "            print(current.data, end = \" -> \")\n",
    "            current = current.ref\n",
    "        print(\"None\")\n",
    "        \n",
    "sll = LinkedList()\n",
    "sll.insert_at_end(100)\n",
    "sll.insert_at_end(200)\n",
    "sll.insert_at_end(300)\n",
    "sll.insert_at_end(400)\n",
    "sll.add_after(500,200)\n",
    "sll.display()"
   ]
  },
  {
   "cell_type": "markdown",
   "id": "0157285a-1a6d-4b93-b2c3-b5047f401cdf",
   "metadata": {},
   "source": [
    "### add_before"
   ]
  },
  {
   "cell_type": "code",
   "execution_count": 62,
   "id": "93aae0d6-09e0-4474-b2a5-130227f4d466",
   "metadata": {},
   "outputs": [
    {
     "name": "stdout",
     "output_type": "stream",
     "text": [
      "100 -> 200 -> 250 -> 300 -> 400 -> None\n"
     ]
    }
   ],
   "source": [
    "class Node:\n",
    "    def __init__(self,data):\n",
    "        self.data = data\n",
    "        self.ref = None\n",
    "class LinkedList:\n",
    "    def __init__(self):\n",
    "        self.head = None\n",
    "\n",
    "    def insert_at_end(self, data):\n",
    "        new_node = Node(data)\n",
    "        if self.head is None:\n",
    "            self.head = new_node\n",
    "        else:\n",
    "            n = self.head\n",
    "            while n.ref is not None:\n",
    "                n = n.ref\n",
    "            n.ref = new_node\n",
    "#----------------------------------------------\n",
    "    def add_before(self,data,x):\n",
    "        if self.head is None:\n",
    "            print(\"Linked List is empty!\")\n",
    "            return\n",
    "        if self.head.data == x:\n",
    "            new_node = Node(data)\n",
    "            new_node.ref = self.head\n",
    "            self.head = new_node\n",
    "            return\n",
    "        n = self.head\n",
    "        while n.ref is not None:\n",
    "            if n.ref.data == x:\n",
    "                break\n",
    "            n = n.ref\n",
    "        if n.ref is None:\n",
    "            print(\"Node is not found\")\n",
    "        else:\n",
    "            new_node = Node(data)\n",
    "            new_node.ref = n.ref\n",
    "            n.ref = new_node\n",
    "#---------------------------------------------\n",
    "    def display(self):\n",
    "        current = self.head\n",
    "        while current:\n",
    "            print(current.data, end = \" -> \")\n",
    "            current = current.ref\n",
    "        print(\"None\")\n",
    "\n",
    "sll = LinkedList()\n",
    "sll.insert_at_end(100)\n",
    "sll.insert_at_end(200)\n",
    "sll.insert_at_end(300)\n",
    "sll.insert_at_end(400)\n",
    "sll.add_before(250, 300)\n",
    "sll.display()"
   ]
  },
  {
   "cell_type": "markdown",
   "id": "ffa92c4e-b07d-466b-8f5b-c50477ae336c",
   "metadata": {},
   "source": [
    "## INSERT into empty Linked List"
   ]
  },
  {
   "cell_type": "code",
   "execution_count": 69,
   "id": "96d4617d-1a91-4693-9ef4-98e5cad71e72",
   "metadata": {},
   "outputs": [
    {
     "name": "stdout",
     "output_type": "stream",
     "text": [
      "Linked List is not empty!\n",
      "100 -> None\n"
     ]
    }
   ],
   "source": [
    "class Node:\n",
    "    def __init__(self,data):\n",
    "        self.data = data\n",
    "        self.ref = None\n",
    "class LinkedList:\n",
    "    def __init__(self):\n",
    "        self.head = None\n",
    "#---------------------------------------------\n",
    "    def insert_empty(self, data):\n",
    "        if self.head is None:\n",
    "            new_node = Node(data)\n",
    "            self.head = new_node\n",
    "        else:\n",
    "            print(\"Linked List is not empty!\")\n",
    "#---------------------------------------------\n",
    "    def display(self):\n",
    "        current = self.head\n",
    "        while current:\n",
    "            print(current.data, end = \" -> \")\n",
    "            current = current.ref\n",
    "        print(\"None\")\n",
    "\n",
    "sll = LinkedList()\n",
    "sll.insert_empty(100)\n",
    "sll.insert_empty(200)\n",
    "sll.display()"
   ]
  },
  {
   "cell_type": "markdown",
   "id": "1c714d9b-8589-428b-a590-cfa87af20a7e",
   "metadata": {},
   "source": [
    "# DELETE in LINKED LISTS"
   ]
  },
  {
   "cell_type": "markdown",
   "id": "1c52381f-3bd2-42dc-841a-a07e3fa86336",
   "metadata": {},
   "source": [
    "#### Delete Begin"
   ]
  },
  {
   "cell_type": "code",
   "execution_count": 5,
   "id": "8a28d016-91b0-47a9-a64c-1dcb9c76766c",
   "metadata": {},
   "outputs": [
    {
     "name": "stdout",
     "output_type": "stream",
     "text": [
      "300 -> 400 -> None\n"
     ]
    }
   ],
   "source": [
    "class Node:\n",
    "    def __init__(self,data):\n",
    "        self.data = data\n",
    "        self.ref = None\n",
    "class LinkedList:\n",
    "    def __init__(self):\n",
    "        self.head = None\n",
    "\n",
    "    def insert_at_end(self, data):\n",
    "        new_node = Node(data)\n",
    "        if self.head is None:\n",
    "            self.head = new_node\n",
    "        else:\n",
    "            n = self.head\n",
    "            while n.ref is not None:\n",
    "                n = n.ref\n",
    "            n.ref = new_node\n",
    "#----------------------------------------\n",
    "    def delete_begin(self):\n",
    "        if self.head is None:\n",
    "            print(\"Linked List is empty!\")\n",
    "        else:\n",
    "            self.head = self.head.ref\n",
    "#------------------------------------------\n",
    "    # def display(self):\n",
    "    #     if self.head is None:\n",
    "    #         print(\"Linked List is empty!\")\n",
    "    #     else:\n",
    "    #         n = self.head\n",
    "    #         while n is not None:\n",
    "    #             print(n.data)\n",
    "    #             n = n.ref\n",
    "                \n",
    "    def display(self):\n",
    "        current = self.head\n",
    "        while current:\n",
    "            print(current.data, end = \" -> \")\n",
    "            current = current.ref\n",
    "        print(\"None\")\n",
    "         \n",
    "sll = LinkedList()\n",
    "sll.insert_at_end(100)\n",
    "sll.insert_at_end(200)\n",
    "sll.insert_at_end(300)\n",
    "sll.insert_at_end(400)\n",
    "sll.delete_begin()\n",
    "sll.delete_begin()\n",
    "sll.display()"
   ]
  },
  {
   "cell_type": "markdown",
   "id": "a059a074-1fcc-4785-ac9e-8bcaeab922d8",
   "metadata": {},
   "source": [
    "#### Delete At the End"
   ]
  },
  {
   "cell_type": "code",
   "execution_count": 15,
   "id": "9bbc9cc9-4185-4d92-970c-bcc81876e053",
   "metadata": {},
   "outputs": [
    {
     "name": "stdout",
     "output_type": "stream",
     "text": [
      "10 -> 20 -> None\n"
     ]
    }
   ],
   "source": [
    "class Node:\n",
    "    def __init__(self, data):\n",
    "        self.data = data\n",
    "        self.ref = None\n",
    "class LinkedList:\n",
    "    def __init__(self):\n",
    "        self.head = None\n",
    "\n",
    "    def insert_at_end(self, data):\n",
    "        new_node = Node(data)\n",
    "        if self.head is None:\n",
    "            self.head = new_node\n",
    "        else:\n",
    "            n = self.head\n",
    "            while n.ref is not None:\n",
    "                n = n.ref\n",
    "            n.ref = new_node    \n",
    "#--------------------------------------\n",
    "    def delete_end(self):\n",
    "        if self.head is None:\n",
    "            print(\"Linkded List is empty, so we can't just delete nodes!\")\n",
    "        elif self.head.ref is None:\n",
    "            self.head = None\n",
    "        else:\n",
    "            n = self.head\n",
    "            while n.ref.ref is not None:\n",
    "                n = n.ref\n",
    "            n.ref = None\n",
    "#----------------------------------------\n",
    "\n",
    "    def display(self):\n",
    "        current = self.head\n",
    "        while current:\n",
    "            print(current.data, end = \" -> \")\n",
    "            current = current.ref\n",
    "        print(\"None\")\n",
    "\n",
    "sll = LinkedList()\n",
    "sll.insert_at_end(10)\n",
    "sll.insert_at_end(20)\n",
    "sll.insert_at_end(30)\n",
    "sll.insert_at_end(40)\n",
    "sll.delete_end()\n",
    "sll.delete_end()\n",
    "sll.display()\n",
    "\n",
    "            "
   ]
  },
  {
   "cell_type": "markdown",
   "id": "f3f1ef09-5401-437d-ab04-4f241bb5b757",
   "metadata": {},
   "source": [
    "#### Delete By Value"
   ]
  },
  {
   "cell_type": "code",
   "execution_count": 21,
   "id": "125b3a14-ea10-4961-bfd3-fbc9d559d502",
   "metadata": {},
   "outputs": [
    {
     "name": "stdout",
     "output_type": "stream",
     "text": [
      "10 -> 20 -> 40 -> None\n"
     ]
    }
   ],
   "source": [
    "class Node:\n",
    "    def __init__(self, data):\n",
    "        self.data = data\n",
    "        self.ref = None\n",
    "class LinkedList:\n",
    "    def __init__(self):\n",
    "        self.head = None\n",
    "    def insert_at_end(self, data):\n",
    "        new_node = Node(data)\n",
    "        if self.head is None:\n",
    "            self.head = new_node\n",
    "        else:\n",
    "            n = self.head\n",
    "            while n.ref is not None:\n",
    "                n = n.ref\n",
    "            n.ref = new_node \n",
    "#-------------------------------------------------------\n",
    "\n",
    "    def delete_by_value(self,x):\n",
    "        if self.head is None:\n",
    "            print(\"Can't delete LinkedList is empty!\")\n",
    "            return\n",
    "        if x==self.head.data:\n",
    "            self.head = self.head.ref\n",
    "            return\n",
    "        n = self.head\n",
    "        while n.ref is not None:\n",
    "            if x == n.ref.data:\n",
    "                break\n",
    "            n = n.ref\n",
    "        if n.ref is None:\n",
    "            print(\"Nod is not present!\")\n",
    "        else:\n",
    "            n.ref = n.ref.ref\n",
    "#-------------------------------------------------\n",
    "    def display(self):\n",
    "        current = self.head\n",
    "        while current:\n",
    "            print(current.data, end = \" -> \")\n",
    "            current = current.ref\n",
    "        print(\"None\")\n",
    "\n",
    "sll = LinkedList()\n",
    "sll.insert_at_end(10)\n",
    "sll.insert_at_end(20)\n",
    "sll.insert_at_end(30)\n",
    "sll.insert_at_end(40)\n",
    "sll.delete_by_value(30)\n",
    "sll.display()"
   ]
  },
  {
   "cell_type": "code",
   "execution_count": null,
   "id": "6734b163-42e1-4838-ac13-a1024cc49dec",
   "metadata": {},
   "outputs": [],
   "source": []
  }
 ],
 "metadata": {
  "kernelspec": {
   "display_name": "Python [conda env:base] *",
   "language": "python",
   "name": "conda-base-py"
  },
  "language_info": {
   "codemirror_mode": {
    "name": "ipython",
    "version": 3
   },
   "file_extension": ".py",
   "mimetype": "text/x-python",
   "name": "python",
   "nbconvert_exporter": "python",
   "pygments_lexer": "ipython3",
   "version": "3.12.7"
  }
 },
 "nbformat": 4,
 "nbformat_minor": 5
}
