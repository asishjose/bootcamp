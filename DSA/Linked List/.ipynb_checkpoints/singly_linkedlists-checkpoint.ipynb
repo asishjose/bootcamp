{
 "cells": [
  {
   "cell_type": "markdown",
   "id": "af7ce78b-3544-46d1-a618-47e8e9270f22",
   "metadata": {},
   "source": [
    "## Singly Linked List"
   ]
  },
  {
   "cell_type": "markdown",
   "id": "eb636edd-bc70-4125-934b-6269d37f6348",
   "metadata": {},
   "source": [
    "Each node has data and a next pointer"
   ]
  },
  {
   "cell_type": "code",
   "execution_count": 3,
   "id": "b4e113c7-39eb-481d-bcf6-066cf73d9224",
   "metadata": {},
   "outputs": [
    {
     "name": "stdout",
     "output_type": "stream",
     "text": [
      "Singly Linked List:\n",
      "10->20->49->30->29->None\n"
     ]
    }
   ],
   "source": [
    "class Node:\n",
    "    def __init__(self, data):\n",
    "        self.data = data\n",
    "        self.next = None\n",
    "class SinglyLinkedList:\n",
    "    def __init__(self):\n",
    "        self.head = None\n",
    "\n",
    "    def add(self, data):\n",
    "        new_node = Node(data)\n",
    "        if self.head is None:\n",
    "            self.head = new_node\n",
    "            return\n",
    "        temp = self.head\n",
    "        while temp.next:\n",
    "            temp = temp.next\n",
    "        temp.next = new_node\n",
    "    def display(self):\n",
    "        temp = self.head\n",
    "        while temp:\n",
    "            print(temp.data, end = \"->\")\n",
    "            temp = temp.next\n",
    "        print(\"None\")\n",
    "\n",
    "sll = SinglyLinkedList()\n",
    "sll.add(10)\n",
    "sll.add(20)\n",
    "sll.add(49)\n",
    "sll.add(30)\n",
    "sll.add(29)\n",
    "print(\"Singly Linked List:\")\n",
    "sll.display()"
   ]
  },
  {
   "cell_type": "markdown",
   "id": "cfbe08b2-ae3f-406e-be6b-d447dcdd4707",
   "metadata": {},
   "source": [
    "## Travesral on singly LL"
   ]
  },
  {
   "cell_type": "code",
   "execution_count": 5,
   "id": "ca2645f2-6ade-44c7-bf67-768d760dfcd0",
   "metadata": {},
   "outputs": [
    {
     "name": "stdout",
     "output_type": "stream",
     "text": [
      "Linked List is empty\n"
     ]
    }
   ],
   "source": [
    "class Node:\n",
    "    def __init__(self, data):\n",
    "        self.data = data\n",
    "        self.ref = None\n",
    "class LinkedList:\n",
    "    def __init__(self):\n",
    "        self.head = None\n",
    "\n",
    "    def print_ll(self):\n",
    "        if self.head is None:\n",
    "            print(\"Linked List is empty\")\n",
    "        else:\n",
    "            n = self.head\n",
    "            while n is not None:\n",
    "                print(n.data)\n",
    "                n = n.ref\n",
    "LL1 = LinkedList()\n",
    "LL1.print_ll()"
   ]
  },
  {
   "cell_type": "markdown",
   "id": "da55d5bf-10d0-460e-918a-61d81babe366",
   "metadata": {},
   "source": [
    "manually adding nodes to the linked list created"
   ]
  },
  {
   "cell_type": "code",
   "execution_count": 7,
   "id": "d8de6bf2-76d7-4337-86aa-f7e5444d00ee",
   "metadata": {},
   "outputs": [
    {
     "name": "stdout",
     "output_type": "stream",
     "text": [
      "10\n",
      "20\n",
      "30\n"
     ]
    }
   ],
   "source": [
    "LL1 = LinkedList()\n",
    "LL1.head = Node(10)\n",
    "second = Node(20)\n",
    "third = Node(30)\n",
    "\n",
    "LL1.head.ref = second\n",
    "second.ref = third\n",
    "\n",
    "LL1.print_ll()"
   ]
  },
  {
   "cell_type": "markdown",
   "id": "a95a15f4-366f-42c4-aeee-9149b1d1cac0",
   "metadata": {},
   "source": [
    "## insert at beginning"
   ]
  },
  {
   "cell_type": "code",
   "execution_count": 9,
   "id": "2064415e-26e1-4088-9ead-2ffcef98e031",
   "metadata": {},
   "outputs": [
    {
     "name": "stdout",
     "output_type": "stream",
     "text": [
      "30 -> 20 -> 10 -> None\n"
     ]
    }
   ],
   "source": [
    "class Node:\n",
    "    def __init__(self,data):\n",
    "        self.data = data\n",
    "        self.ref = None\n",
    "class LinkedList:\n",
    "    def __init__(self):\n",
    "        self.head = None\n",
    "\n",
    "    def insert_at_beginning(self,data):\n",
    "        new_node = Node(data)\n",
    "        new_node.ref = self.head\n",
    "        self.head = new_node\n",
    "\n",
    "    def print_list(self):\n",
    "        current = self.head\n",
    "        while current:\n",
    "            print(current.data, end = \" -> \")\n",
    "            current = current.ref\n",
    "        print(\"None\")\n",
    "\n",
    "ll = LinkedList()\n",
    "ll.insert_at_beginning(10)\n",
    "ll.insert_at_beginning(20)\n",
    "ll.insert_at_beginning(30)\n",
    "\n",
    "ll.print_list()"
   ]
  },
  {
   "cell_type": "markdown",
   "id": "c284cc00-daf5-416d-aad0-963d57d9e355",
   "metadata": {},
   "source": [
    "## insert at end"
   ]
  },
  {
   "cell_type": "code",
   "execution_count": 11,
   "id": "c8a7f01a-3b33-4c6f-98a4-686edb377799",
   "metadata": {},
   "outputs": [
    {
     "name": "stdout",
     "output_type": "stream",
     "text": [
      "10 -> 20 -> 30 -> 40 -> None\n"
     ]
    }
   ],
   "source": [
    "class Node:\n",
    "    def __init__(self,data):\n",
    "        self.data = data\n",
    "        self.ref = None\n",
    "class LinkedList:\n",
    "    def __init__(self):\n",
    "        self.head = None\n",
    "\n",
    "    def insert_at_end(self, data):\n",
    "        new_node = Node(data)\n",
    "        if self.head is None:\n",
    "            self.head = new_node\n",
    "        else:\n",
    "            n = self.head\n",
    "            while n.ref is not None:\n",
    "                n = n.ref\n",
    "            n.ref = new_node\n",
    "\n",
    "    def display(self):\n",
    "        current = self.head\n",
    "        while current:\n",
    "            print(current.data, end = \" -> \")\n",
    "            current = current.ref\n",
    "        print(\"None\")\n",
    "\n",
    "sll = LinkedList()\n",
    "sll.insert_at_end(10)\n",
    "sll.insert_at_end(20)\n",
    "sll.insert_at_end(30)\n",
    "sll.insert_at_end(40)\n",
    "\n",
    "sll.display()"
   ]
  },
  {
   "cell_type": "markdown",
   "id": "70ce03ff-4159-441f-a089-fda924157b7c",
   "metadata": {},
   "source": [
    "## insert in-between"
   ]
  },
  {
   "cell_type": "code",
   "execution_count": 35,
   "id": "d46e1ffd-9894-4b19-bd4b-5cd73e9a4a57",
   "metadata": {},
   "outputs": [
    {
     "name": "stdout",
     "output_type": "stream",
     "text": [
      "100 -> 200 -> 500 -> 300 -> 400 -> None\n"
     ]
    }
   ],
   "source": [
    "class Node:\n",
    "    def __init__(self,data):\n",
    "        self.data = data\n",
    "        self.ref = None\n",
    "class LinkedList:\n",
    "    def __init__(self):\n",
    "        self.head = None\n",
    "\n",
    "    def insert_at_end(self, data):\n",
    "        new_node = Node(data)\n",
    "        if self.head is None:\n",
    "            self.head = new_node\n",
    "        else:\n",
    "            n = self.head\n",
    "            while n.ref is not None:\n",
    "                n = n.ref\n",
    "            n.ref = new_node\n",
    "            \n",
    "    def add_after(self,data,x):\n",
    "        n = self.head\n",
    "        while n is not None:\n",
    "            if x == n.data:\n",
    "                break\n",
    "            n = n.ref\n",
    "        if n is None:\n",
    "            print(\"Node is not present in the Linked List\")\n",
    "        else:\n",
    "            new_node = Node(data)\n",
    "            new_node.ref = n.ref\n",
    "            n.ref = new_node\n",
    "\n",
    "    def display(self):\n",
    "        current = self.head\n",
    "        while current:\n",
    "            print(current.data, end = \" -> \")\n",
    "            current = current.ref\n",
    "        print(\"None\")\n",
    "        \n",
    "sll = LinkedList()\n",
    "sll.insert_at_end(100)\n",
    "sll.insert_at_end(200)\n",
    "sll.insert_at_end(300)\n",
    "sll.insert_at_end(400)\n",
    "sll.add_after(500,200)\n",
    "sll.display()"
   ]
  },
  {
   "cell_type": "code",
   "execution_count": null,
   "id": "0fdf46d0-d6d4-4798-b517-fba06c70d185",
   "metadata": {},
   "outputs": [],
   "source": []
  }
 ],
 "metadata": {
  "kernelspec": {
   "display_name": "Python [conda env:base] *",
   "language": "python",
   "name": "conda-base-py"
  },
  "language_info": {
   "codemirror_mode": {
    "name": "ipython",
    "version": 3
   },
   "file_extension": ".py",
   "mimetype": "text/x-python",
   "name": "python",
   "nbconvert_exporter": "python",
   "pygments_lexer": "ipython3",
   "version": "3.12.7"
  }
 },
 "nbformat": 4,
 "nbformat_minor": 5
}
