{
 "cells": [
  {
   "cell_type": "markdown",
   "id": "3b741d5a-2ab7-4e8f-bef2-0fc87040b607",
   "metadata": {},
   "source": [
    "## Reverse a string"
   ]
  },
  {
   "cell_type": "code",
   "execution_count": 3,
   "id": "ca08f8e3-2e22-458e-ab0f-342683cb70d1",
   "metadata": {},
   "outputs": [
    {
     "name": "stdout",
     "output_type": "stream",
     "text": [
      "!hsisA ,ollleH\n"
     ]
    }
   ],
   "source": [
    "def reverse_string(s):\n",
    "    return s[::-1]\n",
    "print(reverse_string(\"Helllo, Asish!\"))"
   ]
  },
  {
   "cell_type": "markdown",
   "id": "a01195ec-be47-4f93-80d3-2169bb7b1b45",
   "metadata": {},
   "source": [
    "slicing operations\n",
    "Slicing is a powerful tool in Python that allows for efficient string manipulation without using loops.\n",
    "  s[start:stop:end]"
   ]
  },
  {
   "cell_type": "code",
   "execution_count": 16,
   "id": "324a82d3-0a3a-4f24-91fe-d80e35b4decd",
   "metadata": {},
   "outputs": [
    {
     "name": "stdout",
     "output_type": "stream",
     "text": [
      "Python\n",
      "Python\n",
      "Programming\n",
      "PtoPormig\n",
      "yhnrgamn\n",
      "gnimmargorPnohtyP\n",
      "gimroPotP\n",
      "PnohtyP\n"
     ]
    }
   ],
   "source": [
    "s = \"PythonProgramming\"\n",
    "print(s[0:6])\n",
    "print(s[:6])\n",
    "print(s[6:])\n",
    "\n",
    "print(s[::2])\n",
    "print(s[1::2])\n",
    "\n",
    "print(s[::-1])\n",
    "print(s[::-2])\n",
    "print(s[6::-1])"
   ]
  },
  {
   "cell_type": "markdown",
   "id": "26bb37ec-241f-4cd1-8dfc-726ff911e7c2",
   "metadata": {},
   "source": [
    "## Count the Occurrences of a Character"
   ]
  },
  {
   "cell_type": "code",
   "execution_count": 19,
   "id": "792e7856-3b71-471b-9289-1cc59bc76ffd",
   "metadata": {},
   "outputs": [
    {
     "name": "stdout",
     "output_type": "stream",
     "text": [
      "3\n"
     ]
    }
   ],
   "source": [
    "def count_char_occurences(s,char):\n",
    "    return s.count(char)\n",
    "\n",
    "print(count_char_occurences(\"banana\", \"a\"))"
   ]
  },
  {
   "cell_type": "markdown",
   "id": "22907b35-a696-4f1a-a1c3-3818c0a7e446",
   "metadata": {},
   "source": [
    "## Check if a String is a Palindrome"
   ]
  },
  {
   "cell_type": "code",
   "execution_count": 24,
   "id": "30be0dce-2de0-4563-accb-3e619ad27c7b",
   "metadata": {},
   "outputs": [
    {
     "name": "stdout",
     "output_type": "stream",
     "text": [
      "True\n",
      "True\n"
     ]
    }
   ],
   "source": [
    "def is_palindrome(s):\n",
    "    s = s.lower().replace(\" \",  \"\")\n",
    "    return s == s[::-1]\n",
    "\n",
    "print(is_palindrome(\"Madam\"))\n",
    "print(is_palindrome(\"malaya lam\"))"
   ]
  },
  {
   "cell_type": "markdown",
   "id": "cb8c08a3-1b0c-4302-a39b-278a5cb92399",
   "metadata": {},
   "source": [
    "### Function to replace each alphabet in the given string with another alphabet occurring at the n-th position from each of them."
   ]
  },
  {
   "cell_type": "code",
   "execution_count": 8,
   "id": "2573fded-da05-4c52-9cca-19da214a5fcb",
   "metadata": {},
   "outputs": [
    {
     "name": "stdout",
     "output_type": "stream",
     "text": [
      "khoor\n"
     ]
    }
   ],
   "source": [
    "def shift_alphabet(s,n):\n",
    "    result = \"\"\n",
    "\n",
    "    for c in s:\n",
    "        original_index = ord(c) - ord('a')\n",
    "        new_index = (original_index + n)%26\n",
    "        new_char = chr(new_index + ord('a'))\n",
    "        result += new_char\n",
    "    return result\n",
    "\n",
    "text = \"hello\"\n",
    "shifted_text = shift_alphabet(text, 3)\n",
    "print(shifted_text)"
   ]
  },
  {
   "cell_type": "code",
   "execution_count": null,
   "id": "2681d830-3544-4d7e-8744-9179e7a33da9",
   "metadata": {},
   "outputs": [],
   "source": []
  }
 ],
 "metadata": {
  "kernelspec": {
   "display_name": "Python [conda env:base] *",
   "language": "python",
   "name": "conda-base-py"
  },
  "language_info": {
   "codemirror_mode": {
    "name": "ipython",
    "version": 3
   },
   "file_extension": ".py",
   "mimetype": "text/x-python",
   "name": "python",
   "nbconvert_exporter": "python",
   "pygments_lexer": "ipython3",
   "version": "3.12.7"
  }
 },
 "nbformat": 4,
 "nbformat_minor": 5
}
