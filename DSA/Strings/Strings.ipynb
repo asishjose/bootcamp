{
 "cells": [
  {
   "cell_type": "markdown",
   "id": "3b741d5a-2ab7-4e8f-bef2-0fc87040b607",
   "metadata": {},
   "source": [
    "## Reverse a string"
   ]
  },
  {
   "cell_type": "code",
   "execution_count": 3,
   "id": "ca08f8e3-2e22-458e-ab0f-342683cb70d1",
   "metadata": {},
   "outputs": [
    {
     "name": "stdout",
     "output_type": "stream",
     "text": [
      "!hsisA ,ollleH\n"
     ]
    }
   ],
   "source": [
    "def reverse_string(s):\n",
    "    return s[::-1]\n",
    "print(reverse_string(\"Helllo, Asish!\"))"
   ]
  },
  {
   "cell_type": "markdown",
   "id": "a01195ec-be47-4f93-80d3-2169bb7b1b45",
   "metadata": {},
   "source": [
    "slicing operations\n",
    "Slicing is a powerful tool in Python that allows for efficient string manipulation without using loops.\n",
    "  s[start:stop:end]"
   ]
  },
  {
   "cell_type": "code",
   "execution_count": 16,
   "id": "324a82d3-0a3a-4f24-91fe-d80e35b4decd",
   "metadata": {},
   "outputs": [
    {
     "name": "stdout",
     "output_type": "stream",
     "text": [
      "Python\n",
      "Python\n",
      "Programming\n",
      "PtoPormig\n",
      "yhnrgamn\n",
      "gnimmargorPnohtyP\n",
      "gimroPotP\n",
      "PnohtyP\n"
     ]
    }
   ],
   "source": [
    "s = \"PythonProgramming\"\n",
    "print(s[0:6])\n",
    "print(s[:6])\n",
    "print(s[6:])\n",
    "\n",
    "print(s[::2])\n",
    "print(s[1::2])\n",
    "\n",
    "print(s[::-1])\n",
    "print(s[::-2])\n",
    "print(s[6::-1])"
   ]
  },
  {
   "cell_type": "markdown",
   "id": "26bb37ec-241f-4cd1-8dfc-726ff911e7c2",
   "metadata": {},
   "source": [
    "## Count the Occurrences of a Character"
   ]
  },
  {
   "cell_type": "code",
   "execution_count": 19,
   "id": "792e7856-3b71-471b-9289-1cc59bc76ffd",
   "metadata": {},
   "outputs": [
    {
     "name": "stdout",
     "output_type": "stream",
     "text": [
      "3\n"
     ]
    }
   ],
   "source": [
    "def count_char_occurences(s,char):\n",
    "    return s.count(char)\n",
    "\n",
    "print(count_char_occurences(\"banana\", \"a\"))"
   ]
  },
  {
   "cell_type": "markdown",
   "id": "22907b35-a696-4f1a-a1c3-3818c0a7e446",
   "metadata": {},
   "source": [
    "## Check if a String is a Palindrome"
   ]
  },
  {
   "cell_type": "code",
   "execution_count": 24,
   "id": "30be0dce-2de0-4563-accb-3e619ad27c7b",
   "metadata": {},
   "outputs": [
    {
     "name": "stdout",
     "output_type": "stream",
     "text": [
      "True\n",
      "True\n"
     ]
    }
   ],
   "source": [
    "def is_palindrome(s):\n",
    "    s = s.lower().replace(\" \",  \"\")\n",
    "    return s == s[::-1]\n",
    "\n",
    "print(is_palindrome(\"Madam\"))\n",
    "print(is_palindrome(\"malaya lam\"))"
   ]
  },
  {
   "cell_type": "code",
   "execution_count": null,
   "id": "e1480a77-4e41-4d0d-a028-3d9f1d4891ad",
   "metadata": {},
   "outputs": [],
   "source": []
  }
 ],
 "metadata": {
  "kernelspec": {
   "display_name": "Python [conda env:base] *",
   "language": "python",
   "name": "conda-base-py"
  },
  "language_info": {
   "codemirror_mode": {
    "name": "ipython",
    "version": 3
   },
   "file_extension": ".py",
   "mimetype": "text/x-python",
   "name": "python",
   "nbconvert_exporter": "python",
   "pygments_lexer": "ipython3",
   "version": "3.12.7"
  }
 },
 "nbformat": 4,
 "nbformat_minor": 5
}
