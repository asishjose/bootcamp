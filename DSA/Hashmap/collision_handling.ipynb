{
 "cells": [
  {
   "cell_type": "code",
   "execution_count": 1,
   "id": "349e4b48-c8a1-4bb9-ab7e-7f5b1fcb896c",
   "metadata": {},
   "outputs": [
    {
     "data": {
      "text/plain": [
       "9"
      ]
     },
     "execution_count": 1,
     "metadata": {},
     "output_type": "execute_result"
    }
   ],
   "source": [
    "class HashTable:\n",
    "    def __init__(self):\n",
    "        self.max = 10\n",
    "        self.arr = [None for i in range(self.max)]\n",
    "\n",
    "    def get_hash(self, key):\n",
    "        hash = 0\n",
    "        for char in key:\n",
    "            hash += ord(char)\n",
    "        return hash % self.max\n",
    "\n",
    "    def __getitem__(self, index):\n",
    "        h = self.get_hash(index)\n",
    "        return self.arr[h]\n",
    "\n",
    "    def __setitem__(self, key,val):\n",
    "        h = self.get_hash(key)\n",
    "        self.arr[h] = val\n",
    "\n",
    "t = HashTable()\n",
    "t.get_hash(\"march 6\")"
   ]
  },
  {
   "cell_type": "code",
   "execution_count": 3,
   "id": "d64328c8-dbec-4b0e-b356-dfcf89189a06",
   "metadata": {},
   "outputs": [
    {
     "data": {
      "text/plain": [
       "9"
      ]
     },
     "execution_count": 3,
     "metadata": {},
     "output_type": "execute_result"
    }
   ],
   "source": [
    "t.get_hash(\"march 17\")"
   ]
  },
  {
   "cell_type": "code",
   "execution_count": 5,
   "id": "f4c543c8-f0f7-48f4-9f5c-2ff3e3d2463b",
   "metadata": {},
   "outputs": [],
   "source": [
    "t['march 6'] = 120\n",
    "t['march 8'] = 67\n",
    "t['march 9'] = 4\n",
    "t['march 17'] = 459"
   ]
  },
  {
   "cell_type": "code",
   "execution_count": 7,
   "id": "290120de-6f66-4603-9e02-97a39f87e5f6",
   "metadata": {},
   "outputs": [
    {
     "data": {
      "text/plain": [
       "459"
      ]
     },
     "execution_count": 7,
     "metadata": {},
     "output_type": "execute_result"
    }
   ],
   "source": [
    "t['march 6']"
   ]
  },
  {
   "cell_type": "markdown",
   "id": "d2b842ab-82aa-4b4a-89b1-7cd879f49434",
   "metadata": {},
   "source": [
    "# Hash Table Collision Handling Using Chaining"
   ]
  },
  {
   "cell_type": "code",
   "execution_count": 19,
   "id": "4a424762-508c-4231-b95f-4a04867e25a7",
   "metadata": {},
   "outputs": [],
   "source": [
    "class HashTable:\n",
    "    def __init__(self):\n",
    "        self.max = 10\n",
    "        self.arr = [[] for i in range(self.max)]\n",
    "\n",
    "    def get_hash(self,key):\n",
    "        hash = 0\n",
    "        for char in key:\n",
    "            hash += ord(char)\n",
    "        return hash % self.max\n",
    "    \n",
    "    def __getitem__(self, key):\n",
    "        arr_index = self.get_hash(key)\n",
    "        for kv in self.arr[arr_index]:\n",
    "            if kv[0] == key:\n",
    "                return kv[1]\n",
    "\n",
    "    def __setitem__(self, key, val):\n",
    "        h = self.get_hash(key)\n",
    "        found = False\n",
    "        for idx, element in enumerate(self.arr[h]):\n",
    "            if len(element)==2 and element[0] == key:\n",
    "                self.arr[h][idx] = (key,val)\n",
    "                found = True\n",
    "        if not found:\n",
    "            self.arr[h].append((key,val))\n",
    "\n",
    "    def __delitem__(self,key):\n",
    "        arr_index = self.get_hash(key)\n",
    "        for index, kv in enumerate(self.arr[arr_index]):\n",
    "            if kv[0] == key:\n",
    "                print('del',index)\n",
    "                del self.arr[arr_index][index]\n",
    "\n",
    "t = HashTable()\n",
    "t['march 6'] = 310\n",
    "t['march 7'] = 420\n",
    "t['march 8'] = 67\n",
    "t['march 17'] = 63457"
   ]
  },
  {
   "cell_type": "code",
   "execution_count": 27,
   "id": "00b526d5-ca13-42d1-b6e1-2ee02bd50bec",
   "metadata": {},
   "outputs": [
    {
     "data": {
      "text/plain": [
       "310"
      ]
     },
     "execution_count": 27,
     "metadata": {},
     "output_type": "execute_result"
    }
   ],
   "source": [
    "t['march 6']"
   ]
  },
  {
   "cell_type": "code",
   "execution_count": 29,
   "id": "b09a4971-d612-41a5-9e6a-a2877668f501",
   "metadata": {},
   "outputs": [
    {
     "data": {
      "text/plain": [
       "63457"
      ]
     },
     "execution_count": 29,
     "metadata": {},
     "output_type": "execute_result"
    }
   ],
   "source": [
    "t['march 17']"
   ]
  },
  {
   "cell_type": "code",
   "execution_count": 31,
   "id": "d41749d6-90e5-40b6-a646-10a2719bf837",
   "metadata": {},
   "outputs": [
    {
     "data": {
      "text/plain": [
       "[[('march 7', 420)],\n",
       " [('march 8', 67)],\n",
       " [],\n",
       " [],\n",
       " [],\n",
       " [],\n",
       " [],\n",
       " [],\n",
       " [],\n",
       " [('march 6', 310), ('march 17', 63457)]]"
      ]
     },
     "execution_count": 31,
     "metadata": {},
     "output_type": "execute_result"
    }
   ],
   "source": [
    "t.arr"
   ]
  },
  {
   "cell_type": "code",
   "execution_count": 48,
   "id": "c7927170-13b7-4c8c-8413-9fbebec28ecc",
   "metadata": {},
   "outputs": [],
   "source": [
    "t['march 6'] = 11"
   ]
  },
  {
   "cell_type": "code",
   "execution_count": 50,
   "id": "a53028c9-b7e1-4191-af81-39fac164e54f",
   "metadata": {},
   "outputs": [
    {
     "data": {
      "text/plain": [
       "[[('march 7', 420)],\n",
       " [('march 8', 67)],\n",
       " [],\n",
       " [],\n",
       " [],\n",
       " [],\n",
       " [],\n",
       " [],\n",
       " [],\n",
       " [('march 6', 11), ('march 17', 63457)]]"
      ]
     },
     "execution_count": 50,
     "metadata": {},
     "output_type": "execute_result"
    }
   ],
   "source": [
    "t.arr"
   ]
  },
  {
   "cell_type": "code",
   "execution_count": 52,
   "id": "44ca591c-83ee-4467-9379-cd07168bc77d",
   "metadata": {},
   "outputs": [
    {
     "name": "stdout",
     "output_type": "stream",
     "text": [
      "del 0\n"
     ]
    }
   ],
   "source": [
    "del t['march 6']"
   ]
  },
  {
   "cell_type": "code",
   "execution_count": 54,
   "id": "4db1342f-2ec4-469f-8624-b8705fd3c426",
   "metadata": {},
   "outputs": [
    {
     "data": {
      "text/plain": [
       "[[('march 7', 420)],\n",
       " [('march 8', 67)],\n",
       " [],\n",
       " [],\n",
       " [],\n",
       " [],\n",
       " [],\n",
       " [],\n",
       " [],\n",
       " [('march 17', 63457)]]"
      ]
     },
     "execution_count": 54,
     "metadata": {},
     "output_type": "execute_result"
    }
   ],
   "source": [
    "t.arr"
   ]
  },
  {
   "cell_type": "code",
   "execution_count": null,
   "id": "0bef58e3-bf8f-483b-bdbd-f5f61eb42b57",
   "metadata": {},
   "outputs": [],
   "source": []
  },
  {
   "cell_type": "code",
   "execution_count": null,
   "id": "be9c6758-8e0d-48a8-a6ec-67b2e2129b0a",
   "metadata": {},
   "outputs": [],
   "source": []
  },
  {
   "cell_type": "code",
   "execution_count": null,
   "id": "ba80ad05-8bcc-464b-af98-1aa899bebeea",
   "metadata": {},
   "outputs": [],
   "source": []
  },
  {
   "cell_type": "code",
   "execution_count": null,
   "id": "e803ea1a-0439-497f-9e69-95bfc1c2a805",
   "metadata": {},
   "outputs": [],
   "source": []
  },
  {
   "cell_type": "code",
   "execution_count": null,
   "id": "20217f30-ae1b-479c-98c3-91da597b50c4",
   "metadata": {},
   "outputs": [],
   "source": []
  },
  {
   "cell_type": "code",
   "execution_count": null,
   "id": "e0577421-563a-4811-b1ca-c2b391c86132",
   "metadata": {},
   "outputs": [],
   "source": []
  },
  {
   "cell_type": "code",
   "execution_count": null,
   "id": "0817b6fd-15ae-4fc4-8872-8e61f777717d",
   "metadata": {},
   "outputs": [],
   "source": []
  },
  {
   "cell_type": "code",
   "execution_count": null,
   "id": "a98e3849-341a-4836-891e-52cc24c5af7c",
   "metadata": {},
   "outputs": [],
   "source": []
  },
  {
   "cell_type": "code",
   "execution_count": null,
   "id": "3484cf9f-e833-46a1-b9b5-588215ceafc3",
   "metadata": {},
   "outputs": [],
   "source": []
  }
 ],
 "metadata": {
  "kernelspec": {
   "display_name": "Python 3 (ipykernel)",
   "language": "python",
   "name": "python3"
  },
  "language_info": {
   "codemirror_mode": {
    "name": "ipython",
    "version": 3
   },
   "file_extension": ".py",
   "mimetype": "text/x-python",
   "name": "python",
   "nbconvert_exporter": "python",
   "pygments_lexer": "ipython3",
   "version": "3.12.3"
  }
 },
 "nbformat": 4,
 "nbformat_minor": 5
}
