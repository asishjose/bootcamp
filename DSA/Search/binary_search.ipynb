{
 "cells": [
  {
   "cell_type": "code",
   "execution_count": 1,
   "id": "0cf231a5-5345-4ed2-85b0-c2c5d0f28682",
   "metadata": {},
   "outputs": [
    {
     "name": "stdout",
     "output_type": "stream",
     "text": [
      "4\n"
     ]
    }
   ],
   "source": [
    "def binary_search(arr, target):\n",
    "    left, right = 0, len(arr)-1\n",
    "\n",
    "    while left <= right:\n",
    "        mid = (left+right)//2\n",
    "        if arr[mid] == target:\n",
    "            return mid\n",
    "        elif arr[mid] < target:\n",
    "            left = mid+1\n",
    "        else:\n",
    "            right = mid-1\n",
    "    return -1\n",
    "\n",
    "arr = [10,20,30,40,50,60]\n",
    "target = 50\n",
    "result = binary_search(arr, target)\n",
    "print(result)"
   ]
  },
  {
   "cell_type": "markdown",
   "id": "fa91436d-edd4-4241-ba0d-d39d7235aa79",
   "metadata": {},
   "source": [
    "## Find a Word in a Sorted Dictionary"
   ]
  },
  {
   "cell_type": "code",
   "execution_count": 3,
   "id": "55fd2a2c-08bd-4677-878f-641765da7e98",
   "metadata": {},
   "outputs": [
    {
     "name": "stdout",
     "output_type": "stream",
     "text": [
      "['anar', 'apple', 'banana', 'grape', 'mango', 'orange', 'pea']\n",
      "orange at index 5\n",
      "['banana', 'orange', 'apple', 'grape', 'mango', 'anar', 'pea']\n"
     ]
    }
   ],
   "source": [
    "fruits = ['mango', 'banana', 'orange', 'apple', 'grape','anar','pea']\n",
    "words = fruits\n",
    "words.sort()\n",
    "# words = sorted(fruits)\n",
    "print(words)\n",
    "\n",
    "#words = ['apple', 'banana', 'grape', 'mango', 'orange']\n",
    "target_fruit = 'orange'\n",
    "\n",
    "left, right = 0, len(words)-1\n",
    "while left <= right:\n",
    "    mid = (left+right)//2\n",
    "    if words[mid] == target_fruit:\n",
    "        print(f\"{target_fruit} at index {mid}\")\n",
    "        break\n",
    "    elif words[mid] < target_fruit:\n",
    "        left = mid+1\n",
    "    else:\n",
    "        right = mid-1\n",
    "else:\n",
    "    print(f\"{target_fruit} not found in fruits basket\")\n",
    "\n",
    "sorted_by_len = sorted(words, key = len, reverse = True)\n",
    "print(sorted_by_len)"
   ]
  },
  {
   "cell_type": "markdown",
   "id": "591f9757-eb4f-4c78-a6cc-1941eddb3d44",
   "metadata": {},
   "source": [
    "## Find the First Occurrence of a Number (Handling Duplicates)\n"
   ]
  },
  {
   "cell_type": "code",
   "execution_count": 12,
   "id": "1b322436-5c75-4d74-8375-e98ce4a98917",
   "metadata": {},
   "outputs": [
    {
     "name": "stdout",
     "output_type": "stream",
     "text": [
      "First occurence at index:  2\n"
     ]
    }
   ],
   "source": [
    "def first_occurence(arr, target):\n",
    "    left, right = 0, len(arr)-1\n",
    "    result = -1\n",
    "\n",
    "    while left <= right:\n",
    "        mid = (left+right)//2\n",
    "        if arr[mid] == target:\n",
    "            result = mid\n",
    "            right = mid-1\n",
    "        elif arr[mid] < target:\n",
    "            left = mid + 1\n",
    "        else:\n",
    "            right = mid - 1\n",
    "    return result\n",
    "\n",
    "arr = [1,2,3,3,3,4,5]\n",
    "target = 3\n",
    "index = first_occurence(arr, target)\n",
    "print(\"First occurence at index: \", index)"
   ]
  },
  {
   "cell_type": "code",
   "execution_count": null,
   "id": "ccee82ff-959b-47d2-975d-d98557ddb74a",
   "metadata": {},
   "outputs": [],
   "source": []
  }
 ],
 "metadata": {
  "kernelspec": {
   "display_name": "Python [conda env:base] *",
   "language": "python",
   "name": "conda-base-py"
  },
  "language_info": {
   "codemirror_mode": {
    "name": "ipython",
    "version": 3
   },
   "file_extension": ".py",
   "mimetype": "text/x-python",
   "name": "python",
   "nbconvert_exporter": "python",
   "pygments_lexer": "ipython3",
   "version": "3.12.7"
  }
 },
 "nbformat": 4,
 "nbformat_minor": 5
}
