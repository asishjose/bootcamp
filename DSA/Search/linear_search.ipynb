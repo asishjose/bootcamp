{
 "cells": [
  {
   "cell_type": "code",
   "execution_count": 5,
   "id": "286180d2-3e87-4c4a-815e-216dba2c7857",
   "metadata": {},
   "outputs": [
    {
     "name": "stdout",
     "output_type": "stream",
     "text": [
      "5\n"
     ]
    }
   ],
   "source": [
    "def linear_search(arr, target):\n",
    "    for i in range(len(arr)):\n",
    "        if arr[i] == target:\n",
    "            return i\n",
    "    return -1\n",
    "\n",
    "arr = [10,20,40,60,30,90]\n",
    "target = 90\n",
    "result = linear_search(arr,target)\n",
    "print(result)"
   ]
  },
  {
   "cell_type": "markdown",
   "id": "71ace269-60bb-409a-9345-7fc80f4d298d",
   "metadata": {},
   "source": [
    "## Find the First Occurrence of a Name"
   ]
  },
  {
   "cell_type": "code",
   "execution_count": 31,
   "id": "180a7177-4acb-4c08-941c-1ec33c486b1a",
   "metadata": {},
   "outputs": [
    {
     "name": "stdout",
     "output_type": "stream",
     "text": [
      "David found at index 4\n"
     ]
    }
   ],
   "source": [
    "students = [\"John\", \"Alex\", \"Asish\", \"Maria\", \"David\",\"Asish\"]\n",
    "target_name = \"David\"\n",
    "\n",
    "for i in range(len(students)):\n",
    "    if students[i] == target_name:\n",
    "        print(f\"{target_name} found at index {i}\")\n",
    "        break\n",
    "else:\n",
    "    print(f\"{target_name} not  found in the list\")"
   ]
  },
  {
   "cell_type": "markdown",
   "id": "83919d75-d8bd-4cc1-ae51-185d3a5d09a6",
   "metadata": {},
   "source": [
    "## Find All Occurrences of a Number"
   ]
  },
  {
   "cell_type": "code",
   "execution_count": 42,
   "id": "5e33aa4b-60b1-4b1b-af39-5661c2ea0255",
   "metadata": {},
   "outputs": [
    {
     "name": "stdout",
     "output_type": "stream",
     "text": [
      "Target found at indices: [1, 3, 6]\n"
     ]
    }
   ],
   "source": [
    "def find_all_occurences(arr, target):\n",
    "    indices = []\n",
    "    for i in range(len(arr)):\n",
    "        if arr[i] == target:\n",
    "            indices.append(i)\n",
    "    return indices if indices else [-1]\n",
    "\n",
    "arr = [1,5,3,5,7,9,5]\n",
    "target = 5\n",
    "print(\"Target found at indices:\", find_all_occurences(arr,target))\n"
   ]
  },
  {
   "cell_type": "code",
   "execution_count": null,
   "id": "9477faf5-9a1d-4087-8fda-fad015c26490",
   "metadata": {},
   "outputs": [],
   "source": []
  }
 ],
 "metadata": {
  "kernelspec": {
   "display_name": "Python [conda env:base] *",
   "language": "python",
   "name": "conda-base-py"
  },
  "language_info": {
   "codemirror_mode": {
    "name": "ipython",
    "version": 3
   },
   "file_extension": ".py",
   "mimetype": "text/x-python",
   "name": "python",
   "nbconvert_exporter": "python",
   "pygments_lexer": "ipython3",
   "version": "3.12.7"
  }
 },
 "nbformat": 4,
 "nbformat_minor": 5
}
