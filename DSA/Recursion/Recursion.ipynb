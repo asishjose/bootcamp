{
 "cells": [
  {
   "cell_type": "markdown",
   "id": "b3dce66e-b35d-4ada-865e-f519b404c8e4",
   "metadata": {},
   "source": [
    "## Factorial Using Recursion"
   ]
  },
  {
   "cell_type": "code",
   "execution_count": 16,
   "id": "1e644bde-068a-4734-85d3-6c1a73ebba08",
   "metadata": {},
   "outputs": [
    {
     "name": "stdout",
     "output_type": "stream",
     "text": [
      "120\n"
     ]
    }
   ],
   "source": [
    "def factorial(n):\n",
    "    if n == 0 or n == 1:\n",
    "        return 1\n",
    "    return n * factorial(n-1)\n",
    "\n",
    "print(factorial(5))"
   ]
  },
  {
   "cell_type": "markdown",
   "id": "00d5cf57-1a65-46a9-a697-ff4e973fd656",
   "metadata": {},
   "source": [
    "## Fibonacci Series Using Recursion"
   ]
  },
  {
   "cell_type": "code",
   "execution_count": 31,
   "id": "482fa85c-8a67-4026-b2ff-4e625ff112be",
   "metadata": {},
   "outputs": [
    {
     "name": "stdout",
     "output_type": "stream",
     "text": [
      "13\n",
      "0 1 1 2 3 5 8 13 21 34 "
     ]
    }
   ],
   "source": [
    "def fibonacci(n):\n",
    "    if n == 0:\n",
    "        return 0\n",
    "    elif n == 1:\n",
    "        return 1\n",
    "    else:\n",
    "        return fibonacci(n-1) + fibonacci(n-2)\n",
    "\n",
    "print(fibonacci(7))  # fibonacci number in 'n'th position\n",
    "\n",
    "#generate first n fibonacci numbers\n",
    "n = 10\n",
    "for i in range(n):\n",
    "    print(fibonacci(i), end=\" \")"
   ]
  },
  {
   "cell_type": "markdown",
   "id": "c7d74477-66ec-4ff3-a3cc-1d5da23f775e",
   "metadata": {},
   "source": [
    "## Direct Recursion"
   ]
  },
  {
   "cell_type": "code",
   "execution_count": 34,
   "id": "24dd8120-ef2a-4f41-a91e-9ca310de6ce3",
   "metadata": {},
   "outputs": [
    {
     "name": "stdout",
     "output_type": "stream",
     "text": [
      "10\n",
      "9\n",
      "8\n",
      "7\n",
      "6\n",
      "5\n",
      "4\n",
      "3\n",
      "2\n",
      "1\n",
      "None\n"
     ]
    }
   ],
   "source": [
    "def direct(n):\n",
    "    if n == 0:\n",
    "        return\n",
    "    print(n)\n",
    "    direct(n-1)\n",
    "    \n",
    "print(direct(10))"
   ]
  },
  {
   "cell_type": "markdown",
   "id": "c3c660de-da0c-47b0-83b5-c917929b2fcb",
   "metadata": {},
   "source": [
    "## Indirect Recursion"
   ]
  },
  {
   "cell_type": "code",
   "execution_count": 37,
   "id": "6da4e18b-7380-4266-a439-159b7115b79e",
   "metadata": {},
   "outputs": [
    {
     "name": "stdout",
     "output_type": "stream",
     "text": [
      "10 9 4 3 1 "
     ]
    }
   ],
   "source": [
    "def funA(n):\n",
    "    if n>0:\n",
    "        print(n, end=\" \")\n",
    "        funB(n-1)\n",
    "\n",
    "def funB(n):\n",
    "    if n>0:\n",
    "        print(n, end=\" \")\n",
    "        funA(n//2)\n",
    "\n",
    "funA(10)"
   ]
  },
  {
   "cell_type": "markdown",
   "id": "aed2fc17-d6ef-4472-af3f-27b7e3ba2b97",
   "metadata": {},
   "source": [
    "## Tower of Hanoi"
   ]
  },
  {
   "cell_type": "markdown",
   "id": "558be343-08f5-43e1-9b91-dc601e03a09f",
   "metadata": {},
   "source": [
    "##### move n disks from Source (A) → Destination (C) using an Auxiliary rod (B)."
   ]
  },
  {
   "cell_type": "code",
   "execution_count": null,
   "id": "a20b97e5-60dc-494d-a19a-2b4adb73f788",
   "metadata": {},
   "outputs": [],
   "source": []
  }
 ],
 "metadata": {
  "kernelspec": {
   "display_name": "Python [conda env:base] *",
   "language": "python",
   "name": "conda-base-py"
  },
  "language_info": {
   "codemirror_mode": {
    "name": "ipython",
    "version": 3
   },
   "file_extension": ".py",
   "mimetype": "text/x-python",
   "name": "python",
   "nbconvert_exporter": "python",
   "pygments_lexer": "ipython3",
   "version": "3.12.7"
  }
 },
 "nbformat": 4,
 "nbformat_minor": 5
}
