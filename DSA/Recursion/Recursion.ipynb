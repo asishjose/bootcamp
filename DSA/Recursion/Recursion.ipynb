{
 "cells": [
  {
   "cell_type": "markdown",
   "id": "b3dce66e-b35d-4ada-865e-f519b404c8e4",
   "metadata": {
    "panel-layout": {
     "height": 50.8125,
     "visible": true,
     "width": 100
    }
   },
   "source": [
    "## Factorial Using Recursion"
   ]
  },
  {
   "cell_type": "code",
   "execution_count": 7,
   "id": "1e644bde-068a-4734-85d3-6c1a73ebba08",
   "metadata": {
    "panel-layout": {
     "height": 0,
     "visible": true,
     "width": 100
    }
   },
   "outputs": [
    {
     "name": "stdout",
     "output_type": "stream",
     "text": [
      "120\n"
     ]
    }
   ],
   "source": [
    "def factorial(n):\n",
    "    if n == 0 or n == 1:\n",
    "        return 1\n",
    "    return n * factorial(n-1)\n",
    "\n",
    "print(factorial(5))"
   ]
  },
  {
   "cell_type": "markdown",
   "id": "00d5cf57-1a65-46a9-a697-ff4e973fd656",
   "metadata": {
    "panel-layout": {
     "height": 50.8125,
     "visible": true,
     "width": 100
    }
   },
   "source": [
    "## Fibonacci Series Using Recursion"
   ]
  },
  {
   "cell_type": "code",
   "execution_count": 31,
   "id": "482fa85c-8a67-4026-b2ff-4e625ff112be",
   "metadata": {},
   "outputs": [
    {
     "name": "stdout",
     "output_type": "stream",
     "text": [
      "13\n",
      "0 1 1 2 3 5 8 13 21 34 "
     ]
    }
   ],
   "source": [
    "def fibonacci(n):\n",
    "    if n == 0:\n",
    "        return 0\n",
    "    elif n == 1:\n",
    "        return 1\n",
    "    else:\n",
    "        return fibonacci(n-1) + fibonacci(n-2)\n",
    "\n",
    "print(fibonacci(7))  # fibonacci number in 'n'th position\n",
    "\n",
    "#generate first n fibonacci numbers\n",
    "n = 10\n",
    "for i in range(n):\n",
    "    print(fibonacci(i), end=\" \")"
   ]
  },
  {
   "cell_type": "markdown",
   "id": "c7d74477-66ec-4ff3-a3cc-1d5da23f775e",
   "metadata": {
    "panel-layout": {
     "height": 50.8125,
     "visible": true,
     "width": 100
    }
   },
   "source": [
    "## Direct Recursion"
   ]
  },
  {
   "cell_type": "code",
   "execution_count": 34,
   "id": "24dd8120-ef2a-4f41-a91e-9ca310de6ce3",
   "metadata": {
    "panel-layout": {
     "height": 0,
     "visible": true,
     "width": 100
    }
   },
   "outputs": [
    {
     "name": "stdout",
     "output_type": "stream",
     "text": [
      "10\n",
      "9\n",
      "8\n",
      "7\n",
      "6\n",
      "5\n",
      "4\n",
      "3\n",
      "2\n",
      "1\n",
      "None\n"
     ]
    }
   ],
   "source": [
    "def direct(n):\n",
    "    if n == 0:\n",
    "        return\n",
    "    print(n)\n",
    "    direct(n-1)\n",
    "    \n",
    "print(direct(10))"
   ]
  },
  {
   "cell_type": "markdown",
   "id": "c3c660de-da0c-47b0-83b5-c917929b2fcb",
   "metadata": {
    "panel-layout": {
     "height": 50.8125,
     "visible": true,
     "width": 100
    }
   },
   "source": [
    "## Indirect Recursion"
   ]
  },
  {
   "cell_type": "code",
   "execution_count": 37,
   "id": "6da4e18b-7380-4266-a439-159b7115b79e",
   "metadata": {
    "panel-layout": {
     "height": 0,
     "visible": true,
     "width": 100
    }
   },
   "outputs": [
    {
     "name": "stdout",
     "output_type": "stream",
     "text": [
      "10 9 4 3 1 "
     ]
    }
   ],
   "source": [
    "def funA(n):\n",
    "    if n>0:\n",
    "        print(n, end=\" \")\n",
    "        funB(n-1)\n",
    "\n",
    "def funB(n):\n",
    "    if n>0:\n",
    "        print(n, end=\" \")\n",
    "        funA(n//2)\n",
    "\n",
    "funA(10)"
   ]
  },
  {
   "cell_type": "markdown",
   "id": "aed2fc17-d6ef-4472-af3f-27b7e3ba2b97",
   "metadata": {
    "panel-layout": {
     "height": 50.8125,
     "visible": true,
     "width": 100
    }
   },
   "source": [
    "## Tower of Hanoi"
   ]
  },
  {
   "cell_type": "markdown",
   "id": "558be343-08f5-43e1-9b91-dc601e03a09f",
   "metadata": {
    "panel-layout": {
     "height": 40.95000076293945,
     "visible": true,
     "width": 100
    }
   },
   "source": [
    "##### move n disks from Source (A) → Destination (C) using an Auxiliary rod (B)."
   ]
  },
  {
   "cell_type": "markdown",
   "id": "4f319a2a-86db-4371-8261-243da7c1fd66",
   "metadata": {
    "panel-layout": {
     "height": 50.8125,
     "visible": true,
     "width": 100
    }
   },
   "source": [
    "## Tail Recursion"
   ]
  },
  {
   "cell_type": "markdown",
   "id": "d299b687-5e35-4cdb-b703-2757520284fb",
   "metadata": {
    "panel-layout": {
     "height": 51.13750076293945,
     "visible": true,
     "width": 100
    }
   },
   "source": [
    "The recursive call is the last operation in the function. This can be optimized by compilers into an iterative loop."
   ]
  },
  {
   "cell_type": "code",
   "execution_count": 36,
   "id": "fa62bcb6-2b05-420e-96c2-b5e8b3750cb5",
   "metadata": {
    "panel-layout": {
     "height": 0,
     "visible": true,
     "width": 100
    }
   },
   "outputs": [
    {
     "name": "stdout",
     "output_type": "stream",
     "text": [
      "1\n"
     ]
    }
   ],
   "source": [
    "def tail_factorial(n, result=1):\n",
    "    if n==0:\n",
    "        return result\n",
    "    return tail_factorial(n-1, result*n)\n",
    "\n",
    "print(tail_factorial(0))"
   ]
  },
  {
   "cell_type": "markdown",
   "id": "bc7b907c-a3ee-4aec-aa72-10cff1c6cc24",
   "metadata": {
    "panel-layout": {
     "height": 50.8125,
     "visible": true,
     "width": 100
    }
   },
   "source": [
    "## Head Recursion"
   ]
  },
  {
   "cell_type": "markdown",
   "id": "58e3c787-243a-40bd-bd01-46c425734f49",
   "metadata": {
    "panel-layout": {
     "height": 51.13750076293945,
     "visible": true,
     "width": 100
    }
   },
   "source": [
    "The recursive call is the first operation in the function, before any computation"
   ]
  },
  {
   "cell_type": "code",
   "execution_count": 42,
   "id": "8980bd6e-75b1-4488-8918-4efb6e3b2406",
   "metadata": {
    "panel-layout": {
     "height": 0,
     "visible": true,
     "width": 100
    }
   },
   "outputs": [
    {
     "name": "stdout",
     "output_type": "stream",
     "text": [
      "1\n",
      "2\n",
      "3\n",
      "4\n",
      "5\n"
     ]
    }
   ],
   "source": [
    "def head_recursion(n):\n",
    "    if n == 0:\n",
    "        return\n",
    "    head_recursion(n-1)\n",
    "    print(n)\n",
    "\n",
    "head_recursion(5)"
   ]
  },
  {
   "cell_type": "markdown",
   "id": "81d315ce-7224-4bc6-8005-fd4c438c5e3b",
   "metadata": {
    "panel-layout": {
     "height": 84.4000015258789,
     "visible": true,
     "width": 100
    }
   },
   "source": [
    "## Tree Recursion\n",
    "A function makes more than one recursive call."
   ]
  },
  {
   "cell_type": "markdown",
   "id": "5ba0fbae-c061-4d14-8c13-0d35d805fd64",
   "metadata": {
    "panel-layout": {
     "height": 50.8125,
     "visible": true,
     "width": 100
    }
   },
   "source": [
    "## Reversing an array using recursion"
   ]
  },
  {
   "cell_type": "code",
   "execution_count": 52,
   "id": "ce48d629-9705-4df5-b4dc-f22e4ba0f105",
   "metadata": {
    "panel-layout": {
     "height": 0,
     "visible": true,
     "width": 100
    }
   },
   "outputs": [
    {
     "name": "stdout",
     "output_type": "stream",
     "text": [
      "[5, 4, 3, 2, 1]\n"
     ]
    }
   ],
   "source": [
    "def reverse_array(arr, left = 0, right = None):\n",
    "    if right is None:\n",
    "        right  = len(arr)-1\n",
    "    if left >= right:\n",
    "        return\n",
    "    arr[left], arr[right] = arr[right], arr[left]\n",
    "    reverse_array(arr, left+1, right-1)\n",
    "\n",
    "arr = [1,2,3,4,5]\n",
    "reverse_array(arr)\n",
    "print(arr)"
   ]
  },
  {
   "cell_type": "code",
   "execution_count": 60,
   "id": "a5278945-12a3-4ee7-9a70-fd60f0594711",
   "metadata": {
    "panel-layout": {
     "height": 0,
     "visible": true,
     "width": 100
    }
   },
   "outputs": [
    {
     "name": "stdout",
     "output_type": "stream",
     "text": [
      "Recursion is fun\n",
      "Recursion is fun\n",
      "Recursion is fun\n",
      "Recursion is fun\n",
      "Recursion is fun\n",
      "Recursion is fun\n",
      "Recursion is fun\n"
     ]
    }
   ],
   "source": [
    "def printing(n):\n",
    "    if n == 0:\n",
    "        return\n",
    "    print('Recursion is fun')\n",
    "    printing(n-1)\n",
    "\n",
    "printing(7)"
   ]
  },
  {
   "cell_type": "code",
   "execution_count": 68,
   "id": "2171a5d7-3ff9-4d72-8549-502c9d205d49",
   "metadata": {
    "panel-layout": {
     "height": 0,
     "visible": true,
     "width": 100
    }
   },
   "outputs": [
    {
     "name": "stdout",
     "output_type": "stream",
     "text": [
      "Asish\n",
      "Asish\n",
      "Asish\n",
      "Asish\n"
     ]
    }
   ],
   "source": [
    "def print_name(n, name):\n",
    "    if n == 0:\n",
    "        return\n",
    "    print(name)\n",
    "    print_name(n-1,name)\n",
    "\n",
    "print_name(4,'Asish')"
   ]
  },
  {
   "cell_type": "code",
   "execution_count": 85,
   "id": "5d9638ec-d65c-4be4-a339-3bd6b71b08e1",
   "metadata": {
    "panel-layout": {
     "height": 0,
     "visible": true,
     "width": 100
    }
   },
   "outputs": [
    {
     "name": "stdout",
     "output_type": "stream",
     "text": [
      "1\n",
      "2\n",
      "3\n",
      "4\n",
      "5\n"
     ]
    }
   ],
   "source": [
    "def print_nums(n,current = 1):\n",
    "    if current>n:\n",
    "        return\n",
    "    print(current)\n",
    "    print_nums(n, current+1)\n",
    "\n",
    "print_nums(5)"
   ]
  },
  {
   "cell_type": "code",
   "execution_count": 87,
   "id": "dc636ce5-cd68-49de-885b-757491c50ce2",
   "metadata": {
    "panel-layout": {
     "height": 0,
     "visible": true,
     "width": 100
    }
   },
   "outputs": [
    {
     "name": "stdout",
     "output_type": "stream",
     "text": [
      "5\n",
      "4\n",
      "3\n",
      "2\n",
      "1\n"
     ]
    }
   ],
   "source": [
    "def print_reverse(n):\n",
    "    if n == 0:\n",
    "        return\n",
    "    print(n)\n",
    "    print_reverse(n-1)\n",
    "\n",
    "print_reverse(5)"
   ]
  },
  {
   "cell_type": "code",
   "execution_count": 101,
   "id": "2162429c-ebe8-4bfb-be73-acf4bc2ad049",
   "metadata": {
    "panel-layout": {
     "height": 0,
     "visible": true,
     "width": 100
    }
   },
   "outputs": [
    {
     "name": "stdout",
     "output_type": "stream",
     "text": [
      "55\n"
     ]
    }
   ],
   "source": [
    "\n",
    "def sum_of_nums(n, sum = 0):\n",
    "    if n == 0:\n",
    "        return sum\n",
    "    return sum_of_nums(n-1, sum + n)\n",
    "\n",
    "print(sum_of_nums(10))"
   ]
  },
  {
   "cell_type": "code",
   "execution_count": 139,
   "id": "c3de2541-6dc0-4ad2-803a-9ca53f9ef800",
   "metadata": {
    "panel-layout": {
     "height": 0,
     "visible": true,
     "width": 100
    }
   },
   "outputs": [
    {
     "name": "stdout",
     "output_type": "stream",
     "text": [
      "120\n"
     ]
    }
   ],
   "source": [
    "def factorial(n):\n",
    "    if n == 0 or n == 1:\n",
    "        return 1\n",
    "    return n*factorial(n-1)\n",
    "\n",
    "print(factorial(5))"
   ]
  },
  {
   "cell_type": "markdown",
   "id": "53fb4acf-b531-4b95-b3d0-c1e3a369e64e",
   "metadata": {
    "panel-layout": {
     "height": 50.8125,
     "visible": true,
     "width": 100
    }
   },
   "source": [
    "## Palindrome"
   ]
  },
  {
   "cell_type": "code",
   "execution_count": 142,
   "id": "c0ffe46c-6021-4dd9-a737-6ef8b79fd43a",
   "metadata": {
    "panel-layout": {
     "height": 0,
     "visible": true,
     "width": 100
    }
   },
   "outputs": [
    {
     "name": "stdout",
     "output_type": "stream",
     "text": [
      "True\n"
     ]
    }
   ],
   "source": [
    "def is_palindrome(s, left = 0, right = None):\n",
    "    if right is None:\n",
    "        right = len(s)-1\n",
    "    if left >= right:\n",
    "        return True\n",
    "    if s[left] != s[right]:\n",
    "        return False\n",
    "    return is_palindrome(s, left+1, right-1)\n",
    "\n",
    "print(is_palindrome('malayalam'))"
   ]
  },
  {
   "cell_type": "code",
   "execution_count": null,
   "id": "a3b9f609-3598-431a-a370-db8843809380",
   "metadata": {},
   "outputs": [],
   "source": []
  }
 ],
 "metadata": {
  "kernelspec": {
   "display_name": "Python [conda env:base] *",
   "language": "python",
   "name": "conda-base-py"
  },
  "language_info": {
   "codemirror_mode": {
    "name": "ipython",
    "version": 3
   },
   "file_extension": ".py",
   "mimetype": "text/x-python",
   "name": "python",
   "nbconvert_exporter": "python",
   "pygments_lexer": "ipython3",
   "version": "3.12.7"
  },
  "panel-cell-order": [
   "b3dce66e-b35d-4ada-865e-f519b404c8e4",
   "1e644bde-068a-4734-85d3-6c1a73ebba08",
   "00d5cf57-1a65-46a9-a697-ff4e973fd656",
   "c7d74477-66ec-4ff3-a3cc-1d5da23f775e",
   "24dd8120-ef2a-4f41-a91e-9ca310de6ce3",
   "c3c660de-da0c-47b0-83b5-c917929b2fcb",
   "6da4e18b-7380-4266-a439-159b7115b79e",
   "aed2fc17-d6ef-4472-af3f-27b7e3ba2b97",
   "558be343-08f5-43e1-9b91-dc601e03a09f",
   "4f319a2a-86db-4371-8261-243da7c1fd66",
   "d299b687-5e35-4cdb-b703-2757520284fb",
   "fa62bcb6-2b05-420e-96c2-b5e8b3750cb5",
   "bc7b907c-a3ee-4aec-aa72-10cff1c6cc24",
   "58e3c787-243a-40bd-bd01-46c425734f49",
   "8980bd6e-75b1-4488-8918-4efb6e3b2406",
   "81d315ce-7224-4bc6-8005-fd4c438c5e3b",
   "5ba0fbae-c061-4d14-8c13-0d35d805fd64",
   "ce48d629-9705-4df5-b4dc-f22e4ba0f105",
   "a5278945-12a3-4ee7-9a70-fd60f0594711",
   "2171a5d7-3ff9-4d72-8549-502c9d205d49",
   "5d9638ec-d65c-4be4-a339-3bd6b71b08e1",
   "dc636ce5-cd68-49de-885b-757491c50ce2",
   "2162429c-ebe8-4bfb-be73-acf4bc2ad049",
   "c3de2541-6dc0-4ad2-803a-9ca53f9ef800",
   "53fb4acf-b531-4b95-b3d0-c1e3a369e64e",
   "c0ffe46c-6021-4dd9-a737-6ef8b79fd43a"
  ]
 },
 "nbformat": 4,
 "nbformat_minor": 5
}
