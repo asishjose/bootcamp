{
 "cells": [
  {
   "cell_type": "code",
   "execution_count": 1,
   "id": "02aa7241-004b-40a7-8850-f15caed2eae3",
   "metadata": {},
   "outputs": [],
   "source": [
    "class Node:\n",
    "    def __init__(self, key):\n",
    "        self.left = None\n",
    "        self.right =  None\n",
    "        self.val = key"
   ]
  },
  {
   "cell_type": "code",
   "execution_count": 3,
   "id": "d83e0371-9832-4a1b-9b10-f9fc66101362",
   "metadata": {},
   "outputs": [],
   "source": [
    "firstNode = Node(2)\n",
    "secondNode = Node(3)\n",
    "thirdNode = Node(4)\n",
    "fourthNode = Node(5)\n",
    "\n",
    "#connecting nodes\n",
    "firstNode.left = secondNode\n",
    "firstNode.right = thirdNode\n",
    "secondNode.left = fourthNode"
   ]
  },
  {
   "cell_type": "markdown",
   "id": "a21baa34-8745-4dd7-9f7c-50587fcdf674",
   "metadata": {},
   "source": [
    "# TRAVERSAL"
   ]
  },
  {
   "cell_type": "code",
   "execution_count": 15,
   "id": "5a5f7f1c-2f3c-4093-a1a3-d08b28724e7c",
   "metadata": {},
   "outputs": [
    {
     "name": "stdout",
     "output_type": "stream",
     "text": [
      "Inorder\n",
      "5 3 2 4 \n",
      "Preorder\n",
      "2 3 5 4 \n",
      "postorder\n",
      "5 3 4 2 \n",
      "bfs/level order\n",
      "2 3 4 5 "
     ]
    }
   ],
   "source": [
    "class Node:\n",
    "    def __init__(self, data):\n",
    "        self.data = data\n",
    "        self.left = None\n",
    "        self.right = None\n",
    "\n",
    "def in_order_dfs(node):\n",
    "    if node is None:\n",
    "        return\n",
    "    in_order_dfs(node.left)\n",
    "    print(node.data, end=' ')\n",
    "    in_order_dfs(node.right)\n",
    "\n",
    "def pre_order_dfs(node):\n",
    "    if node is None:\n",
    "        return\n",
    "    print(node.data, end=' ')\n",
    "    pre_order_dfs(node.left)\n",
    "    pre_order_dfs(node.right)\n",
    "\n",
    "def post_order_dfs(node):\n",
    "    if node is None:\n",
    "        return\n",
    "    post_order_dfs(node.left)\n",
    "    post_order_dfs(node.right)\n",
    "    print(node.data, end=' ')\n",
    "\n",
    "def bfs(root):\n",
    "    if root is None:\n",
    "        return\n",
    "    queue = [root]\n",
    "    while queue:\n",
    "        node = queue.pop(0)\n",
    "        print(node.data, end=\" \")\n",
    "        if node.left:\n",
    "            queue.append(node.left)\n",
    "        if node.right:\n",
    "            queue.append(node.right)\n",
    "\n",
    "root = Node(2)\n",
    "root.left = Node(3)\n",
    "root.right = Node(4)\n",
    "root.left.left = Node(5)\n",
    "\n",
    "print('Inorder')\n",
    "in_order_dfs(root)\n",
    "print()\n",
    "print('Preorder')\n",
    "pre_order_dfs(root)\n",
    "print()\n",
    "print('postorder')\n",
    "post_order_dfs(root)\n",
    "print()\n",
    "print('bfs/level order')\n",
    "bfs(root)"
   ]
  },
  {
   "cell_type": "markdown",
   "id": "02daa89e-5dd9-4197-b610-d82e5132cb2b",
   "metadata": {},
   "source": [
    "# INSERTION"
   ]
  },
  {
   "cell_type": "code",
   "execution_count": 38,
   "id": "84f8e27d-7785-4cf5-ab5f-98efe6181b95",
   "metadata": {},
   "outputs": [
    {
     "name": "stdout",
     "output_type": "stream",
     "text": [
      "before:\n",
      "5 3 2 4 \n",
      "after:\n",
      "5 3 6 2 4 \n"
     ]
    }
   ],
   "source": [
    "from collections import deque\n",
    "\n",
    "class Node:\n",
    "    def __init__(self,value):\n",
    "        self.data = value\n",
    "        self.right = None\n",
    "        self.left = None\n",
    "\n",
    "def insert(root, key):\n",
    "    if root is None:\n",
    "        return Node(key)\n",
    "\n",
    "    queue = deque([root])\n",
    "\n",
    "    while queue:\n",
    "        temp = queue.popleft()\n",
    "\n",
    "        if temp.left is None:\n",
    "            temp.left = Node(key)\n",
    "            break\n",
    "        else:\n",
    "            queue.append(temp.left)\n",
    "\n",
    "        if temp.right is None:\n",
    "            temp.right = Node(key)\n",
    "            break\n",
    "        else:\n",
    "            queue.append(temp.right)\n",
    "    return root\n",
    "\n",
    "def inorder(root):\n",
    "    if root is None:\n",
    "        return\n",
    "    inorder(root.left)\n",
    "    print(root.data, end = ' ')\n",
    "    inorder(root.right)\n",
    "\n",
    "root = Node(2)\n",
    "root.left = Node(3)\n",
    "root.right = Node(4)\n",
    "root.left.left = Node(5)\n",
    "\n",
    "print(\"before:\")\n",
    "inorder(root)\n",
    "print()\n",
    "\n",
    "key = 6\n",
    "root = insert(root,key)\n",
    "\n",
    "\n",
    "print('after:')\n",
    "inorder(root)\n",
    "print()"
   ]
  },
  {
   "cell_type": "markdown",
   "id": "435c6381-f3d9-469b-b45e-dfc6443c6ec1",
   "metadata": {},
   "source": [
    "# SEARCH"
   ]
  },
  {
   "cell_type": "code",
   "execution_count": 44,
   "id": "ebe02827-4b59-4af8-877d-3b82941d7cde",
   "metadata": {},
   "outputs": [
    {
     "name": "stdout",
     "output_type": "stream",
     "text": [
      "7 is not found in the binary tree\n"
     ]
    }
   ],
   "source": [
    "class Node:\n",
    "    def __init__(self, d):\n",
    "        self.data = d\n",
    "        self.left = None\n",
    "        self.right = None\n",
    "\n",
    "def searchDFS(root, value):\n",
    "    if root is None:\n",
    "        return False\n",
    "    if root.data == value:\n",
    "        return True\n",
    "    left_res = searchDFS(root.left, value)\n",
    "    right_res = searchDFS(root.right, value)\n",
    "\n",
    "    return left_res or right_res\n",
    "\n",
    "root = Node(2)\n",
    "root.left = Node(3)\n",
    "root.right = Node(4)\n",
    "root.left.left = Node(5)\n",
    "root.left.right = Node(6)\n",
    "\n",
    "value = 7\n",
    "if searchDFS(root, value):\n",
    "    print(f\"{value} is found in the binary tree\")\n",
    "else:\n",
    "    print(f\"{value} is not found in the binary tree\")\n",
    "    "
   ]
  },
  {
   "cell_type": "markdown",
   "id": "a19e4be1-ddbe-4c30-93fa-539110373ac1",
   "metadata": {},
   "source": [
    "# DELETION"
   ]
  },
  {
   "cell_type": "code",
   "execution_count": 4,
   "id": "38b4af12-599d-4865-af5e-a364e55cd1be",
   "metadata": {},
   "outputs": [
    {
     "name": "stdout",
     "output_type": "stream",
     "text": [
      "Original tree (in-order): 5 3 6 2 4 \n",
      "Tree after deleting 3 (in-order): 5 6 2 4 \n"
     ]
    }
   ],
   "source": [
    "from collections import deque\n",
    "\n",
    "class Node:\n",
    "    def __init__(self, d):\n",
    "        self.data = d\n",
    "        self.left = None\n",
    "        self.right = None\n",
    "\n",
    "# Function to delete a node from the binary tree\n",
    "def deleteNode(root, val):\n",
    "    if root is None:\n",
    "        return None\n",
    "\n",
    "    # Use a queue to perform BFS\n",
    "    queue = deque([root])\n",
    "    target = None\n",
    "\n",
    "    # Find the target node\n",
    "    while queue:\n",
    "        curr = queue.popleft()\n",
    "\n",
    "        if curr.data == val:\n",
    "            target = curr\n",
    "            break\n",
    "        if curr.left:\n",
    "            queue.append(curr.left)\n",
    "        if curr.right:\n",
    "            queue.append(curr.right)\n",
    "\n",
    "    if target is None:\n",
    "        return root\n",
    "\n",
    "    # Find the deepest rightmost node and its parent\n",
    "    last_node = None\n",
    "    last_parent = None\n",
    "    queue = deque([(root, None)])\n",
    "\n",
    "    while queue:\n",
    "        curr, parent = queue.popleft()\n",
    "        last_node = curr\n",
    "        last_parent = parent\n",
    "\n",
    "        if curr.left:\n",
    "            queue.append((curr.left, curr))\n",
    "        if curr.right:\n",
    "            queue.append((curr.right, curr))\n",
    "\n",
    "    # Replace target's value with the last node's value\n",
    "    target.data = last_node.data\n",
    "\n",
    "    # Remove the last node\n",
    "    if last_parent:\n",
    "        if last_parent.left == last_node:\n",
    "            last_parent.left = None\n",
    "        else:\n",
    "            last_parent.right = None\n",
    "    else:\n",
    "        return None\n",
    "    return root\n",
    "\n",
    "# In-order traversal\n",
    "def inorder(root):\n",
    "    if root is None:\n",
    "        return\n",
    "    inorder(root.left)\n",
    "    print(root.data, end=\" \")\n",
    "    inorder(root.right)\n",
    "\n",
    "\n",
    "root = Node(2)\n",
    "root.left = Node(3)\n",
    "root.right = Node(4)\n",
    "root.left.left = Node(5)\n",
    "root.left.right = Node(6)\n",
    "\n",
    "print(\"Original tree (in-order): \", end=\"\")\n",
    "inorder(root)\n",
    "print()\n",
    "\n",
    "val_to_del = 3\n",
    "root = deleteNode(root, val_to_del)\n",
    "\n",
    "print(f\"Tree after deleting {val_to_del} (in-order): \", end=\"\")\n",
    "inorder(root)\n",
    "print()\n"
   ]
  },
  {
   "cell_type": "code",
   "execution_count": null,
   "id": "02c28a3d-62cf-460c-b8c2-9e62cc49928a",
   "metadata": {},
   "outputs": [],
   "source": []
  }
 ],
 "metadata": {
  "kernelspec": {
   "display_name": "Python 3 (ipykernel)",
   "language": "python",
   "name": "python3"
  },
  "language_info": {
   "codemirror_mode": {
    "name": "ipython",
    "version": 3
   },
   "file_extension": ".py",
   "mimetype": "text/x-python",
   "name": "python",
   "nbconvert_exporter": "python",
   "pygments_lexer": "ipython3",
   "version": "3.12.3"
  }
 },
 "nbformat": 4,
 "nbformat_minor": 5
}
