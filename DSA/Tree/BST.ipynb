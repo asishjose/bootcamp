{
 "cells": [
  {
   "cell_type": "markdown",
   "id": "ed0fcde7-348a-4ea8-a442-3963382277b1",
   "metadata": {},
   "source": [
    "# Insertion in Binary Search Tree using Recursion:"
   ]
  },
  {
   "cell_type": "code",
   "execution_count": 1,
   "id": "cd2c67ef-cc55-4fdd-b52e-b9e092c9526b",
   "metadata": {},
   "outputs": [
    {
     "name": "stdout",
     "output_type": "stream",
     "text": [
      "20 30 40 50 60 70 80 "
     ]
    }
   ],
   "source": [
    "class Node:\n",
    "    def __init__(self,key):\n",
    "        self.left = None\n",
    "        self.right = None\n",
    "        self.val = key\n",
    "\n",
    "def insert(root, key):\n",
    "    if root is None:\n",
    "        return Node(key)\n",
    "    if root.val == key:\n",
    "        return root\n",
    "    if root.val < key:\n",
    "        root.right = insert(root.right, key)\n",
    "    else:\n",
    "        root.left = insert(root.left, key)\n",
    "    return root\n",
    "\n",
    "def inorder(root):\n",
    "    if root:\n",
    "        inorder(root.left)\n",
    "        print(root.val, end=' ')\n",
    "        inorder(root.right)\n",
    "\n",
    "r = Node(50)\n",
    "r = insert(r,30)\n",
    "r = insert(r, 20)\n",
    "r = insert(r, 40)\n",
    "r = insert(r, 70)\n",
    "r = insert(r, 60)\n",
    "r = insert(r, 80)\n",
    "\n",
    "inorder(r)"
   ]
  },
  {
   "cell_type": "markdown",
   "id": "d3f9f734-dc5e-4814-8b10-5e77cab3f1ff",
   "metadata": {},
   "source": [
    "# Searching in Binary Search Tree"
   ]
  },
  {
   "cell_type": "code",
   "execution_count": 2,
   "id": "efc469db-d00b-4412-bb1d-35fc16b92755",
   "metadata": {},
   "outputs": [
    {
     "name": "stdout",
     "output_type": "stream",
     "text": [
      "Not found!\n",
      "Found\n"
     ]
    }
   ],
   "source": [
    "class Node:\n",
    "    def __init__(self,key):\n",
    "        self.key = key\n",
    "        self.right = None\n",
    "        self.left = None\n",
    "\n",
    "def search(root, key):\n",
    "    if root is None or root.key == key:\n",
    "        return root\n",
    "    if root.key < key:\n",
    "        return search(root.right, key)\n",
    "    return search(root.left, key)\n",
    "\n",
    "root = Node(50)\n",
    "root.left = Node(30)\n",
    "root.right = Node(70)\n",
    "root.left.left = Node(20)\n",
    "root.left.right = Node(40)\n",
    "root.right.left = Node(60)\n",
    "root.right.right = Node(80)\n",
    "\n",
    "print(\"Found\" if search(root, 19) else \"Not found!\")\n",
    "print(\"Found\" if search(root, 80) else \"Not found\")"
   ]
  },
  {
   "cell_type": "markdown",
   "id": "2861dad4-15de-4da5-bd4c-3cbd93d7945b",
   "metadata": {},
   "source": [
    "# Deletion operation in a BST"
   ]
  },
  {
   "cell_type": "code",
   "execution_count": 9,
   "id": "2e123a5f-d7ca-49ae-bed1-3863a2e039a2",
   "metadata": {},
   "outputs": [
    {
     "name": "stdout",
     "output_type": "stream",
     "text": [
      "5 10 12 15 18 \n",
      "5 10 12 18 "
     ]
    }
   ],
   "source": [
    "class Node:\n",
    "    def __init__(self, key):\n",
    "        self.key = key\n",
    "        self.left = None\n",
    "        self.right = None\n",
    "\n",
    "def get_successor(curr):\n",
    "    curr = curr.right\n",
    "    while curr is not None and curr.left is not None:\n",
    "        curr = curr.left\n",
    "    return curr\n",
    "\n",
    "\n",
    "def del_node(root, x):\n",
    "    if root is None:\n",
    "        return root\n",
    "    if root.key > x:\n",
    "        root.left = del_node(root.left, x)\n",
    "    elif root.key < x:\n",
    "        root.right = del_node(root.right, x)\n",
    "    \n",
    "    else:\n",
    "        if root.left is None:\n",
    "            return root.right\n",
    "\n",
    "        if root.right is None:\n",
    "            return root.left\n",
    "\n",
    "        succ = get_successor(root)\n",
    "        root.key = succ.key\n",
    "        root.right = del_node(root.right, succ.key)\n",
    "    return root\n",
    "def inorder(root):\n",
    "    if root is not None:\n",
    "        inorder(root.left)\n",
    "        print(root.key, end=' ')\n",
    "        inorder(root.right)\n",
    "\n",
    "root = Node(10)\n",
    "root.left = Node(5)\n",
    "root.right = Node(15)\n",
    "root.right.left = Node(12)\n",
    "root.right.right = Node(18)\n",
    "x = 15\n",
    "\n",
    "inorder(root)\n",
    "print()\n",
    "root  = del_node(root,x)\n",
    "inorder(root)\n"
   ]
  },
  {
   "cell_type": "code",
   "execution_count": null,
   "id": "ebeecc43-eb6a-4d85-9e57-dd8797c3c231",
   "metadata": {},
   "outputs": [],
   "source": []
  }
 ],
 "metadata": {
  "kernelspec": {
   "display_name": "Python 3 (ipykernel)",
   "language": "python",
   "name": "python3"
  },
  "language_info": {
   "codemirror_mode": {
    "name": "ipython",
    "version": 3
   },
   "file_extension": ".py",
   "mimetype": "text/x-python",
   "name": "python",
   "nbconvert_exporter": "python",
   "pygments_lexer": "ipython3",
   "version": "3.12.3"
  }
 },
 "nbformat": 4,
 "nbformat_minor": 5
}
