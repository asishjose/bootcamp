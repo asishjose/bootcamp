{
 "cells": [
  {
   "cell_type": "markdown",
   "id": "ed0fcde7-348a-4ea8-a442-3963382277b1",
   "metadata": {},
   "source": [
    "# Insertion in Binary Search Tree using Recursion:"
   ]
  },
  {
   "cell_type": "code",
   "execution_count": 1,
   "id": "cd2c67ef-cc55-4fdd-b52e-b9e092c9526b",
   "metadata": {},
   "outputs": [
    {
     "name": "stdout",
     "output_type": "stream",
     "text": [
      "20 30 40 50 60 70 80 "
     ]
    }
   ],
   "source": [
    "class Node:\n",
    "    def __init__(self,key):\n",
    "        self.left = None\n",
    "        self.right = None\n",
    "        self.val = key\n",
    "\n",
    "def insert(root, key):\n",
    "    if root is None:\n",
    "        return Node(key)\n",
    "    if root.val == key:\n",
    "        return root\n",
    "    if root.val < key:\n",
    "        root.right = insert(root.right, key)\n",
    "    else:\n",
    "        root.left = insert(root.left, key)\n",
    "    return root\n",
    "\n",
    "def inorder(root):\n",
    "    if root:\n",
    "        inorder(root.left)\n",
    "        print(root.val, end=' ')\n",
    "        inorder(root.right)\n",
    "\n",
    "r = Node(50)\n",
    "r = insert(r,30)\n",
    "r = insert(r, 20)\n",
    "r = insert(r, 40)\n",
    "r = insert(r, 70)\n",
    "r = insert(r, 60)\n",
    "r = insert(r, 80)\n",
    "\n",
    "inorder(r)"
   ]
  },
  {
   "cell_type": "markdown",
   "id": "d3f9f734-dc5e-4814-8b10-5e77cab3f1ff",
   "metadata": {},
   "source": [
    "# Searching in Binary Search Tree"
   ]
  },
  {
   "cell_type": "code",
   "execution_count": 2,
   "id": "efc469db-d00b-4412-bb1d-35fc16b92755",
   "metadata": {},
   "outputs": [
    {
     "name": "stdout",
     "output_type": "stream",
     "text": [
      "Not found!\n",
      "Found\n"
     ]
    }
   ],
   "source": [
    "class Node:\n",
    "    def __init__(self,key):\n",
    "        self.key = key\n",
    "        self.right = None\n",
    "        self.left = None\n",
    "\n",
    "def search(root, key):\n",
    "    if root is None or root.key == key:\n",
    "        return root\n",
    "    if root.key < key:\n",
    "        return search(root.right, key)\n",
    "    return search(root.left, key)\n",
    "\n",
    "root = Node(50)\n",
    "root.left = Node(30)\n",
    "root.right = Node(70)\n",
    "root.left.left = Node(20)\n",
    "root.left.right = Node(40)\n",
    "root.right.left = Node(60)\n",
    "root.right.right = Node(80)\n",
    "\n",
    "print(\"Found\" if search(root, 19) else \"Not found!\")\n",
    "print(\"Found\" if search(root, 80) else \"Not found\")"
   ]
  },
  {
   "cell_type": "markdown",
   "id": "2861dad4-15de-4da5-bd4c-3cbd93d7945b",
   "metadata": {},
   "source": [
    "# Deletion operation in a BST"
   ]
  },
  {
   "cell_type": "code",
   "execution_count": 9,
   "id": "2e123a5f-d7ca-49ae-bed1-3863a2e039a2",
   "metadata": {},
   "outputs": [
    {
     "name": "stdout",
     "output_type": "stream",
     "text": [
      "5 10 12 15 18 \n",
      "5 10 12 18 "
     ]
    }
   ],
   "source": [
    "class Node:\n",
    "    def __init__(self, key):\n",
    "        self.key = key\n",
    "        self.left = None\n",
    "        self.right = None\n",
    "\n",
    "def get_successor(curr):\n",
    "    curr = curr.right\n",
    "    while curr is not None and curr.left is not None:\n",
    "        curr = curr.left\n",
    "    return curr\n",
    "\n",
    "\n",
    "def del_node(root, x):\n",
    "    if root is None:\n",
    "        return root\n",
    "    if root.key > x:\n",
    "        root.left = del_node(root.left, x)\n",
    "    elif root.key < x:\n",
    "        root.right = del_node(root.right, x)\n",
    "    \n",
    "    else:\n",
    "        if root.left is None:\n",
    "            return root.right\n",
    "\n",
    "        if root.right is None:\n",
    "            return root.left\n",
    "\n",
    "        succ = get_successor(root)\n",
    "        root.key = succ.key\n",
    "        root.right = del_node(root.right, succ.key)\n",
    "    return root\n",
    "def inorder(root):\n",
    "    if root is not None:\n",
    "        inorder(root.left)\n",
    "        print(root.key, end=' ')\n",
    "        inorder(root.right)\n",
    "\n",
    "root = Node(10)\n",
    "root.left = Node(5)\n",
    "root.right = Node(15)\n",
    "root.right.left = Node(12)\n",
    "root.right.right = Node(18)\n",
    "x = 15\n",
    "\n",
    "inorder(root)\n",
    "print()\n",
    "root  = del_node(root,x)\n",
    "inorder(root)\n"
   ]
  },
  {
   "cell_type": "markdown",
   "id": "f1f3a44d-2d7d-4f41-800e-933186d6cef1",
   "metadata": {},
   "source": [
    "# Binary Search Tree (BST) Traversals – Inorder, Preorder, Post Order"
   ]
  },
  {
   "cell_type": "code",
   "execution_count": 7,
   "id": "c1b57720-7165-427e-a907-794c6c4115e3",
   "metadata": {},
   "outputs": [
    {
     "name": "stdout",
     "output_type": "stream",
     "text": [
      "10 20 30 100 150 200 300 \n",
      "100 20 10 30 200 150 300 \n",
      "10 30 20 150 300 200 100 "
     ]
    }
   ],
   "source": [
    "class Node:\n",
    "    def __init__(self,v):\n",
    "        self.left = None\n",
    "        self.right = None\n",
    "        self.data = v\n",
    "\n",
    "def inorder(root):\n",
    "    if root:\n",
    "        inorder(root.left)\n",
    "        print(root.data, end=' ')\n",
    "        inorder(root.right)\n",
    "\n",
    "def preorder(node):\n",
    "    if node is None:\n",
    "        return\n",
    "    print(node.data, end=\" \")\n",
    "    preorder(node.left)\n",
    "    preorder(node.right)\n",
    "\n",
    "def postorder(node):\n",
    "    if node is None:\n",
    "        return\n",
    "    postorder(node.left)\n",
    "    postorder(node.right)\n",
    "    print(node.data, end=' ')\n",
    "\n",
    "root = Node(100)\n",
    "root.left = Node(20)\n",
    "root.right = Node(200)\n",
    "root.left.left = Node(10)\n",
    "root.left.right = Node(30)\n",
    "root.right.left = Node(150)\n",
    "root.right.right = Node(300)\n",
    "\n",
    "inorder(root)\n",
    "print()\n",
    "preorder(root)\n",
    "print()\n",
    "postorder(root)"
   ]
  },
  {
   "cell_type": "markdown",
   "id": "69b7eb94-85e1-4a54-8ff7-2888a52ed1df",
   "metadata": {},
   "source": [
    "# Check if a Binary Tree is BST or not"
   ]
  },
  {
   "cell_type": "markdown",
   "id": "1ab6eca9-68cc-4094-aead-965df8c22580",
   "metadata": {},
   "source": [
    "### Using Inorder Traversal – O(n) Time and O(h) Space"
   ]
  },
  {
   "cell_type": "code",
   "execution_count": 9,
   "id": "c5142404-2ba5-4ec5-9a6f-6cfb8cfb0974",
   "metadata": {},
   "outputs": [
    {
     "name": "stdout",
     "output_type": "stream",
     "text": [
      "False\n"
     ]
    }
   ],
   "source": [
    "class Node:\n",
    "    def __init__(self,value):\n",
    "        self.data = value\n",
    "        self.left = None\n",
    "        self.right = None\n",
    "\n",
    "def inorder(root,prev):\n",
    "    if root is None:\n",
    "        return True\n",
    "\n",
    "    if not inorder(root.left, prev):\n",
    "        return False\n",
    "\n",
    "    if prev[0] >= root.data:\n",
    "        return False\n",
    "    prev[0] = root.data\n",
    "    return inorder(root.right, prev)\n",
    "\n",
    "def isBST(root):\n",
    "    prev = [float('-inf')]\n",
    "    return inorder(root, prev)\n",
    "\n",
    "root = Node(10)\n",
    "root.left = Node(5)\n",
    "root.right = Node(20)\n",
    "root.right.left = Node(9)\n",
    "root.right.right = Node(25)\n",
    "\n",
    "if isBST(root):\n",
    "    print(\"True\")\n",
    "else:\n",
    "    print(\"False\")"
   ]
  },
  {
   "cell_type": "markdown",
   "id": "b551d058-2f0f-44cc-a8ce-0404661ce6ca",
   "metadata": {},
   "source": [
    "# Minimum in a BST"
   ]
  },
  {
   "cell_type": "code",
   "execution_count": 12,
   "id": "e02b96e8-0eda-4343-bcc9-060a71058804",
   "metadata": {},
   "outputs": [
    {
     "name": "stdout",
     "output_type": "stream",
     "text": [
      "1\n"
     ]
    }
   ],
   "source": [
    "class Node:\n",
    "    def __init__(self,data):\n",
    "        self.data = data\n",
    "        self.left = None\n",
    "        self.right = None\n",
    "\n",
    "def minValue(root):\n",
    "    if root is None:\n",
    "        return -1\n",
    "    curr = root\n",
    "    while curr.left is not None:\n",
    "        curr = curr.left\n",
    "    return curr.data\n",
    "\n",
    "root = Node(5)\n",
    "root.left = Node(4)\n",
    "root.right = Node(6)\n",
    "root.left.left = Node(3)\n",
    "root.right.right = Node(7)\n",
    "root.left.left.left = Node(1)\n",
    "\n",
    "print(minValue(root))"
   ]
  },
  {
   "cell_type": "markdown",
   "id": "b446878a-f34b-4bbd-b50f-2d0b7c961f6d",
   "metadata": {},
   "source": [
    "# Closest value in a BST"
   ]
  },
  {
   "cell_type": "code",
   "execution_count": 19,
   "id": "da5239c2-6d72-4570-81a3-22a500986d14",
   "metadata": {},
   "outputs": [
    {
     "name": "stdout",
     "output_type": "stream",
     "text": [
      "10\n",
      "22\n",
      "5\n"
     ]
    }
   ],
   "source": [
    "\n",
    "#--------------------------------------------\n",
    "def closest_val(root, target):\n",
    "    closest = root.data\n",
    "    current = root\n",
    "    \n",
    "    while current:\n",
    "        if abs(target - current.data) < abs(target - closest):\n",
    "            closest = current.data\n",
    "    \n",
    "        if target < current.data:\n",
    "            current = current.left\n",
    "        elif target > current.data:\n",
    "            current = current.right\n",
    "        else:\n",
    "            break\n",
    "    return closest\n",
    "#------------------------------------------------------------\n",
    "\n",
    "class Node:\n",
    "    def __init__(self,data):\n",
    "        self.data = data\n",
    "        self.left = None\n",
    "        self.right = None\n",
    "root = Node(10)\n",
    "root.left = Node(5)\n",
    "root.left.left = Node(2)\n",
    "root.left.right = Node(5)\n",
    "root.right = Node(15)\n",
    "root.right.right = Node(22) \n",
    "\n",
    "print(closest_val(root, 12)) \n",
    "print(closest_val(root, 23))  \n",
    "print(closest_val(root, 4))"
   ]
  },
  {
   "cell_type": "code",
   "execution_count": null,
   "id": "f56a2696-39db-4692-8d2a-1b3d014461a9",
   "metadata": {},
   "outputs": [],
   "source": []
  }
 ],
 "metadata": {
  "kernelspec": {
   "display_name": "Python 3 (ipykernel)",
   "language": "python",
   "name": "python3"
  },
  "language_info": {
   "codemirror_mode": {
    "name": "ipython",
    "version": 3
   },
   "file_extension": ".py",
   "mimetype": "text/x-python",
   "name": "python",
   "nbconvert_exporter": "python",
   "pygments_lexer": "ipython3",
   "version": "3.12.3"
  }
 },
 "nbformat": 4,
 "nbformat_minor": 5
}
