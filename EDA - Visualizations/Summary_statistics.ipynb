{
 "cells": [
  {
   "cell_type": "markdown",
   "id": "050a420f-61d0-49fe-9d7a-171e40d753d4",
   "metadata": {},
   "source": [
    "## Summary statistics \n",
    "### give a quick overview of the shape, center, and spread of a dataset. These values help you understand the data before applying machine learning models."
   ]
  },
  {
   "cell_type": "code",
   "execution_count": 3,
   "id": "56eadd9d-78a7-45ff-9100-cb9aab5b0abb",
   "metadata": {},
   "outputs": [],
   "source": [
    "import seaborn as sns\n",
    "data = sns.load_dataset('tips')"
   ]
  },
  {
   "cell_type": "code",
   "execution_count": 5,
   "id": "097f5b5e-4aed-4bb3-b138-6ef05017a18d",
   "metadata": {},
   "outputs": [
    {
     "data": {
      "text/html": [
       "<div>\n",
       "<style scoped>\n",
       "    .dataframe tbody tr th:only-of-type {\n",
       "        vertical-align: middle;\n",
       "    }\n",
       "\n",
       "    .dataframe tbody tr th {\n",
       "        vertical-align: top;\n",
       "    }\n",
       "\n",
       "    .dataframe thead th {\n",
       "        text-align: right;\n",
       "    }\n",
       "</style>\n",
       "<table border=\"1\" class=\"dataframe\">\n",
       "  <thead>\n",
       "    <tr style=\"text-align: right;\">\n",
       "      <th></th>\n",
       "      <th>total_bill</th>\n",
       "      <th>tip</th>\n",
       "      <th>sex</th>\n",
       "      <th>smoker</th>\n",
       "      <th>day</th>\n",
       "      <th>time</th>\n",
       "      <th>size</th>\n",
       "    </tr>\n",
       "  </thead>\n",
       "  <tbody>\n",
       "    <tr>\n",
       "      <th>0</th>\n",
       "      <td>16.99</td>\n",
       "      <td>1.01</td>\n",
       "      <td>Female</td>\n",
       "      <td>No</td>\n",
       "      <td>Sun</td>\n",
       "      <td>Dinner</td>\n",
       "      <td>2</td>\n",
       "    </tr>\n",
       "    <tr>\n",
       "      <th>1</th>\n",
       "      <td>10.34</td>\n",
       "      <td>1.66</td>\n",
       "      <td>Male</td>\n",
       "      <td>No</td>\n",
       "      <td>Sun</td>\n",
       "      <td>Dinner</td>\n",
       "      <td>3</td>\n",
       "    </tr>\n",
       "    <tr>\n",
       "      <th>2</th>\n",
       "      <td>21.01</td>\n",
       "      <td>3.50</td>\n",
       "      <td>Male</td>\n",
       "      <td>No</td>\n",
       "      <td>Sun</td>\n",
       "      <td>Dinner</td>\n",
       "      <td>3</td>\n",
       "    </tr>\n",
       "    <tr>\n",
       "      <th>3</th>\n",
       "      <td>23.68</td>\n",
       "      <td>3.31</td>\n",
       "      <td>Male</td>\n",
       "      <td>No</td>\n",
       "      <td>Sun</td>\n",
       "      <td>Dinner</td>\n",
       "      <td>2</td>\n",
       "    </tr>\n",
       "    <tr>\n",
       "      <th>4</th>\n",
       "      <td>24.59</td>\n",
       "      <td>3.61</td>\n",
       "      <td>Female</td>\n",
       "      <td>No</td>\n",
       "      <td>Sun</td>\n",
       "      <td>Dinner</td>\n",
       "      <td>4</td>\n",
       "    </tr>\n",
       "    <tr>\n",
       "      <th>...</th>\n",
       "      <td>...</td>\n",
       "      <td>...</td>\n",
       "      <td>...</td>\n",
       "      <td>...</td>\n",
       "      <td>...</td>\n",
       "      <td>...</td>\n",
       "      <td>...</td>\n",
       "    </tr>\n",
       "    <tr>\n",
       "      <th>239</th>\n",
       "      <td>29.03</td>\n",
       "      <td>5.92</td>\n",
       "      <td>Male</td>\n",
       "      <td>No</td>\n",
       "      <td>Sat</td>\n",
       "      <td>Dinner</td>\n",
       "      <td>3</td>\n",
       "    </tr>\n",
       "    <tr>\n",
       "      <th>240</th>\n",
       "      <td>27.18</td>\n",
       "      <td>2.00</td>\n",
       "      <td>Female</td>\n",
       "      <td>Yes</td>\n",
       "      <td>Sat</td>\n",
       "      <td>Dinner</td>\n",
       "      <td>2</td>\n",
       "    </tr>\n",
       "    <tr>\n",
       "      <th>241</th>\n",
       "      <td>22.67</td>\n",
       "      <td>2.00</td>\n",
       "      <td>Male</td>\n",
       "      <td>Yes</td>\n",
       "      <td>Sat</td>\n",
       "      <td>Dinner</td>\n",
       "      <td>2</td>\n",
       "    </tr>\n",
       "    <tr>\n",
       "      <th>242</th>\n",
       "      <td>17.82</td>\n",
       "      <td>1.75</td>\n",
       "      <td>Male</td>\n",
       "      <td>No</td>\n",
       "      <td>Sat</td>\n",
       "      <td>Dinner</td>\n",
       "      <td>2</td>\n",
       "    </tr>\n",
       "    <tr>\n",
       "      <th>243</th>\n",
       "      <td>18.78</td>\n",
       "      <td>3.00</td>\n",
       "      <td>Female</td>\n",
       "      <td>No</td>\n",
       "      <td>Thur</td>\n",
       "      <td>Dinner</td>\n",
       "      <td>2</td>\n",
       "    </tr>\n",
       "  </tbody>\n",
       "</table>\n",
       "<p>244 rows × 7 columns</p>\n",
       "</div>"
      ],
      "text/plain": [
       "     total_bill   tip     sex smoker   day    time  size\n",
       "0         16.99  1.01  Female     No   Sun  Dinner     2\n",
       "1         10.34  1.66    Male     No   Sun  Dinner     3\n",
       "2         21.01  3.50    Male     No   Sun  Dinner     3\n",
       "3         23.68  3.31    Male     No   Sun  Dinner     2\n",
       "4         24.59  3.61  Female     No   Sun  Dinner     4\n",
       "..          ...   ...     ...    ...   ...     ...   ...\n",
       "239       29.03  5.92    Male     No   Sat  Dinner     3\n",
       "240       27.18  2.00  Female    Yes   Sat  Dinner     2\n",
       "241       22.67  2.00    Male    Yes   Sat  Dinner     2\n",
       "242       17.82  1.75    Male     No   Sat  Dinner     2\n",
       "243       18.78  3.00  Female     No  Thur  Dinner     2\n",
       "\n",
       "[244 rows x 7 columns]"
      ]
     },
     "execution_count": 5,
     "metadata": {},
     "output_type": "execute_result"
    }
   ],
   "source": [
    "data\n"
   ]
  },
  {
   "cell_type": "markdown",
   "id": "461761b5-d6c2-41d4-a5a4-519c8429ea06",
   "metadata": {},
   "source": [
    "## central Tendency"
   ]
  },
  {
   "cell_type": "code",
   "execution_count": 14,
   "id": "e4443364-1c0e-4268-ae7e-7ab08b29e66a",
   "metadata": {},
   "outputs": [],
   "source": [
    "import numpy as np\n",
    "mean = np.mean(data.total_bill)\n",
    "median = np.median(data.tip)\n",
    "mode = data.day.mode()[0]"
   ]
  },
  {
   "cell_type": "code",
   "execution_count": 15,
   "id": "bec28cb0-ca78-41a5-9913-b6498f7c9064",
   "metadata": {},
   "outputs": [
    {
     "name": "stdout",
     "output_type": "stream",
     "text": [
      "19.78594262295082 2.9 Sat\n"
     ]
    }
   ],
   "source": [
    "print(mean, median, mode)"
   ]
  },
  {
   "cell_type": "markdown",
   "id": "df9fb462-ae78-42fd-8cea-dcb582156feb",
   "metadata": {},
   "source": [
    "## Dispersion"
   ]
  },
  {
   "cell_type": "code",
   "execution_count": 17,
   "id": "794f2084-5c51-47f9-9c6b-dcac2a834c70",
   "metadata": {},
   "outputs": [
    {
     "data": {
      "text/plain": [
       "np.float64(1.3807999538298954)"
      ]
     },
     "execution_count": 17,
     "metadata": {},
     "output_type": "execute_result"
    }
   ],
   "source": [
    "np.std(data.tip)"
   ]
  },
  {
   "cell_type": "code",
   "execution_count": 18,
   "id": "f137439e-4dc6-4b45-894d-40740b04671f",
   "metadata": {},
   "outputs": [
    {
     "data": {
      "text/plain": [
       "np.float64(78.92813148851114)"
      ]
     },
     "execution_count": 18,
     "metadata": {},
     "output_type": "execute_result"
    }
   ],
   "source": [
    "np.var(data['total_bill'])"
   ]
  },
  {
   "cell_type": "markdown",
   "id": "08c5c18c-4210-42e3-acb3-e7b22f6140a1",
   "metadata": {},
   "source": [
    "## Distribution Analysis"
   ]
  },
  {
   "cell_type": "markdown",
   "id": "27c87af8-917a-4f59-89ca-a6a917551291",
   "metadata": {},
   "source": [
    "#### Skewness\n",
    "##### Shows the asymmetry of the data distribution:\n",
    "\n",
    "##### Positive skew → Tail on the right (longer)\n",
    "\n",
    "##### Negative skew → Tail on the left"
   ]
  },
  {
   "cell_type": "markdown",
   "id": "7cad61f9-bda6-4d56-ac06-285976fb3f0b",
   "metadata": {},
   "source": [
    "#### Kurtosis\n",
    "##### Describes the \"tailedness\" of the distribution:\n",
    "\n",
    "##### High kurtosis → More outliers (heavy tails)\n",
    "\n",
    "##### Low kurtosis → Fewer outliers (light tails)"
   ]
  },
  {
   "cell_type": "code",
   "execution_count": 19,
   "id": "7106192e-7dcc-48d5-8eb5-4984e761a25a",
   "metadata": {},
   "outputs": [],
   "source": [
    "from scipy.stats import skew\n",
    "from scipy.stats import kurtosis\n",
    "\n",
    "skewness = skew(data.tip)\n",
    "kurt = kurtosis(data.tip)\n"
   ]
  },
  {
   "cell_type": "code",
   "execution_count": 20,
   "id": "09a9bcd2-d4d3-48ca-8426-200527bf35d5",
   "metadata": {},
   "outputs": [
    {
     "data": {
      "text/plain": [
       "np.float64(1.4564266884221506)"
      ]
     },
     "execution_count": 20,
     "metadata": {},
     "output_type": "execute_result"
    }
   ],
   "source": [
    "skewness"
   ]
  },
  {
   "cell_type": "code",
   "execution_count": 23,
   "id": "0623fa23-142b-498c-9d64-b6974eb8ee39",
   "metadata": {},
   "outputs": [
    {
     "data": {
      "text/plain": [
       "np.float64(3.5495519893455114)"
      ]
     },
     "execution_count": 23,
     "metadata": {},
     "output_type": "execute_result"
    }
   ],
   "source": [
    "kurt"
   ]
  },
  {
   "cell_type": "code",
   "execution_count": 30,
   "id": "d00a2adc-23dc-400d-b563-682dde1657e2",
   "metadata": {},
   "outputs": [
    {
     "data": {
      "image/png": "[encoded data removed]",
      "text/plain": [
       "<Figure size 640x480 with 1 Axes>"
      ]
     },
     "metadata": {},
     "output_type": "display_data"
    }
   ],
   "source": [
    "import matplotlib.pyplot as plt\n",
    "import seaborn as sns\n",
    "sns.histplot(data.tip, bins=30, kde=True)"
   ]
  },
  {
   "cell_type": "markdown",
   "id": "a640c7d5-a588-4017-ad9f-2349ebe23f85",
   "metadata": {},
   "source": [
    "📊 Interpretation of Skewness = 1.4564\n",
    "This is a positive skew, meaning the distribution is right-skewed.\n",
    "\n",
    "Most tip values are concentrated on the lower end, but a few high tips stretch the distribution to the right.\n",
    "\n",
    "In short: many small tips, few large tips.\n",
    "\n",
    "📌 Implication: Mean > Median — average tips are pulled up by those high values.\n",
    "\n",
    "📊 Interpretation of Kurtosis = 3.5496\n",
    "A kurtosis value > 3 indicates a leptokurtic distribution.\n",
    "\n",
    "This means the tip distribution has heavier tails and a sharper peak than a normal distribution.\n",
    "\n",
    "In other words: more frequent outliers — unusually high or low tips compared to normal.\n",
    "\n",
    "🧠 Summary\n",
    "The tip column is right-skewed with heavy tails. Most customers leave small tips, but there's a noticeable number of generous tippers who tip far above average."
   ]
  },
  {
   "cell_type": "code",
   "execution_count": 32,
   "id": "abb445e0-99e8-4c7a-9341-265ff225156e",
   "metadata": {},
   "outputs": [],
   "source": [
    "data['log_tip'] = np.log1p(data['tip'])"
   ]
  },
  {
   "cell_type": "code",
   "execution_count": 34,
   "id": "d3327b85-5043-41b8-a74b-1bb12247ea79",
   "metadata": {},
   "outputs": [
    {
     "data": {
      "text/plain": [
       "<Axes: xlabel='log_tip', ylabel='Count'>"
      ]
     },
     "execution_count": 34,
     "metadata": {},
     "output_type": "execute_result"
    },
    {
     "data": {
      "image/png": "[encoded data removed]",
      "text/plain": [
       "<Figure size 640x480 with 1 Axes>"
      ]
     },
     "metadata": {},
     "output_type": "display_data"
    }
   ],
   "source": [
    "import seaborn as sns\n",
    "sns.histplot(data.log_tip, bins=30, kde=True)"
   ]
  },
  {
   "cell_type": "code",
   "execution_count": 35,
   "id": "abaa7535-aa81-4433-b823-26c48c0485e9",
   "metadata": {},
   "outputs": [
    {
     "data": {
      "text/plain": [
       "np.float64(0.3781513352002364)"
      ]
     },
     "execution_count": 35,
     "metadata": {},
     "output_type": "execute_result"
    }
   ],
   "source": [
    "skew(data.log_tip)"
   ]
  },
  {
   "cell_type": "code",
   "execution_count": 36,
   "id": "5f37103c-5587-4272-82ca-34b8fffc08a3",
   "metadata": {},
   "outputs": [
    {
     "data": {
      "text/plain": [
       "np.float64(-0.006838953387377611)"
      ]
     },
     "execution_count": 36,
     "metadata": {},
     "output_type": "execute_result"
    }
   ],
   "source": [
    "kurtosis(data.log_tip)"
   ]
  },
  {
   "cell_type": "markdown",
   "id": "abece098-0f94-40bd-b770-2d448698c77e",
   "metadata": {},
   "source": [
    " Interpretation (After Transformation)\n",
    "📈 Skewness ≈ 0.378\n",
    "This is close to 0, indicating the distribution is nearly symmetric.\n",
    "\n",
    "A slight positive skew remains, but it's within acceptable limits.\n",
    "\n",
    "✅ Well-balanced — no strong asymmetry.\n",
    "\n",
    "📊 Kurtosis ≈ -0.0068\n",
    "This is very close to 0, which means the distribution is now mesokurtic (similar to a normal distribution).\n",
    "\n",
    "✅ No heavy tails or sharp peak — ideal for many statistical models."
   ]
  },
  {
   "cell_type": "code",
   "execution_count": null,
   "id": "338b40d4-cd81-4c6b-b0c7-637e5d930664",
   "metadata": {},
   "outputs": [],
   "source": []
  }
 ],
 "metadata": {
  "kernelspec": {
   "display_name": "Python 3 (ipykernel)",
   "language": "python",
   "name": "python3"
  },
  "language_info": {
   "codemirror_mode": {
    "name": "ipython",
    "version": 3
   },
   "file_extension": ".py",
   "mimetype": "text/x-python",
   "name": "python",
   "nbconvert_exporter": "python",
   "pygments_lexer": "ipython3",
   "version": "3.12.3"
  }
 },
 "nbformat": 4,
 "nbformat_minor": 5
}
