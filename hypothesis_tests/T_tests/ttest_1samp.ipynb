{
 "cells": [
  {
   "cell_type": "markdown",
   "id": "17f27d98-27d2-41ba-8e2a-067349cae37e",
   "metadata": {},
   "source": [
    "### using Builtin fun"
   ]
  },
  {
   "cell_type": "code",
   "execution_count": 2,
   "id": "51867319-6945-4101-ae8b-977ef83a701f",
   "metadata": {},
   "outputs": [
    {
     "name": "stdout",
     "output_type": "stream",
     "text": [
      "Sample Data: [480, 490, 475, 495, 485, 470, 460, 490, 500, 470]\n",
      "Hypothesized Mean: 500\n",
      "T-Statistic: -4.6051\n",
      "P-Value: 0.0013\n",
      "Conclusion: Reject the null hypothesis (p < 0.05).\n",
      "The sample mean significantly differs from the hypothesized mean.\n"
     ]
    }
   ],
   "source": [
    "import numpy as np\n",
    "from scipy.stats import ttest_1samp\n",
    "\n",
    "# Example: Battery life data\n",
    "sample_data = [480, 490, 475, 495, 485, 470, 460, 490, 500, 470]  # Sample battery lifetimes\n",
    "hypothesized_mean = 500  # Population mean (claimed mean)\n",
    "\n",
    "# Perform the one-sample t-test\n",
    "t_statistic, p_value = ttest_1samp(sample_data, hypothesized_mean)\n",
    "\n",
    "# Significance level\n",
    "alpha = 0.05\n",
    "\n",
    "# Print the results\n",
    "print(f\"Sample Data: {sample_data}\")\n",
    "print(f\"Hypothesized Mean: {hypothesized_mean}\")\n",
    "print(f\"T-Statistic: {t_statistic:.4f}\")\n",
    "print(f\"P-Value: {p_value:.4f}\")\n",
    "\n",
    "# Conclusion\n",
    "if p_value < alpha:\n",
    "    print(f\"Conclusion: Reject the null hypothesis (p < {alpha}).\")\n",
    "    print(\"The sample mean significantly differs from the hypothesized mean.\")\n",
    "else:\n",
    "    print(f\"Conclusion: Fail to reject the null hypothesis (p >= {alpha}).\")\n",
    "    print(\"The sample mean does not significantly differ from the hypothesized mean.\")\n"
   ]
  },
  {
   "cell_type": "markdown",
   "id": "afd7bfe5-76a5-4cd9-a8bf-a0d71c2270fb",
   "metadata": {},
   "source": [
    "### from Scratch"
   ]
  },
  {
   "cell_type": "code",
   "execution_count": 2,
   "id": "98579bbd-f9af-4b58-95e5-f3aef57b2719",
   "metadata": {},
   "outputs": [
    {
     "name": "stdout",
     "output_type": "stream",
     "text": [
      "Sample Data: [480, 490, 475, 495, 485, 470, 460, 490, 500, 470]\n",
      "Hypothesized Mean: 500\n",
      "Sample Mean: 481.5000\n",
      "Sample Standard Deviation: 12.7039\n",
      "T-Statistic: -4.6051\n",
      "P-Value: 0.0013\n",
      "Conclusion: Reject the null hypothesis (p < 0.05).\n",
      "The sample mean significantly differs from the hypothesized mean.\n"
     ]
    }
   ],
   "source": [
    "import math\n",
    "from scipy.stats import t  # Only for finding the critical p-value\n",
    "\n",
    "# Step 1: Define the sample data and hypothesized mean\n",
    "sample_data = [480, 490, 475, 495, 485, 470, 460, 490, 500, 470]\n",
    "hypothesized_mean = 500\n",
    "n = len(sample_data)  # Sample size\n",
    "\n",
    "# Step 2: Compute the sample mean\n",
    "sample_mean = sum(sample_data) / n\n",
    "\n",
    "# Step 3: Compute the sample standard deviation\n",
    "sample_variance = sum((x - sample_mean) ** 2 for x in sample_data) / (n - 1)\n",
    "sample_std_dev = math.sqrt(sample_variance)\n",
    "\n",
    "# Step 4: Compute the t-statistic\n",
    "t_statistic = (sample_mean - hypothesized_mean) / (sample_std_dev / math.sqrt(n))\n",
    "\n",
    "# Step 5: Compute the degrees of freedom\n",
    "degrees_of_freedom = n - 1\n",
    "\n",
    "# Step 6: Compute the p-value (two-tailed)\n",
    "# Using the t-distribution's CDF\n",
    "p_value = 2 * t.cdf(-abs(t_statistic), degrees_of_freedom)\n",
    "\n",
    "# Step 7: Output the results\n",
    "print(f\"Sample Data: {sample_data}\")\n",
    "print(f\"Hypothesized Mean: {hypothesized_mean}\")\n",
    "print(f\"Sample Mean: {sample_mean:.4f}\")\n",
    "print(f\"Sample Standard Deviation: {sample_std_dev:.4f}\")\n",
    "print(f\"T-Statistic: {t_statistic:.4f}\")\n",
    "print(f\"P-Value: {p_value:.4f}\")\n",
    "\n",
    "# Conclusion\n",
    "alpha = 0.05\n",
    "if p_value < alpha:\n",
    "    print(f\"Conclusion: Reject the null hypothesis (p < {alpha}).\")\n",
    "    print(\"The sample mean significantly differs from the hypothesized mean.\")\n",
    "else:\n",
    "    print(f\"Conclusion: Fail to reject the null hypothesis (p >= {alpha}).\")\n",
    "    print(\"The sample mean does not significantly differ from the hypothesized mean.\")\n"
   ]
  },
  {
   "cell_type": "code",
   "execution_count": 4,
   "id": "c7dfff2c-2079-40cb-a948-f4b89b983aff",
   "metadata": {},
   "outputs": [
    {
     "data": {
      "text/plain": [
       "161.38888888888889"
      ]
     },
     "execution_count": 4,
     "metadata": {},
     "output_type": "execute_result"
    }
   ],
   "source": [
    "sample_variance"
   ]
  },
  {
   "cell_type": "code",
   "execution_count": null,
   "id": "3b690634-bfbd-4dde-8a25-3b725c849485",
   "metadata": {},
   "outputs": [],
   "source": []
  }
 ],
 "metadata": {
  "kernelspec": {
   "display_name": "Python [conda env:base] *",
   "language": "python",
   "name": "conda-base-py"
  },
  "language_info": {
   "codemirror_mode": {
    "name": "ipython",
    "version": 3
   },
   "file_extension": ".py",
   "mimetype": "text/x-python",
   "name": "python",
   "nbconvert_exporter": "python",
   "pygments_lexer": "ipython3",
   "version": "3.12.7"
  }
 },
 "nbformat": 4,
 "nbformat_minor": 5
}
