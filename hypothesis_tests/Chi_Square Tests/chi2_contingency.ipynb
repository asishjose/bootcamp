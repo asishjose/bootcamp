{
 "cells": [
  {
   "cell_type": "markdown",
   "id": "6151e91a-6b7d-48f7-9b86-d16cf0b550d4",
   "metadata": {},
   "source": [
    "### Contigency Table"
   ]
  },
  {
   "cell_type": "code",
   "execution_count": 6,
   "id": "f749c070-f281-47ab-b53c-ec0d4a246ca9",
   "metadata": {},
   "outputs": [
    {
     "name": "stdout",
     "output_type": "stream",
     "text": [
      "Preference  A  B\n",
      "Gender          \n",
      "Female      2  2\n",
      "Male        3  1\n"
     ]
    }
   ],
   "source": [
    "import pandas as pd\n",
    "\n",
    "# Example data\n",
    "data = {\n",
    "    \"Gender\": [\"Male\", \"Female\", \"Male\", \"Female\", \"Male\", \"Female\", \"Male\", \"Female\"],\n",
    "    \"Preference\": [\"A\", \"B\", \"A\", \"A\", \"B\", \"A\", \"A\", \"B\"]\n",
    "}\n",
    "\n",
    "# Create a DataFrame\n",
    "df = pd.DataFrame(data)\n",
    "\n",
    "# Generate a contingency table\n",
    "contingency_table = pd.crosstab(df['Gender'], df['Preference'])\n",
    "\n",
    "# Display the table\n",
    "print(contingency_table)\n"
   ]
  },
  {
   "cell_type": "code",
   "execution_count": 8,
   "id": "0ca89ea6-b85f-4b21-a128-6e36b1adfa17",
   "metadata": {},
   "outputs": [
    {
     "name": "stdout",
     "output_type": "stream",
     "text": [
      "Chi-Square Statistic: 0.0\n",
      "p-value: 1.0\n",
      "Degrees of Freedom: 1\n",
      "Expected Frequencies:\n",
      "[[2.5 1.5]\n",
      " [2.5 1.5]]\n",
      "Fail to reject the null hypothesis: Product preference is independent of gender.\n"
     ]
    }
   ],
   "source": [
    "import numpy as np\n",
    "from scipy.stats import chi2_contingency\n",
    "\n",
    "# Observed data (contingency table)\n",
    "# Rows: Gender (Male, Female)\n",
    "# Columns: Product Preference (A, B)\n",
    "data = np.array([\n",
    "    [30, 20],  # Male preferences\n",
    "    [40, 10]   # Female preferences\n",
    "])\n",
    "\n",
    "\n",
    "# Perform the Chi-Square Test of Independence\n",
    "chi2, p, dof, expected = chi2_contingency(contingency_table)\n",
    "\n",
    "# Results\n",
    "print(\"Chi-Square Statistic:\", chi2)\n",
    "print(\"p-value:\", p)\n",
    "print(\"Degrees of Freedom:\", dof)\n",
    "print(\"Expected Frequencies:\")\n",
    "print(expected)\n",
    "\n",
    "# Conclusion\n",
    "if p < 0.05:\n",
    "    print(\"Reject the null hypothesis: Product preference is not independent of gender.\")\n",
    "else:\n",
    "    print(\"Fail to reject the null hypothesis: Product preference is independent of gender.\")\n"
   ]
  },
  {
   "cell_type": "code",
   "execution_count": 4,
   "id": "074c6f94-dff5-4cfb-ba8a-11650dc9e80d",
   "metadata": {},
   "outputs": [
    {
     "name": "stdout",
     "output_type": "stream",
     "text": [
      "Observed Frequencies:\n",
      "[[30 20]\n",
      " [40 10]]\n",
      "\n",
      "Expected Frequencies:\n",
      "[[35. 15.]\n",
      " [35. 15.]]\n",
      "\n",
      "Chi-Square Statistic: 4.76\n",
      "Degrees of Freedom: 1\n",
      "p-value: 0.0291\n",
      "Reject the null hypothesis: Product preference is not independent of gender.\n"
     ]
    }
   ],
   "source": [
    "import numpy as np\n",
    "\n",
    "# Observed data (contingency table)\n",
    "observed = np.array([\n",
    "    [30, 20],  # Male preferences\n",
    "    [40, 10]   # Female preferences\n",
    "])\n",
    "\n",
    "# Step 1: Calculate row totals, column totals, and grand total\n",
    "row_totals = observed.sum(axis=1)\n",
    "col_totals = observed.sum(axis=0)\n",
    "grand_total = observed.sum()\n",
    "\n",
    "# Step 2: Calculate expected frequencies\n",
    "expected = np.outer(row_totals, col_totals) / grand_total\n",
    "\n",
    "# Step 3: Compute the Chi-Square statistic\n",
    "chi_square_stat = ((observed - expected) ** 2 / expected).sum()\n",
    "\n",
    "# Step 4: Calculate degrees of freedom\n",
    "rows, cols = observed.shape\n",
    "degrees_of_freedom = (rows - 1) * (cols - 1)\n",
    "\n",
    "# Step 5: Output the results\n",
    "print(\"Observed Frequencies:\")\n",
    "print(observed)\n",
    "\n",
    "print(\"\\nExpected Frequencies:\")\n",
    "print(expected)\n",
    "\n",
    "print(f\"\\nChi-Square Statistic: {chi_square_stat:.2f}\")\n",
    "print(f\"Degrees of Freedom: {degrees_of_freedom}\")\n",
    "\n",
    "# Interpretation\n",
    "from scipy.stats import chi2\n",
    "\n",
    "# Step 6: Find the p-value\n",
    "p_value = 1 - chi2.cdf(chi_square_stat, degrees_of_freedom)\n",
    "\n",
    "print(f\"p-value: {p_value:.4f}\")\n",
    "\n",
    "if p_value < 0.05:\n",
    "    print(\"Reject the null hypothesis: Product preference is not independent of gender.\")\n",
    "else:\n",
    "    print(\"Fail to reject the null hypothesis: Product preference is independent of gender.\")\n"
   ]
  },
  {
   "cell_type": "code",
   "execution_count": null,
   "id": "1c37cbe7-dc6b-432c-bac7-f0209a6e51bb",
   "metadata": {},
   "outputs": [],
   "source": []
  }
 ],
 "metadata": {
  "kernelspec": {
   "display_name": "Python [conda env:base] *",
   "language": "python",
   "name": "conda-base-py"
  },
  "language_info": {
   "codemirror_mode": {
    "name": "ipython",
    "version": 3
   },
   "file_extension": ".py",
   "mimetype": "text/x-python",
   "name": "python",
   "nbconvert_exporter": "python",
   "pygments_lexer": "ipython3",
   "version": "3.12.7"
  }
 },
 "nbformat": 4,
 "nbformat_minor": 5
}
