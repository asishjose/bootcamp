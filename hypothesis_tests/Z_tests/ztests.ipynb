{
 "cells": [
  {
   "cell_type": "markdown",
   "id": "27303de9-b617-4eab-968d-2765ff24258f",
   "metadata": {},
   "source": [
    "### one sample "
   ]
  },
  {
   "cell_type": "code",
   "execution_count": 7,
   "id": "32090c8e-510d-4b04-84c4-776d247c9647",
   "metadata": {},
   "outputs": [
    {
     "name": "stdout",
     "output_type": "stream",
     "text": [
      "Z-Statistic: -2.1909\n",
      "P-Value: 0.0285\n",
      "Reject the null hypothesis (H₀): The mean salary is significantly different from ₹50,000.\n"
     ]
    }
   ],
   "source": [
    "from scipy.stats import norm\n",
    "import math\n",
    "\n",
    "# Given data\n",
    "population_mean = 50000  # µ₀\n",
    "sample_mean = 48000      # x̄\n",
    "sample_size = 30         # n\n",
    "population_std = 5000    # σ\n",
    "alpha = 0.05             # Significance level\n",
    "\n",
    "# Calculate Z-statistic\n",
    "z_stat = (sample_mean - population_mean) / (population_std / math.sqrt(sample_size))\n",
    "\n",
    "# Calculate p-value (two-tailed test)\n",
    "p_value = 2 * norm.cdf(-abs(z_stat))  # Using symmetry of the normal distribution\n",
    "\n",
    "# Output results\n",
    "print(f\"Z-Statistic: {z_stat:.4f}\")\n",
    "print(f\"P-Value: {p_value:.4f}\")\n",
    "\n",
    "# Decision rule\n",
    "if p_value < alpha:\n",
    "    print(\"Reject the null hypothesis (H₀): The mean salary is significantly different from ₹50,000.\")\n",
    "else:\n",
    "    print(\"Fail to reject the null hypothesis (H₀): There is no significant evidence to suggest the mean salary is different from ₹50,000.\")\n"
   ]
  },
  {
   "cell_type": "markdown",
   "id": "8d489b7e-ca41-4b42-8f19-099987602851",
   "metadata": {},
   "source": [
    "### 2 sample"
   ]
  },
  {
   "cell_type": "code",
   "execution_count": null,
   "id": "5587e778-d17f-4fa5-bbe1-8957c7c01291",
   "metadata": {},
   "outputs": [],
   "source": []
  }
 ],
 "metadata": {
  "kernelspec": {
   "display_name": "Python [conda env:base] *",
   "language": "python",
   "name": "conda-base-py"
  },
  "language_info": {
   "codemirror_mode": {
    "name": "ipython",
    "version": 3
   },
   "file_extension": ".py",
   "mimetype": "text/x-python",
   "name": "python",
   "nbconvert_exporter": "python",
   "pygments_lexer": "ipython3",
   "version": "3.12.7"
  }
 },
 "nbformat": 4,
 "nbformat_minor": 5
}
