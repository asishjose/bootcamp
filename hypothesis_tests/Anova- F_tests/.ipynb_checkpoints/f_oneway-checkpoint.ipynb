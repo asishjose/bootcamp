{
 "cells": [
  {
   "cell_type": "code",
   "execution_count": 1,
   "id": "731dcc37-e05d-4d33-9bb0-f186ee275902",
   "metadata": {},
   "outputs": [
    {
     "name": "stdout",
     "output_type": "stream",
     "text": [
      "F-statistic: 17.3834\n",
      "p-value: 0.0003\n",
      "Reject the null hypothesis: There is a significant difference in teaching methods.\n"
     ]
    }
   ],
   "source": [
    "import numpy as np\n",
    "from scipy import stats\n",
    "\n",
    "# Data for three different teaching methods\n",
    "method_A = np.array([85, 90, 95, 88, 92])\n",
    "method_B = np.array([78, 79, 80, 82, 81])\n",
    "method_C = np.array([88, 92, 85, 87, 91])\n",
    "\n",
    "# Perform One-Way ANOVA using f_oneway function from scipy.stats\n",
    "f_statistic, p_value = stats.f_oneway(method_A, method_B, method_C)\n",
    "\n",
    "# Output results\n",
    "print(f\"F-statistic: {f_statistic:.4f}\")\n",
    "print(f\"p-value: {p_value:.4f}\")\n",
    "\n",
    "# Conclusion\n",
    "if p_value < 0.05:\n",
    "    print(\"Reject the null hypothesis: There is a significant difference in teaching methods.\")\n",
    "else:\n",
    "    print(\"Fail to reject the null hypothesis: There is no significant difference in teaching methods.\")\n"
   ]
  },
  {
   "cell_type": "code",
   "execution_count": 3,
   "id": "9db3736c-546c-4d3c-b2f9-ab96958088f6",
   "metadata": {},
   "outputs": [
    {
     "name": "stdout",
     "output_type": "stream",
     "text": [
      "F-statistic: 17.3834\n",
      "p-value: 0.0003\n",
      "Reject the null hypothesis: There is a significant difference in teaching methods.\n"
     ]
    }
   ],
   "source": [
    "import numpy as np\n",
    "from scipy.stats import f\n",
    "\n",
    "# Step 1: Input data\n",
    "method_A = np.array([85, 90, 95, 88, 92])\n",
    "method_B = np.array([78, 79, 80, 82, 81])\n",
    "method_C = np.array([88, 92, 85, 87, 91])\n",
    "\n",
    "# Step 2: Calculate means\n",
    "mean_A = np.mean(method_A)\n",
    "mean_B = np.mean(method_B)\n",
    "mean_C = np.mean(method_C)\n",
    "overall_mean = np.mean([method_A, method_B, method_C])\n",
    "\n",
    "# Step 3: Calculate the sum of squares between (SSB)\n",
    "n = len(method_A)  # number of observations in each group\n",
    "k = 3  # number of groups\n",
    "SSB = n * ((mean_A - overall_mean) ** 2 + (mean_B - overall_mean) ** 2 + (mean_C - overall_mean) ** 2)\n",
    "\n",
    "# Step 4: Calculate the sum of squares within (SSW)\n",
    "SSW = np.sum((method_A - mean_A) ** 2) + np.sum((method_B - mean_B) ** 2) + np.sum((method_C - mean_C) ** 2)\n",
    "\n",
    "# Step 5: Degrees of freedom\n",
    "df_between = k - 1  # degrees of freedom between groups\n",
    "df_within = len(method_A) * k - k  # degrees of freedom within groups\n",
    "\n",
    "# Step 6: Mean squares\n",
    "MSB = SSB / df_between  # Mean square between\n",
    "MSW = SSW / df_within  # Mean square within\n",
    "\n",
    "# Step 7: F-statistic\n",
    "F_stat = MSB / MSW\n",
    "\n",
    "# Step 8: p-value (using the F-distribution)\n",
    "p_value = 1 - f.cdf(F_stat, df_between, df_within)\n",
    "\n",
    "# Output results\n",
    "print(f\"F-statistic: {F_stat:.4f}\")\n",
    "print(f\"p-value: {p_value:.4f}\")\n",
    "\n",
    "# Step 9: Conclusion\n",
    "if p_value < 0.05:\n",
    "    print(\"Reject the null hypothesis: There is a significant difference in teaching methods.\")\n",
    "else:\n",
    "    print(\"Fail to reject the null hypothesis: There is no significant difference in teaching methods.\")\n"
   ]
  },
  {
   "cell_type": "code",
   "execution_count": null,
   "id": "34eba9d9-b029-4d5b-a935-fdd0af6a0640",
   "metadata": {},
   "outputs": [],
   "source": []
  }
 ],
 "metadata": {
  "kernelspec": {
   "display_name": "Python [conda env:base] *",
   "language": "python",
   "name": "conda-base-py"
  },
  "language_info": {
   "codemirror_mode": {
    "name": "ipython",
    "version": 3
   },
   "file_extension": ".py",
   "mimetype": "text/x-python",
   "name": "python",
   "nbconvert_exporter": "python",
   "pygments_lexer": "ipython3",
   "version": "3.12.7"
  }
 },
 "nbformat": 4,
 "nbformat_minor": 5
}
