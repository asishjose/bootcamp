{
 "cells": [
  {
   "cell_type": "code",
   "execution_count": 8,
   "id": "31b33b86-e068-4855-bb0c-956155a15e4c",
   "metadata": {},
   "outputs": [
    {
     "name": "stdout",
     "output_type": "stream",
     "text": [
      "accept\n"
     ]
    }
   ],
   "source": [
    "import numpy as np\n",
    "data=[2,4,5,6,7]\n",
    "n=len(data)\n",
    "sam_mean=sum(data)/n\n",
    "pop_mean=15\n",
    "std=np.std(data)\n",
    "tstat=(sam_mean-pop_mean)/(std/np.sqrt(n))\n",
    "dof=n-1\n",
    "critical=2.132\n",
    "if tstat>critical:\n",
    "    print('reject')\n",
    "else:\n",
    "    print('accept')"
   ]
  },
  {
   "cell_type": "code",
   "execution_count": 4,
   "id": "ed1f48c3-c200-4453-a0a8-227212143dad",
   "metadata": {},
   "outputs": [
    {
     "ename": "SyntaxError",
     "evalue": "expected ':' (2836339797.py, line 10)",
     "output_type": "error",
     "traceback": [
      "\u001b[1;36m  Cell \u001b[1;32mIn[4], line 10\u001b[1;36m\u001b[0m\n\u001b[1;33m    if tstat>critical\u001b[0m\n\u001b[1;37m                     ^\u001b[0m\n\u001b[1;31mSyntaxError\u001b[0m\u001b[1;31m:\u001b[0m expected ':'\n"
     ]
    }
   ],
   "source": [
    "import numpy as np\n",
    "data=[2,4,7,9,10]\n",
    "n=len(data)\n",
    "sam_mean=sum(data)/n\n",
    "pop_mean=15\n",
    "std=np.std(data)\n",
    "tstat=(sam_mean-pop_mean)/(std/np.sqrt(n))\n",
    "dof=n-1\n",
    "critical=2.132\n",
    "if tstat>critical\n",
    "   print('reject')\n",
    "else:\n",
    "   print('accept')"
   ]
  },
  {
   "cell_type": "code",
   "execution_count": 13,
   "id": "48db94b6-5c55-426f-a13b-0090919b562f",
   "metadata": {},
   "outputs": [
    {
     "name": "stdout",
     "output_type": "stream",
     "text": [
      "accept\n"
     ]
    }
   ],
   "source": [
    "# one sample t-test\n",
    "import numpy as np\n",
    "data=[1,2,3,4,5,6]\n",
    "n=len(data)\n",
    "sam_mean=sum(data)/n\n",
    "pop_mean=15\n",
    "std=np.std(data)\n",
    "tstat=(sam_mean-pop_mean)/(std/np.sqrt(n))\n",
    "dof=n-1\n",
    "critical=2.571\n",
    "if tstat>critical:\n",
    "    print('reject')\n",
    "else:\n",
    "    print('accept')"
   ]
  },
  {
   "cell_type": "code",
   "execution_count": 1,
   "id": "d55db020-2cb9-4693-bb57-461f701d3416",
   "metadata": {},
   "outputs": [
    {
     "data": {
      "text/plain": [
       "np.float64(6.658359213500126)"
      ]
     },
     "execution_count": 1,
     "metadata": {},
     "output_type": "execute_result"
    }
   ],
   "source": [
    "import numpy as np \n",
    "data1=[6,7,8,9,10]\n",
    "data2=[1,2,3,4,5]\n",
    "n1=len(data1)\n",
    "n2=len(data2)\n",
    "mean1=np.mean(data1)\n",
    "mean2=np.mean(data2)\n",
    "std1=np.std(data1)\n",
    "std2=np.std(data2)\n",
    "pooled_std=np.sqrt(((n1-1)*std1**2+(n2-1)*std2**2)/(n1+n2-2))\n",
    "t_stat=mean1-mean2/pooled_std*np.sqrt(1/n1+1/n2)\n",
    "t_stat"
   ]
  },
  {
   "cell_type": "code",
   "execution_count": 11,
   "id": "eb32f62a-3207-46b1-bf90-f4e234f9ac28",
   "metadata": {},
   "outputs": [
    {
     "name": "stdout",
     "output_type": "stream",
     "text": [
      "reject\n"
     ]
    }
   ],
   "source": [
    "# independent two sample t-test\n",
    "import numpy as np\n",
    "from scipy.stats import t\n",
    "data1=[6,7,8,9,10]\n",
    "data2=[1,2,3,4,5]\n",
    "n1=len(data1)\n",
    "n2=len(data2)\n",
    "mean1=np.mean(data1)\n",
    "mean2=np.mean(data2)\n",
    "std1=np.std(data1)\n",
    "std2=np.std(data2)\n",
    "pooled_std=np.sqrt(((n1-1)*std1**2+(n2-1)*std2**2)/(n1+n2-2))\n",
    "t_stat=mean1-mean2/(pooled_std*np.sqrt(1/n1+1/n2))\n",
    "dof=n1+n2-2\n",
    "alpha = 0.05\n",
    "critical=t.ppf(1-alpha/2,dof)\n",
    "if t_stat>critical:\n",
    "    print('reject')\n",
    "\n",
    "else:\n",
    "    print('accept')\n",
    "\n"
   ]
  },
  {
   "cell_type": "code",
   "execution_count": 13,
   "id": "98d62f58-f3f1-46cd-8e9b-b79c90a0c3bc",
   "metadata": {},
   "outputs": [
    {
     "name": "stdout",
     "output_type": "stream",
     "text": [
      "Fail to reject the null hypothesis: No significant difference between the means.\n",
      "t-statistic: 1.5275\n",
      "Critical value: ±2.3646\n"
     ]
    },
    {
     "data": {
      "text/plain": [
       "np.float64(1.8516401995451028)"
      ]
     },
     "execution_count": 13,
     "metadata": {},
     "output_type": "execute_result"
    }
   ],
   "source": [
    "# paired ttest\n",
    "import numpy as np\n",
    "from scipy.stats import t\n",
    "\n",
    "# Data: before and after measurements\n",
    "before = [85, 90, 78, 92, 88, 76, 95, 89]\n",
    "after = [87, 94, 80, 91, 86, 77, 96, 90]\n",
    "\n",
    "# Step 1: Calculate the differences\n",
    "differences = np.array(after) - np.array(before)\n",
    "\n",
    "# Step 2: Compute mean and standard deviation of the differences\n",
    "mean_diff = np.mean(differences)\n",
    "std_diff = np.std(differences, ddof=1)  # Use sample standard deviation\n",
    "\n",
    "# Step 3: Calculate the t-statistic\n",
    "n = len(differences)\n",
    "t_stat = mean_diff / (std_diff / np.sqrt(n))\n",
    "\n",
    "# Step 4: Degrees of freedom\n",
    "dof = n - 1\n",
    "\n",
    "# Step 5: Critical value for a two-tailed test (95% confidence level)\n",
    "alpha = 0.05\n",
    "critical = t.ppf(1 - alpha / 2, dof)\n",
    "\n",
    "# Step 6: Decision\n",
    "if abs(t_stat) > critical:\n",
    "    print(\"Reject the null hypothesis: Significant difference between the means.\")\n",
    "else:\n",
    "    print(\"Fail to reject the null hypothesis: No significant difference between the means.\")\n",
    "\n",
    "# Output the calculated values\n",
    "print(f\"t-statistic: {t_stat:.4f}\")\n",
    "print(f\"Critical value: ±{critical:.4f}\")\n",
    "std_diff"
   ]
  },
  {
   "cell_type": "code",
   "execution_count": 25,
   "id": "da5b232f-a5f8-41d4-ade2-92589a49d1d4",
   "metadata": {},
   "outputs": [
    {
     "name": "stdout",
     "output_type": "stream",
     "text": [
      "reject\n"
     ]
    },
    {
     "data": {
      "text/plain": [
       "np.float64(2.3646242515927844)"
      ]
     },
     "execution_count": 25,
     "metadata": {},
     "output_type": "execute_result"
    }
   ],
   "source": [
    "\n",
    "import numpy as np\n",
    "from scipy.stats import t\n",
    "before = [85, 90, 78, 92, 88, 76, 95, 89]\n",
    "after = [87, 94, 80, 91, 86, 77, 96, 90]\n",
    "diff=np.array(after)-np.array(before)\n",
    "mean_diff=np.mean(diff)\n",
    "std_diff=np.std(diff,ddof=1)\n",
    "len_diff=len(diff)\n",
    "tstat=mean_diff/(std_diff/np.sqrt(n))\n",
    "dof=n-1\n",
    "aplha=0.05\n",
    "critical=t.ppf(1-aplha/2,dof)\n",
    "if critical>tstat:\n",
    "  print('reject')\n",
    "else:\n",
    "   print('accept')\n",
    "tstat\n",
    "critical"
   ]
  },
  {
   "cell_type": "code",
   "execution_count": 30,
   "id": "51cce467-70c4-48a1-83b3-b150af9cb39f",
   "metadata": {},
   "outputs": [
    {
     "name": "stdout",
     "output_type": "stream",
     "text": [
      "accept\n"
     ]
    }
   ],
   "source": [
    "import numpy as np\n",
    "from scipy.stats import t\n",
    "data1=[2,5,7,8,9,10]\n",
    "data2=[11,12,13,14,15,19]\n",
    "diff=np.array(data2)-np.array(data1)\n",
    "mean_diff=np.mean(diff)\n",
    "std_diff=np.std(diff)\n",
    "n=len(diff)\n",
    "dof=n-1\n",
    "tstat=mean_diff/(std_diff/np.sqrt(n))\n",
    "\n",
    "critical=t.ppf(1-alpha/2,dof)\n",
    "if critical>tstat:\n",
    "    print('reject')\n",
    "else:\n",
    "    print('accept')"
   ]
  },
  {
   "cell_type": "code",
   "execution_count": 7,
   "id": "05b56610-a6d8-4c64-9828-ffd76affefeb",
   "metadata": {},
   "outputs": [
    {
     "name": "stdout",
     "output_type": "stream",
     "text": [
      "reject\n"
     ]
    }
   ],
   "source": [
    "import numpy as np\n",
    "data1=[6,7,8,9,10]\n",
    "data2=[1,2,3,4,5]\n",
    "n1=len(data1)\n",
    "n2=len(data2)\n",
    "mean1=np.mean(data1)\n",
    "mean2=np.mean(data2)\n",
    "std1=np.std(data1)\n",
    "std2=np.std(data2)\n",
    "pooled_std=np.sqrt(((n1-1)*std1**2+(n2-1)*std2**2)/(n1+n2-2))\n",
    "t_stat=(mean1-mean2/pooled_std*np.sqrt(1/n1+1/n2))\n",
    "dof=n1+n2-1\n",
    "critical=2.306\n",
    "if t_stat>critical:\n",
    "    print('reject')\n",
    "else:\n",
    "    print('accept')"
   ]
  },
  {
   "cell_type": "raw",
   "id": "bafecb91-6b79-4224-a985-e6b71ff62a6b",
   "metadata": {},
   "source": []
  },
  {
   "cell_type": "code",
   "execution_count": 30,
   "id": "ea4e8c6b-fe96-4f42-9283-1ad658f915fa",
   "metadata": {},
   "outputs": [
    {
     "name": "stdout",
     "output_type": "stream",
     "text": [
      "accept\n"
     ]
    }
   ],
   "source": [
    "import numpy as np\n",
    "data1=[6,7,8,9,10]\n",
    "data2=[1,2,3,4,5]\n",
    "n1=len(data1)\n",
    "n2=len(data2)\n",
    "mean1=np.mean(data1)\n",
    "mean2=np.mean(data2)\n",
    "std1=np.std(data1)\n",
    "std2=np.std(data2)\n",
    "pooled_std=(((n1-1)*std1**2+(n2-1)*std**2)/(n1+n2-2))\n",
    "t_stat=(mean1-mean2)/pooled_std*np.sqrt(1/n1+1/n2)\n",
    "dof=n1+n2-2\n",
    "critical=2.306\n",
    "if tstat>critical:\n",
    "    print('reject')\n",
    "else:\n",
    "   print('accept')"
   ]
  },
  {
   "cell_type": "code",
   "execution_count": 35,
   "id": "e269cc62-dfa9-4381-905a-6c97cf587819",
   "metadata": {},
   "outputs": [
    {
     "name": "stderr",
     "output_type": "stream",
     "text": [
      "C:\\Users\\sneha\\AppData\\Local\\Temp\\ipykernel_19236\\2483007280.py:8: RuntimeWarning: divide by zero encountered in scalar divide\n",
      "  tstat=(mean_diff/std_diff/np.sqrt(n))\n"
     ]
    },
    {
     "data": {
      "text/plain": [
       "4"
      ]
     },
     "execution_count": 35,
     "metadata": {},
     "output_type": "execute_result"
    }
   ],
   "source": [
    "import numpy as np\n",
    "data1=[6,7,8,9,10]\n",
    "data2=[1,2,3,4,5]\n",
    "diff=np.array(data1)-np.array(data2)\n",
    "n=len(diff)\n",
    "mean_diff=np.mean(diff)\n",
    "std_diff=np.std(diff)\n",
    "tstat=(mean_diff/std_diff/np.sqrt(n))\n",
    "dof=n-1\n",
    "dof\n"
   ]
  },
  {
   "cell_type": "code",
   "execution_count": 40,
   "id": "42b80480-86f5-4fc2-b1df-f9fa0971a1bb",
   "metadata": {},
   "outputs": [
    {
     "name": "stdout",
     "output_type": "stream",
     "text": [
      "accept\n"
     ]
    },
    {
     "data": {
      "text/plain": [
       "3.84"
      ]
     },
     "execution_count": 40,
     "metadata": {},
     "output_type": "execute_result"
    }
   ],
   "source": [
    "# chisqaure independent\n",
    "import numpy as np\n",
    "obs=np.array([[2,3],[5,6]])\n",
    "row_sum=obs.sum(axis=1)\n",
    "col_sum=obs.sum(axis=0)\n",
    "grand_total=obs.sum()\n",
    "exp=np.outer(row_sum,col_sum)/grand_total\n",
    "chistat=((obs-exp)**2/exp).sum()\n",
    "dof=(obs.shape[0]-1)*(obs.shape[1]-1)\n",
    "aplha=0.05\n",
    "critical=3.84\n",
    "if chistat>critical:\n",
    "    print('reject')\n",
    "else:\n",
    "    print('accept')\n",
    "critical"
   ]
  },
  {
   "cell_type": "code",
   "execution_count": 42,
   "id": "53674c19-b70c-47ea-82b2-70eac1e0248d",
   "metadata": {},
   "outputs": [
    {
     "name": "stdout",
     "output_type": "stream",
     "text": [
      "accept\n"
     ]
    }
   ],
   "source": [
    "import numpy as np\n",
    "from scipy.stats import chi2\n",
    "obs=np.array([[2,3],[5,6]])\n",
    "row_sum=obs.sum(axis=1)\n",
    "col_sum=obs.sum(axis=0)\n",
    "grand_tot=obs.sum()\n",
    "exp=np.outer(row_sum,col_sum)/grand_tot\n",
    "chi=((obs-exp)**2/exp).sum()\n",
    "dof=(obs.shape[0]-1)*(obs.shape[1]-1)\n",
    "aplha=0.05\n",
    "critical=chi2.ppf(1-alpha,dof)\n",
    "if chi>critical:\n",
    "    print('reject')\n",
    "else:\n",
    "    print('accept')"
   ]
  },
  {
   "cell_type": "code",
   "execution_count": 45,
   "id": "38fec661-6ef8-490b-994b-987ecb8c0191",
   "metadata": {},
   "outputs": [
    {
     "data": {
      "text/plain": [
       "np.float64(3.841458820694124)"
      ]
     },
     "execution_count": 45,
     "metadata": {},
     "output_type": "execute_result"
    }
   ],
   "source": [
    "import numpy as np\n",
    "from scipy.stats import chi2\n",
    "obs=np.array([[2,3],[5,6]])\n",
    "row_sum=obs.sum(axis=1)\n",
    "col_sum=obs.sum(axis=0)\n",
    "grand_sum=obs.sum()\n",
    "exp=np.outer(row_sum,col_sum)/grand_sum\n",
    "chi=((obs-exp)**2/exp).sum()\n",
    "dof=(obs.shape[0]-1)*(obs.shape[1]-1)\n",
    "aplha=0.05\n",
    "critical=chi2.ppf(1-aplha,dof)\n",
    "critical"
   ]
  },
  {
   "cell_type": "code",
   "execution_count": 51,
   "id": "2e38739b-4397-4836-b677-48ed567ff4c3",
   "metadata": {},
   "outputs": [
    {
     "name": "stdout",
     "output_type": "stream",
     "text": [
      "reject\n"
     ]
    }
   ],
   "source": [
    "import numpy as np\n",
    "from scipy.stats import chi2\n",
    "obs=np.array([[2,3],[5,6]])\n",
    "row_sum=obs.sum(axis=0)\n",
    "col_sum=obs.sum(axis=1)\n",
    "grand_sum=obs.sum()\n",
    "exp=np.outer(row_sum,col_sum)/grand_sum\n",
    "chi=((obs-exp)**2/exp).sum()\n",
    "dof=(obs.shape[0]-1)*(obs.shape[1]-1)\n",
    "critical=chi2.ppf(1-aplha,dof)\n",
    "if chi>critical:\n",
    "    print('accept')\n",
    "else:\n",
    "    print('reject')\n",
    "\n"
   ]
  },
  {
   "cell_type": "code",
   "execution_count": 55,
   "id": "fa1049ad-80bb-4ba0-ad0f-7f2fde3d3ca1",
   "metadata": {},
   "outputs": [
    {
     "name": "stdout",
     "output_type": "stream",
     "text": [
      "accept\n"
     ]
    }
   ],
   "source": [
    "# chisqaure indepeendence\n",
    "import numpy as np\n",
    "obs=np.array([[2,3],[4,5]])\n",
    "row_sum=obs.sum(axis=1)\n",
    "col_sum=obs.sum(axis=0)\n",
    "grand_sum=obs.sum()\n",
    "exp=np.outer(row_sum,col_sum)/grand_sum\n",
    "chistat=((obs-exp)**2/exp).sum()\n",
    "dof=(obs.shape[1]-1)*(obs.shape[0]-1)\n",
    "dof\n",
    "alpha=0.05\n",
    "critical=3.84\n",
    "if chistat>critical:\n",
    "    print('reject')\n",
    "else:\n",
    "    print('accept')"
   ]
  },
  {
   "cell_type": "code",
   "execution_count": 57,
   "id": "71968628-087b-4b8a-80b8-869079f050f4",
   "metadata": {},
   "outputs": [
    {
     "name": "stdout",
     "output_type": "stream",
     "text": [
      "accept\n"
     ]
    }
   ],
   "source": [
    "#chisquare goodness\n",
    "import numpy as np\n",
    "obs=np.array([2,3,4,5,9])\n",
    "exp=np.array([5,6,8,9,10])\n",
    "chistat=((obs-exp)**2/exp).sum()\n",
    "dof=len(obs)-1\n",
    "critical=9.49\n",
    "if chistat>critical:\n",
    "    print('reject')\n",
    "else:\n",
    "    print('accept')"
   ]
  },
  {
   "cell_type": "code",
   "execution_count": null,
   "id": "e318cf65-550c-4ab4-b479-b4f66b32c9a8",
   "metadata": {},
   "outputs": [],
   "source": [
    "import numpy as np\n",
    "obs=np.array([2,3,4,5,9])\n",
    "exp=np.array([5,6,8,9,10])\n",
    "chi=((obs-exp)**2/exp).sum()\n",
    "dof=len(obs-1)\n",
    "critical=chi2.ppf(1-aplha,dof)\n",
    "if "
   ]
  },
  {
   "cell_type": "code",
   "execution_count": 56,
   "id": "0ad034d7-d527-424f-86d4-8ed8cfee158c",
   "metadata": {},
   "outputs": [
    {
     "name": "stdout",
     "output_type": "stream",
     "text": [
      "accept\n"
     ]
    }
   ],
   "source": [
    "import numpy as np\n",
    "from scipy.stats import chi2\n",
    "obs=np.array([2,3,4,5,9])\n",
    "exp=np.array([5,6,8,9,10])\n",
    "chi=((obs-exp)**2/exp).sum()\n",
    "dof=len(obs)-1\n",
    "critical=chi2.ppf(1-aplha,dof)\n",
    "if chi>critical:\n",
    "    print('reject')\n",
    "else:\n",
    "    print('accept')"
   ]
  },
  {
   "cell_type": "code",
   "execution_count": 70,
   "id": "1e24a07a-0a0e-4bd3-9bf8-9be8bf2534ed",
   "metadata": {},
   "outputs": [
    {
     "name": "stdout",
     "output_type": "stream",
     "text": [
      "reject\n"
     ]
    }
   ],
   "source": [
    "import numpy as np\n",
    "obs=np.array([1,2,3,4])\n",
    "exp=np.array([5,6,7,8])\n",
    "chistat=((obs-exp)**2/exp).sum()\n",
    "dof=len(obs-1)\n",
    "aplha=0.05\n",
    "critical=3.4\n",
    "if chistat>critical:\n",
    "    print('reject')\n",
    "else: \n",
    "    print('accept')"
   ]
  },
  {
   "cell_type": "code",
   "execution_count": null,
   "id": "ead6c7a6-1c1b-4ddc-9e2b-999da80fd9d9",
   "metadata": {},
   "outputs": [],
   "source": []
  }
 ],
 "metadata": {
  "kernelspec": {
   "display_name": "Python 3 (ipykernel)",
   "language": "python",
   "name": "python3"
  },
  "language_info": {
   "codemirror_mode": {
    "name": "ipython",
    "version": 3
   },
   "file_extension": ".py",
   "mimetype": "text/x-python",
   "name": "python",
   "nbconvert_exporter": "python",
   "pygments_lexer": "ipython3",
   "version": "3.13.0"
  }
 },
 "nbformat": 4,
 "nbformat_minor": 5
}
