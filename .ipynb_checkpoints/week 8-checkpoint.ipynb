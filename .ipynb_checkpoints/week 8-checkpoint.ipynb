{
 "cells": [
  {
   "cell_type": "markdown",
   "id": "aae391ca-1f4e-4b38-87d8-d8628b8ac701",
   "metadata": {},
   "source": [
    "# Matrix "
   ]
  },
  {
   "cell_type": "markdown",
   "id": "e4a8db33-8c15-4520-b26a-1fa2777d4ab0",
   "metadata": {},
   "source": [
    "# Matrix addition "
   ]
  },
  {
   "cell_type": "code",
   "execution_count": 2,
   "id": "19fe7f98-f537-4af6-a307-17e8845e57df",
   "metadata": {},
   "outputs": [
    {
     "name": "stdout",
     "output_type": "stream",
     "text": [
      "[[4, 4, 4], [6, 8, 10]]\n"
     ]
    }
   ],
   "source": [
    "matrix_a=[[1,2,3],[2,3,4]]\n",
    "matrix_b=[[3,2,1],[4,5,6]]\n",
    "r=[[0,0,0],[0,0,0]]\n",
    "for i in range(len(matrix_a)):\n",
    "    for j in range(len(matrix_a[0])):\n",
    "        r[i][j]=matrix_a[i][j]+matrix_b[i][j]\n",
    "print(r)"
   ]
  },
  {
   "cell_type": "markdown",
   "id": "e82703ba-4444-4963-b604-7c6deedaac7c",
   "metadata": {},
   "source": [
    "# Matrix addition using function"
   ]
  },
  {
   "cell_type": "code",
   "execution_count": 9,
   "id": "d6215af0-1622-4090-86e0-e13db3f20bb9",
   "metadata": {},
   "outputs": [
    {
     "data": {
      "text/plain": [
       "array([[ 4,  4,  4],\n",
       "       [ 6,  8, 10]])"
      ]
     },
     "execution_count": 9,
     "metadata": {},
     "output_type": "execute_result"
    }
   ],
   "source": [
    "matrix_a=[[1,2,3],\n",
    "          [2,3,4]]\n",
    "matrix_b=[[3,2,1],\n",
    "          [4,5,6]]\n",
    "result=np.add(matrix_a,matrix_b)\n",
    "result"
   ]
  },
  {
   "cell_type": "markdown",
   "id": "6ff838de-1a49-460b-8d6a-fb781354b8a2",
   "metadata": {},
   "source": [
    "# Matrix subtraction "
   ]
  },
  {
   "cell_type": "code",
   "execution_count": 8,
   "id": "56eb0985-4444-4228-97af-f53f108f15cd",
   "metadata": {},
   "outputs": [
    {
     "name": "stdout",
     "output_type": "stream",
     "text": [
      "[[-3, -3, -3], [3, 3, 3], [1, 5, 5]]\n"
     ]
    }
   ],
   "source": [
    "matrix_a=[[1,2,3],[4,5,6],[7,8,9]]\n",
    "matrix_b=[[4,5,6],[1,2,3],[6,3,4]]\n",
    "result=[[0,0,0],[0,0,0],[0,0,0]]\n",
    "for i in range(len(matrix_a)):\n",
    "    for j in range(len(matrix_a[0])):\n",
    "        result[i][j]=matrix_a[i][j]-matrix_b[i][j]\n",
    "print(result)"
   ]
  },
  {
   "cell_type": "markdown",
   "id": "a4e04e08-d96f-4051-bdfd-a0c6c4422c57",
   "metadata": {},
   "source": [
    "# Matrix subtraction using function "
   ]
  },
  {
   "cell_type": "code",
   "execution_count": 11,
   "id": "ef887d88-612d-41a3-9f40-d3f389e94457",
   "metadata": {},
   "outputs": [
    {
     "data": {
      "text/plain": [
       "array([[-3, -3, -3],\n",
       "       [ 3,  3,  3],\n",
       "       [ 1,  5,  5]])"
      ]
     },
     "execution_count": 11,
     "metadata": {},
     "output_type": "execute_result"
    }
   ],
   "source": [
    "matrix_a=[[1,2,3],\n",
    "          [4,5,6],\n",
    "          [7,8,9]]\n",
    "matrix_b=[[4,5,6],\n",
    "          [1,2,3],\n",
    "          [6,3,4]]\n",
    "r=np.subtract(matrix_a,matrix_b)\n",
    "r"
   ]
  },
  {
   "cell_type": "markdown",
   "id": "81d5afef-1a83-4eb5-8805-5d59360bd92d",
   "metadata": {},
   "source": [
    "# Matrix multiplication"
   ]
  },
  {
   "cell_type": "code",
   "execution_count": 12,
   "id": "2e74485c-4c65-48c9-915d-2bec82f07fb6",
   "metadata": {},
   "outputs": [
    {
     "name": "stdout",
     "output_type": "stream",
     "text": [
      "[[54, 8, 18], [4, 4, 18], [40, 24, 36]]\n"
     ]
    }
   ],
   "source": [
    "matrix_a=[[9,2,3],[4,4,6],[5,8,9]]\n",
    "matrix_b=[[6,4,6],[1,1,3],[8,3,4]]\n",
    "result=[[0,0,0],[0,0,0],[0,0,0]]\n",
    "for i in range(len(matrix_a)):\n",
    "    for j in range(len(matrix_a[0])):\n",
    "        result[i][j]=matrix_a[i][j]*matrix_b[i][j]\n",
    "print(result)"
   ]
  },
  {
   "cell_type": "markdown",
   "id": "476c2b17-d9f6-443d-8684-026c233b99da",
   "metadata": {},
   "source": [
    "# Matrix multiplication using function "
   ]
  },
  {
   "cell_type": "code",
   "execution_count": 16,
   "id": "d71aa68c-3d88-4fa6-9968-03cceb2dba50",
   "metadata": {},
   "outputs": [
    {
     "data": {
      "text/plain": [
       "array([[54,  8, 18],\n",
       "       [ 4,  4, 18],\n",
       "       [40, 24, 36]])"
      ]
     },
     "execution_count": 16,
     "metadata": {},
     "output_type": "execute_result"
    }
   ],
   "source": [
    "matrix_a=[[9,2,3],\n",
    "          [4,4,6],\n",
    "          [5,8,9]]\n",
    "matrix_b=[[6,4,6],\n",
    "          [1,1,3],\n",
    "          [8,3,4]]\n",
    "r=np.multiply(matrix_a,matrix_b)\n",
    "r"
   ]
  },
  {
   "cell_type": "markdown",
   "id": "c9cefb3c-86d2-4d9b-9f52-651fd6f11c57",
   "metadata": {},
   "source": [
    "# Matrix division"
   ]
  },
  {
   "cell_type": "code",
   "execution_count": 15,
   "id": "7b63c5ef-957a-43a3-9c5c-aabdb7d9e5ec",
   "metadata": {},
   "outputs": [
    {
     "name": "stdout",
     "output_type": "stream",
     "text": [
      "[[3.0, 3.0, 3.0], [2.0, 2.0, 2.0], [2.0, 4.0, 5.0]]\n"
     ]
    }
   ],
   "source": [
    "matrix_a=[[9,12,6],[4,4,6],[16,8,20]]\n",
    "matrix_b=[[3,4,2],[2,2,3],[8,2,4]]\n",
    "result=[[0,0,0],[0,0,0],[0,0,0]]\n",
    "for i in range(len(matrix_a)):\n",
    "    for j in range(len(matrix_a[0])):\n",
    "        result[i][j]=matrix_a[i][j]/matrix_b[i][j]\n",
    "print(result)"
   ]
  },
  {
   "cell_type": "markdown",
   "id": "ed4d73c7-3537-4180-a186-cac237c076ed",
   "metadata": {},
   "source": [
    "# Matrix division using function"
   ]
  },
  {
   "cell_type": "code",
   "execution_count": 18,
   "id": "b83b4463-2257-4bc9-b14b-6bda68d4f538",
   "metadata": {},
   "outputs": [
    {
     "data": {
      "text/plain": [
       "array([[3., 3., 3.],\n",
       "       [2., 2., 2.],\n",
       "       [2., 4., 5.]])"
      ]
     },
     "execution_count": 18,
     "metadata": {},
     "output_type": "execute_result"
    }
   ],
   "source": [
    "matrix_a=[[9,12,6],\n",
    "          [4,4,6],\n",
    "          [16,8,20]]\n",
    "matrix_b=[[3,4,2],\n",
    "          [2,2,3],\n",
    "          [8,2,4]]\n",
    "r=np.divide(matrix_a,matrix_b)\n",
    "r"
   ]
  },
  {
   "cell_type": "markdown",
   "id": "6fded5e0-e987-4880-9680-c4a88041c41f",
   "metadata": {},
   "source": [
    "# Transpose of the matrix"
   ]
  },
  {
   "cell_type": "code",
   "execution_count": 31,
   "id": "bcaf1527-fd3c-4a09-ad1e-d696ea30a074",
   "metadata": {},
   "outputs": [
    {
     "name": "stdout",
     "output_type": "stream",
     "text": [
      "[9, 8, 7]\n",
      "[0, 7, 4]\n",
      "[7, 5, 6]\n"
     ]
    }
   ],
   "source": [
    "matrix=[[9,0,7],[8,7,5],[7,4,6]]\n",
    "result=[[0,0,0],[0,0,0],[0,0,0]]\n",
    "for i in range(len(matrix)):\n",
    "    for j in range(len(matrix[0])):\n",
    "        result[j][i]=matrix[i][j]\n",
    "for r in result:\n",
    "    print(r)\n",
    "        "
   ]
  },
  {
   "cell_type": "markdown",
   "id": "c00c985f-5b40-4fce-bbf5-0496928b7bcb",
   "metadata": {},
   "source": [
    "# Transpose of the matrix using function "
   ]
  },
  {
   "cell_type": "code",
   "execution_count": 19,
   "id": "1516a0aa-6540-4757-8c43-cf9282dabce3",
   "metadata": {},
   "outputs": [
    {
     "data": {
      "text/plain": [
       "array([[9, 8, 7],\n",
       "       [0, 7, 4],\n",
       "       [7, 5, 6]])"
      ]
     },
     "execution_count": 19,
     "metadata": {},
     "output_type": "execute_result"
    }
   ],
   "source": [
    "matrix=[[9,0,7],\n",
    "        [8,7,5],\n",
    "        [7,4,6]]\n",
    "r=np.transpose(matrix)\n",
    "r"
   ]
  },
  {
   "cell_type": "markdown",
   "id": "573b64d1-19fb-46c3-9333-6a7198616f9e",
   "metadata": {},
   "source": [
    "# Determinant"
   ]
  },
  {
   "cell_type": "code",
   "execution_count": 1,
   "id": "ce6144b2-887c-4ea6-846e-6c1d912ab1d6",
   "metadata": {},
   "outputs": [
    {
     "data": {
      "text/plain": [
       "1"
      ]
     },
     "execution_count": 1,
     "metadata": {},
     "output_type": "execute_result"
    }
   ],
   "source": [
    "matrix=[[1,2,3],\n",
    "        [0,1,-4],\n",
    "        [5,6,0]]\n",
    "a,b,c=matrix[0]\n",
    "d,e,f=matrix[1]\n",
    "g,h,i=matrix[2]\n",
    "det=a*(e*i-(-f*h))-b*(d*i-(-f*g))+c*(d*h-e*g)\n",
    "det"
   ]
  },
  {
   "cell_type": "markdown",
   "id": "f6b648e2-fc01-4085-97cc-d00499e374aa",
   "metadata": {},
   "source": [
    "# Determinant using function "
   ]
  },
  {
   "cell_type": "code",
   "execution_count": 2,
   "id": "90196c5e-e58f-475c-9481-c0d718c89e0c",
   "metadata": {},
   "outputs": [
    {
     "data": {
      "text/plain": [
       "np.float64(-31.0)"
      ]
     },
     "execution_count": 2,
     "metadata": {},
     "output_type": "execute_result"
    }
   ],
   "source": [
    "import numpy as np \n",
    "matrix=[[1,2,3],\n",
    "        [0,1,-4],\n",
    "        [5,6,0]]\n",
    "det=np.linalg.det(matrix)\n",
    "det"
   ]
  },
  {
   "cell_type": "markdown",
   "id": "094c2b43-bf1f-4bdd-858f-87d62c812c27",
   "metadata": {},
   "source": [
    "# Adjugate"
   ]
  },
  {
   "cell_type": "code",
   "execution_count": 3,
   "id": "b8ebc002-bd91-472c-9209-1ec92e460542",
   "metadata": {},
   "outputs": [
    {
     "name": "stdout",
     "output_type": "stream",
     "text": [
      "The adjugate of the matrix is:\n",
      "[[ 24.  18. -11.]\n",
      " [-20. -15.   4.]\n",
      " [ -5.   4.   1.]]\n"
     ]
    }
   ],
   "source": [
    "import numpy as np\n",
    "A = np.array([[1, 2, 3],\n",
    "              [0, 1, -4],\n",
    "              [5, 6, 0]])\n",
    "def minor(matrix, row, col):\n",
    "    minor_matrix = np.delete(np.delete(matrix, row, axis=0), col, axis=1)\n",
    "    return np.linalg.det(minor_matrix)\n",
    "cofactor_matrix = np.zeros((3, 3))\n",
    "for i in range(3):\n",
    "    for j in range(3):\n",
    "        cofactor_matrix[i, j] = ((-1) ** (i + j)) * minor(A, i, j)\n",
    "adjugate_matrix = cofactor_matrix.T\n",
    "print(\"The adjugate of the matrix is:\")\n",
    "print(adjugate_matrix)\n"
   ]
  },
  {
   "cell_type": "markdown",
   "id": "e4bc165f-0258-4c34-8972-dcc701bef27d",
   "metadata": {},
   "source": [
    " # inverse of a matrix "
   ]
  },
  {
   "cell_type": "code",
   "execution_count": 6,
   "id": "56fafa2f-9063-4a84-bf3e-6e7abdfbab70",
   "metadata": {},
   "outputs": [
    {
     "data": {
      "text/plain": [
       "array([[-0.77419355, -0.58064516,  0.35483871],\n",
       "       [ 0.64516129,  0.48387097, -0.12903226],\n",
       "       [ 0.16129032, -0.12903226, -0.03225806]])"
      ]
     },
     "execution_count": 6,
     "metadata": {},
     "output_type": "execute_result"
    }
   ],
   "source": [
    "inverse=(1/det)*adjugate_matrix\n",
    "inverse\n"
   ]
  },
  {
   "cell_type": "markdown",
   "id": "2185b032-cd9e-4b45-920d-124dabf14a61",
   "metadata": {},
   "source": [
    "# inverse of a matrix using function "
   ]
  },
  {
   "cell_type": "code",
   "execution_count": 8,
   "id": "47948124-b515-4811-b7fc-f795852d9d02",
   "metadata": {},
   "outputs": [
    {
     "data": {
      "text/plain": [
       "array([[-0.77419355, -0.58064516,  0.35483871],\n",
       "       [ 0.64516129,  0.48387097, -0.12903226],\n",
       "       [ 0.16129032, -0.12903226, -0.03225806]])"
      ]
     },
     "execution_count": 8,
     "metadata": {},
     "output_type": "execute_result"
    }
   ],
   "source": [
    "import numpy as np \n",
    "inverse=np.linalg.inv(matrix)\n",
    "inverse"
   ]
  },
  {
   "cell_type": "markdown",
   "id": "5cffe9c5-5734-43ce-9278-52ccda41e897",
   "metadata": {},
   "source": [
    "# inverse "
   ]
  },
  {
   "cell_type": "code",
   "execution_count": 24,
   "id": "dd217907-b282-4d1d-a0c5-604853401774",
   "metadata": {},
   "outputs": [
    {
     "data": {
      "text/plain": [
       "[[-2.0, 1.0], [1.5, -1.0]]"
      ]
     },
     "execution_count": 24,
     "metadata": {},
     "output_type": "execute_result"
    }
   ],
   "source": [
    "matrix=[[1,2],\n",
    "        [3,4]]\n",
    "det=matrix[0][0]*matrix[1][1]-matrix[0][1]*matrix[1][0]\n",
    "inverse=[[matrix[1][1]/det,-matrix[0][1]/det],[-matrix[1][0]/det,matrix[0][1]/det]]\n",
    "inverse"
   ]
  },
  {
   "cell_type": "markdown",
   "id": "c1fb2299-0c6b-4971-8ea1-557367469406",
   "metadata": {},
   "source": [
    "# Eigenvalues and Eigenvector using function  "
   ]
  },
  {
   "cell_type": "code",
   "execution_count": null,
   "id": "acc9b430-f6c3-4690-8263-ace847a693a4",
   "metadata": {},
   "outputs": [],
   "source": []
  },
  {
   "cell_type": "code",
   "execution_count": 27,
   "id": "d2521bf4-dd48-4b29-95f2-7be7562e4c16",
   "metadata": {},
   "outputs": [
    {
     "data": {
      "text/plain": [
       "EigResult(eigenvalues=array([6., 4.]), eigenvectors=array([[0.89442719, 0.70710678],\n",
       "       [0.4472136 , 0.70710678]]))"
      ]
     },
     "execution_count": 27,
     "metadata": {},
     "output_type": "execute_result"
    }
   ],
   "source": [
    "matrix=[[8,-4],\n",
    "        [2,2]]\n",
    "r=np.linalg.eig(matrix)\n",
    "r"
   ]
  },
  {
   "cell_type": "markdown",
   "id": "cca8d85b-d615-4535-950a-6f349a0fb665",
   "metadata": {},
   "source": [
    "# Eigenvalues and Eigenvector"
   ]
  },
  {
   "cell_type": "code",
   "execution_count": 1,
   "id": "4899943f-121d-4c67-a755-a1b08edc6fa4",
   "metadata": {},
   "outputs": [
    {
     "name": "stdout",
     "output_type": "stream",
     "text": [
      "Eighen Values are :\n",
      "Eigen 1 : 5.0\n",
      "Eigen 2 : 2.0\n",
      "Eighen Vectors are :\n",
      "Eighen Vectors for Eighen 1 : 1 1.0\n",
      "Eighen Vectors for Eighen 2 : 1 -2.0\n"
     ]
    }
   ],
   "source": [
    "import numpy as np\n",
    "a=[[4,1],\n",
    "   [2,3]]\n",
    "\n",
    "a=4\n",
    "b=1\n",
    "c=2\n",
    "d=3\n",
    "trace=a+d\n",
    "determinant=a*d - b*c\n",
    "discriminant=(trace ** 2)-(4*determinant)\n",
    "\n",
    "if discriminant >= 0:\n",
    "    eig1=(trace + discriminant**0.5)/2\n",
    "    eig2=(trace - discriminant**0.5)/2\n",
    "    if b!=0:\n",
    "        evector1x=1\n",
    "        evector1y=-(a-eig1)/b\n",
    "    elif c!=0:\n",
    "        evector1y=1\n",
    "        evector1x=-(d-eig1)/c\n",
    "    else:\n",
    "        evector1x=1\n",
    "        evector1y=0\n",
    "\n",
    "    if b!=0:\n",
    "        evector2x=1\n",
    "        evector2y=-(a-eig2)/b\n",
    "    elif c!=0:\n",
    "        evector2y=1\n",
    "        evector2x=-(d-eig2)/c\n",
    "    else:\n",
    "        evector2x=1\n",
    "        evector2y=0\n",
    "\n",
    "    \n",
    "\n",
    "\n",
    "    print('Eighen Values are :')\n",
    "    print('Eigen 1 :',eig1)\n",
    "    print('Eigen 2 :',eig2)\n",
    "\n",
    "    print('Eighen Vectors are :')\n",
    "    print('Eighen Vectors for Eighen 1 :',evector1x,evector1y)\n",
    "    print(\"Eighen Vectors for Eighen 2 :\",evector2x,evector2y)\n",
    "else:\n",
    "    print(\"Matrix has complex eighen values\")"
   ]
  },
  {
   "cell_type": "markdown",
   "id": "ad98d965-4342-4064-89a8-0f7567d702c2",
   "metadata": {},
   "source": [
    "# Gaussian elimination using function "
   ]
  },
  {
   "cell_type": "code",
   "execution_count": 30,
   "id": "9e7df2f1-40f1-4e87-9b08-d16cfa0db86e",
   "metadata": {},
   "outputs": [
    {
     "data": {
      "text/plain": [
       "array([ 0.94366197, -1.42253521,  0.25352113])"
      ]
     },
     "execution_count": 30,
     "metadata": {},
     "output_type": "execute_result"
    }
   ],
   "source": [
    "matrix=[[1,4,-1],\n",
    "        [1,1,-6],\n",
    "        [3,-1,-1]]\n",
    "b=[-5,-2,4]\n",
    "r=np.linalg.solve(matrix,b)\n",
    "r"
   ]
  },
  {
   "cell_type": "markdown",
   "id": "4ae78c50-befd-4e77-b0bf-829c127d94dc",
   "metadata": {},
   "source": [
    "# PCA using function "
   ]
  },
  {
   "cell_type": "code",
   "execution_count": 12,
   "id": "da2e4f22-944d-4062-8258-596508f2c814",
   "metadata": {},
   "outputs": [
    {
     "data": {
      "text/html": [
       "<div>\n",
       "<style scoped>\n",
       "    .dataframe tbody tr th:only-of-type {\n",
       "        vertical-align: middle;\n",
       "    }\n",
       "\n",
       "    .dataframe tbody tr th {\n",
       "        vertical-align: top;\n",
       "    }\n",
       "\n",
       "    .dataframe thead th {\n",
       "        text-align: right;\n",
       "    }\n",
       "</style>\n",
       "<table border=\"1\" class=\"dataframe\">\n",
       "  <thead>\n",
       "    <tr style=\"text-align: right;\">\n",
       "      <th></th>\n",
       "      <th>sepal_length</th>\n",
       "      <th>sepal_width</th>\n",
       "      <th>petal_length</th>\n",
       "      <th>petal_width</th>\n",
       "      <th>species</th>\n",
       "    </tr>\n",
       "  </thead>\n",
       "  <tbody>\n",
       "    <tr>\n",
       "      <th>0</th>\n",
       "      <td>5.1</td>\n",
       "      <td>3.5</td>\n",
       "      <td>1.4</td>\n",
       "      <td>0.2</td>\n",
       "      <td>setosa</td>\n",
       "    </tr>\n",
       "    <tr>\n",
       "      <th>1</th>\n",
       "      <td>4.9</td>\n",
       "      <td>3.0</td>\n",
       "      <td>1.4</td>\n",
       "      <td>0.2</td>\n",
       "      <td>setosa</td>\n",
       "    </tr>\n",
       "    <tr>\n",
       "      <th>2</th>\n",
       "      <td>4.7</td>\n",
       "      <td>3.2</td>\n",
       "      <td>1.3</td>\n",
       "      <td>0.2</td>\n",
       "      <td>setosa</td>\n",
       "    </tr>\n",
       "    <tr>\n",
       "      <th>3</th>\n",
       "      <td>4.6</td>\n",
       "      <td>3.1</td>\n",
       "      <td>1.5</td>\n",
       "      <td>0.2</td>\n",
       "      <td>setosa</td>\n",
       "    </tr>\n",
       "    <tr>\n",
       "      <th>4</th>\n",
       "      <td>5.0</td>\n",
       "      <td>3.6</td>\n",
       "      <td>1.4</td>\n",
       "      <td>0.2</td>\n",
       "      <td>setosa</td>\n",
       "    </tr>\n",
       "    <tr>\n",
       "      <th>...</th>\n",
       "      <td>...</td>\n",
       "      <td>...</td>\n",
       "      <td>...</td>\n",
       "      <td>...</td>\n",
       "      <td>...</td>\n",
       "    </tr>\n",
       "    <tr>\n",
       "      <th>145</th>\n",
       "      <td>6.7</td>\n",
       "      <td>3.0</td>\n",
       "      <td>5.2</td>\n",
       "      <td>2.3</td>\n",
       "      <td>virginica</td>\n",
       "    </tr>\n",
       "    <tr>\n",
       "      <th>146</th>\n",
       "      <td>6.3</td>\n",
       "      <td>2.5</td>\n",
       "      <td>5.0</td>\n",
       "      <td>1.9</td>\n",
       "      <td>virginica</td>\n",
       "    </tr>\n",
       "    <tr>\n",
       "      <th>147</th>\n",
       "      <td>6.5</td>\n",
       "      <td>3.0</td>\n",
       "      <td>5.2</td>\n",
       "      <td>2.0</td>\n",
       "      <td>virginica</td>\n",
       "    </tr>\n",
       "    <tr>\n",
       "      <th>148</th>\n",
       "      <td>6.2</td>\n",
       "      <td>3.4</td>\n",
       "      <td>5.4</td>\n",
       "      <td>2.3</td>\n",
       "      <td>virginica</td>\n",
       "    </tr>\n",
       "    <tr>\n",
       "      <th>149</th>\n",
       "      <td>5.9</td>\n",
       "      <td>3.0</td>\n",
       "      <td>5.1</td>\n",
       "      <td>1.8</td>\n",
       "      <td>virginica</td>\n",
       "    </tr>\n",
       "  </tbody>\n",
       "</table>\n",
       "<p>150 rows × 5 columns</p>\n",
       "</div>"
      ],
      "text/plain": [
       "     sepal_length  sepal_width  petal_length  petal_width    species\n",
       "0             5.1          3.5           1.4          0.2     setosa\n",
       "1             4.9          3.0           1.4          0.2     setosa\n",
       "2             4.7          3.2           1.3          0.2     setosa\n",
       "3             4.6          3.1           1.5          0.2     setosa\n",
       "4             5.0          3.6           1.4          0.2     setosa\n",
       "..            ...          ...           ...          ...        ...\n",
       "145           6.7          3.0           5.2          2.3  virginica\n",
       "146           6.3          2.5           5.0          1.9  virginica\n",
       "147           6.5          3.0           5.2          2.0  virginica\n",
       "148           6.2          3.4           5.4          2.3  virginica\n",
       "149           5.9          3.0           5.1          1.8  virginica\n",
       "\n",
       "[150 rows x 5 columns]"
      ]
     },
     "execution_count": 12,
     "metadata": {},
     "output_type": "execute_result"
    }
   ],
   "source": [
    "import seaborn as sea \n",
    "df=sea.load_dataset(\"iris\")\n",
    "df"
   ]
  },
  {
   "cell_type": "code",
   "execution_count": 32,
   "id": "e8a56f5b-90f1-4041-ac14-b9f0d2ea1279",
   "metadata": {},
   "outputs": [
    {
     "data": {
      "text/html": [
       "<div>\n",
       "<style scoped>\n",
       "    .dataframe tbody tr th:only-of-type {\n",
       "        vertical-align: middle;\n",
       "    }\n",
       "\n",
       "    .dataframe tbody tr th {\n",
       "        vertical-align: top;\n",
       "    }\n",
       "\n",
       "    .dataframe thead th {\n",
       "        text-align: right;\n",
       "    }\n",
       "</style>\n",
       "<table border=\"1\" class=\"dataframe\">\n",
       "  <thead>\n",
       "    <tr style=\"text-align: right;\">\n",
       "      <th></th>\n",
       "      <th>pc1</th>\n",
       "      <th>pc2</th>\n",
       "      <th>pc3</th>\n",
       "    </tr>\n",
       "  </thead>\n",
       "  <tbody>\n",
       "    <tr>\n",
       "      <th>0</th>\n",
       "      <td>-2.813245</td>\n",
       "      <td>-0.654143</td>\n",
       "      <td>0.137037</td>\n",
       "    </tr>\n",
       "    <tr>\n",
       "      <th>1</th>\n",
       "      <td>-2.641855</td>\n",
       "      <td>-0.099578</td>\n",
       "      <td>-0.832396</td>\n",
       "    </tr>\n",
       "    <tr>\n",
       "      <th>2</th>\n",
       "      <td>-2.876528</td>\n",
       "      <td>-0.266494</td>\n",
       "      <td>-0.600408</td>\n",
       "    </tr>\n",
       "    <tr>\n",
       "      <th>3</th>\n",
       "      <td>-2.818065</td>\n",
       "      <td>-0.146714</td>\n",
       "      <td>-0.818191</td>\n",
       "    </tr>\n",
       "    <tr>\n",
       "      <th>4</th>\n",
       "      <td>-2.917083</td>\n",
       "      <td>-0.738256</td>\n",
       "      <td>0.255173</td>\n",
       "    </tr>\n",
       "    <tr>\n",
       "      <th>...</th>\n",
       "      <td>...</td>\n",
       "      <td>...</td>\n",
       "      <td>...</td>\n",
       "    </tr>\n",
       "    <tr>\n",
       "      <th>145</th>\n",
       "      <td>2.257676</td>\n",
       "      <td>-1.250900</td>\n",
       "      <td>-0.205096</td>\n",
       "    </tr>\n",
       "    <tr>\n",
       "      <th>146</th>\n",
       "      <td>2.031016</td>\n",
       "      <td>-0.609954</td>\n",
       "      <td>-1.310974</td>\n",
       "    </tr>\n",
       "    <tr>\n",
       "      <th>147</th>\n",
       "      <td>1.974793</td>\n",
       "      <td>-1.178507</td>\n",
       "      <td>-0.328058</td>\n",
       "    </tr>\n",
       "    <tr>\n",
       "      <th>148</th>\n",
       "      <td>1.846638</td>\n",
       "      <td>-1.570827</td>\n",
       "      <td>0.221908</td>\n",
       "    </tr>\n",
       "    <tr>\n",
       "      <th>149</th>\n",
       "      <td>1.527343</td>\n",
       "      <td>-1.039602</td>\n",
       "      <td>-0.666818</td>\n",
       "    </tr>\n",
       "  </tbody>\n",
       "</table>\n",
       "<p>150 rows × 3 columns</p>\n",
       "</div>"
      ],
      "text/plain": [
       "          pc1       pc2       pc3\n",
       "0   -2.813245 -0.654143  0.137037\n",
       "1   -2.641855 -0.099578 -0.832396\n",
       "2   -2.876528 -0.266494 -0.600408\n",
       "3   -2.818065 -0.146714 -0.818191\n",
       "4   -2.917083 -0.738256  0.255173\n",
       "..        ...       ...       ...\n",
       "145  2.257676 -1.250900 -0.205096\n",
       "146  2.031016 -0.609954 -1.310974\n",
       "147  1.974793 -1.178507 -0.328058\n",
       "148  1.846638 -1.570827  0.221908\n",
       "149  1.527343 -1.039602 -0.666818\n",
       "\n",
       "[150 rows x 3 columns]"
      ]
     },
     "execution_count": 32,
     "metadata": {},
     "output_type": "execute_result"
    }
   ],
   "source": [
    "import pandas as pd \n",
    "import numpy as np \n",
    "from sklearn.decomposition import PCA \n",
    "from sklearn.preprocessing import StandardScaler\n",
    "data=pd.get_dummies(df)\n",
    "s=StandardScaler()\n",
    "s_data=s.fit_transform(data)\n",
    "pca=PCA(n_components=3)\n",
    "pca_data=pca.fit_transform(s_data)\n",
    "p_dataf=pd.DataFrame(data=pca_data,columns=[\"pc1\",\"pc2\",\"pc3\"])\n",
    "p_dataf"
   ]
  },
  {
   "cell_type": "code",
   "execution_count": 33,
   "id": "a54a8897-a2ac-4164-b391-5a76f2e237f3",
   "metadata": {},
   "outputs": [
    {
     "data": {
      "text/plain": [
       "<Axes: >"
      ]
     },
     "execution_count": 33,
     "metadata": {},
     "output_type": "execute_result"
    },
    {
     "data": {
      "image/png": "[encoded data removed]",
      "text/plain": [
       "<Figure size 640x480 with 2 Axes>"
      ]
     },
     "metadata": {},
     "output_type": "display_data"
    }
   ],
   "source": [
    "sea.heatmap(pca_df)\n"
   ]
  },
  {
   "cell_type": "code",
   "execution_count": 34,
   "id": "dadb7699-66be-4e86-8bc4-082be5b281ca",
   "metadata": {},
   "outputs": [
    {
     "data": {
      "text/plain": [
       "<Axes: >"
      ]
     },
     "execution_count": 34,
     "metadata": {},
     "output_type": "execute_result"
    },
    {
     "data": {
      "image/png": "[encoded data removed]",
      "text/plain": [
       "<Figure size 640x480 with 1 Axes>"
      ]
     },
     "metadata": {},
     "output_type": "display_data"
    }
   ],
   "source": [
    "sea.scatterplot(pca_df)"
   ]
  },
  {
   "cell_type": "markdown",
   "id": "9223a356-b308-465b-8c7d-3d3aa426470a",
   "metadata": {},
   "source": [
    "# PCA  in data set "
   ]
  },
  {
   "cell_type": "code",
   "execution_count": 59,
   "id": "5c817491-cfee-4c36-9db4-baf43143fd1d",
   "metadata": {},
   "outputs": [
    {
     "data": {
      "text/plain": [
       "0      2.793708\n",
       "1      2.821221\n",
       "2      2.989848\n",
       "3      2.850743\n",
       "4      2.836677\n",
       "         ...   \n",
       "145   -2.037359\n",
       "146   -1.636661\n",
       "147   -1.864194\n",
       "148   -1.996244\n",
       "149   -1.504491\n",
       "Length: 150, dtype: float64"
      ]
     },
     "execution_count": 59,
     "metadata": {},
     "output_type": "execute_result"
    }
   ],
   "source": [
    "import numpy as np \n",
    "import seaborn as sea \n",
    "import pandas as pd\n",
    "data =sea.load_dataset(\"iris\")\n",
    "data_c=pd.get_dummies(data)\n",
    "mean=np.mean(data_c,axis=0)\n",
    "cen=data_c-mean\n",
    "cov=np.cov(cen,rowvar=False)\n",
    "eiginvalues,eiginvector=np.linalg.eig(cov)\n",
    "sortindex=eiginvalues.argsort()[::-1]\n",
    "sort_eiginvalues=eiginvalues[sortindex]\n",
    "sort_eiginvector=eiginvector[sortindex]\n",
    "top_eiginvector=sort_eiginvector[:,0]\n",
    "data_pca=cen.dot(top_eiginvector)\n",
    "data_pca\n",
    "# sea.scatterplot(data_pca)\n",
    "\n",
    "\n",
    "\n",
    "\n"
   ]
  },
  {
   "cell_type": "markdown",
   "id": "8bf7ec2f-f5fb-4a25-adf9-e12f0d135108",
   "metadata": {},
   "source": [
    "\n",
    "# pca "
   ]
  },
  {
   "cell_type": "code",
   "execution_count": 64,
   "id": "33e0887e-7e96-4f39-82b3-fcc556fced1d",
   "metadata": {},
   "outputs": [
    {
     "data": {
      "text/plain": [
       "array([-2.74599027,  0.28088317, -2.35376431,  3.36171761])"
      ]
     },
     "execution_count": 64,
     "metadata": {},
     "output_type": "execute_result"
    }
   ],
   "source": [
    "import seaborn as sea \n",
    "import numpy as np \n",
    "import  pandas as pd \n",
    "data =([[1,2,3],[4,5,6],[2,1,4],[9,0,6]])\n",
    "mean=np.mean(data)\n",
    "cen=data-mean\n",
    "cov=np.cov(cen,rowvar=False)\n",
    "eiginvalues,eiginvector=np.linalg.eig(cov)\n",
    "sortindex=eiginvalues.argsort()[::-1]\n",
    "sort_eiginvalues=eiginvalues[sortindex]\n",
    "sort_eiginvector=eiginvector[sortindex]\n",
    "top_eiginvector=sort_eiginvector[:,0]\n",
    "pca=cen.dot(top_eiginvector)\n",
    "pca"
   ]
  },
  {
   "cell_type": "markdown",
   "id": "e7f5973e-2105-42c0-8a35-ce881fdb3acf",
   "metadata": {},
   "source": [
    "# SVD"
   ]
  },
  {
   "cell_type": "code",
   "execution_count": 65,
   "id": "066b5711-ba18-41ff-80c1-33fe28e8b096",
   "metadata": {},
   "outputs": [
    {
     "name": "stdout",
     "output_type": "stream",
     "text": [
      "u [[-0.2298477  -0.88346102  0.40824829]\n",
      " [-0.52474482 -0.24078249 -0.81649658]\n",
      " [-0.81964194  0.40189603  0.40824829]]\n",
      "sigma [[0.51430058 0.        ]\n",
      " [0.         9.52551809]]\n",
      "v^T [[-0.78489445  0.61962948]\n",
      " [-0.61962948 -0.78489445]]\n"
     ]
    }
   ],
   "source": [
    "import numpy as np\n",
    "a=np.array([[1,2],[3,4],[5,6]])\n",
    "\n",
    "aT_a=np.dot(a.T,a)\n",
    "a_aT=np.dot(a,a.T)\n",
    "\n",
    "eigenvaluesaT_a,eigenvectorsaT_a=np.linalg.eig(aT_a)\n",
    "eigenvaluesa_aT,eigenvectorsa_aT=np.linalg.eig(a_aT)\n",
    "\n",
    "idx=eigenvaluesaT_a.argsort()[::-1]\n",
    "sorted_eigenvaluesaT_a=eigenvaluesaT_a[idx]\n",
    "sorted_eigenvectorsaT_a=eigenvectorsaT_a[:,idx]\n",
    "\n",
    "sigma=np.diag(np.sqrt(eigenvaluesaT_a))\n",
    "\n",
    "u=eigenvectorsa_aT\n",
    "v=eigenvectorsaT_a\n",
    "\n",
    "print('u',u)\n",
    "print('sigma',sigma)\n",
    "print('v^T',v.T)"
   ]
  },
  {
   "cell_type": "markdown",
   "id": "6a3df9e6-105c-4427-aa6c-277d5758db09",
   "metadata": {},
   "source": [
    "# svd using function "
   ]
  },
  {
   "cell_type": "code",
   "execution_count": 81,
   "id": "041105eb-5643-4178-a0ff-2f92c521a70f",
   "metadata": {},
   "outputs": [
    {
     "name": "stdout",
     "output_type": "stream",
     "text": [
      "u; [[-0.11007666 -0.04025495  0.01361251 ... -0.01919297  0.02284758\n",
      "   0.18980011]\n",
      " [-0.10337051 -0.00612787 -0.08268583 ...  0.05711544  0.00582141\n",
      "  -0.33729579]\n",
      " [-0.11255277 -0.01639966 -0.05964132 ...  0.02182886 -0.00952019\n",
      "  -0.04456394]\n",
      " ...\n",
      " [ 0.0772697  -0.07252349 -0.03258759 ... -0.01817789  0.09230949\n",
      "  -0.03977791]\n",
      " [ 0.07225525 -0.09666625  0.02204321 ...  0.04270287  0.00223929\n",
      "  -0.01024413]\n",
      " [ 0.05976186 -0.06397548 -0.06623823 ... -0.12312641 -0.02319871\n",
      "  -0.04977501]]\n",
      "s [2.55571482e+01 1.62500042e+01 1.00669728e+01 4.92963086e+00\n",
      " 2.16032058e+00 1.56759472e+00 3.08793699e-15]\n",
      "v [[ 4.10052135e-01 -2.35242470e-01  4.75005285e-01  4.64710119e-01\n",
      "  -4.50799952e-01  1.02717832e-01  3.48082120e-01]\n",
      " [-1.57987308e-01 -4.48554762e-01 -2.30331063e-02 -8.63701937e-02\n",
      "  -2.28086634e-01  7.00478749e-01 -4.72392115e-01]\n",
      " [ 4.46549600e-01  7.48244964e-01  7.53686003e-02  3.73449225e-02\n",
      "  -3.44564309e-02  3.57718296e-01 -3.23261865e-01]\n",
      " [-7.37393920e-01  3.99277586e-01  1.56245240e-02  4.09693965e-01\n",
      "  -2.92949589e-01  1.44869658e-01  1.48079931e-01]\n",
      " [ 4.50208576e-02 -1.52704834e-01 -8.76913726e-02  7.55803390e-01\n",
      "   4.86199226e-01 -9.96749219e-02 -3.86524304e-01]\n",
      " [ 2.48423108e-01 -2.91156711e-02 -8.71908898e-01  1.90005639e-01\n",
      "  -2.96692034e-01  8.09972109e-02  2.15694823e-01]\n",
      " [-0.00000000e+00 -1.13524532e-15  1.02683504e-15  5.76686256e-15\n",
      "  -5.77350269e-01 -5.77350269e-01 -5.77350269e-01]]\n"
     ]
    }
   ],
   "source": [
    "import numpy as np \n",
    "import seaborn as sea \n",
    "import pandas as pd \n",
    "from sklearn.preprocessing import StandardScaler\n",
    "df=sea.load_dataset(\"iris\")\n",
    "data=pd.get_dummies(df)\n",
    "s=StandardScaler()\n",
    "s_data=s.fit_transform(data)\n",
    "u,s,v=np.linalg.svd(s_data,full_matrices=False)\n",
    "print(\"u;\",u)\n",
    "print(\"s\",s)\n",
    "print(\"v\",v)\n"
   ]
  },
  {
   "cell_type": "markdown",
   "id": "b027ca07-4664-4a43-9d70-28ae5d158d85",
   "metadata": {},
   "source": [
    "\n",
    "# Linear regression \n"
   ]
  },
  {
   "cell_type": "code",
   "execution_count": 4,
   "id": "761203f0-31ab-4543-b147-261f65db384f",
   "metadata": {},
   "outputs": [
    {
     "data": {
      "text/html": [
       "<div>\n",
       "<style scoped>\n",
       "    .dataframe tbody tr th:only-of-type {\n",
       "        vertical-align: middle;\n",
       "    }\n",
       "\n",
       "    .dataframe tbody tr th {\n",
       "        vertical-align: top;\n",
       "    }\n",
       "\n",
       "    .dataframe thead th {\n",
       "        text-align: right;\n",
       "    }\n",
       "</style>\n",
       "<table border=\"1\" class=\"dataframe\">\n",
       "  <thead>\n",
       "    <tr style=\"text-align: right;\">\n",
       "      <th></th>\n",
       "      <th>x</th>\n",
       "      <th>y</th>\n",
       "    </tr>\n",
       "  </thead>\n",
       "  <tbody>\n",
       "    <tr>\n",
       "      <th>0</th>\n",
       "      <td>24.0</td>\n",
       "      <td>21.549452</td>\n",
       "    </tr>\n",
       "    <tr>\n",
       "      <th>1</th>\n",
       "      <td>50.0</td>\n",
       "      <td>47.464463</td>\n",
       "    </tr>\n",
       "    <tr>\n",
       "      <th>2</th>\n",
       "      <td>15.0</td>\n",
       "      <td>17.218656</td>\n",
       "    </tr>\n",
       "    <tr>\n",
       "      <th>3</th>\n",
       "      <td>38.0</td>\n",
       "      <td>36.586398</td>\n",
       "    </tr>\n",
       "    <tr>\n",
       "      <th>4</th>\n",
       "      <td>87.0</td>\n",
       "      <td>87.288984</td>\n",
       "    </tr>\n",
       "    <tr>\n",
       "      <th>...</th>\n",
       "      <td>...</td>\n",
       "      <td>...</td>\n",
       "    </tr>\n",
       "    <tr>\n",
       "      <th>695</th>\n",
       "      <td>58.0</td>\n",
       "      <td>58.595006</td>\n",
       "    </tr>\n",
       "    <tr>\n",
       "      <th>696</th>\n",
       "      <td>93.0</td>\n",
       "      <td>94.625094</td>\n",
       "    </tr>\n",
       "    <tr>\n",
       "      <th>697</th>\n",
       "      <td>82.0</td>\n",
       "      <td>88.603770</td>\n",
       "    </tr>\n",
       "    <tr>\n",
       "      <th>698</th>\n",
       "      <td>66.0</td>\n",
       "      <td>63.648685</td>\n",
       "    </tr>\n",
       "    <tr>\n",
       "      <th>699</th>\n",
       "      <td>97.0</td>\n",
       "      <td>94.975266</td>\n",
       "    </tr>\n",
       "  </tbody>\n",
       "</table>\n",
       "<p>700 rows × 2 columns</p>\n",
       "</div>"
      ],
      "text/plain": [
       "        x          y\n",
       "0    24.0  21.549452\n",
       "1    50.0  47.464463\n",
       "2    15.0  17.218656\n",
       "3    38.0  36.586398\n",
       "4    87.0  87.288984\n",
       "..    ...        ...\n",
       "695  58.0  58.595006\n",
       "696  93.0  94.625094\n",
       "697  82.0  88.603770\n",
       "698  66.0  63.648685\n",
       "699  97.0  94.975266\n",
       "\n",
       "[700 rows x 2 columns]"
      ]
     },
     "execution_count": 4,
     "metadata": {},
     "output_type": "execute_result"
    }
   ],
   "source": [
    "import pandas as pd \n",
    "df=pd.read_csv(r\"C:\\Users\\ASUS\\Downloads\\data_for_lr.csv\")\n",
    "df"
   ]
  },
  {
   "cell_type": "code",
   "execution_count": 17,
   "id": "e38a6cc2-4c11-4078-8656-3c6cc5a2d72b",
   "metadata": {},
   "outputs": [
    {
     "name": "stdout",
     "output_type": "stream",
     "text": [
      "m: 0.6\n",
      "b: 2.2\n",
      "[-1.6 -1.  -0.4  0.2  0.8]\n"
     ]
    },
    {
     "data": {
      "text/plain": [
       "[<matplotlib.lines.Line2D at 0x1f951fad3a0>]"
      ]
     },
     "execution_count": 17,
     "metadata": {},
     "output_type": "execute_result"
    },
    {
     "data": {
      "image/png": "[encoded data removed]",
      "text/plain": [
       "<Figure size 640x480 with 1 Axes>"
      ]
     },
     "metadata": {},
     "output_type": "display_data"
    }
   ],
   "source": [
    "mean_x=np.mean(x)\n",
    "mean_y=np.mean(y)\n",
    "sum_product_deviation=np.sum((x-mean_x)*(y-mean_y))\n",
    "sq_dev_x=np.sum((x-mean_x)**2)\n",
    "m=sum_product_deviation/sq_dev_x\n",
    "b=mean_y-(m*mean_x)\n",
    "print('m:',m)\n",
    "print('b:',b)\n",
    "prid=m*x-b\n",
    "print(prid)\n",
    "plt.scatter(x,y)\n",
    "plt.plot(prid)"
   ]
  },
  {
   "cell_type": "markdown",
   "id": "74dbd3a3-44a7-4365-9041-d0a6c385b660",
   "metadata": {},
   "source": [
    "# Linear regression "
   ]
  },
  {
   "cell_type": "code",
   "execution_count": 16,
   "id": "de7ebc1c-5ad5-41d0-94c1-0790955eabe6",
   "metadata": {},
   "outputs": [
    {
     "name": "stdout",
     "output_type": "stream",
     "text": [
      "m: 0.6\n",
      "b: 2.2\n",
      "y_pred: [2.8 3.4 4.  4.6 5.2]\n"
     ]
    },
    {
     "data": {
      "text/plain": [
       "[<matplotlib.lines.Line2D at 0x1f951f238c0>]"
      ]
     },
     "execution_count": 16,
     "metadata": {},
     "output_type": "execute_result"
    },
    {
     "data": {
      "image/png": "[encoded data removed]",
      "text/plain": [
       "<Figure size 640x480 with 1 Axes>"
      ]
     },
     "metadata": {},
     "output_type": "display_data"
    }
   ],
   "source": [
    "import numpy as np \n",
    "import matplotlib.pyplot as plt\n",
    "x=np.array([1,2,3,4,5])\n",
    "y=np.array([2,4,5,4,5])\n",
    "mean_x=np.mean(x)\n",
    "mean_y=np.mean(y)\n",
    "sum_product_deviation=np.sum((x-mean_x)*(y-mean_y))\n",
    "sq_dev_x=np.sum((x-mean_x)**2)\n",
    "m=sum_product_deviation/sq_dev_x\n",
    "b=mean_y-(m*mean_x)\n",
    "print('m:',m)\n",
    "print('b:',b)\n",
    "y_pred=m*x+b\n",
    "print('y_pred:',y_pred)\n",
    "plt.scatter(x,y)nh\n",
    "plt.plot(y_pred)\n"
   ]
  },
  {
   "cell_type": "code",
   "execution_count": null,
   "id": "9f0a4f76-395a-4098-b772-19c1b4a6cfc0",
   "metadata": {},
   "outputs": [],
   "source": []
  },
  {
   "cell_type": "code",
   "execution_count": null,
   "id": "a475b592-ee59-44b1-ae2f-5fab8ad26fae",
   "metadata": {},
   "outputs": [],
   "source": []
  }
 ],
 "metadata": {
  "kernelspec": {
   "display_name": "Python 3 (ipykernel)",
   "language": "python",
   "name": "python3"
  },
  "language_info": {
   "codemirror_mode": {
    "name": "ipython",
    "version": 3
   },
   "file_extension": ".py",
   "mimetype": "text/x-python",
   "name": "python",
   "nbconvert_exporter": "python",
   "pygments_lexer": "ipython3",
   "version": "3.12.3"
  }
 },
 "nbformat": 4,
 "nbformat_minor": 5
}
