{
 "cells": [
  {
   "cell_type": "code",
   "execution_count": 1,
   "id": "b0efb1f4-173c-4b37-9a27-790fb156168c",
   "metadata": {},
   "outputs": [],
   "source": [
    "import numpy as np\n",
    "import matplotlib.pyplot as plt\n",
    "%matplotlib inline"
   ]
  },
  {
   "cell_type": "code",
   "execution_count": 3,
   "id": "da423a9e-f275-47fc-a14f-9197c3fb43b0",
   "metadata": {},
   "outputs": [],
   "source": [
    "dataset= [11,10,12,14,12,15,14,13,15,102,12,14,17,19,107, 10,13,12,14,12,108,12,11,14,13,15,10,15,12,10,14,13,15,10]"
   ]
  },
  {
   "cell_type": "markdown",
   "id": "f7cd81f0-68ad-4906-ac8e-c8dd2234eb4c",
   "metadata": {},
   "source": [
    "### using Z-score"
   ]
  },
  {
   "cell_type": "markdown",
   "id": "1c79ac97-bf78-4153-877b-1ce012be46a3",
   "metadata": {},
   "source": [
    "z = (X — μ) / σ"
   ]
  },
  {
   "cell_type": "code",
   "execution_count": 11,
   "id": "9a136085-8306-4400-ada7-cce2c083de81",
   "metadata": {},
   "outputs": [],
   "source": [
    "outliers=[]\n",
    "def detect_outliers(data):\n",
    "\n",
    "    threshold=3\n",
    "    mean = np.mean(data)\n",
    "    std = np.std(data)\n",
    "\n",
    "    for i in data:\n",
    "        z_score = (i-mean)/std\n",
    "        if np.abs(z_score) > threshold:\n",
    "            outliers.append(i)\n",
    "    return outliers"
   ]
  },
  {
   "cell_type": "code",
   "execution_count": 13,
   "id": "bef08df6-c736-42bd-9520-1d5d0bccd220",
   "metadata": {},
   "outputs": [],
   "source": [
    "outliers_pt = detect_outliers(dataset)"
   ]
  },
  {
   "cell_type": "code",
   "execution_count": 17,
   "id": "ef90503e-ccab-4e35-a56f-98c2fd1ac574",
   "metadata": {},
   "outputs": [
    {
     "data": {
      "text/plain": [
       "[102, 107, 108]"
      ]
     },
     "execution_count": 17,
     "metadata": {},
     "output_type": "execute_result"
    }
   ],
   "source": [
    "outliers_pt"
   ]
  },
  {
   "cell_type": "markdown",
   "id": "32453400-bf97-457c-b7f1-a43e5d1b4274",
   "metadata": {},
   "source": [
    "### InterQuartile Range"
   ]
  },
  {
   "cell_type": "markdown",
   "id": "967cf758-eeca-4cd9-a0a4-6175915b8338",
   "metadata": {},
   "source": [
    "75%- 25% values in a dataset\n",
    "\n",
    "Steps\n",
    "1. Arrange the data in increasing order\n",
    "2. Calculate first(q1) and third quartile(q3)\n",
    "3. Find interquartile range (q3-q1)\n",
    "4. Find lower bound q1*1.5\n",
    "5. Find upper bound q3*1.5\n",
    "   \n",
    "Anything that lies outside of lower and upper bound is an outlier"
   ]
  },
  {
   "cell_type": "code",
   "execution_count": 22,
   "id": "70271254-0901-4e5c-a78a-a2e7175ba554",
   "metadata": {},
   "outputs": [
    {
     "data": {
      "text/plain": [
       "[10,\n",
       " 10,\n",
       " 10,\n",
       " 10,\n",
       " 10,\n",
       " 11,\n",
       " 11,\n",
       " 12,\n",
       " 12,\n",
       " 12,\n",
       " 12,\n",
       " 12,\n",
       " 12,\n",
       " 12,\n",
       " 13,\n",
       " 13,\n",
       " 13,\n",
       " 13,\n",
       " 14,\n",
       " 14,\n",
       " 14,\n",
       " 14,\n",
       " 14,\n",
       " 14,\n",
       " 15,\n",
       " 15,\n",
       " 15,\n",
       " 15,\n",
       " 15,\n",
       " 17,\n",
       " 19,\n",
       " 102,\n",
       " 107,\n",
       " 108]"
      ]
     },
     "execution_count": 22,
     "metadata": {},
     "output_type": "execute_result"
    }
   ],
   "source": [
    "sorted(dataset)"
   ]
  },
  {
   "cell_type": "code",
   "execution_count": 24,
   "id": "ba2e710c-5384-4b73-88d5-38f84e844d73",
   "metadata": {},
   "outputs": [],
   "source": [
    "quantile1, quantile3 = np.percentile(dataset,[25,75])"
   ]
  },
  {
   "cell_type": "code",
   "execution_count": 26,
   "id": "8cfd0698-30f3-4069-9a63-108e91892906",
   "metadata": {},
   "outputs": [
    {
     "name": "stdout",
     "output_type": "stream",
     "text": [
      "12.0 15.0\n"
     ]
    }
   ],
   "source": [
    "print(quantile1,quantile3)"
   ]
  },
  {
   "cell_type": "code",
   "execution_count": 32,
   "id": "32eef510-1c07-4eb3-9710-7402983f1023",
   "metadata": {},
   "outputs": [
    {
     "name": "stdout",
     "output_type": "stream",
     "text": [
      "3.0\n"
     ]
    }
   ],
   "source": [
    "iqr_value=quantile3-quantile1\n",
    "print(iqr_value)"
   ]
  },
  {
   "cell_type": "code",
   "execution_count": 36,
   "id": "dd2edcff-7080-424a-bf7e-4a81ac8363ad",
   "metadata": {},
   "outputs": [],
   "source": [
    "lower_bound_val = quantile1 - (1.5 * iqr_value)\n",
    "upper_bound_val = quantile3 + (1.5 * iqr_value)"
   ]
  },
  {
   "cell_type": "code",
   "execution_count": 38,
   "id": "f5728337-cfb1-460d-922f-893803e79880",
   "metadata": {},
   "outputs": [
    {
     "name": "stdout",
     "output_type": "stream",
     "text": [
      "7.5 19.5\n"
     ]
    }
   ],
   "source": [
    "print(lower_bound_val, upper_bound_val)"
   ]
  },
  {
   "cell_type": "code",
   "execution_count": null,
   "id": "7ee5328a-9e49-43b2-a9e3-ac2fecd286b4",
   "metadata": {},
   "outputs": [],
   "source": []
  }
 ],
 "metadata": {
  "kernelspec": {
   "display_name": "Python [conda env:base] *",
   "language": "python",
   "name": "conda-base-py"
  },
  "language_info": {
   "codemirror_mode": {
    "name": "ipython",
    "version": 3
   },
   "file_extension": ".py",
   "mimetype": "text/x-python",
   "name": "python",
   "nbconvert_exporter": "python",
   "pygments_lexer": "ipython3",
   "version": "3.12.7"
  }
 },
 "nbformat": 4,
 "nbformat_minor": 5
}
