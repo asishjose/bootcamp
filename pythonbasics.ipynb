{
 "cells": [
  {
   "cell_type": "markdown",
   "id": "f932302f-ab1a-4e9e-ba33-46db3a8f3ff3",
   "metadata": {},
   "source": [
    "# bool functions"
   ]
  },
  {
   "cell_type": "code",
   "execution_count": 54,
   "id": "b471344d-f69e-48dc-86d9-a516e2af8ebe",
   "metadata": {},
   "outputs": [],
   "source": [
    "my_str=\"5fsfsd445\""
   ]
  },
  {
   "cell_type": "code",
   "execution_count": 56,
   "id": "3a40c6e3-27f8-4902-994f-ee7f2fcfff38",
   "metadata": {},
   "outputs": [
    {
     "data": {
      "text/plain": [
       "False"
      ]
     },
     "execution_count": 56,
     "metadata": {},
     "output_type": "execute_result"
    }
   ],
   "source": [
    "my_str.isalnum()"
   ]
  },
  {
   "cell_type": "code",
   "execution_count": 58,
   "id": "4d2a5da4-c0b9-4ed6-aa2b-ac7e4db93290",
   "metadata": {},
   "outputs": [
    {
     "data": {
      "text/plain": [
       "False"
      ]
     },
     "execution_count": 58,
     "metadata": {},
     "output_type": "execute_result"
    }
   ],
   "source": [
    "my_str.isdigit()"
   ]
  },
  {
   "cell_type": "code",
   "execution_count": 72,
   "id": "cf7f6d36-117c-40ae-82f5-0302c60fe452",
   "metadata": {},
   "outputs": [
    {
     "data": {
      "text/plain": [
       "True"
      ]
     },
     "execution_count": 72,
     "metadata": {},
     "output_type": "execute_result"
    }
   ],
   "source": [
    "my_str.startswith('5')\n"
   ]
  },
  {
   "cell_type": "code",
   "execution_count": 74,
   "id": "95c5eacf-1cd8-41ab-9520-a4ceeb8eaabc",
   "metadata": {},
   "outputs": [
    {
     "data": {
      "text/plain": [
       "False"
      ]
     },
     "execution_count": 74,
     "metadata": {},
     "output_type": "execute_result"
    }
   ],
   "source": [
    "my_str.startswith('r')\n"
   ]
  },
  {
   "cell_type": "markdown",
   "id": "a53e334c-8f8d-4b3b-aaf1-17acf0f352b0",
   "metadata": {},
   "source": [
    "# logical bool operations"
   ]
  },
  {
   "cell_type": "code",
   "execution_count": 91,
   "id": "aa6833fe-9165-44ee-8393-5e5f1e9efeb2",
   "metadata": {},
   "outputs": [],
   "source": [
    "name=\"Asish\"\n",
    "age=\"Jo\""
   ]
  },
  {
   "cell_type": "code",
   "execution_count": 93,
   "id": "caf09c30-5357-4283-80be-68079112b7b7",
   "metadata": {},
   "outputs": [
    {
     "data": {
      "text/plain": [
       "True"
      ]
     },
     "execution_count": 93,
     "metadata": {},
     "output_type": "execute_result"
    }
   ],
   "source": [
    "name.isalpha()"
   ]
  },
  {
   "cell_type": "code",
   "execution_count": 95,
   "id": "26f663ba-751a-44dd-879f-08017ff69c91",
   "metadata": {},
   "outputs": [
    {
     "data": {
      "text/plain": [
       "False"
      ]
     },
     "execution_count": 95,
     "metadata": {},
     "output_type": "execute_result"
    }
   ],
   "source": [
    "age.isnumeric()"
   ]
  },
  {
   "cell_type": "code",
   "execution_count": 97,
   "id": "b5ea22f9-f747-4c7a-9def-eadf878ac5bd",
   "metadata": {},
   "outputs": [
    {
     "data": {
      "text/plain": [
       "False"
      ]
     },
     "execution_count": 97,
     "metadata": {},
     "output_type": "execute_result"
    }
   ],
   "source": [
    "name.isalpha() and age.isnumeric()"
   ]
  },
  {
   "cell_type": "code",
   "execution_count": 99,
   "id": "acf2baf6-c8ff-40b5-8568-baf57109891e",
   "metadata": {},
   "outputs": [
    {
     "data": {
      "text/plain": [
       "True"
      ]
     },
     "execution_count": 99,
     "metadata": {},
     "output_type": "execute_result"
    }
   ],
   "source": [
    "name.isalpha() or age.isnumeric()"
   ]
  },
  {
   "cell_type": "code",
   "execution_count": null,
   "id": "fa8e98c9-9847-45e6-97d0-a67b746fab78",
   "metadata": {},
   "outputs": [],
   "source": []
  }
 ],
 "metadata": {
  "kernelspec": {
   "display_name": "Python [conda env:base] *",
   "language": "python",
   "name": "conda-base-py"
  },
  "language_info": {
   "codemirror_mode": {
    "name": "ipython",
    "version": 3
   },
   "file_extension": ".py",
   "mimetype": "text/x-python",
   "name": "python",
   "nbconvert_exporter": "python",
   "pygments_lexer": "ipython3",
   "version": "3.12.7"
  }
 },
 "nbformat": 4,
 "nbformat_minor": 5
}
