{
 "cells": [
  {
   "cell_type": "markdown",
   "id": "f932302f-ab1a-4e9e-ba33-46db3a8f3ff3",
   "metadata": {},
   "source": [
    "# bool functions"
   ]
  },
  {
   "cell_type": "code",
   "execution_count": 54,
   "id": "b471344d-f69e-48dc-86d9-a516e2af8ebe",
   "metadata": {},
   "outputs": [],
   "source": [
    "my_str=\"5fsfsd445\""
   ]
  },
  {
   "cell_type": "code",
   "execution_count": 56,
   "id": "3a40c6e3-27f8-4902-994f-ee7f2fcfff38",
   "metadata": {},
   "outputs": [
    {
     "data": {
      "text/plain": [
       "False"
      ]
     },
     "execution_count": 56,
     "metadata": {},
     "output_type": "execute_result"
    }
   ],
   "source": [
    "my_str.isalnum()"
   ]
  },
  {
   "cell_type": "code",
   "execution_count": 58,
   "id": "4d2a5da4-c0b9-4ed6-aa2b-ac7e4db93290",
   "metadata": {},
   "outputs": [
    {
     "data": {
      "text/plain": [
       "False"
      ]
     },
     "execution_count": 58,
     "metadata": {},
     "output_type": "execute_result"
    }
   ],
   "source": [
    "my_str.isdigit()"
   ]
  },
  {
   "cell_type": "code",
   "execution_count": 72,
   "id": "cf7f6d36-117c-40ae-82f5-0302c60fe452",
   "metadata": {},
   "outputs": [
    {
     "data": {
      "text/plain": [
       "True"
      ]
     },
     "execution_count": 72,
     "metadata": {},
     "output_type": "execute_result"
    }
   ],
   "source": [
    "my_str.startswith('5')\n"
   ]
  },
  {
   "cell_type": "code",
   "execution_count": 74,
   "id": "95c5eacf-1cd8-41ab-9520-a4ceeb8eaabc",
   "metadata": {},
   "outputs": [
    {
     "data": {
      "text/plain": [
       "False"
      ]
     },
     "execution_count": 74,
     "metadata": {},
     "output_type": "execute_result"
    }
   ],
   "source": [
    "my_str.startswith('r')\n"
   ]
  },
  {
   "cell_type": "markdown",
   "id": "a53e334c-8f8d-4b3b-aaf1-17acf0f352b0",
   "metadata": {},
   "source": [
    "# logical bool operations"
   ]
  },
  {
   "cell_type": "code",
   "execution_count": 91,
   "id": "aa6833fe-9165-44ee-8393-5e5f1e9efeb2",
   "metadata": {},
   "outputs": [],
   "source": [
    "name=\"Asish\"\n",
    "age=\"Jo\""
   ]
  },
  {
   "cell_type": "code",
   "execution_count": 93,
   "id": "caf09c30-5357-4283-80be-68079112b7b7",
   "metadata": {},
   "outputs": [
    {
     "data": {
      "text/plain": [
       "True"
      ]
     },
     "execution_count": 93,
     "metadata": {},
     "output_type": "execute_result"
    }
   ],
   "source": [
    "name.isalpha()"
   ]
  },
  {
   "cell_type": "code",
   "execution_count": 95,
   "id": "26f663ba-751a-44dd-879f-08017ff69c91",
   "metadata": {},
   "outputs": [
    {
     "data": {
      "text/plain": [
       "False"
      ]
     },
     "execution_count": 95,
     "metadata": {},
     "output_type": "execute_result"
    }
   ],
   "source": [
    "age.isnumeric()"
   ]
  },
  {
   "cell_type": "code",
   "execution_count": 97,
   "id": "b5ea22f9-f747-4c7a-9def-eadf878ac5bd",
   "metadata": {},
   "outputs": [
    {
     "data": {
      "text/plain": [
       "False"
      ]
     },
     "execution_count": 97,
     "metadata": {},
     "output_type": "execute_result"
    }
   ],
   "source": [
    "name.isalpha() and age.isnumeric()"
   ]
  },
  {
   "cell_type": "code",
   "execution_count": 99,
   "id": "acf2baf6-c8ff-40b5-8568-baf57109891e",
   "metadata": {},
   "outputs": [
    {
     "data": {
      "text/plain": [
       "True"
      ]
     },
     "execution_count": 99,
     "metadata": {},
     "output_type": "execute_result"
    }
   ],
   "source": [
    "name.isalpha() or age.isnumeric()"
   ]
  },
  {
   "cell_type": "markdown",
   "id": "d7344006-0bcf-40d6-9825-4c5275864051",
   "metadata": {},
   "source": [
    "# LIST"
   ]
  },
  {
   "cell_type": "code",
   "execution_count": 42,
   "id": "76255909-e390-4832-b8df-746120bd3e4b",
   "metadata": {},
   "outputs": [],
   "source": [
    "my_list = list()\n"
   ]
  },
  {
   "cell_type": "code",
   "execution_count": 44,
   "id": "7af5a747-21a4-4ae6-a42f-afd1b7c72e1c",
   "metadata": {},
   "outputs": [],
   "source": [
    "list=[]"
   ]
  },
  {
   "cell_type": "code",
   "execution_count": 46,
   "id": "567e6eea-88e7-4304-bfa0-a8372da2f193",
   "metadata": {},
   "outputs": [
    {
     "data": {
      "text/plain": [
       "list"
      ]
     },
     "execution_count": 46,
     "metadata": {},
     "output_type": "execute_result"
    }
   ],
   "source": [
    "type(list)\n",
    "type(my_list)"
   ]
  },
  {
   "cell_type": "code",
   "execution_count": 48,
   "id": "62d9291e-1a27-4e63-b4ca-352ab2e207f0",
   "metadata": {},
   "outputs": [],
   "source": [
    "list=['maths','chemistry',5,7]"
   ]
  },
  {
   "cell_type": "code",
   "execution_count": 50,
   "id": "f3e50021-b9b5-4533-ae89-30e6b3715094",
   "metadata": {},
   "outputs": [
    {
     "data": {
      "text/plain": [
       "['maths', 'chemistry', 5, 7]"
      ]
     },
     "execution_count": 50,
     "metadata": {},
     "output_type": "execute_result"
    }
   ],
   "source": [
    "list"
   ]
  },
  {
   "cell_type": "code",
   "execution_count": 55,
   "id": "9b64e97d-5fcd-428f-8b67-066b10c04a1c",
   "metadata": {},
   "outputs": [
    {
     "data": {
      "text/plain": [
       "4"
      ]
     },
     "execution_count": 55,
     "metadata": {},
     "output_type": "execute_result"
    }
   ],
   "source": [
    "len(list)"
   ]
  },
  {
   "cell_type": "code",
   "execution_count": 61,
   "id": "3e2ebea5-2be5-41d5-8713-b7446a45ab03",
   "metadata": {},
   "outputs": [
    {
     "data": {
      "text/plain": [
       "7"
      ]
     },
     "execution_count": 61,
     "metadata": {},
     "output_type": "execute_result"
    }
   ],
   "source": [
    "list[3]"
   ]
  },
  {
   "cell_type": "markdown",
   "id": "ee8073dc-6771-4fb8-964a-d0313ce23e17",
   "metadata": {},
   "source": [
    "### append"
   ]
  },
  {
   "cell_type": "code",
   "execution_count": 63,
   "id": "cdabb199-b6b4-41a6-9238-2d95fe0a97ce",
   "metadata": {},
   "outputs": [],
   "source": [
    "list.append('asish')"
   ]
  },
  {
   "cell_type": "code",
   "execution_count": 65,
   "id": "1f6146dd-c7e9-4ddf-af30-3e98703d544e",
   "metadata": {},
   "outputs": [
    {
     "data": {
      "text/plain": [
       "['maths', 'chemistry', 5, 7, 'asish']"
      ]
     },
     "execution_count": 65,
     "metadata": {},
     "output_type": "execute_result"
    }
   ],
   "source": [
    "list"
   ]
  },
  {
   "cell_type": "markdown",
   "id": "f4b51d2d-a765-4fba-9e6f-6ed1c7f95669",
   "metadata": {},
   "source": [
    "### Insert"
   ]
  },
  {
   "cell_type": "code",
   "execution_count": 68,
   "id": "05739d11-04d4-497c-9ce4-dd91258e7ba7",
   "metadata": {},
   "outputs": [],
   "source": [
    "list.insert(2,'physics')"
   ]
  },
  {
   "cell_type": "code",
   "execution_count": 70,
   "id": "dbd8c615-6a2a-4f5c-931b-1051d8dc041e",
   "metadata": {},
   "outputs": [
    {
     "data": {
      "text/plain": [
       "['maths', 'chemistry', 'physics', 5, 7, 'asish']"
      ]
     },
     "execution_count": 70,
     "metadata": {},
     "output_type": "execute_result"
    }
   ],
   "source": [
    "list"
   ]
  },
  {
   "cell_type": "markdown",
   "id": "f5eb87c1-b92c-43bf-adfb-002ead7a1a56",
   "metadata": {},
   "source": [
    "### Extend"
   ]
  },
  {
   "cell_type": "code",
   "execution_count": 73,
   "id": "cf145a8d-ba08-43e5-a9bc-45114b2c811b",
   "metadata": {},
   "outputs": [],
   "source": [
    "list.append([2,3])"
   ]
  },
  {
   "cell_type": "code",
   "execution_count": 79,
   "id": "7297ca64-6920-4e7d-8d8f-8fd4e03aa6dd",
   "metadata": {},
   "outputs": [],
   "source": [
    "list.extend([4,5])"
   ]
  },
  {
   "cell_type": "code",
   "execution_count": 81,
   "id": "d50d46f3-c60d-48d4-9cc5-f01dff202765",
   "metadata": {},
   "outputs": [
    {
     "data": {
      "text/plain": [
       "['maths', 'chemistry', 'physics', 5, 7, 'asish', [2, 3], 4, 5, 4, 5]"
      ]
     },
     "execution_count": 81,
     "metadata": {},
     "output_type": "execute_result"
    }
   ],
   "source": [
    "list"
   ]
  },
  {
   "cell_type": "markdown",
   "id": "dac08ae3-be5c-4682-a3e4-5bb1cfdd9b6a",
   "metadata": {},
   "source": [
    "Operations"
   ]
  },
  {
   "cell_type": "code",
   "execution_count": 84,
   "id": "f61862e7-de7c-4b56-85d5-e504941348e3",
   "metadata": {},
   "outputs": [],
   "source": [
    "lst=[1,2,3,4,5]"
   ]
  },
  {
   "cell_type": "code",
   "execution_count": 86,
   "id": "eaa3507c-ba6a-428e-aee0-a60d8a730407",
   "metadata": {},
   "outputs": [
    {
     "data": {
      "text/plain": [
       "15"
      ]
     },
     "execution_count": 86,
     "metadata": {},
     "output_type": "execute_result"
    }
   ],
   "source": [
    "sum(lst)"
   ]
  },
  {
   "cell_type": "code",
   "execution_count": 88,
   "id": "ea65a170-2de9-4dc2-8df8-3750aa4add66",
   "metadata": {},
   "outputs": [
    {
     "data": {
      "text/plain": [
       "5"
      ]
     },
     "execution_count": 88,
     "metadata": {},
     "output_type": "execute_result"
    }
   ],
   "source": [
    "lst.pop()"
   ]
  },
  {
   "cell_type": "code",
   "execution_count": 90,
   "id": "e482cf51-2200-427f-8d2c-d17e34a5e639",
   "metadata": {},
   "outputs": [
    {
     "data": {
      "text/plain": [
       "[1, 2, 3, 4]"
      ]
     },
     "execution_count": 90,
     "metadata": {},
     "output_type": "execute_result"
    }
   ],
   "source": [
    "lst"
   ]
  },
  {
   "cell_type": "code",
   "execution_count": 92,
   "id": "8f9d111a-7403-448f-af3a-51e688cafdb1",
   "metadata": {},
   "outputs": [
    {
     "data": {
      "text/plain": [
       "3"
      ]
     },
     "execution_count": 92,
     "metadata": {},
     "output_type": "execute_result"
    }
   ],
   "source": [
    "lst.pop(2)"
   ]
  },
  {
   "cell_type": "code",
   "execution_count": 94,
   "id": "3053de70-408a-43fd-abdf-cd39c797a691",
   "metadata": {},
   "outputs": [
    {
     "data": {
      "text/plain": [
       "[1, 2, 4]"
      ]
     },
     "execution_count": 94,
     "metadata": {},
     "output_type": "execute_result"
    }
   ],
   "source": [
    "lst\n"
   ]
  },
  {
   "cell_type": "code",
   "execution_count": 96,
   "id": "f3c2177f-f4a5-4fa3-90f7-1f632b9843fa",
   "metadata": {},
   "outputs": [],
   "source": [
    "lst.extend([5,6,4,4,2])"
   ]
  },
  {
   "cell_type": "code",
   "execution_count": 98,
   "id": "5ea8a7dd-9898-402b-b532-7fc4defb7463",
   "metadata": {},
   "outputs": [
    {
     "data": {
      "text/plain": [
       "[1, 2, 4, 5, 6, 4, 4, 2]"
      ]
     },
     "execution_count": 98,
     "metadata": {},
     "output_type": "execute_result"
    }
   ],
   "source": [
    "lst"
   ]
  },
  {
   "cell_type": "code",
   "execution_count": 100,
   "id": "fcaa1948-9cd5-4517-9c26-454ff352d9e7",
   "metadata": {},
   "outputs": [
    {
     "data": {
      "text/plain": [
       "3"
      ]
     },
     "execution_count": 100,
     "metadata": {},
     "output_type": "execute_result"
    }
   ],
   "source": [
    "lst.count(4)"
   ]
  },
  {
   "cell_type": "code",
   "execution_count": 102,
   "id": "45e3c8ab-8da7-43cd-980d-ca847d8f30ef",
   "metadata": {},
   "outputs": [
    {
     "data": {
      "text/plain": [
       "1"
      ]
     },
     "execution_count": 102,
     "metadata": {},
     "output_type": "execute_result"
    }
   ],
   "source": [
    "lst.index(2)"
   ]
  },
  {
   "cell_type": "code",
   "execution_count": 112,
   "id": "eba1219e-2a6e-460d-8298-5b46cb37b418",
   "metadata": {},
   "outputs": [
    {
     "data": {
      "text/plain": [
       "2"
      ]
     },
     "execution_count": 112,
     "metadata": {},
     "output_type": "execute_result"
    }
   ],
   "source": [
    "lst.index(4,0,7)"
   ]
  },
  {
   "cell_type": "code",
   "execution_count": 114,
   "id": "5ff53f81-476b-42af-8e17-b3e5bc2c22f0",
   "metadata": {},
   "outputs": [
    {
     "data": {
      "text/plain": [
       "[1, 2, 4, 5, 6, 4, 4, 2, 1, 2, 4, 5, 6, 4, 4, 2]"
      ]
     },
     "execution_count": 114,
     "metadata": {},
     "output_type": "execute_result"
    }
   ],
   "source": [
    "lst*2"
   ]
  },
  {
   "cell_type": "markdown",
   "id": "87d09af3-19ec-4e6e-bce0-008685bb3394",
   "metadata": {},
   "source": [
    "# SETS"
   ]
  },
  {
   "cell_type": "code",
   "execution_count": 121,
   "id": "2d9fafd9-3c57-43b9-924e-ad50abeba6fd",
   "metadata": {},
   "outputs": [
    {
     "name": "stdout",
     "output_type": "stream",
     "text": [
      "set()\n",
      "<class 'set'>\n"
     ]
    }
   ],
   "source": [
    "# defining\n",
    "s = set()\n",
    "print(s)\n",
    "print(type(s))"
   ]
  },
  {
   "cell_type": "code",
   "execution_count": 125,
   "id": "6bec3add-0b34-4223-8ab2-ca7696735f32",
   "metadata": {},
   "outputs": [],
   "source": [
    "set={1,2,3,4,5}"
   ]
  },
  {
   "cell_type": "code",
   "execution_count": 127,
   "id": "8df206b7-c48e-4652-a1cb-77b1861c0609",
   "metadata": {},
   "outputs": [
    {
     "data": {
      "text/plain": [
       "{1, 2, 3, 4, 5}"
      ]
     },
     "execution_count": 127,
     "metadata": {},
     "output_type": "execute_result"
    }
   ],
   "source": [
    "set"
   ]
  },
  {
   "cell_type": "markdown",
   "id": "40601f7a-512f-4245-9358-5361f6c6584a",
   "metadata": {},
   "source": [
    "no particular order"
   ]
  },
  {
   "cell_type": "code",
   "execution_count": 130,
   "id": "e86fa157-8ae3-4d82-81ee-092075b97c67",
   "metadata": {},
   "outputs": [],
   "source": [
    "set1={\"Ironman\",\"Hulk\",\"Thor\"}"
   ]
  },
  {
   "cell_type": "code",
   "execution_count": 132,
   "id": "e8b88035-bd70-4e6f-b184-f66d9ab84335",
   "metadata": {},
   "outputs": [
    {
     "data": {
      "text/plain": [
       "{'Hulk', 'Ironman', 'Thor'}"
      ]
     },
     "execution_count": 132,
     "metadata": {},
     "output_type": "execute_result"
    }
   ],
   "source": [
    "set1"
   ]
  },
  {
   "cell_type": "code",
   "execution_count": 134,
   "id": "72858934-5656-4449-b645-d1f899c77dc8",
   "metadata": {},
   "outputs": [],
   "source": [
    "set2={\"Ironman\",\"Captain America\",\"Black Widow\"}"
   ]
  },
  {
   "cell_type": "code",
   "execution_count": 136,
   "id": "95a830f6-a7dc-408a-b144-d03e085dbb4c",
   "metadata": {},
   "outputs": [
    {
     "data": {
      "text/plain": [
       "{'Black Widow', 'Captain America', 'Ironman'}"
      ]
     },
     "execution_count": 136,
     "metadata": {},
     "output_type": "execute_result"
    }
   ],
   "source": [
    "set2"
   ]
  },
  {
   "cell_type": "code",
   "execution_count": 138,
   "id": "4005bbd2-c97b-467e-9bac-5e6fc45fb631",
   "metadata": {},
   "outputs": [],
   "source": [
    "set2.add(\"spiderman\")"
   ]
  },
  {
   "cell_type": "code",
   "execution_count": 140,
   "id": "2d4d3659-26dc-45af-b5e3-62c291c4d967",
   "metadata": {},
   "outputs": [
    {
     "data": {
      "text/plain": [
       "{'Black Widow', 'Captain America', 'Ironman', 'spiderman'}"
      ]
     },
     "execution_count": 140,
     "metadata": {},
     "output_type": "execute_result"
    }
   ],
   "source": [
    "set2"
   ]
  },
  {
   "cell_type": "code",
   "execution_count": 148,
   "id": "d00cb5c0-2b11-410d-8185-ef269c3bd792",
   "metadata": {},
   "outputs": [],
   "source": [
    "set3=set2.intersection(set1)"
   ]
  },
  {
   "cell_type": "code",
   "execution_count": 150,
   "id": "6ae4cea2-9cf1-45f7-b66b-e519c9ce21e1",
   "metadata": {},
   "outputs": [
    {
     "data": {
      "text/plain": [
       "{'Ironman'}"
      ]
     },
     "execution_count": 150,
     "metadata": {},
     "output_type": "execute_result"
    }
   ],
   "source": [
    "set3"
   ]
  },
  {
   "cell_type": "code",
   "execution_count": 152,
   "id": "39fbe90f-b94a-4f89-b263-d3c43cad7402",
   "metadata": {},
   "outputs": [],
   "source": [
    "set2.intersection_update(set1)"
   ]
  },
  {
   "cell_type": "code",
   "execution_count": 154,
   "id": "5dfa926b-04ab-4354-9a97-6a9c90151c9b",
   "metadata": {},
   "outputs": [
    {
     "data": {
      "text/plain": [
       "{'Ironman'}"
      ]
     },
     "execution_count": 154,
     "metadata": {},
     "output_type": "execute_result"
    }
   ],
   "source": [
    "set2"
   ]
  },
  {
   "cell_type": "code",
   "execution_count": 156,
   "id": "a687fbf9-34c0-49bd-ab83-d971d501ca07",
   "metadata": {},
   "outputs": [
    {
     "data": {
      "text/plain": [
       "{'Hulk', 'Thor'}"
      ]
     },
     "execution_count": 156,
     "metadata": {},
     "output_type": "execute_result"
    }
   ],
   "source": [
    "set1.difference(set2)"
   ]
  },
  {
   "cell_type": "markdown",
   "id": "37f53f87-0de5-4ea0-bc66-038e9b2c813e",
   "metadata": {},
   "source": [
    "# Dictionary\n",
    "A dictionary is a collection which is unordered, changeable and indexed. In Python dictionaries are written with curly brackets, and they have keys and values."
   ]
  },
  {
   "cell_type": "code",
   "execution_count": 160,
   "id": "f4b0d3cf-0f50-460b-8a08-1cc26a411978",
   "metadata": {},
   "outputs": [],
   "source": [
    "dict={}"
   ]
  },
  {
   "cell_type": "code",
   "execution_count": 162,
   "id": "221563a7-c84a-4790-a9dd-c42734f9b371",
   "metadata": {},
   "outputs": [
    {
     "data": {
      "text/plain": [
       "dict"
      ]
     },
     "execution_count": 162,
     "metadata": {},
     "output_type": "execute_result"
    }
   ],
   "source": [
    "type(dict)"
   ]
  },
  {
   "cell_type": "code",
   "execution_count": 164,
   "id": "783df187-592b-4d88-9741-8d17ed434b77",
   "metadata": {},
   "outputs": [],
   "source": [
    "dict={\"Asish\":22,\"Akshay\":23,\"Jose\":40,\"Ruby\":35}"
   ]
  },
  {
   "cell_type": "code",
   "execution_count": 166,
   "id": "66cc1082-8794-490e-99cf-1026929b19af",
   "metadata": {},
   "outputs": [
    {
     "data": {
      "text/plain": [
       "{'Asish': 22, 'Akshay': 23, 'Jose': 40, 'Ruby': 35}"
      ]
     },
     "execution_count": 166,
     "metadata": {},
     "output_type": "execute_result"
    }
   ],
   "source": [
    "dict"
   ]
  },
  {
   "cell_type": "code",
   "execution_count": 170,
   "id": "f4288a07-4496-46dd-9125-7fca4a553c81",
   "metadata": {},
   "outputs": [
    {
     "data": {
      "text/plain": [
       "40"
      ]
     },
     "execution_count": 170,
     "metadata": {},
     "output_type": "execute_result"
    }
   ],
   "source": [
    "dict[\"Jose\"]"
   ]
  },
  {
   "cell_type": "code",
   "execution_count": 176,
   "id": "8316fa35-c5b8-437a-b4bb-32d999aafaaa",
   "metadata": {},
   "outputs": [
    {
     "name": "stdout",
     "output_type": "stream",
     "text": [
      "Asish\n",
      "Akshay\n",
      "Jose\n",
      "Ruby\n"
     ]
    }
   ],
   "source": [
    "for x in dict:\n",
    "    print(x)"
   ]
  },
  {
   "cell_type": "code",
   "execution_count": null,
   "id": "0d6d5b1d-123e-47f3-bb22-24d56f2fe0bc",
   "metadata": {},
   "outputs": [],
   "source": []
  }
 ],
 "metadata": {
  "kernelspec": {
   "display_name": "Python [conda env:base] *",
   "language": "python",
   "name": "conda-base-py"
  },
  "language_info": {
   "codemirror_mode": {
    "name": "ipython",
    "version": 3
   },
   "file_extension": ".py",
   "mimetype": "text/x-python",
   "name": "python",
   "nbconvert_exporter": "python",
   "pygments_lexer": "ipython3",
   "version": "3.12.7"
  }
 },
 "nbformat": 4,
 "nbformat_minor": 5
}
