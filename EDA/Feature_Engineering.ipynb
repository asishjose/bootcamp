{
 "cells": [
  {
   "cell_type": "code",
   "execution_count": 1,
   "id": "105329f9-748c-482d-b2ac-b8d911205a77",
   "metadata": {},
   "outputs": [],
   "source": [
    "import pandas as pd"
   ]
  },
  {
   "cell_type": "code",
   "execution_count": 4,
   "id": "c3c9dae7-6969-4598-a88a-88f368eabc28",
   "metadata": {},
   "outputs": [
    {
     "data": {
      "text/html": [
       "<div>\n",
       "<style scoped>\n",
       "    .dataframe tbody tr th:only-of-type {\n",
       "        vertical-align: middle;\n",
       "    }\n",
       "\n",
       "    .dataframe tbody tr th {\n",
       "        vertical-align: top;\n",
       "    }\n",
       "\n",
       "    .dataframe thead th {\n",
       "        text-align: right;\n",
       "    }\n",
       "</style>\n",
       "<table border=\"1\" class=\"dataframe\">\n",
       "  <thead>\n",
       "    <tr style=\"text-align: right;\">\n",
       "      <th></th>\n",
       "      <th>Customer_ID</th>\n",
       "      <th>Purchase_Amount</th>\n",
       "      <th>Date</th>\n",
       "      <th>Product_Category</th>\n",
       "      <th>City</th>\n",
       "    </tr>\n",
       "  </thead>\n",
       "  <tbody>\n",
       "    <tr>\n",
       "      <th>0</th>\n",
       "      <td>101</td>\n",
       "      <td>1500</td>\n",
       "      <td>2024-10-01</td>\n",
       "      <td>Electronics</td>\n",
       "      <td>Mumbai</td>\n",
       "    </tr>\n",
       "    <tr>\n",
       "      <th>1</th>\n",
       "      <td>102</td>\n",
       "      <td>2200</td>\n",
       "      <td>2024-11-21</td>\n",
       "      <td>Furniture</td>\n",
       "      <td>Delhi</td>\n",
       "    </tr>\n",
       "    <tr>\n",
       "      <th>2</th>\n",
       "      <td>103</td>\n",
       "      <td>750</td>\n",
       "      <td>2024-11-25</td>\n",
       "      <td>Groceries</td>\n",
       "      <td>Mumbai</td>\n",
       "    </tr>\n",
       "    <tr>\n",
       "      <th>3</th>\n",
       "      <td>104</td>\n",
       "      <td>3200</td>\n",
       "      <td>2025-01-04</td>\n",
       "      <td>Electronics</td>\n",
       "      <td>Bangalore</td>\n",
       "    </tr>\n",
       "  </tbody>\n",
       "</table>\n",
       "</div>"
      ],
      "text/plain": [
       "   Customer_ID  Purchase_Amount       Date Product_Category       City\n",
       "0          101             1500 2024-10-01      Electronics     Mumbai\n",
       "1          102             2200 2024-11-21        Furniture      Delhi\n",
       "2          103              750 2024-11-25        Groceries     Mumbai\n",
       "3          104             3200 2025-01-04      Electronics  Bangalore"
      ]
     },
     "execution_count": 4,
     "metadata": {},
     "output_type": "execute_result"
    }
   ],
   "source": [
    "data = {\n",
    "    'Customer_ID': [101, 102, 103, 104],\n",
    "    'Purchase_Amount': [1500, 2200, 750, 3200],\n",
    "    'Date': ['2024-10-01', '2024-11-21', '2024-11-25', '2025-01-04'],\n",
    "    'Product_Category': ['Electronics', 'Furniture', 'Groceries', 'Electronics'],\n",
    "    'City': ['Mumbai', 'Delhi', 'Mumbai', 'Bangalore']\n",
    "}\n",
    "\n",
    "df = pd.DataFrame(data)\n",
    "df['Date'] = pd.to_datetime(df['Date'])\n",
    "df"
   ]
  },
  {
   "cell_type": "markdown",
   "id": "7da007d5-1afd-4c85-83f7-dce3dc2a5e22",
   "metadata": {},
   "source": [
    "### 1. Extracting date-related features"
   ]
  },
  {
   "cell_type": "code",
   "execution_count": 5,
   "id": "3c941c5b-16c5-4114-bf7a-c8a9fa742600",
   "metadata": {},
   "outputs": [],
   "source": [
    "df['Purchase_Year'] = df['Date'].dt.year\n",
    "df['Purchase_Month'] = df['Date'].dt.month\n",
    "df['Day_of_Week'] = df['Date'].dt.day_name()"
   ]
  },
  {
   "cell_type": "markdown",
   "id": "1084092d-5da4-416a-abac-a40cbb6f8916",
   "metadata": {},
   "source": [
    "### 2. Creating binary features (e.g., High spender)"
   ]
  },
  {
   "cell_type": "code",
   "execution_count": 6,
   "id": "c84d25a0-1c87-42c3-82fc-d8936a444822",
   "metadata": {},
   "outputs": [],
   "source": [
    "df['High_Spender'] = df[\"Purchase_Amount\"].apply(lambda x:1 if x>2000 else 0)"
   ]
  },
  {
   "cell_type": "markdown",
   "id": "37c53926-65d3-46b8-bc40-3192256fb1a6",
   "metadata": {},
   "source": [
    "###  Binning purchase amounts"
   ]
  },
  {
   "cell_type": "code",
   "execution_count": 9,
   "id": "f05e942a-06d8-451f-8405-ff30a55f78c0",
   "metadata": {},
   "outputs": [],
   "source": [
    "bins = [0, 1000, 2000, 5000]\n",
    "labels = ['Low', 'Medium', 'High']\n",
    "df['Spending_Category'] = pd.cut(df['Purchase_Amount'], bins=bins, labels=labels)"
   ]
  },
  {
   "cell_type": "code",
   "execution_count": 10,
   "id": "02ec9f34-5264-4643-a861-0f439538cd34",
   "metadata": {},
   "outputs": [
    {
     "data": {
      "text/html": [
       "<div>\n",
       "<style scoped>\n",
       "    .dataframe tbody tr th:only-of-type {\n",
       "        vertical-align: middle;\n",
       "    }\n",
       "\n",
       "    .dataframe tbody tr th {\n",
       "        vertical-align: top;\n",
       "    }\n",
       "\n",
       "    .dataframe thead th {\n",
       "        text-align: right;\n",
       "    }\n",
       "</style>\n",
       "<table border=\"1\" class=\"dataframe\">\n",
       "  <thead>\n",
       "    <tr style=\"text-align: right;\">\n",
       "      <th></th>\n",
       "      <th>Customer_ID</th>\n",
       "      <th>Purchase_Amount</th>\n",
       "      <th>Date</th>\n",
       "      <th>Product_Category</th>\n",
       "      <th>City</th>\n",
       "      <th>Purchase_Year</th>\n",
       "      <th>Purchase_Month</th>\n",
       "      <th>Day_of_Week</th>\n",
       "      <th>High_Spender</th>\n",
       "      <th>Spending_Category</th>\n",
       "    </tr>\n",
       "  </thead>\n",
       "  <tbody>\n",
       "    <tr>\n",
       "      <th>0</th>\n",
       "      <td>101</td>\n",
       "      <td>1500</td>\n",
       "      <td>2024-10-01</td>\n",
       "      <td>Electronics</td>\n",
       "      <td>Mumbai</td>\n",
       "      <td>2024</td>\n",
       "      <td>10</td>\n",
       "      <td>Tuesday</td>\n",
       "      <td>0</td>\n",
       "      <td>Medium</td>\n",
       "    </tr>\n",
       "    <tr>\n",
       "      <th>1</th>\n",
       "      <td>102</td>\n",
       "      <td>2200</td>\n",
       "      <td>2024-11-21</td>\n",
       "      <td>Furniture</td>\n",
       "      <td>Delhi</td>\n",
       "      <td>2024</td>\n",
       "      <td>11</td>\n",
       "      <td>Thursday</td>\n",
       "      <td>1</td>\n",
       "      <td>High</td>\n",
       "    </tr>\n",
       "    <tr>\n",
       "      <th>2</th>\n",
       "      <td>103</td>\n",
       "      <td>750</td>\n",
       "      <td>2024-11-25</td>\n",
       "      <td>Groceries</td>\n",
       "      <td>Mumbai</td>\n",
       "      <td>2024</td>\n",
       "      <td>11</td>\n",
       "      <td>Monday</td>\n",
       "      <td>0</td>\n",
       "      <td>Low</td>\n",
       "    </tr>\n",
       "    <tr>\n",
       "      <th>3</th>\n",
       "      <td>104</td>\n",
       "      <td>3200</td>\n",
       "      <td>2025-01-04</td>\n",
       "      <td>Electronics</td>\n",
       "      <td>Bangalore</td>\n",
       "      <td>2025</td>\n",
       "      <td>1</td>\n",
       "      <td>Saturday</td>\n",
       "      <td>1</td>\n",
       "      <td>High</td>\n",
       "    </tr>\n",
       "  </tbody>\n",
       "</table>\n",
       "</div>"
      ],
      "text/plain": [
       "   Customer_ID  Purchase_Amount       Date Product_Category       City  \\\n",
       "0          101             1500 2024-10-01      Electronics     Mumbai   \n",
       "1          102             2200 2024-11-21        Furniture      Delhi   \n",
       "2          103              750 2024-11-25        Groceries     Mumbai   \n",
       "3          104             3200 2025-01-04      Electronics  Bangalore   \n",
       "\n",
       "   Purchase_Year  Purchase_Month Day_of_Week  High_Spender Spending_Category  \n",
       "0           2024              10     Tuesday             0            Medium  \n",
       "1           2024              11    Thursday             1              High  \n",
       "2           2024              11      Monday             0               Low  \n",
       "3           2025               1    Saturday             1              High  "
      ]
     },
     "execution_count": 10,
     "metadata": {},
     "output_type": "execute_result"
    }
   ],
   "source": [
    "df"
   ]
  },
  {
   "cell_type": "code",
   "execution_count": null,
   "id": "698b53dd-447b-4cfc-8d1f-efd33f972f9c",
   "metadata": {},
   "outputs": [],
   "source": []
  }
 ],
 "metadata": {
  "kernelspec": {
   "display_name": "Python 3 (ipykernel)",
   "language": "python",
   "name": "python3"
  },
  "language_info": {
   "codemirror_mode": {
    "name": "ipython",
    "version": 3
   },
   "file_extension": ".py",
   "mimetype": "text/x-python",
   "name": "python",
   "nbconvert_exporter": "python",
   "pygments_lexer": "ipython3",
   "version": "3.12.3"
  }
 },
 "nbformat": 4,
 "nbformat_minor": 5
}
