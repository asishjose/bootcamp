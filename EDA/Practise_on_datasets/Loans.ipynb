{
 "cells": [
  {
   "cell_type": "code",
   "execution_count": 1,
   "id": "c82b54d3-de63-4004-9a75-fde50bcd86b1",
   "metadata": {},
   "outputs": [],
   "source": [
    "import os\n",
    "import warnings\n",
    "warnings.filterwarnings(\"ignore\")"
   ]
  },
  {
   "cell_type": "code",
   "execution_count": 2,
   "id": "a7337e42-d59f-4e5a-848f-1f1e64e79aa2",
   "metadata": {},
   "outputs": [],
   "source": [
    "import pandas as pd\n",
    "import numpy as np\n",
    "import matplotlib.pyplot as plt\n",
    "import seaborn as sns"
   ]
  },
  {
   "cell_type": "code",
   "execution_count": 3,
   "id": "96da4986-9e13-41eb-8aed-34ac841c670e",
   "metadata": {},
   "outputs": [
    {
     "data": {
      "text/html": [
       "<div>\n",
       "<style scoped>\n",
       "    .dataframe tbody tr th:only-of-type {\n",
       "        vertical-align: middle;\n",
       "    }\n",
       "\n",
       "    .dataframe tbody tr th {\n",
       "        vertical-align: top;\n",
       "    }\n",
       "\n",
       "    .dataframe thead th {\n",
       "        text-align: right;\n",
       "    }\n",
       "</style>\n",
       "<table border=\"1\" class=\"dataframe\">\n",
       "  <thead>\n",
       "    <tr style=\"text-align: right;\">\n",
       "      <th></th>\n",
       "      <th>client_id</th>\n",
       "      <th>loan_type</th>\n",
       "      <th>loan_amount</th>\n",
       "      <th>repaid</th>\n",
       "      <th>loan_id</th>\n",
       "      <th>loan_start</th>\n",
       "      <th>loan_end</th>\n",
       "      <th>rate</th>\n",
       "    </tr>\n",
       "  </thead>\n",
       "  <tbody>\n",
       "    <tr>\n",
       "      <th>0</th>\n",
       "      <td>46109</td>\n",
       "      <td>home</td>\n",
       "      <td>13672</td>\n",
       "      <td>0</td>\n",
       "      <td>10243</td>\n",
       "      <td>2002-04-16</td>\n",
       "      <td>2003-12-20</td>\n",
       "      <td>2.15</td>\n",
       "    </tr>\n",
       "    <tr>\n",
       "      <th>1</th>\n",
       "      <td>46109</td>\n",
       "      <td>credit</td>\n",
       "      <td>9794</td>\n",
       "      <td>0</td>\n",
       "      <td>10984</td>\n",
       "      <td>2003-10-21</td>\n",
       "      <td>2005-07-17</td>\n",
       "      <td>1.25</td>\n",
       "    </tr>\n",
       "    <tr>\n",
       "      <th>2</th>\n",
       "      <td>46109</td>\n",
       "      <td>home</td>\n",
       "      <td>12734</td>\n",
       "      <td>1</td>\n",
       "      <td>10990</td>\n",
       "      <td>2006-02-01</td>\n",
       "      <td>2007-07-05</td>\n",
       "      <td>0.68</td>\n",
       "    </tr>\n",
       "    <tr>\n",
       "      <th>3</th>\n",
       "      <td>46109</td>\n",
       "      <td>cash</td>\n",
       "      <td>12518</td>\n",
       "      <td>1</td>\n",
       "      <td>10596</td>\n",
       "      <td>2010-12-08</td>\n",
       "      <td>2013-05-05</td>\n",
       "      <td>1.24</td>\n",
       "    </tr>\n",
       "    <tr>\n",
       "      <th>4</th>\n",
       "      <td>46109</td>\n",
       "      <td>credit</td>\n",
       "      <td>14049</td>\n",
       "      <td>1</td>\n",
       "      <td>11415</td>\n",
       "      <td>2010-07-07</td>\n",
       "      <td>2012-05-21</td>\n",
       "      <td>3.13</td>\n",
       "    </tr>\n",
       "  </tbody>\n",
       "</table>\n",
       "</div>"
      ],
      "text/plain": [
       "   client_id loan_type  loan_amount  repaid  loan_id  loan_start    loan_end  \\\n",
       "0      46109      home        13672       0    10243  2002-04-16  2003-12-20   \n",
       "1      46109    credit         9794       0    10984  2003-10-21  2005-07-17   \n",
       "2      46109      home        12734       1    10990  2006-02-01  2007-07-05   \n",
       "3      46109      cash        12518       1    10596  2010-12-08  2013-05-05   \n",
       "4      46109    credit        14049       1    11415  2010-07-07  2012-05-21   \n",
       "\n",
       "   rate  \n",
       "0  2.15  \n",
       "1  1.25  \n",
       "2  0.68  \n",
       "3  1.24  \n",
       "4  3.13  "
      ]
     },
     "execution_count": 3,
     "metadata": {},
     "output_type": "execute_result"
    }
   ],
   "source": [
    "df = pd.read_csv('loans.csv')\n",
    "df.head()"
   ]
  },
  {
   "cell_type": "code",
   "execution_count": 4,
   "id": "50a6091a-b061-46ab-b87f-3de5bab73362",
   "metadata": {},
   "outputs": [
    {
     "data": {
      "text/plain": [
       "(443, 8)"
      ]
     },
     "execution_count": 4,
     "metadata": {},
     "output_type": "execute_result"
    }
   ],
   "source": [
    "df.shape"
   ]
  },
  {
   "cell_type": "code",
   "execution_count": 5,
   "id": "4ef25e58-b185-471e-8636-616a4bfcb27f",
   "metadata": {},
   "outputs": [
    {
     "name": "stdout",
     "output_type": "stream",
     "text": [
      "<class 'pandas.core.frame.DataFrame'>\n",
      "RangeIndex: 443 entries, 0 to 442\n",
      "Data columns (total 8 columns):\n",
      " #   Column       Non-Null Count  Dtype  \n",
      "---  ------       --------------  -----  \n",
      " 0   client_id    443 non-null    int64  \n",
      " 1   loan_type    443 non-null    object \n",
      " 2   loan_amount  443 non-null    int64  \n",
      " 3   repaid       443 non-null    int64  \n",
      " 4   loan_id      443 non-null    int64  \n",
      " 5   loan_start   443 non-null    object \n",
      " 6   loan_end     443 non-null    object \n",
      " 7   rate         443 non-null    float64\n",
      "dtypes: float64(1), int64(4), object(3)\n",
      "memory usage: 27.8+ KB\n"
     ]
    }
   ],
   "source": [
    "df.info()"
   ]
  },
  {
   "cell_type": "code",
   "execution_count": 6,
   "id": "3f30f1b4-b722-4889-a5c4-7c8d77dbb928",
   "metadata": {},
   "outputs": [
    {
     "data": {
      "text/plain": [
       "client_id        int64\n",
       "loan_type       object\n",
       "loan_amount      int64\n",
       "repaid           int64\n",
       "loan_id          int64\n",
       "loan_start      object\n",
       "loan_end        object\n",
       "rate           float64\n",
       "dtype: object"
      ]
     },
     "execution_count": 6,
     "metadata": {},
     "output_type": "execute_result"
    }
   ],
   "source": [
    "df.dtypes"
   ]
  },
  {
   "cell_type": "markdown",
   "id": "b1e0f6ff-0903-4692-8e73-f819d7383e0a",
   "metadata": {},
   "source": [
    "## converting datatypes"
   ]
  },
  {
   "cell_type": "markdown",
   "id": "8916bbcf-b9bd-432f-b17a-e8afc3faa22d",
   "metadata": {},
   "source": [
    "-loan_id to object\n",
    "-repaid to category type\n",
    "-loan start and loan end to date type"
   ]
  },
  {
   "cell_type": "code",
   "execution_count": 7,
   "id": "0479a9f4-0353-4465-b80e-f879d934d94d",
   "metadata": {},
   "outputs": [
    {
     "data": {
      "text/plain": [
       "client_id               int64\n",
       "loan_type              object\n",
       "loan_amount             int64\n",
       "repaid               category\n",
       "loan_id                object\n",
       "loan_start     datetime64[ns]\n",
       "loan_end       datetime64[ns]\n",
       "rate                  float64\n",
       "dtype: object"
      ]
     },
     "execution_count": 7,
     "metadata": {},
     "output_type": "execute_result"
    }
   ],
   "source": [
    "df['loan_id'] = df['loan_id'].astype('object')\n",
    "df['repaid'] = df['repaid'].astype('category')\n",
    "\n",
    "df['loan_start'] = pd.to_datetime(df['loan_start'])\n",
    "df['loan_end'] = pd.to_datetime(df['loan_end'])\n",
    "\n",
    "df.dtypes"
   ]
  },
  {
   "cell_type": "markdown",
   "id": "362c4bbf-2644-47c6-9e5f-66461e5e685a",
   "metadata": {},
   "source": [
    "### Summary Statistics"
   ]
  },
  {
   "cell_type": "code",
   "execution_count": 8,
   "id": "ebf03e13-3e17-40c3-a015-f8e1d6aa3839",
   "metadata": {},
   "outputs": [
    {
     "data": {
      "text/html": [
       "<div>\n",
       "<style scoped>\n",
       "    .dataframe tbody tr th:only-of-type {\n",
       "        vertical-align: middle;\n",
       "    }\n",
       "\n",
       "    .dataframe tbody tr th {\n",
       "        vertical-align: top;\n",
       "    }\n",
       "\n",
       "    .dataframe thead th {\n",
       "        text-align: right;\n",
       "    }\n",
       "</style>\n",
       "<table border=\"1\" class=\"dataframe\">\n",
       "  <thead>\n",
       "    <tr style=\"text-align: right;\">\n",
       "      <th></th>\n",
       "      <th>client_id</th>\n",
       "      <th>loan_amount</th>\n",
       "      <th>loan_start</th>\n",
       "      <th>loan_end</th>\n",
       "      <th>rate</th>\n",
       "    </tr>\n",
       "  </thead>\n",
       "  <tbody>\n",
       "    <tr>\n",
       "      <th>count</th>\n",
       "      <td>443.000000</td>\n",
       "      <td>443.000000</td>\n",
       "      <td>443</td>\n",
       "      <td>443</td>\n",
       "      <td>443.000000</td>\n",
       "    </tr>\n",
       "    <tr>\n",
       "      <th>mean</th>\n",
       "      <td>38911.060948</td>\n",
       "      <td>7982.311512</td>\n",
       "      <td>2007-08-02 12:56:53.092550912</td>\n",
       "      <td>2009-08-23 11:35:37.246049536</td>\n",
       "      <td>3.217156</td>\n",
       "    </tr>\n",
       "    <tr>\n",
       "      <th>min</th>\n",
       "      <td>25707.000000</td>\n",
       "      <td>559.000000</td>\n",
       "      <td>2000-01-26 00:00:00</td>\n",
       "      <td>2001-08-02 00:00:00</td>\n",
       "      <td>0.010000</td>\n",
       "    </tr>\n",
       "    <tr>\n",
       "      <th>25%</th>\n",
       "      <td>32885.000000</td>\n",
       "      <td>4232.500000</td>\n",
       "      <td>2003-10-19 00:00:00</td>\n",
       "      <td>2005-09-12 12:00:00</td>\n",
       "      <td>1.220000</td>\n",
       "    </tr>\n",
       "    <tr>\n",
       "      <th>50%</th>\n",
       "      <td>39505.000000</td>\n",
       "      <td>8320.000000</td>\n",
       "      <td>2007-03-10 00:00:00</td>\n",
       "      <td>2009-03-19 00:00:00</td>\n",
       "      <td>2.780000</td>\n",
       "    </tr>\n",
       "    <tr>\n",
       "      <th>75%</th>\n",
       "      <td>46109.000000</td>\n",
       "      <td>11739.000000</td>\n",
       "      <td>2011-07-31 00:00:00</td>\n",
       "      <td>2013-09-11 12:00:00</td>\n",
       "      <td>4.750000</td>\n",
       "    </tr>\n",
       "    <tr>\n",
       "      <th>max</th>\n",
       "      <td>49624.000000</td>\n",
       "      <td>14971.000000</td>\n",
       "      <td>2014-11-11 00:00:00</td>\n",
       "      <td>2017-05-07 00:00:00</td>\n",
       "      <td>12.620000</td>\n",
       "    </tr>\n",
       "    <tr>\n",
       "      <th>std</th>\n",
       "      <td>7768.681063</td>\n",
       "      <td>4172.891992</td>\n",
       "      <td>NaN</td>\n",
       "      <td>NaN</td>\n",
       "      <td>2.397168</td>\n",
       "    </tr>\n",
       "  </tbody>\n",
       "</table>\n",
       "</div>"
      ],
      "text/plain": [
       "          client_id   loan_amount                     loan_start  \\\n",
       "count    443.000000    443.000000                            443   \n",
       "mean   38911.060948   7982.311512  2007-08-02 12:56:53.092550912   \n",
       "min    25707.000000    559.000000            2000-01-26 00:00:00   \n",
       "25%    32885.000000   4232.500000            2003-10-19 00:00:00   \n",
       "50%    39505.000000   8320.000000            2007-03-10 00:00:00   \n",
       "75%    46109.000000  11739.000000            2011-07-31 00:00:00   \n",
       "max    49624.000000  14971.000000            2014-11-11 00:00:00   \n",
       "std     7768.681063   4172.891992                            NaN   \n",
       "\n",
       "                            loan_end        rate  \n",
       "count                            443  443.000000  \n",
       "mean   2009-08-23 11:35:37.246049536    3.217156  \n",
       "min              2001-08-02 00:00:00    0.010000  \n",
       "25%              2005-09-12 12:00:00    1.220000  \n",
       "50%              2009-03-19 00:00:00    2.780000  \n",
       "75%              2013-09-11 12:00:00    4.750000  \n",
       "max              2017-05-07 00:00:00   12.620000  \n",
       "std                              NaN    2.397168  "
      ]
     },
     "execution_count": 8,
     "metadata": {},
     "output_type": "execute_result"
    }
   ],
   "source": [
    "df.describe()"
   ]
  },
  {
   "cell_type": "code",
   "execution_count": 9,
   "id": "1a382935-feb4-4ccd-a04c-37f582279923",
   "metadata": {},
   "outputs": [
    {
     "data": {
      "text/html": [
       "<div>\n",
       "<style scoped>\n",
       "    .dataframe tbody tr th:only-of-type {\n",
       "        vertical-align: middle;\n",
       "    }\n",
       "\n",
       "    .dataframe tbody tr th {\n",
       "        vertical-align: top;\n",
       "    }\n",
       "\n",
       "    .dataframe thead th {\n",
       "        text-align: right;\n",
       "    }\n",
       "</style>\n",
       "<table border=\"1\" class=\"dataframe\">\n",
       "  <thead>\n",
       "    <tr style=\"text-align: right;\">\n",
       "      <th></th>\n",
       "      <th>loan_type</th>\n",
       "      <th>repaid</th>\n",
       "      <th>loan_id</th>\n",
       "      <th>loan_start</th>\n",
       "      <th>loan_end</th>\n",
       "    </tr>\n",
       "  </thead>\n",
       "  <tbody>\n",
       "    <tr>\n",
       "      <th>count</th>\n",
       "      <td>443</td>\n",
       "      <td>443.0</td>\n",
       "      <td>443.0</td>\n",
       "      <td>443</td>\n",
       "      <td>443</td>\n",
       "    </tr>\n",
       "    <tr>\n",
       "      <th>unique</th>\n",
       "      <td>4</td>\n",
       "      <td>2.0</td>\n",
       "      <td>443.0</td>\n",
       "      <td>NaN</td>\n",
       "      <td>NaN</td>\n",
       "    </tr>\n",
       "    <tr>\n",
       "      <th>top</th>\n",
       "      <td>home</td>\n",
       "      <td>1.0</td>\n",
       "      <td>11434.0</td>\n",
       "      <td>NaN</td>\n",
       "      <td>NaN</td>\n",
       "    </tr>\n",
       "    <tr>\n",
       "      <th>freq</th>\n",
       "      <td>121</td>\n",
       "      <td>237.0</td>\n",
       "      <td>1.0</td>\n",
       "      <td>NaN</td>\n",
       "      <td>NaN</td>\n",
       "    </tr>\n",
       "    <tr>\n",
       "      <th>mean</th>\n",
       "      <td>NaN</td>\n",
       "      <td>NaN</td>\n",
       "      <td>NaN</td>\n",
       "      <td>2007-08-02 12:56:53.092550912</td>\n",
       "      <td>2009-08-23 11:35:37.246049536</td>\n",
       "    </tr>\n",
       "    <tr>\n",
       "      <th>min</th>\n",
       "      <td>NaN</td>\n",
       "      <td>NaN</td>\n",
       "      <td>NaN</td>\n",
       "      <td>2000-01-26 00:00:00</td>\n",
       "      <td>2001-08-02 00:00:00</td>\n",
       "    </tr>\n",
       "    <tr>\n",
       "      <th>25%</th>\n",
       "      <td>NaN</td>\n",
       "      <td>NaN</td>\n",
       "      <td>NaN</td>\n",
       "      <td>2003-10-19 00:00:00</td>\n",
       "      <td>2005-09-12 12:00:00</td>\n",
       "    </tr>\n",
       "    <tr>\n",
       "      <th>50%</th>\n",
       "      <td>NaN</td>\n",
       "      <td>NaN</td>\n",
       "      <td>NaN</td>\n",
       "      <td>2007-03-10 00:00:00</td>\n",
       "      <td>2009-03-19 00:00:00</td>\n",
       "    </tr>\n",
       "    <tr>\n",
       "      <th>75%</th>\n",
       "      <td>NaN</td>\n",
       "      <td>NaN</td>\n",
       "      <td>NaN</td>\n",
       "      <td>2011-07-31 00:00:00</td>\n",
       "      <td>2013-09-11 12:00:00</td>\n",
       "    </tr>\n",
       "    <tr>\n",
       "      <th>max</th>\n",
       "      <td>NaN</td>\n",
       "      <td>NaN</td>\n",
       "      <td>NaN</td>\n",
       "      <td>2014-11-11 00:00:00</td>\n",
       "      <td>2017-05-07 00:00:00</td>\n",
       "    </tr>\n",
       "  </tbody>\n",
       "</table>\n",
       "</div>"
      ],
      "text/plain": [
       "       loan_type  repaid  loan_id                     loan_start  \\\n",
       "count        443   443.0    443.0                            443   \n",
       "unique         4     2.0    443.0                            NaN   \n",
       "top         home     1.0  11434.0                            NaN   \n",
       "freq         121   237.0      1.0                            NaN   \n",
       "mean         NaN     NaN      NaN  2007-08-02 12:56:53.092550912   \n",
       "min          NaN     NaN      NaN            2000-01-26 00:00:00   \n",
       "25%          NaN     NaN      NaN            2003-10-19 00:00:00   \n",
       "50%          NaN     NaN      NaN            2007-03-10 00:00:00   \n",
       "75%          NaN     NaN      NaN            2011-07-31 00:00:00   \n",
       "max          NaN     NaN      NaN            2014-11-11 00:00:00   \n",
       "\n",
       "                             loan_end  \n",
       "count                             443  \n",
       "unique                            NaN  \n",
       "top                               NaN  \n",
       "freq                              NaN  \n",
       "mean    2009-08-23 11:35:37.246049536  \n",
       "min               2001-08-02 00:00:00  \n",
       "25%               2005-09-12 12:00:00  \n",
       "50%               2009-03-19 00:00:00  \n",
       "75%               2013-09-11 12:00:00  \n",
       "max               2017-05-07 00:00:00  "
      ]
     },
     "execution_count": 9,
     "metadata": {},
     "output_type": "execute_result"
    }
   ],
   "source": [
    "df.describe(exclude='number')"
   ]
  },
  {
   "cell_type": "code",
   "execution_count": 10,
   "id": "0d35abb2-337c-4b23-8fb2-ea7cbfc1da8a",
   "metadata": {},
   "outputs": [
    {
     "data": {
      "text/plain": [
       "client_id      0\n",
       "loan_type      0\n",
       "loan_amount    0\n",
       "repaid         0\n",
       "loan_id        0\n",
       "loan_start     0\n",
       "loan_end       0\n",
       "rate           0\n",
       "dtype: int64"
      ]
     },
     "execution_count": 10,
     "metadata": {},
     "output_type": "execute_result"
    }
   ],
   "source": [
    "df.isnull().sum()"
   ]
  },
  {
   "cell_type": "code",
   "execution_count": 11,
   "id": "8a6204e9-2c2c-46ef-b4c5-4135caaa2f48",
   "metadata": {},
   "outputs": [
    {
     "data": {
      "text/plain": [
       "<Axes: ylabel='loan_amount'>"
      ]
     },
     "execution_count": 11,
     "metadata": {},
     "output_type": "execute_result"
    },
    {
     "data": {
      "image/png": "[encoded data removed]",
      "text/plain": [
       "<Figure size 640x480 with 1 Axes>"
      ]
     },
     "metadata": {},
     "output_type": "display_data"
    }
   ],
   "source": [
    "# df['loan_amount'].plot(kind='box')\n",
    "sns.boxplot(df['loan_amount'])"
   ]
  },
  {
   "cell_type": "code",
   "execution_count": 12,
   "id": "91638c16-11ed-47d5-922c-60323ecf95da",
   "metadata": {},
   "outputs": [
    {
     "data": {
      "text/plain": [
       "<Axes: >"
      ]
     },
     "execution_count": 12,
     "metadata": {},
     "output_type": "execute_result"
    },
    {
     "data": {
      "image/png": "[encoded data removed]",
      "text/plain": [
       "<Figure size 640x480 with 1 Axes>"
      ]
     },
     "metadata": {},
     "output_type": "display_data"
    }
   ],
   "source": [
    "df['rate'].plot(kind='box')"
   ]
  },
  {
   "cell_type": "markdown",
   "id": "e7918014-4207-452e-9ff3-d750eef15d30",
   "metadata": {},
   "source": [
    "There we found some outlier on the column rate\n",
    "To treat them, we can either cap the values or transform the data"
   ]
  },
  {
   "cell_type": "markdown",
   "id": "b9a2d623-2625-4b94-8cc0-ce1d817e33ab",
   "metadata": {},
   "source": [
    "## Transformation"
   ]
  },
  {
   "cell_type": "code",
   "execution_count": 13,
   "id": "b746e49d-5d01-4a09-aba9-4c6414f372c9",
   "metadata": {},
   "outputs": [],
   "source": [
    "df['sqrt_rate'] = np.sqrt(df['rate'])"
   ]
  },
  {
   "cell_type": "code",
   "execution_count": 14,
   "id": "be05afbe-d9a5-489f-9caa-7c3272f41bad",
   "metadata": {},
   "outputs": [
    {
     "data": {
      "text/html": [
       "<div>\n",
       "<style scoped>\n",
       "    .dataframe tbody tr th:only-of-type {\n",
       "        vertical-align: middle;\n",
       "    }\n",
       "\n",
       "    .dataframe tbody tr th {\n",
       "        vertical-align: top;\n",
       "    }\n",
       "\n",
       "    .dataframe thead th {\n",
       "        text-align: right;\n",
       "    }\n",
       "</style>\n",
       "<table border=\"1\" class=\"dataframe\">\n",
       "  <thead>\n",
       "    <tr style=\"text-align: right;\">\n",
       "      <th></th>\n",
       "      <th>client_id</th>\n",
       "      <th>loan_type</th>\n",
       "      <th>loan_amount</th>\n",
       "      <th>repaid</th>\n",
       "      <th>loan_id</th>\n",
       "      <th>loan_start</th>\n",
       "      <th>loan_end</th>\n",
       "      <th>rate</th>\n",
       "      <th>sqrt_rate</th>\n",
       "    </tr>\n",
       "  </thead>\n",
       "  <tbody>\n",
       "    <tr>\n",
       "      <th>0</th>\n",
       "      <td>46109</td>\n",
       "      <td>home</td>\n",
       "      <td>13672</td>\n",
       "      <td>0</td>\n",
       "      <td>10243</td>\n",
       "      <td>2002-04-16</td>\n",
       "      <td>2003-12-20</td>\n",
       "      <td>2.15</td>\n",
       "      <td>1.466288</td>\n",
       "    </tr>\n",
       "    <tr>\n",
       "      <th>1</th>\n",
       "      <td>46109</td>\n",
       "      <td>credit</td>\n",
       "      <td>9794</td>\n",
       "      <td>0</td>\n",
       "      <td>10984</td>\n",
       "      <td>2003-10-21</td>\n",
       "      <td>2005-07-17</td>\n",
       "      <td>1.25</td>\n",
       "      <td>1.118034</td>\n",
       "    </tr>\n",
       "    <tr>\n",
       "      <th>2</th>\n",
       "      <td>46109</td>\n",
       "      <td>home</td>\n",
       "      <td>12734</td>\n",
       "      <td>1</td>\n",
       "      <td>10990</td>\n",
       "      <td>2006-02-01</td>\n",
       "      <td>2007-07-05</td>\n",
       "      <td>0.68</td>\n",
       "      <td>0.824621</td>\n",
       "    </tr>\n",
       "    <tr>\n",
       "      <th>3</th>\n",
       "      <td>46109</td>\n",
       "      <td>cash</td>\n",
       "      <td>12518</td>\n",
       "      <td>1</td>\n",
       "      <td>10596</td>\n",
       "      <td>2010-12-08</td>\n",
       "      <td>2013-05-05</td>\n",
       "      <td>1.24</td>\n",
       "      <td>1.113553</td>\n",
       "    </tr>\n",
       "    <tr>\n",
       "      <th>4</th>\n",
       "      <td>46109</td>\n",
       "      <td>credit</td>\n",
       "      <td>14049</td>\n",
       "      <td>1</td>\n",
       "      <td>11415</td>\n",
       "      <td>2010-07-07</td>\n",
       "      <td>2012-05-21</td>\n",
       "      <td>3.13</td>\n",
       "      <td>1.769181</td>\n",
       "    </tr>\n",
       "    <tr>\n",
       "      <th>...</th>\n",
       "      <td>...</td>\n",
       "      <td>...</td>\n",
       "      <td>...</td>\n",
       "      <td>...</td>\n",
       "      <td>...</td>\n",
       "      <td>...</td>\n",
       "      <td>...</td>\n",
       "      <td>...</td>\n",
       "      <td>...</td>\n",
       "    </tr>\n",
       "    <tr>\n",
       "      <th>438</th>\n",
       "      <td>26945</td>\n",
       "      <td>other</td>\n",
       "      <td>12963</td>\n",
       "      <td>0</td>\n",
       "      <td>10330</td>\n",
       "      <td>2001-11-26</td>\n",
       "      <td>2004-06-11</td>\n",
       "      <td>2.46</td>\n",
       "      <td>1.568439</td>\n",
       "    </tr>\n",
       "    <tr>\n",
       "      <th>439</th>\n",
       "      <td>26945</td>\n",
       "      <td>credit</td>\n",
       "      <td>1728</td>\n",
       "      <td>1</td>\n",
       "      <td>10248</td>\n",
       "      <td>2004-01-27</td>\n",
       "      <td>2005-06-21</td>\n",
       "      <td>5.27</td>\n",
       "      <td>2.295648</td>\n",
       "    </tr>\n",
       "    <tr>\n",
       "      <th>440</th>\n",
       "      <td>26945</td>\n",
       "      <td>other</td>\n",
       "      <td>9329</td>\n",
       "      <td>0</td>\n",
       "      <td>10154</td>\n",
       "      <td>2001-12-17</td>\n",
       "      <td>2004-07-22</td>\n",
       "      <td>5.65</td>\n",
       "      <td>2.376973</td>\n",
       "    </tr>\n",
       "    <tr>\n",
       "      <th>441</th>\n",
       "      <td>26945</td>\n",
       "      <td>home</td>\n",
       "      <td>4197</td>\n",
       "      <td>0</td>\n",
       "      <td>10333</td>\n",
       "      <td>2003-10-16</td>\n",
       "      <td>2005-07-10</td>\n",
       "      <td>4.50</td>\n",
       "      <td>2.121320</td>\n",
       "    </tr>\n",
       "    <tr>\n",
       "      <th>442</th>\n",
       "      <td>26945</td>\n",
       "      <td>home</td>\n",
       "      <td>3643</td>\n",
       "      <td>0</td>\n",
       "      <td>11434</td>\n",
       "      <td>2010-03-24</td>\n",
       "      <td>2011-12-22</td>\n",
       "      <td>0.13</td>\n",
       "      <td>0.360555</td>\n",
       "    </tr>\n",
       "  </tbody>\n",
       "</table>\n",
       "<p>443 rows × 9 columns</p>\n",
       "</div>"
      ],
      "text/plain": [
       "     client_id loan_type  loan_amount repaid loan_id loan_start   loan_end  \\\n",
       "0        46109      home        13672      0   10243 2002-04-16 2003-12-20   \n",
       "1        46109    credit         9794      0   10984 2003-10-21 2005-07-17   \n",
       "2        46109      home        12734      1   10990 2006-02-01 2007-07-05   \n",
       "3        46109      cash        12518      1   10596 2010-12-08 2013-05-05   \n",
       "4        46109    credit        14049      1   11415 2010-07-07 2012-05-21   \n",
       "..         ...       ...          ...    ...     ...        ...        ...   \n",
       "438      26945     other        12963      0   10330 2001-11-26 2004-06-11   \n",
       "439      26945    credit         1728      1   10248 2004-01-27 2005-06-21   \n",
       "440      26945     other         9329      0   10154 2001-12-17 2004-07-22   \n",
       "441      26945      home         4197      0   10333 2003-10-16 2005-07-10   \n",
       "442      26945      home         3643      0   11434 2010-03-24 2011-12-22   \n",
       "\n",
       "     rate  sqrt_rate  \n",
       "0    2.15   1.466288  \n",
       "1    1.25   1.118034  \n",
       "2    0.68   0.824621  \n",
       "3    1.24   1.113553  \n",
       "4    3.13   1.769181  \n",
       "..    ...        ...  \n",
       "438  2.46   1.568439  \n",
       "439  5.27   2.295648  \n",
       "440  5.65   2.376973  \n",
       "441  4.50   2.121320  \n",
       "442  0.13   0.360555  \n",
       "\n",
       "[443 rows x 9 columns]"
      ]
     },
     "execution_count": 14,
     "metadata": {},
     "output_type": "execute_result"
    }
   ],
   "source": [
    "df"
   ]
  },
  {
   "cell_type": "code",
   "execution_count": 15,
   "id": "7f0da55c-af7c-4aec-a580-fa6d5c59559f",
   "metadata": {},
   "outputs": [
    {
     "name": "stdout",
     "output_type": "stream",
     "text": [
      "skewness_before: 0.884204614329943 & kurtosis_before 0.4243716514373652\n",
      "skewness_after: 0.04964154055528862 & kurtosis_after -0.6318437642052039\n"
     ]
    }
   ],
   "source": [
    "print(f'skewness_before: {df.rate.skew()} & kurtosis_before {df.rate.kurt()}')\n",
    "print(f'skewness_after: {df.sqrt_rate.skew()} & kurtosis_after {df.sqrt_rate.kurt()}')"
   ]
  },
  {
   "cell_type": "code",
   "execution_count": 16,
   "id": "edf5d93d-09ca-4fbf-9b81-97bff55dd03a",
   "metadata": {},
   "outputs": [
    {
     "data": {
      "text/plain": [
       "<Axes: xlabel='rate', ylabel='Count'>"
      ]
     },
     "execution_count": 16,
     "metadata": {},
     "output_type": "execute_result"
    },
    {
     "data": {
      "image/png": "[encoded data removed]",
      "text/plain": [
       "<Figure size 640x480 with 1 Axes>"
      ]
     },
     "metadata": {},
     "output_type": "display_data"
    }
   ],
   "source": [
    "sns.histplot(df['rate'],edgecolor=None,kde=True)"
   ]
  },
  {
   "cell_type": "code",
   "execution_count": 17,
   "id": "39ab1591-c3b0-4475-b9b3-421c5108c20d",
   "metadata": {},
   "outputs": [
    {
     "data": {
      "text/plain": [
       "<Axes: xlabel='sqrt_rate', ylabel='Count'>"
      ]
     },
     "execution_count": 17,
     "metadata": {},
     "output_type": "execute_result"
    },
    {
     "data": {
      "image/png": "[encoded data removed]",
      "text/plain": [
       "<Figure size 640x480 with 1 Axes>"
      ]
     },
     "metadata": {},
     "output_type": "display_data"
    }
   ],
   "source": [
    "sns.histplot(df['sqrt_rate'],kde=True,edgecolor=None)"
   ]
  },
  {
   "cell_type": "markdown",
   "id": "5b1b7b81-98c8-44b0-b965-fe33c98ec875",
   "metadata": {},
   "source": [
    "The Rate column was right skewed earlier. The skewness and kurtosis as reduced significantly. The transformed SQRT rate, on the right graph resembles normal distribution now."
   ]
  },
  {
   "cell_type": "markdown",
   "id": "1ba5085d-7703-46f4-a1ec-ab0a325996b2",
   "metadata": {},
   "source": [
    "## Log Transformation"
   ]
  },
  {
   "cell_type": "code",
   "execution_count": 18,
   "id": "2971f1c2-defc-436d-84c2-015c469921a2",
   "metadata": {},
   "outputs": [],
   "source": [
    "df['log_rate'] = np.log1p(df['rate'])"
   ]
  },
  {
   "cell_type": "code",
   "execution_count": 19,
   "id": "87a51275-6fef-4c0a-970a-dafa76a4f0d1",
   "metadata": {},
   "outputs": [
    {
     "data": {
      "image/png": "[encoded data removed]",
      "text/plain": [
       "<Figure size 1500x500 with 3 Axes>"
      ]
     },
     "metadata": {},
     "output_type": "display_data"
    }
   ],
   "source": [
    "fig, axes = plt.subplots(1,3,figsize=(15,5))\n",
    "\n",
    "sns.distplot(df['rate'], ax=axes[0])\n",
    "sns.distplot(df['sqrt_rate'], ax=axes[1])\n",
    "sns.distplot(df['log_rate'], ax=axes[2])\n",
    "\n",
    "plt.show()"
   ]
  },
  {
   "cell_type": "markdown",
   "id": "12e987fb-f14d-430e-8eda-67a760a88537",
   "metadata": {},
   "source": [
    "Log Transformation made the rate left skewed and more peaked.\n",
    "\n",
    "However, Log transformation is more closer to 0 and hence is more normal. Though it heavily maniupulates the data.\n",
    "\n",
    "In our case, square root transformation is more suitable."
   ]
  },
  {
   "cell_type": "code",
   "execution_count": 20,
   "id": "efdddf33-094f-4bc3-8955-2fb17bf7af9a",
   "metadata": {},
   "outputs": [],
   "source": [
    "#transforming using lambda function\n",
    "\n",
    "#df['log_rate'] = df['rate'].apply(lambda x:np.log(x))"
   ]
  },
  {
   "cell_type": "markdown",
   "id": "6d29f959-dddd-41f9-9069-512aa7ce2b50",
   "metadata": {},
   "source": [
    "# Outliers Treatment using Capping Approach\n",
    "## 1) Z-Score approach to treat Outliers:"
   ]
  },
  {
   "cell_type": "markdown",
   "id": "5f33b930-50f3-46a1-b9ea-0ce055c9aef1",
   "metadata": {},
   "source": [
    "all the values aboove 3 and below -3 std are outliers and can be removed"
   ]
  },
  {
   "cell_type": "code",
   "execution_count": 21,
   "id": "f5ad8ec1-8a31-49a5-b2e7-4b6898cf4d41",
   "metadata": {},
   "outputs": [
    {
     "data": {
      "text/html": [
       "<div>\n",
       "<style scoped>\n",
       "    .dataframe tbody tr th:only-of-type {\n",
       "        vertical-align: middle;\n",
       "    }\n",
       "\n",
       "    .dataframe tbody tr th {\n",
       "        vertical-align: top;\n",
       "    }\n",
       "\n",
       "    .dataframe thead th {\n",
       "        text-align: right;\n",
       "    }\n",
       "</style>\n",
       "<table border=\"1\" class=\"dataframe\">\n",
       "  <thead>\n",
       "    <tr style=\"text-align: right;\">\n",
       "      <th></th>\n",
       "      <th>loan_type</th>\n",
       "      <th>loan_amount</th>\n",
       "      <th>repaid</th>\n",
       "      <th>loan_id</th>\n",
       "      <th>loan_start</th>\n",
       "      <th>loan_end</th>\n",
       "      <th>rate</th>\n",
       "    </tr>\n",
       "    <tr>\n",
       "      <th>client_id</th>\n",
       "      <th></th>\n",
       "      <th></th>\n",
       "      <th></th>\n",
       "      <th></th>\n",
       "      <th></th>\n",
       "      <th></th>\n",
       "      <th></th>\n",
       "    </tr>\n",
       "  </thead>\n",
       "  <tbody>\n",
       "    <tr>\n",
       "      <th>46109</th>\n",
       "      <td>home</td>\n",
       "      <td>13672</td>\n",
       "      <td>0</td>\n",
       "      <td>10243</td>\n",
       "      <td>2002-04-16</td>\n",
       "      <td>2003-12-20</td>\n",
       "      <td>2.15</td>\n",
       "    </tr>\n",
       "    <tr>\n",
       "      <th>46109</th>\n",
       "      <td>credit</td>\n",
       "      <td>9794</td>\n",
       "      <td>0</td>\n",
       "      <td>10984</td>\n",
       "      <td>2003-10-21</td>\n",
       "      <td>2005-07-17</td>\n",
       "      <td>1.25</td>\n",
       "    </tr>\n",
       "    <tr>\n",
       "      <th>46109</th>\n",
       "      <td>home</td>\n",
       "      <td>12734</td>\n",
       "      <td>1</td>\n",
       "      <td>10990</td>\n",
       "      <td>2006-02-01</td>\n",
       "      <td>2007-07-05</td>\n",
       "      <td>0.68</td>\n",
       "    </tr>\n",
       "    <tr>\n",
       "      <th>46109</th>\n",
       "      <td>cash</td>\n",
       "      <td>12518</td>\n",
       "      <td>1</td>\n",
       "      <td>10596</td>\n",
       "      <td>2010-12-08</td>\n",
       "      <td>2013-05-05</td>\n",
       "      <td>1.24</td>\n",
       "    </tr>\n",
       "    <tr>\n",
       "      <th>46109</th>\n",
       "      <td>credit</td>\n",
       "      <td>14049</td>\n",
       "      <td>1</td>\n",
       "      <td>11415</td>\n",
       "      <td>2010-07-07</td>\n",
       "      <td>2012-05-21</td>\n",
       "      <td>3.13</td>\n",
       "    </tr>\n",
       "  </tbody>\n",
       "</table>\n",
       "</div>"
      ],
      "text/plain": [
       "          loan_type  loan_amount  repaid  loan_id  loan_start    loan_end  \\\n",
       "client_id                                                                   \n",
       "46109          home        13672       0    10243  2002-04-16  2003-12-20   \n",
       "46109        credit         9794       0    10984  2003-10-21  2005-07-17   \n",
       "46109          home        12734       1    10990  2006-02-01  2007-07-05   \n",
       "46109          cash        12518       1    10596  2010-12-08  2013-05-05   \n",
       "46109        credit        14049       1    11415  2010-07-07  2012-05-21   \n",
       "\n",
       "           rate  \n",
       "client_id        \n",
       "46109      2.15  \n",
       "46109      1.25  \n",
       "46109      0.68  \n",
       "46109      1.24  \n",
       "46109      3.13  "
      ]
     },
     "execution_count": 21,
     "metadata": {},
     "output_type": "execute_result"
    }
   ],
   "source": [
    "df1 = pd.read_csv('loans.csv',index_col='client_id')\n",
    "df1.head()"
   ]
  },
  {
   "cell_type": "code",
   "execution_count": 22,
   "id": "da98b7f3-aca1-4688-884b-3e4722a9449f",
   "metadata": {},
   "outputs": [
    {
     "name": "stdout",
     "output_type": "stream",
     "text": [
      "<class 'pandas.core.frame.DataFrame'>\n",
      "Index: 443 entries, 46109 to 26945\n",
      "Data columns (total 7 columns):\n",
      " #   Column       Non-Null Count  Dtype  \n",
      "---  ------       --------------  -----  \n",
      " 0   loan_type    443 non-null    object \n",
      " 1   loan_amount  443 non-null    int64  \n",
      " 2   repaid       443 non-null    int64  \n",
      " 3   loan_id      443 non-null    int64  \n",
      " 4   loan_start   443 non-null    object \n",
      " 5   loan_end     443 non-null    object \n",
      " 6   rate         443 non-null    float64\n",
      "dtypes: float64(1), int64(3), object(3)\n",
      "memory usage: 27.7+ KB\n"
     ]
    }
   ],
   "source": [
    "df1.info()"
   ]
  },
  {
   "cell_type": "code",
   "execution_count": 23,
   "id": "80c82144-9f5b-4c7b-b095-f8345821bc82",
   "metadata": {},
   "outputs": [],
   "source": [
    "df1['loan_id'] = df1['loan_id'].astype('object')"
   ]
  },
  {
   "cell_type": "code",
   "execution_count": 24,
   "id": "760e0578-fc09-4bca-a21e-2debbc633c83",
   "metadata": {},
   "outputs": [],
   "source": [
    "df1['repaid'] = df1['repaid'].astype('category')"
   ]
  },
  {
   "cell_type": "code",
   "execution_count": 25,
   "id": "b4747e06-5fa4-45ef-af71-1d32e3b815be",
   "metadata": {},
   "outputs": [],
   "source": [
    "df1['loan_start'] = pd.to_datetime(df1['loan_start'])\n",
    "df1['loan_end'] = pd.to_datetime(df1['loan_end'])"
   ]
  },
  {
   "cell_type": "code",
   "execution_count": 26,
   "id": "5eb77827-6ee9-4f23-a71f-f9baa570b764",
   "metadata": {},
   "outputs": [
    {
     "name": "stdout",
     "output_type": "stream",
     "text": [
      "<class 'pandas.core.frame.DataFrame'>\n",
      "Index: 443 entries, 46109 to 26945\n",
      "Data columns (total 7 columns):\n",
      " #   Column       Non-Null Count  Dtype         \n",
      "---  ------       --------------  -----         \n",
      " 0   loan_type    443 non-null    object        \n",
      " 1   loan_amount  443 non-null    int64         \n",
      " 2   repaid       443 non-null    category      \n",
      " 3   loan_id      443 non-null    object        \n",
      " 4   loan_start   443 non-null    datetime64[ns]\n",
      " 5   loan_end     443 non-null    datetime64[ns]\n",
      " 6   rate         443 non-null    float64       \n",
      "dtypes: category(1), datetime64[ns](2), float64(1), int64(1), object(2)\n",
      "memory usage: 24.8+ KB\n"
     ]
    }
   ],
   "source": [
    "df1.info()"
   ]
  },
  {
   "cell_type": "code",
   "execution_count": 27,
   "id": "b123ec16-f5f9-4fdd-a19a-cac9d2307e7d",
   "metadata": {},
   "outputs": [
    {
     "data": {
      "text/html": [
       "<div>\n",
       "<style scoped>\n",
       "    .dataframe tbody tr th:only-of-type {\n",
       "        vertical-align: middle;\n",
       "    }\n",
       "\n",
       "    .dataframe tbody tr th {\n",
       "        vertical-align: top;\n",
       "    }\n",
       "\n",
       "    .dataframe thead th {\n",
       "        text-align: right;\n",
       "    }\n",
       "</style>\n",
       "<table border=\"1\" class=\"dataframe\">\n",
       "  <thead>\n",
       "    <tr style=\"text-align: right;\">\n",
       "      <th></th>\n",
       "      <th>loan_type</th>\n",
       "      <th>loan_amount</th>\n",
       "      <th>repaid</th>\n",
       "      <th>loan_id</th>\n",
       "      <th>loan_start</th>\n",
       "      <th>loan_end</th>\n",
       "      <th>rate</th>\n",
       "      <th>Z-score</th>\n",
       "    </tr>\n",
       "    <tr>\n",
       "      <th>client_id</th>\n",
       "      <th></th>\n",
       "      <th></th>\n",
       "      <th></th>\n",
       "      <th></th>\n",
       "      <th></th>\n",
       "      <th></th>\n",
       "      <th></th>\n",
       "      <th></th>\n",
       "    </tr>\n",
       "  </thead>\n",
       "  <tbody>\n",
       "    <tr>\n",
       "      <th>46109</th>\n",
       "      <td>home</td>\n",
       "      <td>13672</td>\n",
       "      <td>0</td>\n",
       "      <td>10243</td>\n",
       "      <td>2002-04-16</td>\n",
       "      <td>2003-12-20</td>\n",
       "      <td>2.15</td>\n",
       "      <td>-0.445677</td>\n",
       "    </tr>\n",
       "    <tr>\n",
       "      <th>46109</th>\n",
       "      <td>credit</td>\n",
       "      <td>9794</td>\n",
       "      <td>0</td>\n",
       "      <td>10984</td>\n",
       "      <td>2003-10-21</td>\n",
       "      <td>2005-07-17</td>\n",
       "      <td>1.25</td>\n",
       "      <td>-0.821544</td>\n",
       "    </tr>\n",
       "    <tr>\n",
       "      <th>46109</th>\n",
       "      <td>home</td>\n",
       "      <td>12734</td>\n",
       "      <td>1</td>\n",
       "      <td>10990</td>\n",
       "      <td>2006-02-01</td>\n",
       "      <td>2007-07-05</td>\n",
       "      <td>0.68</td>\n",
       "      <td>-1.059594</td>\n",
       "    </tr>\n",
       "    <tr>\n",
       "      <th>46109</th>\n",
       "      <td>cash</td>\n",
       "      <td>12518</td>\n",
       "      <td>1</td>\n",
       "      <td>10596</td>\n",
       "      <td>2010-12-08</td>\n",
       "      <td>2013-05-05</td>\n",
       "      <td>1.24</td>\n",
       "      <td>-0.825721</td>\n",
       "    </tr>\n",
       "    <tr>\n",
       "      <th>46109</th>\n",
       "      <td>credit</td>\n",
       "      <td>14049</td>\n",
       "      <td>1</td>\n",
       "      <td>11415</td>\n",
       "      <td>2010-07-07</td>\n",
       "      <td>2012-05-21</td>\n",
       "      <td>3.13</td>\n",
       "      <td>-0.036399</td>\n",
       "    </tr>\n",
       "  </tbody>\n",
       "</table>\n",
       "</div>"
      ],
      "text/plain": [
       "          loan_type  loan_amount repaid loan_id loan_start   loan_end  rate  \\\n",
       "client_id                                                                     \n",
       "46109          home        13672      0   10243 2002-04-16 2003-12-20  2.15   \n",
       "46109        credit         9794      0   10984 2003-10-21 2005-07-17  1.25   \n",
       "46109          home        12734      1   10990 2006-02-01 2007-07-05  0.68   \n",
       "46109          cash        12518      1   10596 2010-12-08 2013-05-05  1.24   \n",
       "46109        credit        14049      1   11415 2010-07-07 2012-05-21  3.13   \n",
       "\n",
       "            Z-score  \n",
       "client_id            \n",
       "46109     -0.445677  \n",
       "46109     -0.821544  \n",
       "46109     -1.059594  \n",
       "46109     -0.825721  \n",
       "46109     -0.036399  "
      ]
     },
     "execution_count": 27,
     "metadata": {},
     "output_type": "execute_result"
    }
   ],
   "source": [
    "import scipy.stats as stats\n",
    "\n",
    "df1['Z-score'] = stats.zscore(df1['rate'])\n",
    "df1.head()"
   ]
  },
  {
   "cell_type": "code",
   "execution_count": 28,
   "id": "fddfad60-5c04-4c2d-b620-8f7a675a97ef",
   "metadata": {},
   "outputs": [
    {
     "data": {
      "text/html": [
       "<div>\n",
       "<style scoped>\n",
       "    .dataframe tbody tr th:only-of-type {\n",
       "        vertical-align: middle;\n",
       "    }\n",
       "\n",
       "    .dataframe tbody tr th {\n",
       "        vertical-align: top;\n",
       "    }\n",
       "\n",
       "    .dataframe thead th {\n",
       "        text-align: right;\n",
       "    }\n",
       "</style>\n",
       "<table border=\"1\" class=\"dataframe\">\n",
       "  <thead>\n",
       "    <tr style=\"text-align: right;\">\n",
       "      <th></th>\n",
       "      <th>loan_type</th>\n",
       "      <th>loan_amount</th>\n",
       "      <th>repaid</th>\n",
       "      <th>loan_id</th>\n",
       "      <th>loan_start</th>\n",
       "      <th>loan_end</th>\n",
       "      <th>rate</th>\n",
       "      <th>Z-score</th>\n",
       "    </tr>\n",
       "    <tr>\n",
       "      <th>client_id</th>\n",
       "      <th></th>\n",
       "      <th></th>\n",
       "      <th></th>\n",
       "      <th></th>\n",
       "      <th></th>\n",
       "      <th></th>\n",
       "      <th></th>\n",
       "      <th></th>\n",
       "    </tr>\n",
       "  </thead>\n",
       "  <tbody>\n",
       "    <tr>\n",
       "      <th>41480</th>\n",
       "      <td>credit</td>\n",
       "      <td>2947</td>\n",
       "      <td>1</td>\n",
       "      <td>10302</td>\n",
       "      <td>2005-11-10</td>\n",
       "      <td>2008-03-16</td>\n",
       "      <td>10.49</td>\n",
       "      <td>3.037362</td>\n",
       "    </tr>\n",
       "    <tr>\n",
       "      <th>48177</th>\n",
       "      <td>other</td>\n",
       "      <td>6318</td>\n",
       "      <td>0</td>\n",
       "      <td>10224</td>\n",
       "      <td>2003-02-02</td>\n",
       "      <td>2005-05-08</td>\n",
       "      <td>10.89</td>\n",
       "      <td>3.204415</td>\n",
       "    </tr>\n",
       "    <tr>\n",
       "      <th>49624</th>\n",
       "      <td>home</td>\n",
       "      <td>8133</td>\n",
       "      <td>1</td>\n",
       "      <td>10312</td>\n",
       "      <td>2009-03-14</td>\n",
       "      <td>2011-03-21</td>\n",
       "      <td>12.62</td>\n",
       "      <td>3.926916</td>\n",
       "    </tr>\n",
       "  </tbody>\n",
       "</table>\n",
       "</div>"
      ],
      "text/plain": [
       "          loan_type  loan_amount repaid loan_id loan_start   loan_end   rate  \\\n",
       "client_id                                                                      \n",
       "41480        credit         2947      1   10302 2005-11-10 2008-03-16  10.49   \n",
       "48177         other         6318      0   10224 2003-02-02 2005-05-08  10.89   \n",
       "49624          home         8133      1   10312 2009-03-14 2011-03-21  12.62   \n",
       "\n",
       "            Z-score  \n",
       "client_id            \n",
       "41480      3.037362  \n",
       "48177      3.204415  \n",
       "49624      3.926916  "
      ]
     },
     "execution_count": 28,
     "metadata": {},
     "output_type": "execute_result"
    }
   ],
   "source": [
    "df1[ (df1['Z-score']<-3) | (df1['Z-score']>3)]"
   ]
  },
  {
   "cell_type": "code",
   "execution_count": 29,
   "id": "79a3f6b9-0627-4a67-9932-71b061bfc5a8",
   "metadata": {},
   "outputs": [
    {
     "data": {
      "text/plain": [
       "(3, 8)"
      ]
     },
     "execution_count": 29,
     "metadata": {},
     "output_type": "execute_result"
    }
   ],
   "source": [
    "df1[ (df1['Z-score']<-3) | (df1['Z-score']>3)].shape"
   ]
  },
  {
   "cell_type": "code",
   "execution_count": 30,
   "id": "27c0ca4d-c3d0-4328-8f5a-00dc3fad6734",
   "metadata": {},
   "outputs": [
    {
     "data": {
      "text/html": [
       "<div>\n",
       "<style scoped>\n",
       "    .dataframe tbody tr th:only-of-type {\n",
       "        vertical-align: middle;\n",
       "    }\n",
       "\n",
       "    .dataframe tbody tr th {\n",
       "        vertical-align: top;\n",
       "    }\n",
       "\n",
       "    .dataframe thead th {\n",
       "        text-align: right;\n",
       "    }\n",
       "</style>\n",
       "<table border=\"1\" class=\"dataframe\">\n",
       "  <thead>\n",
       "    <tr style=\"text-align: right;\">\n",
       "      <th></th>\n",
       "      <th>client_id</th>\n",
       "      <th>loan_type</th>\n",
       "      <th>loan_amount</th>\n",
       "      <th>repaid</th>\n",
       "      <th>loan_id</th>\n",
       "      <th>loan_start</th>\n",
       "      <th>loan_end</th>\n",
       "      <th>rate</th>\n",
       "      <th>Z-score</th>\n",
       "    </tr>\n",
       "  </thead>\n",
       "  <tbody>\n",
       "    <tr>\n",
       "      <th>0</th>\n",
       "      <td>46109</td>\n",
       "      <td>home</td>\n",
       "      <td>13672</td>\n",
       "      <td>0</td>\n",
       "      <td>10243</td>\n",
       "      <td>2002-04-16</td>\n",
       "      <td>2003-12-20</td>\n",
       "      <td>2.15</td>\n",
       "      <td>-0.445677</td>\n",
       "    </tr>\n",
       "    <tr>\n",
       "      <th>1</th>\n",
       "      <td>46109</td>\n",
       "      <td>credit</td>\n",
       "      <td>9794</td>\n",
       "      <td>0</td>\n",
       "      <td>10984</td>\n",
       "      <td>2003-10-21</td>\n",
       "      <td>2005-07-17</td>\n",
       "      <td>1.25</td>\n",
       "      <td>-0.821544</td>\n",
       "    </tr>\n",
       "    <tr>\n",
       "      <th>2</th>\n",
       "      <td>46109</td>\n",
       "      <td>home</td>\n",
       "      <td>12734</td>\n",
       "      <td>1</td>\n",
       "      <td>10990</td>\n",
       "      <td>2006-02-01</td>\n",
       "      <td>2007-07-05</td>\n",
       "      <td>0.68</td>\n",
       "      <td>-1.059594</td>\n",
       "    </tr>\n",
       "    <tr>\n",
       "      <th>3</th>\n",
       "      <td>46109</td>\n",
       "      <td>cash</td>\n",
       "      <td>12518</td>\n",
       "      <td>1</td>\n",
       "      <td>10596</td>\n",
       "      <td>2010-12-08</td>\n",
       "      <td>2013-05-05</td>\n",
       "      <td>1.24</td>\n",
       "      <td>-0.825721</td>\n",
       "    </tr>\n",
       "    <tr>\n",
       "      <th>4</th>\n",
       "      <td>46109</td>\n",
       "      <td>credit</td>\n",
       "      <td>14049</td>\n",
       "      <td>1</td>\n",
       "      <td>11415</td>\n",
       "      <td>2010-07-07</td>\n",
       "      <td>2012-05-21</td>\n",
       "      <td>3.13</td>\n",
       "      <td>-0.036399</td>\n",
       "    </tr>\n",
       "  </tbody>\n",
       "</table>\n",
       "</div>"
      ],
      "text/plain": [
       "   client_id loan_type  loan_amount repaid loan_id loan_start   loan_end  \\\n",
       "0      46109      home        13672      0   10243 2002-04-16 2003-12-20   \n",
       "1      46109    credit         9794      0   10984 2003-10-21 2005-07-17   \n",
       "2      46109      home        12734      1   10990 2006-02-01 2007-07-05   \n",
       "3      46109      cash        12518      1   10596 2010-12-08 2013-05-05   \n",
       "4      46109    credit        14049      1   11415 2010-07-07 2012-05-21   \n",
       "\n",
       "   rate   Z-score  \n",
       "0  2.15 -0.445677  \n",
       "1  1.25 -0.821544  \n",
       "2  0.68 -1.059594  \n",
       "3  1.24 -0.825721  \n",
       "4  3.13 -0.036399  "
      ]
     },
     "execution_count": 30,
     "metadata": {},
     "output_type": "execute_result"
    }
   ],
   "source": [
    "df2 = df1[(df1['Z-score']>-3) & (df1['Z-score']<3)].reset_index()\n",
    "df2.head()"
   ]
  },
  {
   "cell_type": "code",
   "execution_count": 31,
   "id": "8658983c-9480-445b-86d1-f4a50138ede7",
   "metadata": {},
   "outputs": [
    {
     "data": {
      "text/plain": [
       "(443, 8)"
      ]
     },
     "execution_count": 31,
     "metadata": {},
     "output_type": "execute_result"
    }
   ],
   "source": [
    "df1.shape"
   ]
  },
  {
   "cell_type": "code",
   "execution_count": 32,
   "id": "902fab62-2045-499b-b869-924cbfd17cef",
   "metadata": {},
   "outputs": [
    {
     "data": {
      "text/plain": [
       "(440, 9)"
      ]
     },
     "execution_count": 32,
     "metadata": {},
     "output_type": "execute_result"
    }
   ],
   "source": [
    "df2.shape"
   ]
  },
  {
   "cell_type": "code",
   "execution_count": 33,
   "id": "61cab220-055c-4d0e-a2b5-d61fefb8e21e",
   "metadata": {},
   "outputs": [],
   "source": [
    "df3=df2.copy()"
   ]
  },
  {
   "cell_type": "code",
   "execution_count": 34,
   "id": "e124aa63-d07c-48e5-b9e8-ef93625b0e41",
   "metadata": {},
   "outputs": [
    {
     "data": {
      "text/html": [
       "<div>\n",
       "<style scoped>\n",
       "    .dataframe tbody tr th:only-of-type {\n",
       "        vertical-align: middle;\n",
       "    }\n",
       "\n",
       "    .dataframe tbody tr th {\n",
       "        vertical-align: top;\n",
       "    }\n",
       "\n",
       "    .dataframe thead th {\n",
       "        text-align: right;\n",
       "    }\n",
       "</style>\n",
       "<table border=\"1\" class=\"dataframe\">\n",
       "  <thead>\n",
       "    <tr style=\"text-align: right;\">\n",
       "      <th></th>\n",
       "      <th>client_id</th>\n",
       "      <th>loan_type</th>\n",
       "      <th>loan_amount</th>\n",
       "      <th>repaid</th>\n",
       "      <th>loan_id</th>\n",
       "      <th>loan_start</th>\n",
       "      <th>loan_end</th>\n",
       "      <th>rate</th>\n",
       "    </tr>\n",
       "  </thead>\n",
       "  <tbody>\n",
       "    <tr>\n",
       "      <th>0</th>\n",
       "      <td>46109</td>\n",
       "      <td>home</td>\n",
       "      <td>13672</td>\n",
       "      <td>0</td>\n",
       "      <td>10243</td>\n",
       "      <td>2002-04-16</td>\n",
       "      <td>2003-12-20</td>\n",
       "      <td>2.15</td>\n",
       "    </tr>\n",
       "    <tr>\n",
       "      <th>1</th>\n",
       "      <td>46109</td>\n",
       "      <td>credit</td>\n",
       "      <td>9794</td>\n",
       "      <td>0</td>\n",
       "      <td>10984</td>\n",
       "      <td>2003-10-21</td>\n",
       "      <td>2005-07-17</td>\n",
       "      <td>1.25</td>\n",
       "    </tr>\n",
       "    <tr>\n",
       "      <th>2</th>\n",
       "      <td>46109</td>\n",
       "      <td>home</td>\n",
       "      <td>12734</td>\n",
       "      <td>1</td>\n",
       "      <td>10990</td>\n",
       "      <td>2006-02-01</td>\n",
       "      <td>2007-07-05</td>\n",
       "      <td>0.68</td>\n",
       "    </tr>\n",
       "    <tr>\n",
       "      <th>3</th>\n",
       "      <td>46109</td>\n",
       "      <td>cash</td>\n",
       "      <td>12518</td>\n",
       "      <td>1</td>\n",
       "      <td>10596</td>\n",
       "      <td>2010-12-08</td>\n",
       "      <td>2013-05-05</td>\n",
       "      <td>1.24</td>\n",
       "    </tr>\n",
       "    <tr>\n",
       "      <th>4</th>\n",
       "      <td>46109</td>\n",
       "      <td>credit</td>\n",
       "      <td>14049</td>\n",
       "      <td>1</td>\n",
       "      <td>11415</td>\n",
       "      <td>2010-07-07</td>\n",
       "      <td>2012-05-21</td>\n",
       "      <td>3.13</td>\n",
       "    </tr>\n",
       "  </tbody>\n",
       "</table>\n",
       "</div>"
      ],
      "text/plain": [
       "   client_id loan_type  loan_amount repaid loan_id loan_start   loan_end  rate\n",
       "0      46109      home        13672      0   10243 2002-04-16 2003-12-20  2.15\n",
       "1      46109    credit         9794      0   10984 2003-10-21 2005-07-17  1.25\n",
       "2      46109      home        12734      1   10990 2006-02-01 2007-07-05  0.68\n",
       "3      46109      cash        12518      1   10596 2010-12-08 2013-05-05  1.24\n",
       "4      46109    credit        14049      1   11415 2010-07-07 2012-05-21  3.13"
      ]
     },
     "execution_count": 34,
     "metadata": {},
     "output_type": "execute_result"
    }
   ],
   "source": [
    "df3.drop(columns=['Z-score'],inplace=True)\n",
    "df3.head()"
   ]
  },
  {
   "cell_type": "markdown",
   "id": "d124d3db-7abe-49f9-a105-d01668d55ebd",
   "metadata": {},
   "source": [
    "### 2) IQR Method to treat Outliers:"
   ]
  },
  {
   "cell_type": "code",
   "execution_count": 35,
   "id": "4463d995-1173-458f-8bd8-e5c02f953b69",
   "metadata": {},
   "outputs": [
    {
     "name": "stdout",
     "output_type": "stream",
     "text": [
      "-3.9762499999999994 9.87375\n"
     ]
    }
   ],
   "source": [
    "q1 = df3.rate.quantile(0.25)\n",
    "q2 = df3.rate.quantile(0.50)\n",
    "q3 = df3.rate.quantile(0.75)\n",
    "\n",
    "iqr = q3-q1\n",
    "lower = q1-(1.5*iqr)\n",
    "upper = q3+(1.5*iqr)\n",
    "\n",
    "print(lower, upper)"
   ]
  },
  {
   "cell_type": "code",
   "execution_count": 36,
   "id": "e5080864-9810-4c78-b742-300dd54ba52c",
   "metadata": {},
   "outputs": [
    {
     "data": {
      "text/html": [
       "<div>\n",
       "<style scoped>\n",
       "    .dataframe tbody tr th:only-of-type {\n",
       "        vertical-align: middle;\n",
       "    }\n",
       "\n",
       "    .dataframe tbody tr th {\n",
       "        vertical-align: top;\n",
       "    }\n",
       "\n",
       "    .dataframe thead th {\n",
       "        text-align: right;\n",
       "    }\n",
       "</style>\n",
       "<table border=\"1\" class=\"dataframe\">\n",
       "  <thead>\n",
       "    <tr style=\"text-align: right;\">\n",
       "      <th></th>\n",
       "      <th>client_id</th>\n",
       "      <th>loan_type</th>\n",
       "      <th>loan_amount</th>\n",
       "      <th>repaid</th>\n",
       "      <th>loan_id</th>\n",
       "      <th>loan_start</th>\n",
       "      <th>loan_end</th>\n",
       "      <th>rate</th>\n",
       "    </tr>\n",
       "  </thead>\n",
       "  <tbody>\n",
       "    <tr>\n",
       "      <th>102</th>\n",
       "      <td>39505</td>\n",
       "      <td>cash</td>\n",
       "      <td>11647</td>\n",
       "      <td>1</td>\n",
       "      <td>11928</td>\n",
       "      <td>2003-07-28</td>\n",
       "      <td>2005-12-24</td>\n",
       "      <td>9.91</td>\n",
       "    </tr>\n",
       "  </tbody>\n",
       "</table>\n",
       "</div>"
      ],
      "text/plain": [
       "     client_id loan_type  loan_amount repaid loan_id loan_start   loan_end  \\\n",
       "102      39505      cash        11647      1   11928 2003-07-28 2005-12-24   \n",
       "\n",
       "     rate  \n",
       "102  9.91  "
      ]
     },
     "execution_count": 36,
     "metadata": {},
     "output_type": "execute_result"
    }
   ],
   "source": [
    "df3[(df3.rate<lower) | (df3.rate>upper)]"
   ]
  },
  {
   "cell_type": "code",
   "execution_count": 37,
   "id": "45814299-fd06-4118-a21d-8e5427b3a033",
   "metadata": {},
   "outputs": [
    {
     "data": {
      "text/html": [
       "<div>\n",
       "<style scoped>\n",
       "    .dataframe tbody tr th:only-of-type {\n",
       "        vertical-align: middle;\n",
       "    }\n",
       "\n",
       "    .dataframe tbody tr th {\n",
       "        vertical-align: top;\n",
       "    }\n",
       "\n",
       "    .dataframe thead th {\n",
       "        text-align: right;\n",
       "    }\n",
       "</style>\n",
       "<table border=\"1\" class=\"dataframe\">\n",
       "  <thead>\n",
       "    <tr style=\"text-align: right;\">\n",
       "      <th></th>\n",
       "      <th>client_id</th>\n",
       "      <th>loan_type</th>\n",
       "      <th>loan_amount</th>\n",
       "      <th>repaid</th>\n",
       "      <th>loan_id</th>\n",
       "      <th>loan_start</th>\n",
       "      <th>loan_end</th>\n",
       "      <th>rate</th>\n",
       "    </tr>\n",
       "  </thead>\n",
       "  <tbody>\n",
       "    <tr>\n",
       "      <th>0</th>\n",
       "      <td>46109</td>\n",
       "      <td>home</td>\n",
       "      <td>13672</td>\n",
       "      <td>0</td>\n",
       "      <td>10243</td>\n",
       "      <td>2002-04-16</td>\n",
       "      <td>2003-12-20</td>\n",
       "      <td>2.15</td>\n",
       "    </tr>\n",
       "    <tr>\n",
       "      <th>1</th>\n",
       "      <td>46109</td>\n",
       "      <td>credit</td>\n",
       "      <td>9794</td>\n",
       "      <td>0</td>\n",
       "      <td>10984</td>\n",
       "      <td>2003-10-21</td>\n",
       "      <td>2005-07-17</td>\n",
       "      <td>1.25</td>\n",
       "    </tr>\n",
       "    <tr>\n",
       "      <th>2</th>\n",
       "      <td>46109</td>\n",
       "      <td>home</td>\n",
       "      <td>12734</td>\n",
       "      <td>1</td>\n",
       "      <td>10990</td>\n",
       "      <td>2006-02-01</td>\n",
       "      <td>2007-07-05</td>\n",
       "      <td>0.68</td>\n",
       "    </tr>\n",
       "    <tr>\n",
       "      <th>3</th>\n",
       "      <td>46109</td>\n",
       "      <td>cash</td>\n",
       "      <td>12518</td>\n",
       "      <td>1</td>\n",
       "      <td>10596</td>\n",
       "      <td>2010-12-08</td>\n",
       "      <td>2013-05-05</td>\n",
       "      <td>1.24</td>\n",
       "    </tr>\n",
       "    <tr>\n",
       "      <th>4</th>\n",
       "      <td>46109</td>\n",
       "      <td>credit</td>\n",
       "      <td>14049</td>\n",
       "      <td>1</td>\n",
       "      <td>11415</td>\n",
       "      <td>2010-07-07</td>\n",
       "      <td>2012-05-21</td>\n",
       "      <td>3.13</td>\n",
       "    </tr>\n",
       "  </tbody>\n",
       "</table>\n",
       "</div>"
      ],
      "text/plain": [
       "   client_id loan_type  loan_amount repaid loan_id loan_start   loan_end  rate\n",
       "0      46109      home        13672      0   10243 2002-04-16 2003-12-20  2.15\n",
       "1      46109    credit         9794      0   10984 2003-10-21 2005-07-17  1.25\n",
       "2      46109      home        12734      1   10990 2006-02-01 2007-07-05  0.68\n",
       "3      46109      cash        12518      1   10596 2010-12-08 2013-05-05  1.24\n",
       "4      46109    credit        14049      1   11415 2010-07-07 2012-05-21  3.13"
      ]
     },
     "execution_count": 37,
     "metadata": {},
     "output_type": "execute_result"
    }
   ],
   "source": [
    "df4 = df3[(df3.rate>lower) & (df3.rate<upper)]\n",
    "df4.head()"
   ]
  },
  {
   "cell_type": "code",
   "execution_count": 38,
   "id": "fa5dfc76-516b-4e6d-8301-b81c9b1afbfb",
   "metadata": {},
   "outputs": [
    {
     "data": {
      "text/plain": [
       "(440, 8)"
      ]
     },
     "execution_count": 38,
     "metadata": {},
     "output_type": "execute_result"
    }
   ],
   "source": [
    "df3.shape"
   ]
  },
  {
   "cell_type": "code",
   "execution_count": 39,
   "id": "affdf1b1-3a47-4025-a74f-2cff8d23f003",
   "metadata": {},
   "outputs": [
    {
     "data": {
      "text/plain": [
       "(439, 8)"
      ]
     },
     "execution_count": 39,
     "metadata": {},
     "output_type": "execute_result"
    }
   ],
   "source": [
    "df4.shape"
   ]
  },
  {
   "cell_type": "code",
   "execution_count": 40,
   "id": "252395be-d193-4db6-90cf-7518cec97982",
   "metadata": {},
   "outputs": [
    {
     "data": {
      "text/plain": [
       "<Axes: ylabel='rate'>"
      ]
     },
     "execution_count": 40,
     "metadata": {},
     "output_type": "execute_result"
    },
    {
     "data": {
      "image/png": "[encoded data removed]",
      "text/plain": [
       "<Figure size 640x480 with 1 Axes>"
      ]
     },
     "metadata": {},
     "output_type": "display_data"
    }
   ],
   "source": [
    "sns.boxplot(df1.rate)"
   ]
  },
  {
   "cell_type": "code",
   "execution_count": 41,
   "id": "1698fe90-8390-49eb-a3d5-13a90109d835",
   "metadata": {
    "scrolled": true
   },
   "outputs": [
    {
     "data": {
      "text/plain": [
       "<Axes: ylabel='rate'>"
      ]
     },
     "execution_count": 41,
     "metadata": {},
     "output_type": "execute_result"
    },
    {
     "data": {
      "image/png": "[encoded data removed]",
      "text/plain": [
       "<Figure size 640x480 with 1 Axes>"
      ]
     },
     "metadata": {},
     "output_type": "display_data"
    }
   ],
   "source": [
    "sns.boxplot(df2.rate)"
   ]
  },
  {
   "cell_type": "code",
   "execution_count": 42,
   "id": "e71cd7cc-c534-45f3-89cb-09788012a663",
   "metadata": {},
   "outputs": [
    {
     "data": {
      "text/plain": [
       "<Axes: ylabel='rate'>"
      ]
     },
     "execution_count": 42,
     "metadata": {},
     "output_type": "execute_result"
    },
    {
     "data": {
      "image/png": "[encoded data removed]",
      "text/plain": [
       "<Figure size 640x480 with 1 Axes>"
      ]
     },
     "metadata": {},
     "output_type": "display_data"
    }
   ],
   "source": [
    "sns.boxplot(df4.rate)"
   ]
  },
  {
   "cell_type": "markdown",
   "id": "8656d731-64a8-4245-bbb5-58d9b3271ebb",
   "metadata": {},
   "source": [
    "## . Scaling the Numerical Features"
   ]
  },
  {
   "cell_type": "markdown",
   "id": "aedf8335-535d-49d0-a015-9752de0d33bf",
   "metadata": {},
   "source": [
    "### Standardization (Z-Score)"
   ]
  },
  {
   "cell_type": "markdown",
   "id": "9e148e9d-cf4e-4239-b8b5-9e011a646180",
   "metadata": {},
   "source": [
    "Scales the data using the formula (x-mean)/standard deviation"
   ]
  },
  {
   "cell_type": "code",
   "execution_count": 44,
   "id": "57bb9230-5797-4721-b645-c9e0aebf4697",
   "metadata": {},
   "outputs": [
    {
     "data": {
      "text/html": [
       "<div>\n",
       "<style scoped>\n",
       "    .dataframe tbody tr th:only-of-type {\n",
       "        vertical-align: middle;\n",
       "    }\n",
       "\n",
       "    .dataframe tbody tr th {\n",
       "        vertical-align: top;\n",
       "    }\n",
       "\n",
       "    .dataframe thead th {\n",
       "        text-align: right;\n",
       "    }\n",
       "</style>\n",
       "<table border=\"1\" class=\"dataframe\">\n",
       "  <thead>\n",
       "    <tr style=\"text-align: right;\">\n",
       "      <th></th>\n",
       "      <th>client_id</th>\n",
       "      <th>loan_type</th>\n",
       "      <th>loan_amount</th>\n",
       "      <th>repaid</th>\n",
       "      <th>loan_id</th>\n",
       "      <th>loan_start</th>\n",
       "      <th>loan_end</th>\n",
       "      <th>rate</th>\n",
       "      <th>Z_score_rate</th>\n",
       "    </tr>\n",
       "  </thead>\n",
       "  <tbody>\n",
       "    <tr>\n",
       "      <th>0</th>\n",
       "      <td>46109</td>\n",
       "      <td>home</td>\n",
       "      <td>13672</td>\n",
       "      <td>0</td>\n",
       "      <td>10243</td>\n",
       "      <td>2002-04-16</td>\n",
       "      <td>2003-12-20</td>\n",
       "      <td>2.15</td>\n",
       "      <td>-0.438406</td>\n",
       "    </tr>\n",
       "    <tr>\n",
       "      <th>1</th>\n",
       "      <td>46109</td>\n",
       "      <td>credit</td>\n",
       "      <td>9794</td>\n",
       "      <td>0</td>\n",
       "      <td>10984</td>\n",
       "      <td>2003-10-21</td>\n",
       "      <td>2005-07-17</td>\n",
       "      <td>1.25</td>\n",
       "      <td>-0.828363</td>\n",
       "    </tr>\n",
       "    <tr>\n",
       "      <th>2</th>\n",
       "      <td>46109</td>\n",
       "      <td>home</td>\n",
       "      <td>12734</td>\n",
       "      <td>1</td>\n",
       "      <td>10990</td>\n",
       "      <td>2006-02-01</td>\n",
       "      <td>2007-07-05</td>\n",
       "      <td>0.68</td>\n",
       "      <td>-1.075336</td>\n",
       "    </tr>\n",
       "    <tr>\n",
       "      <th>3</th>\n",
       "      <td>46109</td>\n",
       "      <td>cash</td>\n",
       "      <td>12518</td>\n",
       "      <td>1</td>\n",
       "      <td>10596</td>\n",
       "      <td>2010-12-08</td>\n",
       "      <td>2013-05-05</td>\n",
       "      <td>1.24</td>\n",
       "      <td>-0.832696</td>\n",
       "    </tr>\n",
       "    <tr>\n",
       "      <th>4</th>\n",
       "      <td>46109</td>\n",
       "      <td>credit</td>\n",
       "      <td>14049</td>\n",
       "      <td>1</td>\n",
       "      <td>11415</td>\n",
       "      <td>2010-07-07</td>\n",
       "      <td>2012-05-21</td>\n",
       "      <td>3.13</td>\n",
       "      <td>-0.013786</td>\n",
       "    </tr>\n",
       "  </tbody>\n",
       "</table>\n",
       "</div>"
      ],
      "text/plain": [
       "   client_id loan_type  loan_amount repaid loan_id loan_start   loan_end  \\\n",
       "0      46109      home        13672      0   10243 2002-04-16 2003-12-20   \n",
       "1      46109    credit         9794      0   10984 2003-10-21 2005-07-17   \n",
       "2      46109      home        12734      1   10990 2006-02-01 2007-07-05   \n",
       "3      46109      cash        12518      1   10596 2010-12-08 2013-05-05   \n",
       "4      46109    credit        14049      1   11415 2010-07-07 2012-05-21   \n",
       "\n",
       "   rate  Z_score_rate  \n",
       "0  2.15     -0.438406  \n",
       "1  1.25     -0.828363  \n",
       "2  0.68     -1.075336  \n",
       "3  1.24     -0.832696  \n",
       "4  3.13     -0.013786  "
      ]
     },
     "execution_count": 44,
     "metadata": {},
     "output_type": "execute_result"
    }
   ],
   "source": [
    "avg_rate = df3.rate.mean()\n",
    "std_rate = df3.rate.std()\n",
    "df3['Z_score_rate'] = (df3['rate']-avg_rate)/std_rate\n",
    "df3.head()"
   ]
  },
  {
   "cell_type": "code",
   "execution_count": 50,
   "id": "3dae4d44-8ccd-40bb-9712-2715690f9ee1",
   "metadata": {},
   "outputs": [],
   "source": [
    "df3['Z_score_LA'] = (df3['loan_amount']-df3['loan_amount'].mean())/df3['loan_amount'].std()"
   ]
  },
  {
   "cell_type": "code",
   "execution_count": 51,
   "id": "eb7aba8c-d041-45b9-b9a6-03e77eb1d53d",
   "metadata": {},
   "outputs": [
    {
     "data": {
      "text/html": [
       "<div>\n",
       "<style scoped>\n",
       "    .dataframe tbody tr th:only-of-type {\n",
       "        vertical-align: middle;\n",
       "    }\n",
       "\n",
       "    .dataframe tbody tr th {\n",
       "        vertical-align: top;\n",
       "    }\n",
       "\n",
       "    .dataframe thead th {\n",
       "        text-align: right;\n",
       "    }\n",
       "</style>\n",
       "<table border=\"1\" class=\"dataframe\">\n",
       "  <thead>\n",
       "    <tr style=\"text-align: right;\">\n",
       "      <th></th>\n",
       "      <th>client_id</th>\n",
       "      <th>loan_type</th>\n",
       "      <th>loan_amount</th>\n",
       "      <th>repaid</th>\n",
       "      <th>loan_id</th>\n",
       "      <th>loan_start</th>\n",
       "      <th>loan_end</th>\n",
       "      <th>rate</th>\n",
       "      <th>Z_score_rate</th>\n",
       "      <th>Z_score_LA</th>\n",
       "    </tr>\n",
       "  </thead>\n",
       "  <tbody>\n",
       "    <tr>\n",
       "      <th>0</th>\n",
       "      <td>46109</td>\n",
       "      <td>home</td>\n",
       "      <td>13672</td>\n",
       "      <td>0</td>\n",
       "      <td>10243</td>\n",
       "      <td>2002-04-16</td>\n",
       "      <td>2003-12-20</td>\n",
       "      <td>2.15</td>\n",
       "      <td>-0.438406</td>\n",
       "      <td>1.357792</td>\n",
       "    </tr>\n",
       "    <tr>\n",
       "      <th>1</th>\n",
       "      <td>46109</td>\n",
       "      <td>credit</td>\n",
       "      <td>9794</td>\n",
       "      <td>0</td>\n",
       "      <td>10984</td>\n",
       "      <td>2003-10-21</td>\n",
       "      <td>2005-07-17</td>\n",
       "      <td>1.25</td>\n",
       "      <td>-0.828363</td>\n",
       "      <td>0.429916</td>\n",
       "    </tr>\n",
       "    <tr>\n",
       "      <th>2</th>\n",
       "      <td>46109</td>\n",
       "      <td>home</td>\n",
       "      <td>12734</td>\n",
       "      <td>1</td>\n",
       "      <td>10990</td>\n",
       "      <td>2006-02-01</td>\n",
       "      <td>2007-07-05</td>\n",
       "      <td>0.68</td>\n",
       "      <td>-1.075336</td>\n",
       "      <td>1.133360</td>\n",
       "    </tr>\n",
       "    <tr>\n",
       "      <th>3</th>\n",
       "      <td>46109</td>\n",
       "      <td>cash</td>\n",
       "      <td>12518</td>\n",
       "      <td>1</td>\n",
       "      <td>10596</td>\n",
       "      <td>2010-12-08</td>\n",
       "      <td>2013-05-05</td>\n",
       "      <td>1.24</td>\n",
       "      <td>-0.832696</td>\n",
       "      <td>1.081678</td>\n",
       "    </tr>\n",
       "    <tr>\n",
       "      <th>4</th>\n",
       "      <td>46109</td>\n",
       "      <td>credit</td>\n",
       "      <td>14049</td>\n",
       "      <td>1</td>\n",
       "      <td>11415</td>\n",
       "      <td>2010-07-07</td>\n",
       "      <td>2012-05-21</td>\n",
       "      <td>3.13</td>\n",
       "      <td>-0.013786</td>\n",
       "      <td>1.447996</td>\n",
       "    </tr>\n",
       "  </tbody>\n",
       "</table>\n",
       "</div>"
      ],
      "text/plain": [
       "   client_id loan_type  loan_amount repaid loan_id loan_start   loan_end  \\\n",
       "0      46109      home        13672      0   10243 2002-04-16 2003-12-20   \n",
       "1      46109    credit         9794      0   10984 2003-10-21 2005-07-17   \n",
       "2      46109      home        12734      1   10990 2006-02-01 2007-07-05   \n",
       "3      46109      cash        12518      1   10596 2010-12-08 2013-05-05   \n",
       "4      46109    credit        14049      1   11415 2010-07-07 2012-05-21   \n",
       "\n",
       "   rate  Z_score_rate  Z_score_LA  \n",
       "0  2.15     -0.438406    1.357792  \n",
       "1  1.25     -0.828363    0.429916  \n",
       "2  0.68     -1.075336    1.133360  \n",
       "3  1.24     -0.832696    1.081678  \n",
       "4  3.13     -0.013786    1.447996  "
      ]
     },
     "execution_count": 51,
     "metadata": {},
     "output_type": "execute_result"
    }
   ],
   "source": [
    "df3.head()"
   ]
  },
  {
   "cell_type": "code",
   "execution_count": 54,
   "id": "fe8fd9e0-27dd-4b7f-ba01-f06a8d596470",
   "metadata": {},
   "outputs": [],
   "source": [
    "df4_num = df[['loan_amount','rate']]\n",
    "\n",
    "from sklearn.preprocessing import StandardScaler\n",
    "SS = StandardScaler()\n",
    "\n",
    "scaled_x = SS.fit_transform(df4_num)\n",
    "scaled_x\n",
    "\n",
    "from sklearn.preprocessing import MinMaxScaler\n",
    "MS = MinMaxScaler()\n",
    "\n",
    "MinMaxScaled = MS.fit_transform(df4_num)\n"
   ]
  },
  {
   "cell_type": "code",
   "execution_count": 55,
   "id": "38bf93f6-1f94-4725-8084-455597c22066",
   "metadata": {},
   "outputs": [
    {
     "data": {
      "text/plain": [
       "Index(['client_id', 'loan_type', 'loan_amount', 'repaid', 'loan_id',\n",
       "       'loan_start', 'loan_end', 'rate', 'sqrt_rate', 'log_rate'],\n",
       "      dtype='object')"
      ]
     },
     "execution_count": 55,
     "metadata": {},
     "output_type": "execute_result"
    }
   ],
   "source": [
    "df.columns"
   ]
  },
  {
   "cell_type": "code",
   "execution_count": 59,
   "id": "9dea85ef-7487-4ffd-b045-3e593b2b5699",
   "metadata": {},
   "outputs": [],
   "source": [
    "df_encoded = pd.get_dummies(df, columns=['loan_type'], drop_first=True, dtype=int)"
   ]
  },
  {
   "cell_type": "code",
   "execution_count": 61,
   "id": "50f80576-bbd5-40ad-93fd-8dafabb483d2",
   "metadata": {},
   "outputs": [
    {
     "data": {
      "text/html": [
       "<div>\n",
       "<style scoped>\n",
       "    .dataframe tbody tr th:only-of-type {\n",
       "        vertical-align: middle;\n",
       "    }\n",
       "\n",
       "    .dataframe tbody tr th {\n",
       "        vertical-align: top;\n",
       "    }\n",
       "\n",
       "    .dataframe thead th {\n",
       "        text-align: right;\n",
       "    }\n",
       "</style>\n",
       "<table border=\"1\" class=\"dataframe\">\n",
       "  <thead>\n",
       "    <tr style=\"text-align: right;\">\n",
       "      <th></th>\n",
       "      <th>client_id</th>\n",
       "      <th>loan_amount</th>\n",
       "      <th>repaid</th>\n",
       "      <th>loan_id</th>\n",
       "      <th>loan_start</th>\n",
       "      <th>loan_end</th>\n",
       "      <th>rate</th>\n",
       "      <th>sqrt_rate</th>\n",
       "      <th>log_rate</th>\n",
       "      <th>loan_type_credit</th>\n",
       "      <th>loan_type_home</th>\n",
       "      <th>loan_type_other</th>\n",
       "    </tr>\n",
       "  </thead>\n",
       "  <tbody>\n",
       "    <tr>\n",
       "      <th>0</th>\n",
       "      <td>46109</td>\n",
       "      <td>13672</td>\n",
       "      <td>0</td>\n",
       "      <td>10243</td>\n",
       "      <td>2002-04-16</td>\n",
       "      <td>2003-12-20</td>\n",
       "      <td>2.15</td>\n",
       "      <td>1.466288</td>\n",
       "      <td>1.147402</td>\n",
       "      <td>0</td>\n",
       "      <td>1</td>\n",
       "      <td>0</td>\n",
       "    </tr>\n",
       "    <tr>\n",
       "      <th>1</th>\n",
       "      <td>46109</td>\n",
       "      <td>9794</td>\n",
       "      <td>0</td>\n",
       "      <td>10984</td>\n",
       "      <td>2003-10-21</td>\n",
       "      <td>2005-07-17</td>\n",
       "      <td>1.25</td>\n",
       "      <td>1.118034</td>\n",
       "      <td>0.810930</td>\n",
       "      <td>1</td>\n",
       "      <td>0</td>\n",
       "      <td>0</td>\n",
       "    </tr>\n",
       "    <tr>\n",
       "      <th>2</th>\n",
       "      <td>46109</td>\n",
       "      <td>12734</td>\n",
       "      <td>1</td>\n",
       "      <td>10990</td>\n",
       "      <td>2006-02-01</td>\n",
       "      <td>2007-07-05</td>\n",
       "      <td>0.68</td>\n",
       "      <td>0.824621</td>\n",
       "      <td>0.518794</td>\n",
       "      <td>0</td>\n",
       "      <td>1</td>\n",
       "      <td>0</td>\n",
       "    </tr>\n",
       "    <tr>\n",
       "      <th>3</th>\n",
       "      <td>46109</td>\n",
       "      <td>12518</td>\n",
       "      <td>1</td>\n",
       "      <td>10596</td>\n",
       "      <td>2010-12-08</td>\n",
       "      <td>2013-05-05</td>\n",
       "      <td>1.24</td>\n",
       "      <td>1.113553</td>\n",
       "      <td>0.806476</td>\n",
       "      <td>0</td>\n",
       "      <td>0</td>\n",
       "      <td>0</td>\n",
       "    </tr>\n",
       "    <tr>\n",
       "      <th>4</th>\n",
       "      <td>46109</td>\n",
       "      <td>14049</td>\n",
       "      <td>1</td>\n",
       "      <td>11415</td>\n",
       "      <td>2010-07-07</td>\n",
       "      <td>2012-05-21</td>\n",
       "      <td>3.13</td>\n",
       "      <td>1.769181</td>\n",
       "      <td>1.418277</td>\n",
       "      <td>1</td>\n",
       "      <td>0</td>\n",
       "      <td>0</td>\n",
       "    </tr>\n",
       "  </tbody>\n",
       "</table>\n",
       "</div>"
      ],
      "text/plain": [
       "   client_id  loan_amount repaid loan_id loan_start   loan_end  rate  \\\n",
       "0      46109        13672      0   10243 2002-04-16 2003-12-20  2.15   \n",
       "1      46109         9794      0   10984 2003-10-21 2005-07-17  1.25   \n",
       "2      46109        12734      1   10990 2006-02-01 2007-07-05  0.68   \n",
       "3      46109        12518      1   10596 2010-12-08 2013-05-05  1.24   \n",
       "4      46109        14049      1   11415 2010-07-07 2012-05-21  3.13   \n",
       "\n",
       "   sqrt_rate  log_rate  loan_type_credit  loan_type_home  loan_type_other  \n",
       "0   1.466288  1.147402                 0               1                0  \n",
       "1   1.118034  0.810930                 1               0                0  \n",
       "2   0.824621  0.518794                 0               1                0  \n",
       "3   1.113553  0.806476                 0               0                0  \n",
       "4   1.769181  1.418277                 1               0                0  "
      ]
     },
     "execution_count": 61,
     "metadata": {},
     "output_type": "execute_result"
    }
   ],
   "source": [
    "df_encoded.head()"
   ]
  },
  {
   "cell_type": "code",
   "execution_count": 62,
   "id": "db9f2714-4306-40a5-9677-57494f26c2e2",
   "metadata": {},
   "outputs": [],
   "source": [
    "#df['repaid'] = df['repaid'].map({'No': 0, 'Yes': 1})\n",
    "#df['repaid'] = df['repaid'].astype(int)"
   ]
  },
  {
   "cell_type": "code",
   "execution_count": 63,
   "id": "7798394c-c7ef-4ba4-875c-038ee0ae461d",
   "metadata": {},
   "outputs": [],
   "source": [
    "from sklearn.preprocessing import LabelEncoder\n",
    "le = LabelEncoder()\n",
    "#df['repaid'] = le.fit_transform(df['repaid'])"
   ]
  },
  {
   "cell_type": "code",
   "execution_count": 88,
   "id": "0806134f-16ba-4628-805d-a8f3fa135340",
   "metadata": {},
   "outputs": [
    {
     "data": {
      "text/html": [
       "<div>\n",
       "<style scoped>\n",
       "    .dataframe tbody tr th:only-of-type {\n",
       "        vertical-align: middle;\n",
       "    }\n",
       "\n",
       "    .dataframe tbody tr th {\n",
       "        vertical-align: top;\n",
       "    }\n",
       "\n",
       "    .dataframe thead th {\n",
       "        text-align: right;\n",
       "    }\n",
       "</style>\n",
       "<table border=\"1\" class=\"dataframe\">\n",
       "  <thead>\n",
       "    <tr style=\"text-align: right;\">\n",
       "      <th></th>\n",
       "      <th>client_id</th>\n",
       "      <th>loan_type</th>\n",
       "      <th>loan_amount</th>\n",
       "      <th>repaid</th>\n",
       "      <th>loan_id</th>\n",
       "      <th>loan_start</th>\n",
       "      <th>loan_end</th>\n",
       "      <th>rate</th>\n",
       "      <th>sqrt_rate</th>\n",
       "      <th>log_rate</th>\n",
       "      <th>loan_tenure</th>\n",
       "      <th>loan_tenure_str</th>\n",
       "      <th>loan_duration</th>\n",
       "    </tr>\n",
       "  </thead>\n",
       "  <tbody>\n",
       "    <tr>\n",
       "      <th>0</th>\n",
       "      <td>46109</td>\n",
       "      <td>home</td>\n",
       "      <td>13672</td>\n",
       "      <td>0</td>\n",
       "      <td>10243</td>\n",
       "      <td>2002-04-16</td>\n",
       "      <td>2003-12-20</td>\n",
       "      <td>2.15</td>\n",
       "      <td>1.466288</td>\n",
       "      <td>1.147402</td>\n",
       "      <td>613 days</td>\n",
       "      <td>&lt;class 'str'&gt;</td>\n",
       "      <td>613</td>\n",
       "    </tr>\n",
       "    <tr>\n",
       "      <th>1</th>\n",
       "      <td>46109</td>\n",
       "      <td>credit</td>\n",
       "      <td>9794</td>\n",
       "      <td>0</td>\n",
       "      <td>10984</td>\n",
       "      <td>2003-10-21</td>\n",
       "      <td>2005-07-17</td>\n",
       "      <td>1.25</td>\n",
       "      <td>1.118034</td>\n",
       "      <td>0.810930</td>\n",
       "      <td>635 days</td>\n",
       "      <td>&lt;class 'str'&gt;</td>\n",
       "      <td>635</td>\n",
       "    </tr>\n",
       "    <tr>\n",
       "      <th>2</th>\n",
       "      <td>46109</td>\n",
       "      <td>home</td>\n",
       "      <td>12734</td>\n",
       "      <td>1</td>\n",
       "      <td>10990</td>\n",
       "      <td>2006-02-01</td>\n",
       "      <td>2007-07-05</td>\n",
       "      <td>0.68</td>\n",
       "      <td>0.824621</td>\n",
       "      <td>0.518794</td>\n",
       "      <td>519 days</td>\n",
       "      <td>&lt;class 'str'&gt;</td>\n",
       "      <td>519</td>\n",
       "    </tr>\n",
       "    <tr>\n",
       "      <th>3</th>\n",
       "      <td>46109</td>\n",
       "      <td>cash</td>\n",
       "      <td>12518</td>\n",
       "      <td>1</td>\n",
       "      <td>10596</td>\n",
       "      <td>2010-12-08</td>\n",
       "      <td>2013-05-05</td>\n",
       "      <td>1.24</td>\n",
       "      <td>1.113553</td>\n",
       "      <td>0.806476</td>\n",
       "      <td>879 days</td>\n",
       "      <td>&lt;class 'str'&gt;</td>\n",
       "      <td>879</td>\n",
       "    </tr>\n",
       "    <tr>\n",
       "      <th>4</th>\n",
       "      <td>46109</td>\n",
       "      <td>credit</td>\n",
       "      <td>14049</td>\n",
       "      <td>1</td>\n",
       "      <td>11415</td>\n",
       "      <td>2010-07-07</td>\n",
       "      <td>2012-05-21</td>\n",
       "      <td>3.13</td>\n",
       "      <td>1.769181</td>\n",
       "      <td>1.418277</td>\n",
       "      <td>684 days</td>\n",
       "      <td>&lt;class 'str'&gt;</td>\n",
       "      <td>684</td>\n",
       "    </tr>\n",
       "  </tbody>\n",
       "</table>\n",
       "</div>"
      ],
      "text/plain": [
       "   client_id loan_type  loan_amount repaid loan_id loan_start   loan_end  \\\n",
       "0      46109      home        13672      0   10243 2002-04-16 2003-12-20   \n",
       "1      46109    credit         9794      0   10984 2003-10-21 2005-07-17   \n",
       "2      46109      home        12734      1   10990 2006-02-01 2007-07-05   \n",
       "3      46109      cash        12518      1   10596 2010-12-08 2013-05-05   \n",
       "4      46109    credit        14049      1   11415 2010-07-07 2012-05-21   \n",
       "\n",
       "   rate  sqrt_rate  log_rate loan_tenure loan_tenure_str  loan_duration  \n",
       "0  2.15   1.466288  1.147402    613 days   <class 'str'>            613  \n",
       "1  1.25   1.118034  0.810930    635 days   <class 'str'>            635  \n",
       "2  0.68   0.824621  0.518794    519 days   <class 'str'>            519  \n",
       "3  1.24   1.113553  0.806476    879 days   <class 'str'>            879  \n",
       "4  3.13   1.769181  1.418277    684 days   <class 'str'>            684  "
      ]
     },
     "execution_count": 88,
     "metadata": {},
     "output_type": "execute_result"
    }
   ],
   "source": [
    "df['loan_tenure'] = df['loan_end']-df['loan_start']\n",
    "df.head()"
   ]
  },
  {
   "cell_type": "code",
   "execution_count": 85,
   "id": "f06e9d85-9ae7-4583-a7c2-18f462285848",
   "metadata": {},
   "outputs": [],
   "source": [
    "df['loan_tenure'] = df['loan_tenure'].astype(str)\n",
    "df['loan_duration'] = df['loan_tenure'].str.split().str[0].astype(int)\n"
   ]
  },
  {
   "cell_type": "code",
   "execution_count": 86,
   "id": "d06357bf-7051-4c8a-9a20-4dab35a81497",
   "metadata": {},
   "outputs": [
    {
     "data": {
      "text/html": [
       "<div>\n",
       "<style scoped>\n",
       "    .dataframe tbody tr th:only-of-type {\n",
       "        vertical-align: middle;\n",
       "    }\n",
       "\n",
       "    .dataframe tbody tr th {\n",
       "        vertical-align: top;\n",
       "    }\n",
       "\n",
       "    .dataframe thead th {\n",
       "        text-align: right;\n",
       "    }\n",
       "</style>\n",
       "<table border=\"1\" class=\"dataframe\">\n",
       "  <thead>\n",
       "    <tr style=\"text-align: right;\">\n",
       "      <th></th>\n",
       "      <th>client_id</th>\n",
       "      <th>loan_type</th>\n",
       "      <th>loan_amount</th>\n",
       "      <th>repaid</th>\n",
       "      <th>loan_id</th>\n",
       "      <th>loan_start</th>\n",
       "      <th>loan_end</th>\n",
       "      <th>rate</th>\n",
       "      <th>sqrt_rate</th>\n",
       "      <th>log_rate</th>\n",
       "      <th>loan_tenure</th>\n",
       "      <th>loan_tenure_str</th>\n",
       "      <th>loan_duration</th>\n",
       "    </tr>\n",
       "  </thead>\n",
       "  <tbody>\n",
       "    <tr>\n",
       "      <th>0</th>\n",
       "      <td>46109</td>\n",
       "      <td>home</td>\n",
       "      <td>13672</td>\n",
       "      <td>0</td>\n",
       "      <td>10243</td>\n",
       "      <td>2002-04-16</td>\n",
       "      <td>2003-12-20</td>\n",
       "      <td>2.15</td>\n",
       "      <td>1.466288</td>\n",
       "      <td>1.147402</td>\n",
       "      <td>613 days</td>\n",
       "      <td>&lt;class 'str'&gt;</td>\n",
       "      <td>613</td>\n",
       "    </tr>\n",
       "    <tr>\n",
       "      <th>1</th>\n",
       "      <td>46109</td>\n",
       "      <td>credit</td>\n",
       "      <td>9794</td>\n",
       "      <td>0</td>\n",
       "      <td>10984</td>\n",
       "      <td>2003-10-21</td>\n",
       "      <td>2005-07-17</td>\n",
       "      <td>1.25</td>\n",
       "      <td>1.118034</td>\n",
       "      <td>0.810930</td>\n",
       "      <td>635 days</td>\n",
       "      <td>&lt;class 'str'&gt;</td>\n",
       "      <td>635</td>\n",
       "    </tr>\n",
       "    <tr>\n",
       "      <th>2</th>\n",
       "      <td>46109</td>\n",
       "      <td>home</td>\n",
       "      <td>12734</td>\n",
       "      <td>1</td>\n",
       "      <td>10990</td>\n",
       "      <td>2006-02-01</td>\n",
       "      <td>2007-07-05</td>\n",
       "      <td>0.68</td>\n",
       "      <td>0.824621</td>\n",
       "      <td>0.518794</td>\n",
       "      <td>519 days</td>\n",
       "      <td>&lt;class 'str'&gt;</td>\n",
       "      <td>519</td>\n",
       "    </tr>\n",
       "    <tr>\n",
       "      <th>3</th>\n",
       "      <td>46109</td>\n",
       "      <td>cash</td>\n",
       "      <td>12518</td>\n",
       "      <td>1</td>\n",
       "      <td>10596</td>\n",
       "      <td>2010-12-08</td>\n",
       "      <td>2013-05-05</td>\n",
       "      <td>1.24</td>\n",
       "      <td>1.113553</td>\n",
       "      <td>0.806476</td>\n",
       "      <td>879 days</td>\n",
       "      <td>&lt;class 'str'&gt;</td>\n",
       "      <td>879</td>\n",
       "    </tr>\n",
       "    <tr>\n",
       "      <th>4</th>\n",
       "      <td>46109</td>\n",
       "      <td>credit</td>\n",
       "      <td>14049</td>\n",
       "      <td>1</td>\n",
       "      <td>11415</td>\n",
       "      <td>2010-07-07</td>\n",
       "      <td>2012-05-21</td>\n",
       "      <td>3.13</td>\n",
       "      <td>1.769181</td>\n",
       "      <td>1.418277</td>\n",
       "      <td>684 days</td>\n",
       "      <td>&lt;class 'str'&gt;</td>\n",
       "      <td>684</td>\n",
       "    </tr>\n",
       "  </tbody>\n",
       "</table>\n",
       "</div>"
      ],
      "text/plain": [
       "   client_id loan_type  loan_amount repaid loan_id loan_start   loan_end  \\\n",
       "0      46109      home        13672      0   10243 2002-04-16 2003-12-20   \n",
       "1      46109    credit         9794      0   10984 2003-10-21 2005-07-17   \n",
       "2      46109      home        12734      1   10990 2006-02-01 2007-07-05   \n",
       "3      46109      cash        12518      1   10596 2010-12-08 2013-05-05   \n",
       "4      46109    credit        14049      1   11415 2010-07-07 2012-05-21   \n",
       "\n",
       "   rate  sqrt_rate  log_rate loan_tenure loan_tenure_str  loan_duration  \n",
       "0  2.15   1.466288  1.147402    613 days   <class 'str'>            613  \n",
       "1  1.25   1.118034  0.810930    635 days   <class 'str'>            635  \n",
       "2  0.68   0.824621  0.518794    519 days   <class 'str'>            519  \n",
       "3  1.24   1.113553  0.806476    879 days   <class 'str'>            879  \n",
       "4  3.13   1.769181  1.418277    684 days   <class 'str'>            684  "
      ]
     },
     "execution_count": 86,
     "metadata": {},
     "output_type": "execute_result"
    }
   ],
   "source": [
    "df.head()"
   ]
  },
  {
   "cell_type": "code",
   "execution_count": 89,
   "id": "860e102c-5350-4ee0-9b88-c2bcaf9e6100",
   "metadata": {},
   "outputs": [],
   "source": [
    "df['loan_tenure'] = df['loan_tenure'].dt.days"
   ]
  },
  {
   "cell_type": "code",
   "execution_count": 90,
   "id": "487caea9-a7f6-4f50-b83a-9514a524ba5f",
   "metadata": {},
   "outputs": [
    {
     "data": {
      "text/plain": [
       "0      1.679452\n",
       "1      1.739726\n",
       "2      1.421918\n",
       "3      2.408219\n",
       "4      1.873973\n",
       "         ...   \n",
       "438    2.542466\n",
       "439    1.400000\n",
       "440    2.597260\n",
       "441    1.734247\n",
       "442    1.747945\n",
       "Name: loan_tenure_in_years, Length: 443, dtype: float64"
      ]
     },
     "execution_count": 90,
     "metadata": {},
     "output_type": "execute_result"
    }
   ],
   "source": [
    "df['loan_tenure_in_years'] = df['loan_tenure']/365\n",
    "df['loan_tenure_in_years']"
   ]
  },
  {
   "cell_type": "code",
   "execution_count": null,
   "id": "2834660f-6908-4b6e-b805-6457a3cfebe2",
   "metadata": {},
   "outputs": [],
   "source": []
  }
 ],
 "metadata": {
  "kernelspec": {
   "display_name": "Python 3 (ipykernel)",
   "language": "python",
   "name": "python3"
  },
  "language_info": {
   "codemirror_mode": {
    "name": "ipython",
    "version": 3
   },
   "file_extension": ".py",
   "mimetype": "text/x-python",
   "name": "python",
   "nbconvert_exporter": "python",
   "pygments_lexer": "ipython3",
   "version": "3.12.3"
  }
 },
 "nbformat": 4,
 "nbformat_minor": 5
}
