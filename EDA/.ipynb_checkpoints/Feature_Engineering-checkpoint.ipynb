{
 "cells": [
  {
   "cell_type": "code",
   "execution_count": 1,
   "id": "105329f9-748c-482d-b2ac-b8d911205a77",
   "metadata": {},
   "outputs": [],
   "source": [
    "import pandas as pd\n",
    "import numpy as np\n",
    "import matplotlib.pyplot as plt\n",
    "import seaborn as sns"
   ]
  },
  {
   "cell_type": "code",
   "execution_count": 2,
   "id": "c3c9dae7-6969-4598-a88a-88f368eabc28",
   "metadata": {},
   "outputs": [
    {
     "data": {
      "text/html": [
       "<div>\n",
       "<style scoped>\n",
       "    .dataframe tbody tr th:only-of-type {\n",
       "        vertical-align: middle;\n",
       "    }\n",
       "\n",
       "    .dataframe tbody tr th {\n",
       "        vertical-align: top;\n",
       "    }\n",
       "\n",
       "    .dataframe thead th {\n",
       "        text-align: right;\n",
       "    }\n",
       "</style>\n",
       "<table border=\"1\" class=\"dataframe\">\n",
       "  <thead>\n",
       "    <tr style=\"text-align: right;\">\n",
       "      <th></th>\n",
       "      <th>Customer_ID</th>\n",
       "      <th>Purchase_Amount</th>\n",
       "      <th>Date</th>\n",
       "      <th>Product_Category</th>\n",
       "      <th>City</th>\n",
       "    </tr>\n",
       "  </thead>\n",
       "  <tbody>\n",
       "    <tr>\n",
       "      <th>0</th>\n",
       "      <td>101</td>\n",
       "      <td>1500</td>\n",
       "      <td>2024-10-01</td>\n",
       "      <td>Electronics</td>\n",
       "      <td>Mumbai</td>\n",
       "    </tr>\n",
       "    <tr>\n",
       "      <th>1</th>\n",
       "      <td>102</td>\n",
       "      <td>2200</td>\n",
       "      <td>2024-11-21</td>\n",
       "      <td>Furniture</td>\n",
       "      <td>Delhi</td>\n",
       "    </tr>\n",
       "    <tr>\n",
       "      <th>2</th>\n",
       "      <td>103</td>\n",
       "      <td>750</td>\n",
       "      <td>2024-11-25</td>\n",
       "      <td>Groceries</td>\n",
       "      <td>Mumbai</td>\n",
       "    </tr>\n",
       "    <tr>\n",
       "      <th>3</th>\n",
       "      <td>104</td>\n",
       "      <td>3200</td>\n",
       "      <td>2025-01-04</td>\n",
       "      <td>Electronics</td>\n",
       "      <td>Bangalore</td>\n",
       "    </tr>\n",
       "  </tbody>\n",
       "</table>\n",
       "</div>"
      ],
      "text/plain": [
       "   Customer_ID  Purchase_Amount       Date Product_Category       City\n",
       "0          101             1500 2024-10-01      Electronics     Mumbai\n",
       "1          102             2200 2024-11-21        Furniture      Delhi\n",
       "2          103              750 2024-11-25        Groceries     Mumbai\n",
       "3          104             3200 2025-01-04      Electronics  Bangalore"
      ]
     },
     "execution_count": 2,
     "metadata": {},
     "output_type": "execute_result"
    }
   ],
   "source": [
    "data = {\n",
    "    'Customer_ID': [101, 102, 103, 104],\n",
    "    'Purchase_Amount': [1500, 2200, 750, 3200],\n",
    "    'Date': ['2024-10-01', '2024-11-21', '2024-11-25', '2025-01-04'],\n",
    "    'Product_Category': ['Electronics', 'Furniture', 'Groceries', 'Electronics'],\n",
    "    'City': ['Mumbai', 'Delhi', 'Mumbai', 'Bangalore']\n",
    "}\n",
    "\n",
    "df = pd.DataFrame(data)\n",
    "df['Date'] = pd.to_datetime(df['Date'])\n",
    "df"
   ]
  },
  {
   "cell_type": "markdown",
   "id": "7da007d5-1afd-4c85-83f7-dce3dc2a5e22",
   "metadata": {},
   "source": [
    "### 1. Extracting date-related features"
   ]
  },
  {
   "cell_type": "code",
   "execution_count": 3,
   "id": "3c941c5b-16c5-4114-bf7a-c8a9fa742600",
   "metadata": {},
   "outputs": [],
   "source": [
    "df['Purchase_Year'] = df['Date'].dt.year\n",
    "df['Purchase_Month'] = df['Date'].dt.month\n",
    "df['Day_of_Week'] = df['Date'].dt.day_name()"
   ]
  },
  {
   "cell_type": "markdown",
   "id": "1084092d-5da4-416a-abac-a40cbb6f8916",
   "metadata": {},
   "source": [
    "### 2. Creating binary features (e.g., High spender)"
   ]
  },
  {
   "cell_type": "code",
   "execution_count": 4,
   "id": "c84d25a0-1c87-42c3-82fc-d8936a444822",
   "metadata": {},
   "outputs": [],
   "source": [
    "df['High_Spender'] = df[\"Purchase_Amount\"].apply(lambda x:1 if x>2000 else 0)"
   ]
  },
  {
   "cell_type": "markdown",
   "id": "37c53926-65d3-46b8-bc40-3192256fb1a6",
   "metadata": {},
   "source": [
    "###  Binning purchase amounts"
   ]
  },
  {
   "cell_type": "code",
   "execution_count": 5,
   "id": "f05e942a-06d8-451f-8405-ff30a55f78c0",
   "metadata": {},
   "outputs": [],
   "source": [
    "bins = [0, 1000, 2000, 5000]\n",
    "labels = ['Low', 'Medium', 'High']\n",
    "df['Spending_Category'] = pd.cut(df['Purchase_Amount'], bins=bins, labels=labels)"
   ]
  },
  {
   "cell_type": "code",
   "execution_count": 6,
   "id": "02ec9f34-5264-4643-a861-0f439538cd34",
   "metadata": {},
   "outputs": [
    {
     "data": {
      "text/html": [
       "<div>\n",
       "<style scoped>\n",
       "    .dataframe tbody tr th:only-of-type {\n",
       "        vertical-align: middle;\n",
       "    }\n",
       "\n",
       "    .dataframe tbody tr th {\n",
       "        vertical-align: top;\n",
       "    }\n",
       "\n",
       "    .dataframe thead th {\n",
       "        text-align: right;\n",
       "    }\n",
       "</style>\n",
       "<table border=\"1\" class=\"dataframe\">\n",
       "  <thead>\n",
       "    <tr style=\"text-align: right;\">\n",
       "      <th></th>\n",
       "      <th>Customer_ID</th>\n",
       "      <th>Purchase_Amount</th>\n",
       "      <th>Date</th>\n",
       "      <th>Product_Category</th>\n",
       "      <th>City</th>\n",
       "      <th>Purchase_Year</th>\n",
       "      <th>Purchase_Month</th>\n",
       "      <th>Day_of_Week</th>\n",
       "      <th>High_Spender</th>\n",
       "      <th>Spending_Category</th>\n",
       "    </tr>\n",
       "  </thead>\n",
       "  <tbody>\n",
       "    <tr>\n",
       "      <th>0</th>\n",
       "      <td>101</td>\n",
       "      <td>1500</td>\n",
       "      <td>2024-10-01</td>\n",
       "      <td>Electronics</td>\n",
       "      <td>Mumbai</td>\n",
       "      <td>2024</td>\n",
       "      <td>10</td>\n",
       "      <td>Tuesday</td>\n",
       "      <td>0</td>\n",
       "      <td>Medium</td>\n",
       "    </tr>\n",
       "    <tr>\n",
       "      <th>1</th>\n",
       "      <td>102</td>\n",
       "      <td>2200</td>\n",
       "      <td>2024-11-21</td>\n",
       "      <td>Furniture</td>\n",
       "      <td>Delhi</td>\n",
       "      <td>2024</td>\n",
       "      <td>11</td>\n",
       "      <td>Thursday</td>\n",
       "      <td>1</td>\n",
       "      <td>High</td>\n",
       "    </tr>\n",
       "    <tr>\n",
       "      <th>2</th>\n",
       "      <td>103</td>\n",
       "      <td>750</td>\n",
       "      <td>2024-11-25</td>\n",
       "      <td>Groceries</td>\n",
       "      <td>Mumbai</td>\n",
       "      <td>2024</td>\n",
       "      <td>11</td>\n",
       "      <td>Monday</td>\n",
       "      <td>0</td>\n",
       "      <td>Low</td>\n",
       "    </tr>\n",
       "    <tr>\n",
       "      <th>3</th>\n",
       "      <td>104</td>\n",
       "      <td>3200</td>\n",
       "      <td>2025-01-04</td>\n",
       "      <td>Electronics</td>\n",
       "      <td>Bangalore</td>\n",
       "      <td>2025</td>\n",
       "      <td>1</td>\n",
       "      <td>Saturday</td>\n",
       "      <td>1</td>\n",
       "      <td>High</td>\n",
       "    </tr>\n",
       "  </tbody>\n",
       "</table>\n",
       "</div>"
      ],
      "text/plain": [
       "   Customer_ID  Purchase_Amount       Date Product_Category       City  \\\n",
       "0          101             1500 2024-10-01      Electronics     Mumbai   \n",
       "1          102             2200 2024-11-21        Furniture      Delhi   \n",
       "2          103              750 2024-11-25        Groceries     Mumbai   \n",
       "3          104             3200 2025-01-04      Electronics  Bangalore   \n",
       "\n",
       "   Purchase_Year  Purchase_Month Day_of_Week  High_Spender Spending_Category  \n",
       "0           2024              10     Tuesday             0            Medium  \n",
       "1           2024              11    Thursday             1              High  \n",
       "2           2024              11      Monday             0               Low  \n",
       "3           2025               1    Saturday             1              High  "
      ]
     },
     "execution_count": 6,
     "metadata": {},
     "output_type": "execute_result"
    }
   ],
   "source": [
    "df"
   ]
  },
  {
   "cell_type": "markdown",
   "id": "804d259a-cdaf-49ef-ae35-f1d50ef3e27d",
   "metadata": {},
   "source": [
    "# Transformations (log, polynomial features)."
   ]
  },
  {
   "attachments": {
    "5b4aa82f-de63-4050-a2d6-f76b072676a8.png": {
     "image/png": "[encoded data removed]"
    }
   },
   "cell_type": "markdown",
   "id": "68f35387-c2f9-438a-8752-9629f6aae1d7",
   "metadata": {},
   "source": [
    "![Screenshot 2025-04-15 102944.png](attachment:5b4aa82f-de63-4050-a2d6-f76b072676a8.png)"
   ]
  },
  {
   "cell_type": "markdown",
   "id": "7d1b8a48-5bcf-469c-81a7-625b2b1c294b",
   "metadata": {},
   "source": [
    "### Log Transformation – Example with Skewed Data"
   ]
  },
  {
   "cell_type": "code",
   "execution_count": 8,
   "id": "32059504-cae2-4536-a63e-7bb71de0dce3",
   "metadata": {},
   "outputs": [
    {
     "data": {
      "text/html": [
       "<div>\n",
       "<style scoped>\n",
       "    .dataframe tbody tr th:only-of-type {\n",
       "        vertical-align: middle;\n",
       "    }\n",
       "\n",
       "    .dataframe tbody tr th {\n",
       "        vertical-align: top;\n",
       "    }\n",
       "\n",
       "    .dataframe thead th {\n",
       "        text-align: right;\n",
       "    }\n",
       "</style>\n",
       "<table border=\"1\" class=\"dataframe\">\n",
       "  <thead>\n",
       "    <tr style=\"text-align: right;\">\n",
       "      <th></th>\n",
       "      <th>income</th>\n",
       "    </tr>\n",
       "  </thead>\n",
       "  <tbody>\n",
       "    <tr>\n",
       "      <th>0</th>\n",
       "      <td>23463.404499</td>\n",
       "    </tr>\n",
       "    <tr>\n",
       "      <th>1</th>\n",
       "      <td>150506.071546</td>\n",
       "    </tr>\n",
       "    <tr>\n",
       "      <th>2</th>\n",
       "      <td>65837.284677</td>\n",
       "    </tr>\n",
       "    <tr>\n",
       "      <th>3</th>\n",
       "      <td>45647.127689</td>\n",
       "    </tr>\n",
       "    <tr>\n",
       "      <th>4</th>\n",
       "      <td>8481.243523</td>\n",
       "    </tr>\n",
       "  </tbody>\n",
       "</table>\n",
       "</div>"
      ],
      "text/plain": [
       "          income\n",
       "0   23463.404499\n",
       "1  150506.071546\n",
       "2   65837.284677\n",
       "3   45647.127689\n",
       "4    8481.243523"
      ]
     },
     "execution_count": 8,
     "metadata": {},
     "output_type": "execute_result"
    }
   ],
   "source": [
    "np.random.seed(42)\n",
    "data = {\n",
    "    'income': np.random.exponential(scale=50000, size=1000)  # right-skewed\n",
    "}\n",
    "df = pd.DataFrame(data)\n",
    "df.head()"
   ]
  },
  {
   "cell_type": "code",
   "execution_count": 9,
   "id": "acde6f5d-e1be-4337-a545-b601ec365e3d",
   "metadata": {},
   "outputs": [
    {
     "data": {
      "text/plain": [
       "<Axes: xlabel='income', ylabel='Count'>"
      ]
     },
     "execution_count": 9,
     "metadata": {},
     "output_type": "execute_result"
    },
    {
     "data": {
      "image/png": "[encoded data removed]",
      "text/plain": [
       "<Figure size 640x480 with 1 Axes>"
      ]
     },
     "metadata": {},
     "output_type": "display_data"
    }
   ],
   "source": [
    "sns.histplot(df['income'], bins=40, kde=True)"
   ]
  },
  {
   "cell_type": "code",
   "execution_count": 11,
   "id": "85c7d510-cfdd-4d62-9ae7-9b2a77c70bc0",
   "metadata": {},
   "outputs": [
    {
     "data": {
      "text/html": [
       "<div>\n",
       "<style scoped>\n",
       "    .dataframe tbody tr th:only-of-type {\n",
       "        vertical-align: middle;\n",
       "    }\n",
       "\n",
       "    .dataframe tbody tr th {\n",
       "        vertical-align: top;\n",
       "    }\n",
       "\n",
       "    .dataframe thead th {\n",
       "        text-align: right;\n",
       "    }\n",
       "</style>\n",
       "<table border=\"1\" class=\"dataframe\">\n",
       "  <thead>\n",
       "    <tr style=\"text-align: right;\">\n",
       "      <th></th>\n",
       "      <th>income</th>\n",
       "      <th>log_income</th>\n",
       "    </tr>\n",
       "  </thead>\n",
       "  <tbody>\n",
       "    <tr>\n",
       "      <th>0</th>\n",
       "      <td>23463.404499</td>\n",
       "      <td>10.063240</td>\n",
       "    </tr>\n",
       "    <tr>\n",
       "      <th>1</th>\n",
       "      <td>150506.071546</td>\n",
       "      <td>11.921765</td>\n",
       "    </tr>\n",
       "    <tr>\n",
       "      <th>2</th>\n",
       "      <td>65837.284677</td>\n",
       "      <td>11.094957</td>\n",
       "    </tr>\n",
       "    <tr>\n",
       "      <th>3</th>\n",
       "      <td>45647.127689</td>\n",
       "      <td>10.728718</td>\n",
       "    </tr>\n",
       "    <tr>\n",
       "      <th>4</th>\n",
       "      <td>8481.243523</td>\n",
       "      <td>9.045730</td>\n",
       "    </tr>\n",
       "  </tbody>\n",
       "</table>\n",
       "</div>"
      ],
      "text/plain": [
       "          income  log_income\n",
       "0   23463.404499   10.063240\n",
       "1  150506.071546   11.921765\n",
       "2   65837.284677   11.094957\n",
       "3   45647.127689   10.728718\n",
       "4    8481.243523    9.045730"
      ]
     },
     "execution_count": 11,
     "metadata": {},
     "output_type": "execute_result"
    }
   ],
   "source": [
    "df['log_income'] = np.log(df['income']+1)\n",
    "df.head()"
   ]
  },
  {
   "cell_type": "code",
   "execution_count": 14,
   "id": "75578a65-adfc-4407-b84c-14767599fc3d",
   "metadata": {},
   "outputs": [
    {
     "data": {
      "text/plain": [
       "<Axes: xlabel='log_income', ylabel='Count'>"
      ]
     },
     "execution_count": 14,
     "metadata": {},
     "output_type": "execute_result"
    },
    {
     "data": {
      "image/png": "[encoded data removed]",
      "text/plain": [
       "<Figure size 640x480 with 1 Axes>"
      ]
     },
     "metadata": {},
     "output_type": "display_data"
    }
   ],
   "source": [
    "sns.histplot(df['log_income'],kde = True,bins = 40)"
   ]
  },
  {
   "cell_type": "markdown",
   "id": "7815e31a-1984-47d2-86a6-24ea0adc6441",
   "metadata": {},
   "source": [
    " After applying np.log(), distribution becomes more normal-shaped, which is great for many models."
   ]
  },
  {
   "cell_type": "markdown",
   "id": "30407509-aa6e-4d19-8dd9-85c5e39fb2e3",
   "metadata": {},
   "source": [
    "### Polynomial Features – Example with Non-Linear Data"
   ]
  },
  {
   "cell_type": "code",
   "execution_count": 19,
   "id": "e4ca9a12-1121-45f8-81c0-b32ace3655c8",
   "metadata": {},
   "outputs": [],
   "source": [
    "from sklearn.linear_model import LinearRegression\n",
    "from sklearn.preprocessing import PolynomialFeatures"
   ]
  },
  {
   "cell_type": "code",
   "execution_count": 20,
   "id": "27149696-cef1-474e-a4c5-e8c2ed03c070",
   "metadata": {},
   "outputs": [],
   "source": [
    "# Create sample non-linear data\n",
    "np.random.seed(0)\n",
    "X = np.linspace(0, 10, 100).reshape(-1, 1)\n",
    "y = 3 * X**2 + 2 * X + 1 + np.random.randn(100, 1) * 10  # quadratic + noise"
   ]
  },
  {
   "cell_type": "code",
   "execution_count": 21,
   "id": "c8260685-72c4-4b58-b16d-2e8782d512bb",
   "metadata": {},
   "outputs": [],
   "source": [
    "# Linear Regression (Without Polynomial)\n",
    "model_linear = LinearRegression()\n",
    "model_linear.fit(X, y)\n",
    "y_pred_linear = model_linear.predict(X)"
   ]
  },
  {
   "cell_type": "code",
   "execution_count": 23,
   "id": "21eee4a4-ccb3-40db-9bab-cbfb6096b555",
   "metadata": {},
   "outputs": [],
   "source": [
    "# Polynomial Features (degree 2)\n",
    "poly = PolynomialFeatures(degree=2, include_bias=False)\n",
    "X_poly = poly.fit_transform(X)\n",
    "\n",
    "model_poly = LinearRegression()\n",
    "model_poly.fit(X_poly, y)\n",
    "y_pred_poly = model_poly.predict(X_poly)"
   ]
  },
  {
   "cell_type": "code",
   "execution_count": 29,
   "id": "a3a610f1-32a5-4c21-9087-5518ab56c97a",
   "metadata": {},
   "outputs": [
    {
     "data": {
      "text/plain": [
       "<matplotlib.legend.Legend at 0x29bc4bd2990>"
      ]
     },
     "execution_count": 29,
     "metadata": {},
     "output_type": "execute_result"
    },
    {
     "data": {
      "image/png": "[encoded data removed]",
      "text/plain": [
       "<Figure size 640x480 with 1 Axes>"
      ]
     },
     "metadata": {},
     "output_type": "display_data"
    }
   ],
   "source": [
    "plt.scatter(X, y, s=10, label='Actual Data', alpha=0.6)\n",
    "plt.plot(X, y_pred_linear, label='Linear Fit', color='red')\n",
    "plt.plot(X, y_pred_poly, label='Polynomial Fit (deg=2)', color='green')\n",
    "\n",
    "plt.legend()\n"
   ]
  },
  {
   "cell_type": "markdown",
   "id": "fa6f56a1-5ef5-4966-a4d6-3b88ddf1759f",
   "metadata": {},
   "source": [
    "## Encoding categorical variables"
   ]
  },
  {
   "cell_type": "markdown",
   "id": "71bbabbd-5e33-4d23-ab7f-9fbbea77349b",
   "metadata": {},
   "source": [
    "Use Label Encoding when the categorical feature has a natural order. Use One-Hot Encoding when the model is sensitive to numeric relationships."
   ]
  },
  {
   "cell_type": "markdown",
   "id": "94007fb1-4645-4345-999a-bbaeafcd362d",
   "metadata": {},
   "source": [
    "#### 1. Label Encoding"
   ]
  },
  {
   "cell_type": "code",
   "execution_count": 3,
   "id": "07cd41be-5eed-4f9c-adb3-161ebbdc6700",
   "metadata": {},
   "outputs": [
    {
     "data": {
      "text/plain": [
       "array([2, 1, 0, 1])"
      ]
     },
     "execution_count": 3,
     "metadata": {},
     "output_type": "execute_result"
    }
   ],
   "source": [
    "from sklearn.preprocessing import LabelEncoder\n",
    "\n",
    "data = ['red', 'green', 'blue', 'green']\n",
    "encoder = LabelEncoder()\n",
    "encoded = encoder.fit_transform(data)\n",
    "encoded"
   ]
  },
  {
   "cell_type": "markdown",
   "id": "aa130183-4ac4-442a-9906-9e9c354dc768",
   "metadata": {},
   "source": [
    "#### 2. One-Hot Encoding"
   ]
  },
  {
   "cell_type": "code",
   "execution_count": 9,
   "id": "6a50524b-a705-4ecc-8a58-974366bc2ac1",
   "metadata": {},
   "outputs": [
    {
     "data": {
      "text/plain": [
       "array([[0., 0., 1.],\n",
       "       [0., 1., 0.],\n",
       "       [1., 0., 0.],\n",
       "       [0., 1., 0.]])"
      ]
     },
     "execution_count": 9,
     "metadata": {},
     "output_type": "execute_result"
    }
   ],
   "source": [
    "from sklearn.preprocessing import OneHotEncoder\n",
    "import numpy as np\n",
    "\n",
    "data = np.array(['red', 'green', 'blue', 'green']).reshape(-1, 1)\n",
    "encoder = OneHotEncoder(sparse_output = False)\n",
    "encoded = encoder.fit_transform(data)\n",
    "encoded"
   ]
  },
  {
   "cell_type": "code",
   "execution_count": 11,
   "id": "8a713e9b-c0a7-4aef-b236-c8045ec06e4e",
   "metadata": {},
   "outputs": [
    {
     "name": "stdout",
     "output_type": "stream",
     "text": [
      "   Color_Blue  Color_Green  Color_Red\n",
      "0       False        False       True\n",
      "1       False         True      False\n",
      "2        True        False      False\n",
      "3       False         True      False\n"
     ]
    },
    {
     "data": {
      "text/html": [
       "<div>\n",
       "<style scoped>\n",
       "    .dataframe tbody tr th:only-of-type {\n",
       "        vertical-align: middle;\n",
       "    }\n",
       "\n",
       "    .dataframe tbody tr th {\n",
       "        vertical-align: top;\n",
       "    }\n",
       "\n",
       "    .dataframe thead th {\n",
       "        text-align: right;\n",
       "    }\n",
       "</style>\n",
       "<table border=\"1\" class=\"dataframe\">\n",
       "  <thead>\n",
       "    <tr style=\"text-align: right;\">\n",
       "      <th></th>\n",
       "      <th>Color_Blue</th>\n",
       "      <th>Color_Green</th>\n",
       "      <th>Color_Red</th>\n",
       "    </tr>\n",
       "  </thead>\n",
       "  <tbody>\n",
       "    <tr>\n",
       "      <th>0</th>\n",
       "      <td>False</td>\n",
       "      <td>False</td>\n",
       "      <td>True</td>\n",
       "    </tr>\n",
       "    <tr>\n",
       "      <th>1</th>\n",
       "      <td>False</td>\n",
       "      <td>True</td>\n",
       "      <td>False</td>\n",
       "    </tr>\n",
       "    <tr>\n",
       "      <th>2</th>\n",
       "      <td>True</td>\n",
       "      <td>False</td>\n",
       "      <td>False</td>\n",
       "    </tr>\n",
       "    <tr>\n",
       "      <th>3</th>\n",
       "      <td>False</td>\n",
       "      <td>True</td>\n",
       "      <td>False</td>\n",
       "    </tr>\n",
       "  </tbody>\n",
       "</table>\n",
       "</div>"
      ],
      "text/plain": [
       "   Color_Blue  Color_Green  Color_Red\n",
       "0       False        False       True\n",
       "1       False         True      False\n",
       "2        True        False      False\n",
       "3       False         True      False"
      ]
     },
     "execution_count": 11,
     "metadata": {},
     "output_type": "execute_result"
    }
   ],
   "source": [
    "import pandas as pd\n",
    "\n",
    "# Sample data\n",
    "df = pd.DataFrame({\n",
    "    'Color': ['Red', 'Green', 'Blue', 'Green']\n",
    "})\n",
    "\n",
    "# One-hot encode\n",
    "encoded_df = pd.get_dummies(df, columns=['Color'])\n",
    "\n",
    "print(encoded_df)"
   ]
  },
  {
   "cell_type": "code",
   "execution_count": 12,
   "id": "4adb6d5f-7495-4dcc-8f25-e55f7ceeab6e",
   "metadata": {},
   "outputs": [
    {
     "name": "stdout",
     "output_type": "stream",
     "text": [
      "   Color_Green  Color_Red\n",
      "0            0          1\n",
      "1            1          0\n",
      "2            0          0\n",
      "3            1          0\n"
     ]
    }
   ],
   "source": [
    "encoded = pd.get_dummies(df, columns=['Color'], drop_first=True).astype(int)\n",
    "\n",
    "print(encoded)"
   ]
  },
  {
   "cell_type": "code",
   "execution_count": null,
   "id": "b84f6140-7831-49b5-9a22-ecda7afa9312",
   "metadata": {},
   "outputs": [],
   "source": []
  }
 ],
 "metadata": {
  "kernelspec": {
   "display_name": "Python 3 (ipykernel)",
   "language": "python",
   "name": "python3"
  },
  "language_info": {
   "codemirror_mode": {
    "name": "ipython",
    "version": 3
   },
   "file_extension": ".py",
   "mimetype": "text/x-python",
   "name": "python",
   "nbconvert_exporter": "python",
   "pygments_lexer": "ipython3",
   "version": "3.12.3"
  }
 },
 "nbformat": 4,
 "nbformat_minor": 5
}
